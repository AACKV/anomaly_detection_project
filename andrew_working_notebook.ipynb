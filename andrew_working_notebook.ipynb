{
 "cells": [
  {
   "cell_type": "code",
   "execution_count": 1,
   "id": "c550e4e4",
   "metadata": {},
   "outputs": [],
   "source": [
    "import pandas as pd\n",
    "import numpy as np\n",
    "import matplotlib.pyplot as plt\n",
    "import seaborn as sns\n",
    "\n",
    "import wrangle\n",
    "import utilities\n",
    "\n",
    "# Setting parameters\n",
    "import warnings\n",
    "warnings.filterwarnings(\"ignore\")\n",
    "plt.rcParams[\"figure.figsize\"] = (16, 8)"
   ]
  },
  {
   "cell_type": "markdown",
   "id": "bb0fa690",
   "metadata": {},
   "source": [
    "# Question to answer: \n",
    "\n",
    "### What topics are grads continuing to reference after graduation and into their jobs (for each program)?"
   ]
  },
  {
   "cell_type": "markdown",
   "id": "afed3b24",
   "metadata": {},
   "source": [
    "Pulling in data and cleaning/preparing it slightly "
   ]
  },
  {
   "cell_type": "code",
   "execution_count": 2,
   "id": "47fc4099",
   "metadata": {},
   "outputs": [],
   "source": [
    "df = pd.read_csv('logs_data.csv', index_col=False)"
   ]
  },
  {
   "cell_type": "code",
   "execution_count": 3,
   "id": "8c35194a",
   "metadata": {},
   "outputs": [
    {
     "name": "stdout",
     "output_type": "stream",
     "text": [
      "<class 'pandas.core.frame.DataFrame'>\n",
      "RangeIndex: 900223 entries, 0 to 900222\n",
      "Data columns (total 7 columns):\n",
      " #   Column      Non-Null Count   Dtype  \n",
      "---  ------      --------------   -----  \n",
      " 0   Unnamed: 0  900223 non-null  int64  \n",
      " 1   date        900223 non-null  object \n",
      " 2   time        900223 non-null  object \n",
      " 3   path        900222 non-null  object \n",
      " 4   user_id     900223 non-null  int64  \n",
      " 5   cohort_id   847330 non-null  float64\n",
      " 6   ip          900223 non-null  object \n",
      "dtypes: float64(1), int64(2), object(4)\n",
      "memory usage: 48.1+ MB\n"
     ]
    }
   ],
   "source": [
    "df.info()"
   ]
  },
  {
   "cell_type": "code",
   "execution_count": 4,
   "id": "374ddca0",
   "metadata": {},
   "outputs": [],
   "source": [
    "cohorts = pd.read_csv('cohorts_data.csv')\n",
    "cohorts = cohorts.drop(columns = ['Unnamed: 0', 'slack', 'created_at', 'updated_at', 'deleted_at'])\n",
    "combined_df = pd.merge(df, cohorts, how = 'outer', left_on = 'cohort_id', right_on= 'id')"
   ]
  },
  {
   "cell_type": "code",
   "execution_count": 5,
   "id": "b76c7d93",
   "metadata": {},
   "outputs": [
    {
     "data": {
      "text/html": [
       "<div>\n",
       "<style scoped>\n",
       "    .dataframe tbody tr th:only-of-type {\n",
       "        vertical-align: middle;\n",
       "    }\n",
       "\n",
       "    .dataframe tbody tr th {\n",
       "        vertical-align: top;\n",
       "    }\n",
       "\n",
       "    .dataframe thead th {\n",
       "        text-align: right;\n",
       "    }\n",
       "</style>\n",
       "<table border=\"1\" class=\"dataframe\">\n",
       "  <thead>\n",
       "    <tr style=\"text-align: right;\">\n",
       "      <th></th>\n",
       "      <th>Unnamed: 0</th>\n",
       "      <th>date</th>\n",
       "      <th>time</th>\n",
       "      <th>path</th>\n",
       "      <th>user_id</th>\n",
       "      <th>cohort_id</th>\n",
       "      <th>ip</th>\n",
       "      <th>id</th>\n",
       "      <th>name</th>\n",
       "      <th>start_date</th>\n",
       "      <th>end_date</th>\n",
       "      <th>program_id</th>\n",
       "    </tr>\n",
       "  </thead>\n",
       "  <tbody>\n",
       "    <tr>\n",
       "      <th>0</th>\n",
       "      <td>0.0</td>\n",
       "      <td>2018-01-26</td>\n",
       "      <td>09:55:03</td>\n",
       "      <td>/</td>\n",
       "      <td>1.0</td>\n",
       "      <td>8.0</td>\n",
       "      <td>97.105.19.61</td>\n",
       "      <td>8.0</td>\n",
       "      <td>Hampton</td>\n",
       "      <td>2015-09-22</td>\n",
       "      <td>2016-02-06</td>\n",
       "      <td>1.0</td>\n",
       "    </tr>\n",
       "    <tr>\n",
       "      <th>1</th>\n",
       "      <td>1.0</td>\n",
       "      <td>2018-01-26</td>\n",
       "      <td>09:56:02</td>\n",
       "      <td>java-ii</td>\n",
       "      <td>1.0</td>\n",
       "      <td>8.0</td>\n",
       "      <td>97.105.19.61</td>\n",
       "      <td>8.0</td>\n",
       "      <td>Hampton</td>\n",
       "      <td>2015-09-22</td>\n",
       "      <td>2016-02-06</td>\n",
       "      <td>1.0</td>\n",
       "    </tr>\n",
       "    <tr>\n",
       "      <th>2</th>\n",
       "      <td>2.0</td>\n",
       "      <td>2018-01-26</td>\n",
       "      <td>09:56:05</td>\n",
       "      <td>java-ii/object-oriented-programming</td>\n",
       "      <td>1.0</td>\n",
       "      <td>8.0</td>\n",
       "      <td>97.105.19.61</td>\n",
       "      <td>8.0</td>\n",
       "      <td>Hampton</td>\n",
       "      <td>2015-09-22</td>\n",
       "      <td>2016-02-06</td>\n",
       "      <td>1.0</td>\n",
       "    </tr>\n",
       "    <tr>\n",
       "      <th>3</th>\n",
       "      <td>3.0</td>\n",
       "      <td>2018-01-26</td>\n",
       "      <td>09:56:06</td>\n",
       "      <td>slides/object_oriented_programming</td>\n",
       "      <td>1.0</td>\n",
       "      <td>8.0</td>\n",
       "      <td>97.105.19.61</td>\n",
       "      <td>8.0</td>\n",
       "      <td>Hampton</td>\n",
       "      <td>2015-09-22</td>\n",
       "      <td>2016-02-06</td>\n",
       "      <td>1.0</td>\n",
       "    </tr>\n",
       "    <tr>\n",
       "      <th>4</th>\n",
       "      <td>58.0</td>\n",
       "      <td>2018-01-26</td>\n",
       "      <td>10:40:15</td>\n",
       "      <td>javascript-i/functions</td>\n",
       "      <td>1.0</td>\n",
       "      <td>8.0</td>\n",
       "      <td>97.105.19.61</td>\n",
       "      <td>8.0</td>\n",
       "      <td>Hampton</td>\n",
       "      <td>2015-09-22</td>\n",
       "      <td>2016-02-06</td>\n",
       "      <td>1.0</td>\n",
       "    </tr>\n",
       "    <tr>\n",
       "      <th>...</th>\n",
       "      <td>...</td>\n",
       "      <td>...</td>\n",
       "      <td>...</td>\n",
       "      <td>...</td>\n",
       "      <td>...</td>\n",
       "      <td>...</td>\n",
       "      <td>...</td>\n",
       "      <td>...</td>\n",
       "      <td>...</td>\n",
       "      <td>...</td>\n",
       "      <td>...</td>\n",
       "      <td>...</td>\n",
       "    </tr>\n",
       "    <tr>\n",
       "      <th>900224</th>\n",
       "      <td>NaN</td>\n",
       "      <td>NaN</td>\n",
       "      <td>NaN</td>\n",
       "      <td>NaN</td>\n",
       "      <td>NaN</td>\n",
       "      <td>NaN</td>\n",
       "      <td>NaN</td>\n",
       "      <td>10.0</td>\n",
       "      <td>Balboa</td>\n",
       "      <td>2015-11-03</td>\n",
       "      <td>2016-03-11</td>\n",
       "      <td>4.0</td>\n",
       "    </tr>\n",
       "    <tr>\n",
       "      <th>900225</th>\n",
       "      <td>NaN</td>\n",
       "      <td>NaN</td>\n",
       "      <td>NaN</td>\n",
       "      <td>NaN</td>\n",
       "      <td>NaN</td>\n",
       "      <td>NaN</td>\n",
       "      <td>NaN</td>\n",
       "      <td>20.0</td>\n",
       "      <td>Redwood</td>\n",
       "      <td>2017-07-31</td>\n",
       "      <td>2017-12-06</td>\n",
       "      <td>2.0</td>\n",
       "    </tr>\n",
       "    <tr>\n",
       "      <th>900226</th>\n",
       "      <td>NaN</td>\n",
       "      <td>NaN</td>\n",
       "      <td>NaN</td>\n",
       "      <td>NaN</td>\n",
       "      <td>NaN</td>\n",
       "      <td>NaN</td>\n",
       "      <td>NaN</td>\n",
       "      <td>30.0</td>\n",
       "      <td>Ada</td>\n",
       "      <td>2019-02-04</td>\n",
       "      <td>2019-06-16</td>\n",
       "      <td>3.0</td>\n",
       "    </tr>\n",
       "    <tr>\n",
       "      <th>900227</th>\n",
       "      <td>NaN</td>\n",
       "      <td>NaN</td>\n",
       "      <td>NaN</td>\n",
       "      <td>NaN</td>\n",
       "      <td>NaN</td>\n",
       "      <td>NaN</td>\n",
       "      <td>NaN</td>\n",
       "      <td>60.0</td>\n",
       "      <td>Io</td>\n",
       "      <td>2020-07-20</td>\n",
       "      <td>2021-01-21</td>\n",
       "      <td>2.0</td>\n",
       "    </tr>\n",
       "    <tr>\n",
       "      <th>900228</th>\n",
       "      <td>NaN</td>\n",
       "      <td>NaN</td>\n",
       "      <td>NaN</td>\n",
       "      <td>NaN</td>\n",
       "      <td>NaN</td>\n",
       "      <td>NaN</td>\n",
       "      <td>NaN</td>\n",
       "      <td>136.0</td>\n",
       "      <td>Placeholder for students in transition</td>\n",
       "      <td>2021-03-03</td>\n",
       "      <td>2029-03-01</td>\n",
       "      <td>2.0</td>\n",
       "    </tr>\n",
       "  </tbody>\n",
       "</table>\n",
       "<p>900229 rows × 12 columns</p>\n",
       "</div>"
      ],
      "text/plain": [
       "        Unnamed: 0        date      time                                 path  \\\n",
       "0              0.0  2018-01-26  09:55:03                                    /   \n",
       "1              1.0  2018-01-26  09:56:02                              java-ii   \n",
       "2              2.0  2018-01-26  09:56:05  java-ii/object-oriented-programming   \n",
       "3              3.0  2018-01-26  09:56:06   slides/object_oriented_programming   \n",
       "4             58.0  2018-01-26  10:40:15               javascript-i/functions   \n",
       "...            ...         ...       ...                                  ...   \n",
       "900224         NaN         NaN       NaN                                  NaN   \n",
       "900225         NaN         NaN       NaN                                  NaN   \n",
       "900226         NaN         NaN       NaN                                  NaN   \n",
       "900227         NaN         NaN       NaN                                  NaN   \n",
       "900228         NaN         NaN       NaN                                  NaN   \n",
       "\n",
       "        user_id  cohort_id            ip     id  \\\n",
       "0           1.0        8.0  97.105.19.61    8.0   \n",
       "1           1.0        8.0  97.105.19.61    8.0   \n",
       "2           1.0        8.0  97.105.19.61    8.0   \n",
       "3           1.0        8.0  97.105.19.61    8.0   \n",
       "4           1.0        8.0  97.105.19.61    8.0   \n",
       "...         ...        ...           ...    ...   \n",
       "900224      NaN        NaN           NaN   10.0   \n",
       "900225      NaN        NaN           NaN   20.0   \n",
       "900226      NaN        NaN           NaN   30.0   \n",
       "900227      NaN        NaN           NaN   60.0   \n",
       "900228      NaN        NaN           NaN  136.0   \n",
       "\n",
       "                                          name  start_date    end_date  \\\n",
       "0                                      Hampton  2015-09-22  2016-02-06   \n",
       "1                                      Hampton  2015-09-22  2016-02-06   \n",
       "2                                      Hampton  2015-09-22  2016-02-06   \n",
       "3                                      Hampton  2015-09-22  2016-02-06   \n",
       "4                                      Hampton  2015-09-22  2016-02-06   \n",
       "...                                        ...         ...         ...   \n",
       "900224                                  Balboa  2015-11-03  2016-03-11   \n",
       "900225                                 Redwood  2017-07-31  2017-12-06   \n",
       "900226                                     Ada  2019-02-04  2019-06-16   \n",
       "900227                                      Io  2020-07-20  2021-01-21   \n",
       "900228  Placeholder for students in transition  2021-03-03  2029-03-01   \n",
       "\n",
       "        program_id  \n",
       "0              1.0  \n",
       "1              1.0  \n",
       "2              1.0  \n",
       "3              1.0  \n",
       "4              1.0  \n",
       "...            ...  \n",
       "900224         4.0  \n",
       "900225         2.0  \n",
       "900226         3.0  \n",
       "900227         2.0  \n",
       "900228         2.0  \n",
       "\n",
       "[900229 rows x 12 columns]"
      ]
     },
     "execution_count": 5,
     "metadata": {},
     "output_type": "execute_result"
    }
   ],
   "source": [
    "combined_df"
   ]
  },
  {
   "cell_type": "code",
   "execution_count": 6,
   "id": "99c0c61b",
   "metadata": {},
   "outputs": [],
   "source": [
    "# Getting ride of the rows with no date\n",
    "\n",
    "combined_df = combined_df[combined_df.date.notna()]"
   ]
  },
  {
   "cell_type": "code",
   "execution_count": 7,
   "id": "d1f889dd",
   "metadata": {},
   "outputs": [],
   "source": [
    "def make_datetime_index(df):\n",
    "    df['datetime'] = pd.to_datetime(df.date + ' ' + df.time)\n",
    "    df = df.set_index('datetime').sort_index()\n",
    "    df = df.drop(columns= ['Unnamed: 0', 'date', 'time', 'id'])\n",
    "    return df"
   ]
  },
  {
   "cell_type": "code",
   "execution_count": 8,
   "id": "56045ef9",
   "metadata": {},
   "outputs": [],
   "source": [
    "df = make_datetime_index(combined_df)"
   ]
  },
  {
   "cell_type": "code",
   "execution_count": 9,
   "id": "c44ba438",
   "metadata": {},
   "outputs": [
    {
     "data": {
      "text/html": [
       "<div>\n",
       "<style scoped>\n",
       "    .dataframe tbody tr th:only-of-type {\n",
       "        vertical-align: middle;\n",
       "    }\n",
       "\n",
       "    .dataframe tbody tr th {\n",
       "        vertical-align: top;\n",
       "    }\n",
       "\n",
       "    .dataframe thead th {\n",
       "        text-align: right;\n",
       "    }\n",
       "</style>\n",
       "<table border=\"1\" class=\"dataframe\">\n",
       "  <thead>\n",
       "    <tr style=\"text-align: right;\">\n",
       "      <th></th>\n",
       "      <th>path</th>\n",
       "      <th>user_id</th>\n",
       "      <th>cohort_id</th>\n",
       "      <th>ip</th>\n",
       "      <th>name</th>\n",
       "      <th>start_date</th>\n",
       "      <th>end_date</th>\n",
       "      <th>program_id</th>\n",
       "    </tr>\n",
       "    <tr>\n",
       "      <th>datetime</th>\n",
       "      <th></th>\n",
       "      <th></th>\n",
       "      <th></th>\n",
       "      <th></th>\n",
       "      <th></th>\n",
       "      <th></th>\n",
       "      <th></th>\n",
       "      <th></th>\n",
       "    </tr>\n",
       "  </thead>\n",
       "  <tbody>\n",
       "    <tr>\n",
       "      <th>2018-01-26 09:55:03</th>\n",
       "      <td>/</td>\n",
       "      <td>1.0</td>\n",
       "      <td>8.0</td>\n",
       "      <td>97.105.19.61</td>\n",
       "      <td>Hampton</td>\n",
       "      <td>2015-09-22</td>\n",
       "      <td>2016-02-06</td>\n",
       "      <td>1.0</td>\n",
       "    </tr>\n",
       "    <tr>\n",
       "      <th>2018-01-26 09:56:02</th>\n",
       "      <td>java-ii</td>\n",
       "      <td>1.0</td>\n",
       "      <td>8.0</td>\n",
       "      <td>97.105.19.61</td>\n",
       "      <td>Hampton</td>\n",
       "      <td>2015-09-22</td>\n",
       "      <td>2016-02-06</td>\n",
       "      <td>1.0</td>\n",
       "    </tr>\n",
       "    <tr>\n",
       "      <th>2018-01-26 09:56:05</th>\n",
       "      <td>java-ii/object-oriented-programming</td>\n",
       "      <td>1.0</td>\n",
       "      <td>8.0</td>\n",
       "      <td>97.105.19.61</td>\n",
       "      <td>Hampton</td>\n",
       "      <td>2015-09-22</td>\n",
       "      <td>2016-02-06</td>\n",
       "      <td>1.0</td>\n",
       "    </tr>\n",
       "    <tr>\n",
       "      <th>2018-01-26 09:56:06</th>\n",
       "      <td>slides/object_oriented_programming</td>\n",
       "      <td>1.0</td>\n",
       "      <td>8.0</td>\n",
       "      <td>97.105.19.61</td>\n",
       "      <td>Hampton</td>\n",
       "      <td>2015-09-22</td>\n",
       "      <td>2016-02-06</td>\n",
       "      <td>1.0</td>\n",
       "    </tr>\n",
       "    <tr>\n",
       "      <th>2018-01-26 09:56:24</th>\n",
       "      <td>javascript-i/conditionals</td>\n",
       "      <td>2.0</td>\n",
       "      <td>22.0</td>\n",
       "      <td>97.105.19.61</td>\n",
       "      <td>Teddy</td>\n",
       "      <td>2018-01-08</td>\n",
       "      <td>2018-05-17</td>\n",
       "      <td>2.0</td>\n",
       "    </tr>\n",
       "  </tbody>\n",
       "</table>\n",
       "</div>"
      ],
      "text/plain": [
       "                                                    path  user_id  cohort_id  \\\n",
       "datetime                                                                       \n",
       "2018-01-26 09:55:03                                    /      1.0        8.0   \n",
       "2018-01-26 09:56:02                              java-ii      1.0        8.0   \n",
       "2018-01-26 09:56:05  java-ii/object-oriented-programming      1.0        8.0   \n",
       "2018-01-26 09:56:06   slides/object_oriented_programming      1.0        8.0   \n",
       "2018-01-26 09:56:24            javascript-i/conditionals      2.0       22.0   \n",
       "\n",
       "                               ip     name  start_date    end_date  program_id  \n",
       "datetime                                                                        \n",
       "2018-01-26 09:55:03  97.105.19.61  Hampton  2015-09-22  2016-02-06         1.0  \n",
       "2018-01-26 09:56:02  97.105.19.61  Hampton  2015-09-22  2016-02-06         1.0  \n",
       "2018-01-26 09:56:05  97.105.19.61  Hampton  2015-09-22  2016-02-06         1.0  \n",
       "2018-01-26 09:56:06  97.105.19.61  Hampton  2015-09-22  2016-02-06         1.0  \n",
       "2018-01-26 09:56:24  97.105.19.61    Teddy  2018-01-08  2018-05-17         2.0  "
      ]
     },
     "execution_count": 9,
     "metadata": {},
     "output_type": "execute_result"
    }
   ],
   "source": [
    "df.head()"
   ]
  },
  {
   "cell_type": "code",
   "execution_count": 10,
   "id": "02683601",
   "metadata": {},
   "outputs": [
    {
     "name": "stdout",
     "output_type": "stream",
     "text": [
      "<class 'pandas.core.frame.DataFrame'>\n",
      "DatetimeIndex: 900223 entries, 2018-01-26 09:55:03 to 2021-04-21 16:44:39\n",
      "Data columns (total 8 columns):\n",
      " #   Column      Non-Null Count   Dtype  \n",
      "---  ------      --------------   -----  \n",
      " 0   path        900222 non-null  object \n",
      " 1   user_id     900223 non-null  float64\n",
      " 2   cohort_id   847330 non-null  float64\n",
      " 3   ip          900223 non-null  object \n",
      " 4   name        847330 non-null  object \n",
      " 5   start_date  847330 non-null  object \n",
      " 6   end_date    847330 non-null  object \n",
      " 7   program_id  847330 non-null  float64\n",
      "dtypes: float64(3), object(5)\n",
      "memory usage: 61.8+ MB\n"
     ]
    }
   ],
   "source": [
    "df.info()"
   ]
  },
  {
   "cell_type": "code",
   "execution_count": 11,
   "id": "f0c583a7",
   "metadata": {},
   "outputs": [],
   "source": [
    "# Converting the other two date columns to datetime columns\n",
    "df['start_date'] = pd.to_datetime(df.start_date)\n",
    "df['end_date'] = pd.to_datetime(df.end_date)"
   ]
  },
  {
   "cell_type": "code",
   "execution_count": 12,
   "id": "4ed3422a",
   "metadata": {},
   "outputs": [
    {
     "name": "stdout",
     "output_type": "stream",
     "text": [
      "<class 'pandas.core.frame.DataFrame'>\n",
      "DatetimeIndex: 900223 entries, 2018-01-26 09:55:03 to 2021-04-21 16:44:39\n",
      "Data columns (total 8 columns):\n",
      " #   Column      Non-Null Count   Dtype         \n",
      "---  ------      --------------   -----         \n",
      " 0   path        900222 non-null  object        \n",
      " 1   user_id     900223 non-null  float64       \n",
      " 2   cohort_id   847330 non-null  float64       \n",
      " 3   ip          900223 non-null  object        \n",
      " 4   name        847330 non-null  object        \n",
      " 5   start_date  847330 non-null  datetime64[ns]\n",
      " 6   end_date    847330 non-null  datetime64[ns]\n",
      " 7   program_id  847330 non-null  float64       \n",
      "dtypes: datetime64[ns](2), float64(3), object(3)\n",
      "memory usage: 61.8+ MB\n"
     ]
    }
   ],
   "source": [
    "df.info()"
   ]
  },
  {
   "cell_type": "markdown",
   "id": "84966ba5",
   "metadata": {},
   "source": [
    "#### Investigating the nulls in cohort_id to see if there is a noticable pattern."
   ]
  },
  {
   "cell_type": "code",
   "execution_count": 13,
   "id": "fc7f48ce",
   "metadata": {},
   "outputs": [],
   "source": [
    "no_cohort = df[df.cohort_id.isna()]\n",
    "no_cohort = no_cohort.dropna(axis=0, subset=['ip'])"
   ]
  },
  {
   "cell_type": "code",
   "execution_count": 14,
   "id": "3bb6153b",
   "metadata": {},
   "outputs": [
    {
     "data": {
      "text/plain": [
       "(Timestamp('2018-01-26 16:46:16'), Timestamp('2021-04-21 12:56:26'))"
      ]
     },
     "execution_count": 14,
     "metadata": {},
     "output_type": "execute_result"
    }
   ],
   "source": [
    "no_cohort.index.min(), no_cohort.index.max()"
   ]
  },
  {
   "cell_type": "markdown",
   "id": "94f53015",
   "metadata": {},
   "source": [
    "Comparing to the df datetime min and max"
   ]
  },
  {
   "cell_type": "code",
   "execution_count": 15,
   "id": "6e89741a",
   "metadata": {},
   "outputs": [
    {
     "data": {
      "text/plain": [
       "(Timestamp('2018-01-26 09:55:03'), Timestamp('2021-04-21 16:44:39'))"
      ]
     },
     "execution_count": 15,
     "metadata": {},
     "output_type": "execute_result"
    }
   ],
   "source": [
    "df.index.min(), df.index.max()"
   ]
  },
  {
   "cell_type": "markdown",
   "id": "d965eb53",
   "metadata": {},
   "source": [
    "No difference, looking at the distribution of times for no_cohort access"
   ]
  },
  {
   "cell_type": "code",
   "execution_count": 42,
   "id": "ec5d57d9",
   "metadata": {},
   "outputs": [
    {
     "data": {
      "image/png": "[encoded data removed]",
      "text/plain": [
       "<Figure size 1152x144 with 1 Axes>"
      ]
     },
     "metadata": {},
     "output_type": "display_data"
    }
   ],
   "source": [
    "plt.figure(figsize = (16, 2))\n",
    "ax = sns.histplot(data=no_cohort.index, bins = 50, color = 'grey')\n",
    "ax2 = sns.histplot(data=df[df.cohort_id == 23].index, bins =50, color = 'white')\n",
    "plt.xlabel('')\n",
    "plt.ylabel('')\n",
    "plt.xticks([])\n",
    "plt.yticks([])\n",
    "ax.axis('off')\n",
    "plt.savefig('demo.png', transparent= False)"
   ]
  },
  {
   "cell_type": "markdown",
   "id": "587aab09",
   "metadata": {},
   "source": [
    "comparing to overall dataframe histplot\n",
    "\n",
    "Looks like this is a couple of unencoded cohorts?"
   ]
  },
  {
   "cell_type": "code",
   "execution_count": 18,
   "id": "c6f186a9",
   "metadata": {},
   "outputs": [
    {
     "data": {
      "text/plain": [
       "<AxesSubplot:xlabel='datetime', ylabel='Count'>"
      ]
     },
     "execution_count": 18,
     "metadata": {},
     "output_type": "execute_result"
    },
    {
     "data": {
      "image/png": "[encoded data removed]",
      "text/plain": [
       "<Figure size 1152x576 with 1 Axes>"
      ]
     },
     "metadata": {
      "needs_background": "light"
     },
     "output_type": "display_data"
    }
   ],
   "source": [
    "sns.histplot(data=df[df.cohort_id == 23].index, bins =100)"
   ]
  },
  {
   "cell_type": "code",
   "execution_count": 19,
   "id": "c4859325",
   "metadata": {},
   "outputs": [
    {
     "data": {
      "text/html": [
       "<div>\n",
       "<style scoped>\n",
       "    .dataframe tbody tr th:only-of-type {\n",
       "        vertical-align: middle;\n",
       "    }\n",
       "\n",
       "    .dataframe tbody tr th {\n",
       "        vertical-align: top;\n",
       "    }\n",
       "\n",
       "    .dataframe thead th {\n",
       "        text-align: right;\n",
       "    }\n",
       "</style>\n",
       "<table border=\"1\" class=\"dataframe\">\n",
       "  <thead>\n",
       "    <tr style=\"text-align: right;\">\n",
       "      <th></th>\n",
       "      <th>path</th>\n",
       "      <th>user_id</th>\n",
       "      <th>cohort_id</th>\n",
       "      <th>ip</th>\n",
       "      <th>name</th>\n",
       "      <th>start_date</th>\n",
       "      <th>end_date</th>\n",
       "      <th>program_id</th>\n",
       "    </tr>\n",
       "    <tr>\n",
       "      <th>datetime</th>\n",
       "      <th></th>\n",
       "      <th></th>\n",
       "      <th></th>\n",
       "      <th></th>\n",
       "      <th></th>\n",
       "      <th></th>\n",
       "      <th></th>\n",
       "      <th></th>\n",
       "    </tr>\n",
       "  </thead>\n",
       "  <tbody>\n",
       "    <tr>\n",
       "      <th>2018-03-05 14:22:48</th>\n",
       "      <td>html-css/css-i</td>\n",
       "      <td>25.0</td>\n",
       "      <td>23.0</td>\n",
       "      <td>97.105.19.61</td>\n",
       "      <td>Ulysses</td>\n",
       "      <td>2018-03-05</td>\n",
       "      <td>2018-07-19</td>\n",
       "      <td>2.0</td>\n",
       "    </tr>\n",
       "    <tr>\n",
       "      <th>2018-03-05 14:22:58</th>\n",
       "      <td>html-css/forms</td>\n",
       "      <td>25.0</td>\n",
       "      <td>23.0</td>\n",
       "      <td>97.105.19.61</td>\n",
       "      <td>Ulysses</td>\n",
       "      <td>2018-03-05</td>\n",
       "      <td>2018-07-19</td>\n",
       "      <td>2.0</td>\n",
       "    </tr>\n",
       "    <tr>\n",
       "      <th>2018-03-05 14:23:06</th>\n",
       "      <td>html-css/css-i</td>\n",
       "      <td>25.0</td>\n",
       "      <td>23.0</td>\n",
       "      <td>97.105.19.61</td>\n",
       "      <td>Ulysses</td>\n",
       "      <td>2018-03-05</td>\n",
       "      <td>2018-07-19</td>\n",
       "      <td>2.0</td>\n",
       "    </tr>\n",
       "    <tr>\n",
       "      <th>2018-03-05 14:23:08</th>\n",
       "      <td>html-css/css-i/introduction</td>\n",
       "      <td>25.0</td>\n",
       "      <td>23.0</td>\n",
       "      <td>97.105.19.61</td>\n",
       "      <td>Ulysses</td>\n",
       "      <td>2018-03-05</td>\n",
       "      <td>2018-07-19</td>\n",
       "      <td>2.0</td>\n",
       "    </tr>\n",
       "    <tr>\n",
       "      <th>2018-03-05 14:23:47</th>\n",
       "      <td>html-css</td>\n",
       "      <td>25.0</td>\n",
       "      <td>23.0</td>\n",
       "      <td>97.105.19.61</td>\n",
       "      <td>Ulysses</td>\n",
       "      <td>2018-03-05</td>\n",
       "      <td>2018-07-19</td>\n",
       "      <td>2.0</td>\n",
       "    </tr>\n",
       "    <tr>\n",
       "      <th>...</th>\n",
       "      <td>...</td>\n",
       "      <td>...</td>\n",
       "      <td>...</td>\n",
       "      <td>...</td>\n",
       "      <td>...</td>\n",
       "      <td>...</td>\n",
       "      <td>...</td>\n",
       "      <td>...</td>\n",
       "    </tr>\n",
       "    <tr>\n",
       "      <th>2021-04-20 15:31:29</th>\n",
       "      <td>spring</td>\n",
       "      <td>122.0</td>\n",
       "      <td>23.0</td>\n",
       "      <td>69.130.123.181</td>\n",
       "      <td>Ulysses</td>\n",
       "      <td>2018-03-05</td>\n",
       "      <td>2018-07-19</td>\n",
       "      <td>2.0</td>\n",
       "    </tr>\n",
       "    <tr>\n",
       "      <th>2021-04-20 17:53:45</th>\n",
       "      <td>javascript-i/functions</td>\n",
       "      <td>126.0</td>\n",
       "      <td>23.0</td>\n",
       "      <td>192.107.1.225</td>\n",
       "      <td>Ulysses</td>\n",
       "      <td>2018-03-05</td>\n",
       "      <td>2018-07-19</td>\n",
       "      <td>2.0</td>\n",
       "    </tr>\n",
       "    <tr>\n",
       "      <th>2021-04-21 13:54:53</th>\n",
       "      <td>/</td>\n",
       "      <td>122.0</td>\n",
       "      <td>23.0</td>\n",
       "      <td>134.250.1.82</td>\n",
       "      <td>Ulysses</td>\n",
       "      <td>2018-03-05</td>\n",
       "      <td>2018-07-19</td>\n",
       "      <td>2.0</td>\n",
       "    </tr>\n",
       "    <tr>\n",
       "      <th>2021-04-21 13:54:58</th>\n",
       "      <td>spring</td>\n",
       "      <td>122.0</td>\n",
       "      <td>23.0</td>\n",
       "      <td>134.250.1.82</td>\n",
       "      <td>Ulysses</td>\n",
       "      <td>2018-03-05</td>\n",
       "      <td>2018-07-19</td>\n",
       "      <td>2.0</td>\n",
       "    </tr>\n",
       "    <tr>\n",
       "      <th>2021-04-21 13:55:47</th>\n",
       "      <td>spring/setup</td>\n",
       "      <td>122.0</td>\n",
       "      <td>23.0</td>\n",
       "      <td>134.250.1.82</td>\n",
       "      <td>Ulysses</td>\n",
       "      <td>2018-03-05</td>\n",
       "      <td>2018-07-19</td>\n",
       "      <td>2.0</td>\n",
       "    </tr>\n",
       "  </tbody>\n",
       "</table>\n",
       "<p>28534 rows × 8 columns</p>\n",
       "</div>"
      ],
      "text/plain": [
       "                                            path  user_id  cohort_id  \\\n",
       "datetime                                                               \n",
       "2018-03-05 14:22:48               html-css/css-i     25.0       23.0   \n",
       "2018-03-05 14:22:58               html-css/forms     25.0       23.0   \n",
       "2018-03-05 14:23:06               html-css/css-i     25.0       23.0   \n",
       "2018-03-05 14:23:08  html-css/css-i/introduction     25.0       23.0   \n",
       "2018-03-05 14:23:47                     html-css     25.0       23.0   \n",
       "...                                          ...      ...        ...   \n",
       "2021-04-20 15:31:29                       spring    122.0       23.0   \n",
       "2021-04-20 17:53:45       javascript-i/functions    126.0       23.0   \n",
       "2021-04-21 13:54:53                            /    122.0       23.0   \n",
       "2021-04-21 13:54:58                       spring    122.0       23.0   \n",
       "2021-04-21 13:55:47                 spring/setup    122.0       23.0   \n",
       "\n",
       "                                 ip     name start_date   end_date  program_id  \n",
       "datetime                                                                        \n",
       "2018-03-05 14:22:48    97.105.19.61  Ulysses 2018-03-05 2018-07-19         2.0  \n",
       "2018-03-05 14:22:58    97.105.19.61  Ulysses 2018-03-05 2018-07-19         2.0  \n",
       "2018-03-05 14:23:06    97.105.19.61  Ulysses 2018-03-05 2018-07-19         2.0  \n",
       "2018-03-05 14:23:08    97.105.19.61  Ulysses 2018-03-05 2018-07-19         2.0  \n",
       "2018-03-05 14:23:47    97.105.19.61  Ulysses 2018-03-05 2018-07-19         2.0  \n",
       "...                             ...      ...        ...        ...         ...  \n",
       "2021-04-20 15:31:29  69.130.123.181  Ulysses 2018-03-05 2018-07-19         2.0  \n",
       "2021-04-20 17:53:45   192.107.1.225  Ulysses 2018-03-05 2018-07-19         2.0  \n",
       "2021-04-21 13:54:53    134.250.1.82  Ulysses 2018-03-05 2018-07-19         2.0  \n",
       "2021-04-21 13:54:58    134.250.1.82  Ulysses 2018-03-05 2018-07-19         2.0  \n",
       "2021-04-21 13:55:47    134.250.1.82  Ulysses 2018-03-05 2018-07-19         2.0  \n",
       "\n",
       "[28534 rows x 8 columns]"
      ]
     },
     "execution_count": 19,
     "metadata": {},
     "output_type": "execute_result"
    }
   ],
   "source": [
    "df[df.cohort_id == 23]"
   ]
  },
  {
   "cell_type": "markdown",
   "id": "da65dcb9",
   "metadata": {},
   "source": [
    "Shows variation in the access times between no_cohort and df"
   ]
  },
  {
   "cell_type": "code",
   "execution_count": null,
   "id": "7d744d54",
   "metadata": {},
   "outputs": [],
   "source": [
    "no_cohort.user_id.value_counts()"
   ]
  },
  {
   "cell_type": "markdown",
   "id": "12762d14",
   "metadata": {},
   "source": [
    "Therea are 78 users who have no cohort."
   ]
  },
  {
   "cell_type": "code",
   "execution_count": null,
   "id": "c59ddc4e",
   "metadata": {},
   "outputs": [],
   "source": [
    "no_cohort.path.value_counts().head(25)"
   ]
  },
  {
   "cell_type": "code",
   "execution_count": null,
   "id": "d44190ec",
   "metadata": {},
   "outputs": [],
   "source": [
    "df.name.sort_values().unique()"
   ]
  },
  {
   "cell_type": "markdown",
   "id": "3112d87b",
   "metadata": {},
   "source": [
    "### Exploring other various data before jumping back to my question."
   ]
  },
  {
   "cell_type": "code",
   "execution_count": null,
   "id": "47297c13",
   "metadata": {},
   "outputs": [],
   "source": [
    "df.program_id.unique()"
   ]
  },
  {
   "cell_type": "code",
   "execution_count": null,
   "id": "28331128",
   "metadata": {},
   "outputs": [],
   "source": [
    "df[(df.name == \"Ada\") | (df.name == 'Bayes')].program_id.unique()"
   ]
  },
  {
   "cell_type": "markdown",
   "id": "a157fb59",
   "metadata": {},
   "source": [
    "Program id 3 corresponds to Data Science."
   ]
  },
  {
   "cell_type": "code",
   "execution_count": null,
   "id": "e0f81ac2",
   "metadata": {},
   "outputs": [],
   "source": [
    "df[df.program_id == 3].name.unique()"
   ]
  },
  {
   "cell_type": "markdown",
   "id": "4e74e80d",
   "metadata": {},
   "source": [
    "Confirmed, according to alumni.codeup.comm these are all DS program students"
   ]
  },
  {
   "cell_type": "code",
   "execution_count": null,
   "id": "939b52d4",
   "metadata": {},
   "outputs": [],
   "source": [
    "df[(df.name == \"Arches\") | (df.name == 'Badlands')].program_id.unique()"
   ]
  },
  {
   "cell_type": "markdown",
   "id": "502280ec",
   "metadata": {},
   "source": [
    "Program id 1 corresponds to WebDev"
   ]
  },
  {
   "cell_type": "code",
   "execution_count": null,
   "id": "5f8b19fb",
   "metadata": {},
   "outputs": [],
   "source": [
    "df[df.program_id == 1].name.sort_values().unique()"
   ]
  },
  {
   "cell_type": "markdown",
   "id": "9f5ecada",
   "metadata": {},
   "source": [
    "Confirmed, according to alumni.codeup.com these are all WebDev program students"
   ]
  },
  {
   "cell_type": "code",
   "execution_count": null,
   "id": "319ed9ba",
   "metadata": {},
   "outputs": [],
   "source": [
    "df[df.program_id == 2].name.sort_values().unique()"
   ]
  },
  {
   "cell_type": "markdown",
   "id": "378ae207",
   "metadata": {},
   "source": [
    "Program 2 corresponds to WebDev program students as confirmed by alumni.codeup.com"
   ]
  },
  {
   "cell_type": "code",
   "execution_count": null,
   "id": "29998958",
   "metadata": {},
   "outputs": [],
   "source": [
    "df[df.program_id == 4].name.sort_values().unique()"
   ]
  },
  {
   "cell_type": "markdown",
   "id": "93070169",
   "metadata": {},
   "source": [
    "Program 4 corresponds to WebDev program students as confirmed by alumni.codeup.com"
   ]
  },
  {
   "cell_type": "markdown",
   "id": "42fa91ff",
   "metadata": {},
   "source": [
    "Program id corresponds as follows:\n",
    "- 1, 2, 4 are all WebDev students\n",
    "- 3 is Data Scientist students"
   ]
  },
  {
   "cell_type": "markdown",
   "id": "054f494c",
   "metadata": {},
   "source": [
    "Based on this information I'm going to split the WebDev students and DS students to see if there is any difference when answering my question."
   ]
  },
  {
   "cell_type": "code",
   "execution_count": null,
   "id": "1461e008",
   "metadata": {},
   "outputs": [],
   "source": [
    "ds = df[df.program_id == 3]"
   ]
  },
  {
   "cell_type": "code",
   "execution_count": null,
   "id": "746152ba",
   "metadata": {},
   "outputs": [],
   "source": [
    "ds.head()"
   ]
  },
  {
   "cell_type": "code",
   "execution_count": null,
   "id": "49d9c6c8",
   "metadata": {},
   "outputs": [],
   "source": [
    "webdev = df[df.program_id != 3]"
   ]
  },
  {
   "cell_type": "code",
   "execution_count": null,
   "id": "e3874d0f",
   "metadata": {},
   "outputs": [],
   "source": [
    "webdev.head()"
   ]
  },
  {
   "cell_type": "markdown",
   "id": "421f138f",
   "metadata": {},
   "source": [
    "# Back to my main question:\n",
    "### What topics are grads continuing to reference after graduation and into their jobs (for each program)?"
   ]
  },
  {
   "cell_type": "markdown",
   "id": "3289ff30",
   "metadata": {},
   "source": [
    "Before I do anything I need to remove staff from my exploration as my question specifically pertains to grads."
   ]
  },
  {
   "cell_type": "code",
   "execution_count": null,
   "id": "351ab67f",
   "metadata": {},
   "outputs": [],
   "source": [
    "ds = ds[ds.name != 'Staff']"
   ]
  },
  {
   "cell_type": "code",
   "execution_count": null,
   "id": "ce0848c2",
   "metadata": {},
   "outputs": [],
   "source": [
    "webdev = webdev[webdev.name != 'Staff']"
   ]
  },
  {
   "cell_type": "markdown",
   "id": "25fc4f64",
   "metadata": {},
   "source": [
    "First I need to explore if these logs refer to access to the curriculum AFTER the graduation date only or for ALL time (even when they were students)"
   ]
  },
  {
   "cell_type": "code",
   "execution_count": null,
   "id": "31b288af",
   "metadata": {
    "scrolled": true
   },
   "outputs": [],
   "source": [
    "for cohort in df.name.unique():\n",
    "    print(f\"The {cohort} cohort ended on {df[df.name == cohort].end_date.min()} \"\n",
    "          f\"and the earliest recorded access was on {df[df.name == cohort].index.min()}\\n\")"
   ]
  },
  {
   "cell_type": "markdown",
   "id": "0a5f87c1",
   "metadata": {},
   "source": [
    "This information shows that there is a good portion of the data that occurs PRIOR to students graduation so I need to clean this up and only have logs that show data from after. I will reset this and proceed to analyze."
   ]
  },
  {
   "cell_type": "code",
   "execution_count": null,
   "id": "5d954b8d",
   "metadata": {},
   "outputs": [],
   "source": [
    "ds.info()"
   ]
  },
  {
   "cell_type": "code",
   "execution_count": null,
   "id": "97d761dc",
   "metadata": {},
   "outputs": [],
   "source": [
    "ds_after_grad = ds[ds.index > ds.end_date]"
   ]
  },
  {
   "cell_type": "code",
   "execution_count": null,
   "id": "2b1f7f26",
   "metadata": {},
   "outputs": [],
   "source": [
    "ds_after_grad.info()"
   ]
  },
  {
   "cell_type": "code",
   "execution_count": null,
   "id": "41fb9b3b",
   "metadata": {},
   "outputs": [],
   "source": [
    "ds_after_grad.shape[0] / ds.shape[0]"
   ]
  },
  {
   "cell_type": "markdown",
   "id": "ca66b2ea",
   "metadata": {},
   "source": [
    "Alright, ds_after_grad represents the access logs which occurred after a person graduated for ds students. As a note, it seems that after graduation access of the curriculum only accounts for 11.2% of all access logs; this means that roughly 89% of all the access logs refer to times when the student was enrolled in the program at Codeup.\n",
    "\n",
    "I will do this now for webdev."
   ]
  },
  {
   "cell_type": "code",
   "execution_count": null,
   "id": "f5a2c10c",
   "metadata": {},
   "outputs": [],
   "source": [
    "webdev.info()"
   ]
  },
  {
   "cell_type": "code",
   "execution_count": null,
   "id": "8dd7888b",
   "metadata": {},
   "outputs": [],
   "source": [
    "wd_after_grad = webdev[webdev.index > webdev.end_date]"
   ]
  },
  {
   "cell_type": "code",
   "execution_count": null,
   "id": "654e104b",
   "metadata": {},
   "outputs": [],
   "source": [
    "wd_after_grad.info()"
   ]
  },
  {
   "cell_type": "code",
   "execution_count": null,
   "id": "08dc7dde",
   "metadata": {},
   "outputs": [],
   "source": [
    "wd_after_grad.shape[0] / webdev.shape[0]"
   ]
  },
  {
   "cell_type": "markdown",
   "id": "d0cd2d69",
   "metadata": {},
   "source": [
    "wd_after_grad represents the access logs which occurred after a person graduated for webdev students. As a note, it seems that after graduation, access of the curriculum only accounts for 14.7% of all access logs; this means that roughly 85% of all the access logs refer to times when the student was enrolled in the program at Codeup."
   ]
  },
  {
   "cell_type": "markdown",
   "id": "52fa74c6",
   "metadata": {},
   "source": [
    "#### The data is now in a place that I can begin exploring what topics grads are referencing after graduation.\n",
    "\n",
    "I will explore the webdev group first."
   ]
  },
  {
   "cell_type": "code",
   "execution_count": null,
   "id": "3cfe6a4a",
   "metadata": {},
   "outputs": [],
   "source": [
    "wd_after_grad.path.value_counts().head(10)"
   ]
  },
  {
   "cell_type": "markdown",
   "id": "ca79968c",
   "metadata": {},
   "source": [
    "Two of the top five most commonly accessed paths are not indicative of topics. The '/' directory just refers to the base directory from which a student would access the specific curriculum they were looking for and the 'search/search_index.json' paths refers to the search, not an actual topic location. I will drop these two for ease of searching through the data."
   ]
  },
  {
   "cell_type": "code",
   "execution_count": null,
   "id": "48c271ec",
   "metadata": {},
   "outputs": [],
   "source": [
    "wd_after_grad = wd_after_grad[(wd_after_grad.path != '/') & (wd_after_grad.path != 'search/search_index.json')]"
   ]
  },
  {
   "cell_type": "code",
   "execution_count": null,
   "id": "2eb9da50",
   "metadata": {},
   "outputs": [],
   "source": [
    "wd_after_grad.path.value_counts().head(50)"
   ]
  },
  {
   "cell_type": "code",
   "execution_count": null,
   "id": "17a22366",
   "metadata": {},
   "outputs": [],
   "source": [
    "wd_after_grad[wd_after_grad.path.str.contains('javascript[-/]|javascript$')]"
   ]
  },
  {
   "cell_type": "code",
   "execution_count": null,
   "id": "1951d728",
   "metadata": {
    "scrolled": true
   },
   "outputs": [],
   "source": [
    "wd_after_grad[wd_after_grad.path.str.contains('java[-/]|_java|java$')].path.unique()"
   ]
  },
  {
   "cell_type": "code",
   "execution_count": null,
   "id": "13b8cc20",
   "metadata": {},
   "outputs": [],
   "source": [
    "wd_after_grad[wd_after_grad.path.str.contains('css')]"
   ]
  },
  {
   "cell_type": "code",
   "execution_count": null,
   "id": "20d34b17",
   "metadata": {},
   "outputs": [],
   "source": [
    "wd_after_grad[wd_after_grad.path.str.contains('sql')]"
   ]
  },
  {
   "cell_type": "code",
   "execution_count": null,
   "id": "55ac05b9",
   "metadata": {},
   "outputs": [],
   "source": [
    "wd_after_grad[wd_after_grad.path.str.contains('php')]"
   ]
  },
  {
   "cell_type": "code",
   "execution_count": null,
   "id": "ab0c2b7f",
   "metadata": {},
   "outputs": [],
   "source": [
    "wd_after_grad[wd_after_grad.path.str.contains('spring')]"
   ]
  },
  {
   "cell_type": "code",
   "execution_count": null,
   "id": "abc6804d",
   "metadata": {
    "scrolled": true
   },
   "outputs": [],
   "source": [
    "wd_after_grad[wd_after_grad.path.str.contains('jquery')]"
   ]
  },
  {
   "cell_type": "code",
   "execution_count": null,
   "id": "1f6f8d04",
   "metadata": {
    "scrolled": true
   },
   "outputs": [],
   "source": [
    "wd_after_grad.path.value_counts().tail(60)"
   ]
  },
  {
   "cell_type": "markdown",
   "id": "530d6f6e",
   "metadata": {},
   "source": [
    "Most of these seem to be ds topics or other random page I will categorize as one catch all \"random\" category."
   ]
  },
  {
   "cell_type": "markdown",
   "id": "134f6ee2",
   "metadata": {},
   "source": [
    "Going to make a dataframe which contains all this info about topic and amount of requests\n"
   ]
  },
  {
   "cell_type": "code",
   "execution_count": null,
   "id": "de75f73a",
   "metadata": {},
   "outputs": [],
   "source": [
    "wd_results = {'topic': ['javascript', 'java', 'css', 'spring', 'sql', 'jquery', 'appendix', 'capstone', 'random/ds_topics'], \n",
    "              'num_times_accessed': [wd_after_grad[wd_after_grad.path.str.contains('javascript[-/]|javascript$')].shape[0],\n",
    "                                wd_after_grad[wd_after_grad.path.str.contains('java[-/]|_java|java$')].shape[0],\n",
    "                                wd_after_grad[wd_after_grad.path.str.contains('css')].shape[0],\n",
    "                                wd_after_grad[wd_after_grad.path.str.contains('spring')].shape[0],\n",
    "                                wd_after_grad[wd_after_grad.path.str.contains('sql')].shape[0],\n",
    "                                wd_after_grad[wd_after_grad.path.str.contains('jquery')].shape[0],\n",
    "                                wd_after_grad[wd_after_grad.path.str.contains('appendix')].shape[0],\n",
    "                                wd_after_grad[wd_after_grad.path.str.contains('capstone')].shape[0],\n",
    "                                wd_after_grad.shape[0]- wd_after_grad[wd_after_grad.path.str.contains('java|sql|jquery|spring|css|appendix|capstone|toc')].shape[0]]}"
   ]
  },
  {
   "cell_type": "code",
   "execution_count": null,
   "id": "ce9622e9",
   "metadata": {},
   "outputs": [],
   "source": [
    "wd_results_df = pd.DataFrame(wd_results).sort_values('num_times_accessed', ascending=False)"
   ]
  },
  {
   "cell_type": "code",
   "execution_count": null,
   "id": "46cdbf90",
   "metadata": {},
   "outputs": [],
   "source": [
    "sns.barplot(data= wd_results_df, x = 'topic', y = 'num_times_accessed')"
   ]
  },
  {
   "cell_type": "code",
   "execution_count": null,
   "id": "351b165e",
   "metadata": {},
   "outputs": [],
   "source": [
    "wd_results_df"
   ]
  },
  {
   "cell_type": "code",
   "execution_count": null,
   "id": "19b9c3ce",
   "metadata": {},
   "outputs": [],
   "source": [
    "wd_after_grad.info()"
   ]
  },
  {
   "cell_type": "code",
   "execution_count": null,
   "id": "b5fa7ac4",
   "metadata": {},
   "outputs": [],
   "source": [
    "wd_after_grad[wd_after_grad.path.str.contains('java[-/]|_java|java$')].shape[0] / wd_after_grad.shape[0]"
   ]
  },
  {
   "cell_type": "code",
   "execution_count": null,
   "id": "3463fc32",
   "metadata": {},
   "outputs": [],
   "source": [
    "wd_after_grad[wd_after_grad.path.str.contains('javascript[-/]|javascript$')].shape[0] / wd_after_grad.shape[0]"
   ]
  },
  {
   "cell_type": "code",
   "execution_count": null,
   "id": "f2ca9d99",
   "metadata": {},
   "outputs": [],
   "source": [
    "wd_after_grad[wd_after_grad.path.str.contains('spring')].shape[0] / wd_after_grad.shape[0]"
   ]
  },
  {
   "cell_type": "markdown",
   "id": "eb31784c",
   "metadata": {},
   "source": [
    "This shows that the most broad topics accessed after graduation are java and javascript. \n",
    "- Java accounted for 21.5% of all content accessed.\n",
    "- Javascript account for 20.6% of all content accessed.\n",
    "\n",
    "\n",
    "I will get a bit more granular next."
   ]
  },
  {
   "cell_type": "code",
   "execution_count": null,
   "id": "16c733a5",
   "metadata": {
    "scrolled": true
   },
   "outputs": [],
   "source": [
    "wd_after_grad[wd_after_grad.path.str.contains('java[-/]|_java|java$')].path.value_counts().head(50)"
   ]
  },
  {
   "cell_type": "markdown",
   "id": "04bc4204",
   "metadata": {},
   "source": [
    "For java we see the single largest subtopic being the java-i main directory at 2275 entries and second the java-ii main directory at 2184 entries; the largest specific sub-topics are java-i/introduction-to-java at 894 entries, java-i/syntax-types-and-variables 847 entries, /object-oriented-programming at 822, and /servlets at 811."
   ]
  },
  {
   "cell_type": "code",
   "execution_count": null,
   "id": "26cc6a12",
   "metadata": {
    "scrolled": true
   },
   "outputs": [],
   "source": [
    "wd_after_grad[wd_after_grad.path.str.contains('javascript[-/]|javascript$')].path.value_counts().head(50)"
   ]
  },
  {
   "cell_type": "markdown",
   "id": "50836132",
   "metadata": {},
   "source": [
    "For javascript we have the single largest subtopic being the javascript-i main directory at 3152 entries and second being the javascript-ii main directory at 1988 entries; the largest specifc sub-topics are javascript-i/functions at 785 entries and javascript-i/javascript-with-html 775 entries."
   ]
  },
  {
   "cell_type": "code",
   "execution_count": null,
   "id": "12a90cb6",
   "metadata": {},
   "outputs": [],
   "source": [
    "wd_after_grad[wd_after_grad.path.str.contains('spring')].path.value_counts().head(50)"
   ]
  },
  {
   "cell_type": "markdown",
   "id": "c2084648",
   "metadata": {},
   "source": [
    "For spring we have the single largest subtopic being the spring main directory at 2869; the largest specifc sub-topics are /fundamentals/controllers at 1299 entries, /setup with 1236 entries, fundamentals/views at 1166 entries, and /fundamentals/repositories at 1073 entries."
   ]
  },
  {
   "cell_type": "code",
   "execution_count": null,
   "id": "062ee8b4",
   "metadata": {
    "scrolled": true
   },
   "outputs": [],
   "source": [
    "wd_after_grad[wd_after_grad.path.str.contains('css')].path.value_counts().head(50)"
   ]
  },
  {
   "cell_type": "markdown",
   "id": "1a3831ba",
   "metadata": {},
   "source": [
    "For css we have the single largest subtopic being the html-css main directory at 2403; the largest specifc sub-topics are /elements at 937 entries, and /introduction at 800 entries."
   ]
  },
  {
   "cell_type": "code",
   "execution_count": null,
   "id": "7d6a3c42",
   "metadata": {},
   "outputs": [],
   "source": [
    "wd_after_grad[wd_after_grad.path.str.contains('sql')].path.value_counts().head(50)"
   ]
  },
  {
   "cell_type": "markdown",
   "id": "d3b0dce8",
   "metadata": {},
   "source": [
    "No single specific subtopic over 800 entries for sql."
   ]
  },
  {
   "cell_type": "code",
   "execution_count": null,
   "id": "389e2ee8",
   "metadata": {
    "scrolled": true
   },
   "outputs": [],
   "source": [
    "wd_after_grad[wd_after_grad.path.str.contains('jquery')].path.value_counts().head(50)"
   ]
  },
  {
   "cell_type": "code",
   "execution_count": null,
   "id": "1b0c8117",
   "metadata": {
    "scrolled": true
   },
   "outputs": [],
   "source": [
    "wd_after_grad[wd_after_grad.path.str.contains('appendix')].path.value_counts().head(50)"
   ]
  },
  {
   "cell_type": "markdown",
   "id": "59d86d05",
   "metadata": {},
   "source": [
    "No specific sub-topic breaks 800 entries in jquery or appendix."
   ]
  },
  {
   "cell_type": "code",
   "execution_count": null,
   "id": "8a582373",
   "metadata": {},
   "outputs": [],
   "source": [
    "# Making a dataframe to contain the most accessed subtopics\n",
    "sub_topics_list = ['java-i/introduction-to-java', \n",
    "                   'java-i/syntax-types-and-variables', \n",
    "                   'java-ii/object-oriented-programming', \n",
    "                   'java-iii/servlets', \n",
    "                   'javascript-i/functions', \n",
    "                   'javascript-i/javascript-with-html', \n",
    "                   'spring/fundamentals/controllers', \n",
    "                   'spring/setup', \n",
    "                   'spring/fundamentals/views',\n",
    "                   'spring/fundamentals/repositories',\n",
    "                   'html-css/elements',\n",
    "                   'html-css/introduction']\n",
    "occurances_list = [894, 847, 822, 811, 785, 775, 1299, 1236, 1166, 1073, 937, 800]\n",
    "wd_subtopics = {'subtopic': sub_topics_list, 'num_times_accessed': occurances_list}"
   ]
  },
  {
   "cell_type": "code",
   "execution_count": null,
   "id": "221e23d6",
   "metadata": {},
   "outputs": [],
   "source": [
    "wd_subtopics"
   ]
  },
  {
   "cell_type": "code",
   "execution_count": null,
   "id": "bf7d0c48",
   "metadata": {},
   "outputs": [],
   "source": [
    "wd_subtopics_df = pd.DataFrame(wd_subtopics).sort_values('num_times_accessed', ascending=False)\n",
    "wd_subtopics_df"
   ]
  },
  {
   "cell_type": "code",
   "execution_count": null,
   "id": "8eafe7bd",
   "metadata": {},
   "outputs": [],
   "source": [
    "ax = sns.barplot(data= wd_subtopics_df, x = 'subtopic', y = 'num_times_accessed')\n",
    "plt.xticks(rotation=65)\n",
    "plt.show()"
   ]
  },
  {
   "cell_type": "markdown",
   "id": "8b59370c",
   "metadata": {},
   "source": [
    "## WebDev takeaways\n",
    "\n",
    "- Java and Javascript were by far the largest categories represented in the main topics\n",
    "    - Java accounted for 21.5% of all content accessed.\n",
    "    - Javascript account for 20.6% of all content accessed.\n",
    "- Spring however had the most subtopics represented in the top subtopic categories.\n",
    "    - Top 4 single lessons were over Spring\n",
    "        - spring/fundamentals/controllers\n",
    "        - spring/setup\n",
    "        - spring/fundamentals/views\n",
    "        - spring/fundamentals/repositories"
   ]
  },
  {
   "cell_type": "code",
   "execution_count": null,
   "id": "753ed2c2",
   "metadata": {},
   "outputs": [],
   "source": [
    "ds_after_grad = ds_after_grad[(ds_after_grad.path != '/') & (ds_after_grad.path != 'search/search_index.json')]\n",
    "ds_after_grad"
   ]
  },
  {
   "cell_type": "code",
   "execution_count": null,
   "id": "f080a172",
   "metadata": {},
   "outputs": [],
   "source": [
    "ds_after_grad.path.value_counts().tail(60)"
   ]
  },
  {
   "cell_type": "code",
   "execution_count": null,
   "id": "6f84594a",
   "metadata": {},
   "outputs": [],
   "source": [
    "ds_after_grad[ds_after_grad.path.str.contains('sql')]"
   ]
  },
  {
   "cell_type": "code",
   "execution_count": null,
   "id": "5dcac17d",
   "metadata": {},
   "outputs": [],
   "source": [
    "ds_after_grad[ds_after_grad.path.str.contains('python')]"
   ]
  },
  {
   "cell_type": "code",
   "execution_count": null,
   "id": "5eedcb3a",
   "metadata": {},
   "outputs": [],
   "source": [
    "ds_after_grad[ds_after_grad.path.str.contains('classification')]"
   ]
  },
  {
   "cell_type": "code",
   "execution_count": null,
   "id": "fa71bc31",
   "metadata": {},
   "outputs": [],
   "source": [
    "ds_after_grad[ds_after_grad.path.str.contains('anomaly')]"
   ]
  },
  {
   "cell_type": "code",
   "execution_count": null,
   "id": "82221bea",
   "metadata": {},
   "outputs": [],
   "source": [
    "ds_after_grad[ds_after_grad.path.str.contains('fundamentals', case = False)]"
   ]
  },
  {
   "cell_type": "code",
   "execution_count": null,
   "id": "66512378",
   "metadata": {},
   "outputs": [],
   "source": [
    "ds_after_grad[ds_after_grad.path.str.contains('clustering')]"
   ]
  },
  {
   "cell_type": "code",
   "execution_count": null,
   "id": "4158a559",
   "metadata": {},
   "outputs": [],
   "source": [
    "ds_after_grad[ds_after_grad.path.str.contains('timeseries')]"
   ]
  },
  {
   "cell_type": "code",
   "execution_count": null,
   "id": "4be4c5f3",
   "metadata": {},
   "outputs": [],
   "source": [
    "ds_after_grad[ds_after_grad.path.str.contains('appendix')]"
   ]
  },
  {
   "cell_type": "code",
   "execution_count": null,
   "id": "87b102bd",
   "metadata": {},
   "outputs": [],
   "source": [
    "ds_after_grad[ds_after_grad.path.str.contains('nlp')]"
   ]
  },
  {
   "cell_type": "code",
   "execution_count": null,
   "id": "9a0aca35",
   "metadata": {},
   "outputs": [],
   "source": [
    "ds_after_grad[ds_after_grad.path.str.contains('regression')]"
   ]
  },
  {
   "cell_type": "code",
   "execution_count": null,
   "id": "06b9e8e9",
   "metadata": {},
   "outputs": [],
   "source": [
    "ds_after_grad[ds_after_grad.path.str.contains('stats')]"
   ]
  },
  {
   "cell_type": "code",
   "execution_count": null,
   "id": "1ce4a1c2",
   "metadata": {},
   "outputs": [],
   "source": [
    "ds_after_grad[ds_after_grad.path.str.contains('capstone')]"
   ]
  },
  {
   "cell_type": "code",
   "execution_count": null,
   "id": "f4d0ca2b",
   "metadata": {},
   "outputs": [],
   "source": [
    "ds_after_grad[ds_after_grad.path.str.contains('storytelling')]"
   ]
  },
  {
   "cell_type": "code",
   "execution_count": null,
   "id": "28840d76",
   "metadata": {},
   "outputs": [],
   "source": [
    "ds_after_grad[ds_after_grad.path.str.contains('spark')]"
   ]
  },
  {
   "cell_type": "code",
   "execution_count": null,
   "id": "d153c3aa",
   "metadata": {},
   "outputs": [],
   "source": [
    "ds_after_grad[ds_after_grad.path.str.contains('capstone|sql|python|stats|fundamentals|regression|clustering|nlp|appendix|timeseries|anomaly|classification|spark|python|storytelling')]\n",
    "\n"
   ]
  },
  {
   "cell_type": "code",
   "execution_count": null,
   "id": "a267a5ef",
   "metadata": {},
   "outputs": [],
   "source": [
    "ds_results = {'topic': ['capstone','sql','python', 'stats', 'fundamentals', 'regression', 'clustering', 'nlp', 'appendix', 'timeseries', 'anomaly', 'classification', 'spark', 'python', 'storytelling','other_topics'], \n",
    "              'num_times_accessed': [ds_after_grad[ds_after_grad.path.str.contains('capstone', case = False)].shape[0],\n",
    "                                ds_after_grad[ds_after_grad.path.str.contains('sql', case = False)].shape[0],\n",
    "                                ds_after_grad[ds_after_grad.path.str.contains('python', case = False)].shape[0],\n",
    "                                ds_after_grad[ds_after_grad.path.str.contains('stats', case = False)].shape[0],\n",
    "                                ds_after_grad[ds_after_grad.path.str.contains('fundamentals', case = False)].shape[0],\n",
    "                                ds_after_grad[ds_after_grad.path.str.contains('regression', case = False)].shape[0],\n",
    "                                ds_after_grad[ds_after_grad.path.str.contains('clustering', case = False)].shape[0],\n",
    "                                ds_after_grad[ds_after_grad.path.str.contains('nlp', case = False)].shape[0],\n",
    "                                ds_after_grad[ds_after_grad.path.str.contains('appendix', case = False)].shape[0],\n",
    "                                ds_after_grad[ds_after_grad.path.str.contains('timeseries', case = False)].shape[0],\n",
    "                                ds_after_grad[ds_after_grad.path.str.contains('anomaly', case = False)].shape[0],\n",
    "                                ds_after_grad[ds_after_grad.path.str.contains('classification', case = False)].shape[0], \n",
    "                                ds_after_grad[ds_after_grad.path.str.contains('spark', case = False)].shape[0],\n",
    "                                ds_after_grad[ds_after_grad.path.str.contains('python', case = False)].shape[0],\n",
    "                                ds_after_grad[ds_after_grad.path.str.contains('storytelling', case = False)].shape[0],\n",
    "                                ds_after_grad.shape[0]- ds_after_grad[ds_after_grad.path.str.contains('capstone|sql|python|stats|fundamentals|regression|clustering|nlp|appendix|timeseries|anomaly|classification|spark|python|storytelling')].shape[0]]}"
   ]
  },
  {
   "cell_type": "code",
   "execution_count": null,
   "id": "0368afdf",
   "metadata": {},
   "outputs": [],
   "source": [
    "ds_results_df = pd.DataFrame(ds_results).sort_values('num_times_accessed', ascending=False)"
   ]
  },
  {
   "cell_type": "code",
   "execution_count": null,
   "id": "11dabe96",
   "metadata": {},
   "outputs": [],
   "source": [
    "ds_results_df"
   ]
  },
  {
   "cell_type": "code",
   "execution_count": null,
   "id": "9c191f78",
   "metadata": {},
   "outputs": [],
   "source": [
    "sns.barplot(data= ds_results_df, x = 'topic', y = 'num_times_accessed')"
   ]
  },
  {
   "cell_type": "markdown",
   "id": "6935fea0",
   "metadata": {},
   "source": [
    "This shows that the most broad topics accessed after graduation are sql, fundamentals and classification. I will get a bit more granular next."
   ]
  },
  {
   "cell_type": "code",
   "execution_count": null,
   "id": "85597e46",
   "metadata": {},
   "outputs": [],
   "source": [
    "ds_after_grad[ds_after_grad.path.str.contains('sql')].path.value_counts().head(15)"
   ]
  },
  {
   "cell_type": "code",
   "execution_count": null,
   "id": "afcf1a1b",
   "metadata": {},
   "outputs": [],
   "source": [
    "ds_after_grad[ds_after_grad.path.str.contains('fundamentals')].path.value_counts().head(10)"
   ]
  },
  {
   "cell_type": "code",
   "execution_count": null,
   "id": "c984dffe",
   "metadata": {},
   "outputs": [],
   "source": [
    "ds_after_grad[ds_after_grad.path.str.contains('classification')].path.value_counts().head()"
   ]
  },
  {
   "cell_type": "code",
   "execution_count": null,
   "id": "93d5226b",
   "metadata": {},
   "outputs": [],
   "source": [
    "ds_after_grad[ds_after_grad.path.str.contains('python')].path.value_counts().head()"
   ]
  },
  {
   "cell_type": "code",
   "execution_count": null,
   "id": "948314c6",
   "metadata": {},
   "outputs": [],
   "source": [
    "ds_after_grad[ds_after_grad.path.str.contains('regression')].path.value_counts().head()"
   ]
  },
  {
   "cell_type": "code",
   "execution_count": null,
   "id": "472f489b",
   "metadata": {},
   "outputs": [],
   "source": [
    "ds_after_grad[ds_after_grad.path.str.contains('anomaly')].path.value_counts().head()"
   ]
  },
  {
   "cell_type": "code",
   "execution_count": null,
   "id": "8af7c44e",
   "metadata": {},
   "outputs": [],
   "source": [
    "ds_after_grad[ds_after_grad.path.str.contains('appendix')].path.value_counts().head()"
   ]
  },
  {
   "cell_type": "code",
   "execution_count": null,
   "id": "e0f9efa1",
   "metadata": {},
   "outputs": [],
   "source": [
    "ds_after_grad[ds_after_grad.path.str.contains('stats')].path.value_counts().head()"
   ]
  },
  {
   "cell_type": "code",
   "execution_count": null,
   "id": "7c4c9b24",
   "metadata": {},
   "outputs": [],
   "source": [
    "ds_after_grad[ds_after_grad.path.str.contains('timeseries')].path.value_counts().head()"
   ]
  },
  {
   "cell_type": "code",
   "execution_count": null,
   "id": "b4e6658b",
   "metadata": {},
   "outputs": [],
   "source": [
    "ds_after_grad[ds_after_grad.path.str.contains('nlp')].path.value_counts().head()"
   ]
  },
  {
   "cell_type": "code",
   "execution_count": null,
   "id": "91ceac5b",
   "metadata": {},
   "outputs": [],
   "source": [
    "ds_after_grad[ds_after_grad.path.str.contains('clustering')].path.value_counts().head()"
   ]
  },
  {
   "cell_type": "code",
   "execution_count": null,
   "id": "ff04a7e8",
   "metadata": {},
   "outputs": [],
   "source": [
    "# Making a dataframe to contain the most accessed subtopics\n",
    "sub_topics_list = ['sql/mysql-overview', \n",
    "                   'sql/database-design', \n",
    "                   'fundamentals/AI-ML-DL-timeline.jpg', \n",
    "                   'fundamentals/modern-data-scientist.jpg', \n",
    "                   'fundamentals/intro-to-data-science', \n",
    "                   '1-fundamentals/modern-data-scientist.jpg', \n",
    "                   '1-fundamentals/1.1-intro-to-data-science', \n",
    "                   'classification/overview', \n",
    "                   'classification/scale_features_or_not.svg',\n",
    "                   '6-regression/1-overview',\n",
    "                   'anomaly-detection/AnomalyDetectionCartoon.jpeg',\n",
    "                   'anomaly-detection/overview']\n",
    "occurances_list = [275, 87, 189, 187, 184, 128, 127, 267, 220, 86, 193, 191]\n",
    "wd_subtopics = {'subtopic': sub_topics_list, 'num_times_accessed': occurances_list}"
   ]
  },
  {
   "cell_type": "code",
   "execution_count": null,
   "id": "d858f1a8",
   "metadata": {},
   "outputs": [],
   "source": [
    "ds_subtopics_df = pd.DataFrame(wd_subtopics).sort_values('num_times_accessed', ascending=False)\n",
    "ds_subtopics_df"
   ]
  },
  {
   "cell_type": "code",
   "execution_count": null,
   "id": "58fba469",
   "metadata": {},
   "outputs": [],
   "source": [
    "ax = sns.barplot(data= ds_subtopics_df, x = 'subtopic', y = 'num_times_accessed')\n",
    "plt.xticks(rotation=65)\n",
    "plt.show()"
   ]
  },
  {
   "cell_type": "code",
   "execution_count": null,
   "id": "932df35f",
   "metadata": {
    "scrolled": true
   },
   "outputs": [],
   "source": [
    "ds_after_grad[ds_after_grad.path.str.contains('sql')].shape[0] / ds_after_grad.shape[0]"
   ]
  },
  {
   "cell_type": "code",
   "execution_count": null,
   "id": "5268d23f",
   "metadata": {},
   "outputs": [],
   "source": [
    "ds_after_grad[ds_after_grad.path.str.contains('fundamentals')].shape[0] / ds_after_grad.shape[0]"
   ]
  },
  {
   "cell_type": "code",
   "execution_count": null,
   "id": "58eab8f1",
   "metadata": {},
   "outputs": [],
   "source": [
    "ds_after_grad[ds_after_grad.path.str.contains('classification')].shape[0] / ds_after_grad.shape[0]"
   ]
  },
  {
   "cell_type": "code",
   "execution_count": null,
   "id": "817301af",
   "metadata": {},
   "outputs": [],
   "source": [
    "(ds_after_grad[ds_after_grad.path.str.contains('classification')].shape[0] +\n",
    "ds_after_grad[ds_after_grad.path.str.contains('sql')].shape[0] +\n",
    "ds_after_grad[ds_after_grad.path.str.contains('fundamentals')].shape[0]) / ds_after_grad.shape[0]"
   ]
  },
  {
   "cell_type": "markdown",
   "id": "d0fd0fe5",
   "metadata": {},
   "source": [
    "## Data Science takeaways\n",
    "\n",
    "- SQL, Fundamentals, and classification were the 3 largest main topics\n",
    "    - SQL accounts for 16.2% of all access\n",
    "    - fundamentals accounts for 15.8% of all access\n",
    "    - classification accounts for 13.7 % of all access\n",
    "    - These 3 topics account for 45.8% of all access\n",
    "- mysql-overview, classification/overview, and classification/scale_features_or_not.svg the three most accessed sub paths\n",
    "- 5/12 of the most accessed paths were photo files\n",
    "- Of the non photo files we can see:\n",
    "    - a sql/overview\n",
    "    - a classification-overview\n",
    "    - an anomaly-detection/overview\n",
    "    - fundamentals/intro-to-data-science\n",
    "    - an sql/database-desing\n",
    "    - a regression/overview"
   ]
  },
  {
   "cell_type": "markdown",
   "id": "8a8a6d55",
   "metadata": {},
   "source": [
    "# Question 6: What topics are grads continuing to reference after graduation and into their jobs (for each program)?"
   ]
  },
  {
   "cell_type": "markdown",
   "id": "6f9824d0",
   "metadata": {},
   "source": [
    "**Key Conclusion:** \n",
    "For the Web Development program Java lessons account for 21.5%, Javascript lessons account for 20.6%, and Spring lessons account for 13.3% of all content accessed by WebDev grads after graduation. Of note, the top four most accessed lessons were all covering Spring.\n",
    "\n",
    "For the Data Science program SQL lessons account for 16.2%, Fundamentals lessons account for 15.8%, and Classification lessons account for 13.7% of all content accessed by DS grads after graduation."
   ]
  },
  {
   "cell_type": "code",
   "execution_count": null,
   "id": "8279f96b",
   "metadata": {},
   "outputs": [],
   "source": [
    "df = wrangle.wrangle_logs()"
   ]
  },
  {
   "cell_type": "code",
   "execution_count": null,
   "id": "105ba5c9",
   "metadata": {},
   "outputs": [],
   "source": [
    "# Dropping staff from the dataframe so as to only evaluate students\n",
    "cleaned = df[df.name != 'Staff']\n",
    "\n",
    "# Since the '/' and the 'search/search_index.json' paths are not actual topic locations, I will drop these two paths.\n",
    "cleaned = cleaned[(cleaned.path != '/') & (cleaned.path != 'search/search_index.json')]\n",
    "\n",
    "# Removing any access logs that occurred prior the the cohort finishing at Codeup as the question asks about post \n",
    "# graduation access.\n",
    "cleaned = cleaned[cleaned.date > cleaned.end_date]"
   ]
  },
  {
   "cell_type": "markdown",
   "id": "93cd7507",
   "metadata": {},
   "source": [
    "When comparing program ids to cohort names, according to the https://alumni.codeup.com/ website the id columns corresponds as follows:\n",
    "- Program ids 1, 2, 4 are all WebDev cohorts\n",
    "- Program 3 is a Data Scientist cohort"
   ]
  },
  {
   "cell_type": "code",
   "execution_count": null,
   "id": "d798ee9b",
   "metadata": {},
   "outputs": [],
   "source": [
    "# Splitting the dataframe into Data Science and Web Development students\n",
    "ds = cleaned[cleaned.program_id == 3]\n",
    "webdev = cleaned[cleaned.program_id != 3]"
   ]
  },
  {
   "cell_type": "markdown",
   "id": "ab695b73",
   "metadata": {},
   "source": [
    "#### Now examining just the Web Development graduates' access logs."
   ]
  },
  {
   "cell_type": "code",
   "execution_count": null,
   "id": "cdcbe038",
   "metadata": {
    "scrolled": false
   },
   "outputs": [],
   "source": [
    "utilities.webdev_visuals(wd_after_grad)"
   ]
  },
  {
   "cell_type": "markdown",
   "id": "9931e1ce",
   "metadata": {},
   "source": [
    "##### Interesting note: the top four most accessed lessons for Web Development were all covering Spring."
   ]
  },
  {
   "cell_type": "code",
   "execution_count": null,
   "id": "88000428",
   "metadata": {},
   "outputs": [],
   "source": [
    "utilities.webdev_subtopics()"
   ]
  },
  {
   "cell_type": "markdown",
   "id": "5707290f",
   "metadata": {},
   "source": [
    "#### Now examining just the Data Science graduates' access logs."
   ]
  },
  {
   "cell_type": "code",
   "execution_count": null,
   "id": "56b94a59",
   "metadata": {},
   "outputs": [],
   "source": [
    "utilities.ds_visuals(ds_after_grad)"
   ]
  }
 ],
 "metadata": {
  "kernelspec": {
   "display_name": "Python 3 (ipykernel)",
   "language": "python",
   "name": "python3"
  },
  "language_info": {
   "codemirror_mode": {
    "name": "ipython",
    "version": 3
   },
   "file_extension": ".py",
   "mimetype": "text/x-python",
   "name": "python",
   "nbconvert_exporter": "python",
   "pygments_lexer": "ipython3",
   "version": "3.9.7"
  }
 },
 "nbformat": 4,
 "nbformat_minor": 5
}
