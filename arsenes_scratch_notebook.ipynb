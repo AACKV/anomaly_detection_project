{
 "cells": [
  {
   "cell_type": "markdown",
   "id": "0cdeebd6",
   "metadata": {},
   "source": [
    "# Anomaly detection project"
   ]
  },
  {
   "cell_type": "code",
   "execution_count": 160,
   "id": "be16f079",
   "metadata": {},
   "outputs": [],
   "source": [
    "# Ignoring warning messages from python\n",
    "import warnings\n",
    "warnings.filterwarnings('ignore')\n",
    "\n",
    "# General use imports\n",
    "import pandas as pd\n",
    "import numpy as np\n",
    "\n",
    "\n",
    "# Visualization imports\n",
    "import matplotlib.pyplot as plt\n",
    "import seaborn as sns\n",
    "import plotly.express as px"
   ]
  },
  {
   "cell_type": "markdown",
   "id": "f13e89d0",
   "metadata": {},
   "source": [
    "# Question 2:\n",
    "   >### Is there a cohort that referred to a lesson significantly more than other cohorts seemed to gloss over?"
   ]
  },
  {
   "cell_type": "markdown",
   "id": "e849a2c7",
   "metadata": {},
   "source": [
    "## *I. Checking out cohorts*"
   ]
  },
  {
   "cell_type": "code",
   "execution_count": 2,
   "id": "059538f0",
   "metadata": {
    "scrolled": true
   },
   "outputs": [
    {
     "data": {
      "text/html": [
       "<div>\n",
       "<style scoped>\n",
       "    .dataframe tbody tr th:only-of-type {\n",
       "        vertical-align: middle;\n",
       "    }\n",
       "\n",
       "    .dataframe tbody tr th {\n",
       "        vertical-align: top;\n",
       "    }\n",
       "\n",
       "    .dataframe thead th {\n",
       "        text-align: right;\n",
       "    }\n",
       "</style>\n",
       "<table border=\"1\" class=\"dataframe\">\n",
       "  <thead>\n",
       "    <tr style=\"text-align: right;\">\n",
       "      <th></th>\n",
       "      <th>Unnamed: 0</th>\n",
       "      <th>id</th>\n",
       "      <th>name</th>\n",
       "      <th>slack</th>\n",
       "      <th>start_date</th>\n",
       "      <th>end_date</th>\n",
       "      <th>created_at</th>\n",
       "      <th>updated_at</th>\n",
       "      <th>deleted_at</th>\n",
       "      <th>program_id</th>\n",
       "    </tr>\n",
       "  </thead>\n",
       "  <tbody>\n",
       "    <tr>\n",
       "      <th>0</th>\n",
       "      <td>0</td>\n",
       "      <td>1</td>\n",
       "      <td>Arches</td>\n",
       "      <td>#arches</td>\n",
       "      <td>2014-02-04</td>\n",
       "      <td>2014-04-22</td>\n",
       "      <td>2016-06-14 19:52:26</td>\n",
       "      <td>2016-06-14 19:52:26</td>\n",
       "      <td>NaN</td>\n",
       "      <td>1</td>\n",
       "    </tr>\n",
       "    <tr>\n",
       "      <th>1</th>\n",
       "      <td>1</td>\n",
       "      <td>2</td>\n",
       "      <td>Badlands</td>\n",
       "      <td>#badlands</td>\n",
       "      <td>2014-06-04</td>\n",
       "      <td>2014-08-22</td>\n",
       "      <td>2016-06-14 19:52:26</td>\n",
       "      <td>2016-06-14 19:52:26</td>\n",
       "      <td>NaN</td>\n",
       "      <td>1</td>\n",
       "    </tr>\n",
       "    <tr>\n",
       "      <th>2</th>\n",
       "      <td>2</td>\n",
       "      <td>3</td>\n",
       "      <td>Carlsbad</td>\n",
       "      <td>#carlsbad</td>\n",
       "      <td>2014-09-04</td>\n",
       "      <td>2014-11-05</td>\n",
       "      <td>2016-06-14 19:52:26</td>\n",
       "      <td>2016-06-14 19:52:26</td>\n",
       "      <td>NaN</td>\n",
       "      <td>1</td>\n",
       "    </tr>\n",
       "    <tr>\n",
       "      <th>3</th>\n",
       "      <td>3</td>\n",
       "      <td>4</td>\n",
       "      <td>Denali</td>\n",
       "      <td>#denali</td>\n",
       "      <td>2014-10-20</td>\n",
       "      <td>2015-01-18</td>\n",
       "      <td>2016-06-14 19:52:26</td>\n",
       "      <td>2016-06-14 19:52:26</td>\n",
       "      <td>NaN</td>\n",
       "      <td>1</td>\n",
       "    </tr>\n",
       "    <tr>\n",
       "      <th>4</th>\n",
       "      <td>4</td>\n",
       "      <td>5</td>\n",
       "      <td>Everglades</td>\n",
       "      <td>#everglades</td>\n",
       "      <td>2014-11-18</td>\n",
       "      <td>2015-02-24</td>\n",
       "      <td>2016-06-14 19:52:26</td>\n",
       "      <td>2016-06-14 19:52:26</td>\n",
       "      <td>NaN</td>\n",
       "      <td>1</td>\n",
       "    </tr>\n",
       "  </tbody>\n",
       "</table>\n",
       "</div>"
      ],
      "text/plain": [
       "   Unnamed: 0  id        name        slack  start_date    end_date  \\\n",
       "0           0   1      Arches      #arches  2014-02-04  2014-04-22   \n",
       "1           1   2    Badlands    #badlands  2014-06-04  2014-08-22   \n",
       "2           2   3    Carlsbad    #carlsbad  2014-09-04  2014-11-05   \n",
       "3           3   4      Denali      #denali  2014-10-20  2015-01-18   \n",
       "4           4   5  Everglades  #everglades  2014-11-18  2015-02-24   \n",
       "\n",
       "            created_at           updated_at  deleted_at  program_id  \n",
       "0  2016-06-14 19:52:26  2016-06-14 19:52:26         NaN           1  \n",
       "1  2016-06-14 19:52:26  2016-06-14 19:52:26         NaN           1  \n",
       "2  2016-06-14 19:52:26  2016-06-14 19:52:26         NaN           1  \n",
       "3  2016-06-14 19:52:26  2016-06-14 19:52:26         NaN           1  \n",
       "4  2016-06-14 19:52:26  2016-06-14 19:52:26         NaN           1  "
      ]
     },
     "execution_count": 2,
     "metadata": {},
     "output_type": "execute_result"
    }
   ],
   "source": [
    "# Getting the data\n",
    "\n",
    "cohorts = pd.read_csv('cohorts_data.csv')\n",
    "cohorts.head()"
   ]
  },
  {
   "cell_type": "code",
   "execution_count": 3,
   "id": "ddfb3202",
   "metadata": {},
   "outputs": [
    {
     "name": "stdout",
     "output_type": "stream",
     "text": [
      "<class 'pandas.core.frame.DataFrame'>\n",
      "RangeIndex: 53 entries, 0 to 52\n",
      "Data columns (total 10 columns):\n",
      " #   Column      Non-Null Count  Dtype  \n",
      "---  ------      --------------  -----  \n",
      " 0   Unnamed: 0  53 non-null     int64  \n",
      " 1   id          53 non-null     int64  \n",
      " 2   name        53 non-null     object \n",
      " 3   slack       53 non-null     object \n",
      " 4   start_date  53 non-null     object \n",
      " 5   end_date    53 non-null     object \n",
      " 6   created_at  53 non-null     object \n",
      " 7   updated_at  53 non-null     object \n",
      " 8   deleted_at  0 non-null      float64\n",
      " 9   program_id  53 non-null     int64  \n",
      "dtypes: float64(1), int64(3), object(6)\n",
      "memory usage: 4.3+ KB\n"
     ]
    }
   ],
   "source": [
    "# Getting to know the data\n",
    "\n",
    "cohorts.info()"
   ]
  },
  {
   "cell_type": "code",
   "execution_count": 4,
   "id": "8c03f699",
   "metadata": {},
   "outputs": [
    {
     "data": {
      "text/plain": [
       "4"
      ]
     },
     "execution_count": 4,
     "metadata": {},
     "output_type": "execute_result"
    }
   ],
   "source": [
    "# What are the unique categories in some of the columns\n",
    "# For program_id\n",
    "\n",
    "cohorts.program_id.nunique()"
   ]
  },
  {
   "cell_type": "code",
   "execution_count": 10,
   "id": "7df702d7",
   "metadata": {},
   "outputs": [
    {
     "data": {
      "text/plain": [
       "array([1, 4, 2, 3])"
      ]
     },
     "execution_count": 10,
     "metadata": {},
     "output_type": "execute_result"
    }
   ],
   "source": [
    "cohorts.program_id.unique()"
   ]
  },
  {
   "cell_type": "code",
   "execution_count": 5,
   "id": "3df92200",
   "metadata": {},
   "outputs": [
    {
     "data": {
      "text/plain": [
       "53"
      ]
     },
     "execution_count": 5,
     "metadata": {},
     "output_type": "execute_result"
    }
   ],
   "source": [
    "# For id\n",
    "\n",
    "cohorts.id.nunique()"
   ]
  },
  {
   "cell_type": "code",
   "execution_count": 6,
   "id": "25fa1e6c",
   "metadata": {},
   "outputs": [
    {
     "data": {
      "text/plain": [
       "array([  1,   2,   3,   4,   5,   6,   7,   8,   9,  10,  11,  12,  13,\n",
       "        14,  15,  16,  17,  18,  19,  20,  21,  22,  23,  24,  25,  26,\n",
       "        27,  28,  29,  30,  31,  32,  33,  34,  51,  52,  53,  55,  56,\n",
       "        57,  58,  59,  60,  61,  62, 132, 133, 134, 135, 136, 137, 138,\n",
       "       139])"
      ]
     },
     "execution_count": 6,
     "metadata": {},
     "output_type": "execute_result"
    }
   ],
   "source": [
    "cohorts.id.unique()"
   ]
  },
  {
   "cell_type": "code",
   "execution_count": 7,
   "id": "ff48545c",
   "metadata": {},
   "outputs": [
    {
     "data": {
      "text/plain": [
       "53"
      ]
     },
     "execution_count": 7,
     "metadata": {},
     "output_type": "execute_result"
    }
   ],
   "source": [
    "# For name\n",
    "\n",
    "cohorts.name.nunique()"
   ]
  },
  {
   "cell_type": "code",
   "execution_count": 8,
   "id": "55434299",
   "metadata": {},
   "outputs": [
    {
     "data": {
      "text/plain": [
       "array(['Arches', 'Badlands', 'Carlsbad', 'Denali', 'Everglades',\n",
       "       'Franklin', 'Glacier', 'Hampton', 'Apollo', 'Balboa', 'Ike',\n",
       "       'Joshua', 'Kings', 'Lassen', 'Mammoth', 'Niagara', 'Olympic',\n",
       "       'Pinnacles', 'Quincy', 'Redwood', 'Sequoia', 'Teddy', 'Ulysses',\n",
       "       'Voyageurs', 'Wrangell', 'Xanadu', 'Yosemite', 'Staff', 'Zion',\n",
       "       'Ada', 'Andromeda', 'Betelgeuse', 'Ceres', 'Bayes', 'Deimos',\n",
       "       'Europa', 'Fortuna', 'Curie', 'Apex', 'Ganymede', 'Hyperion',\n",
       "       'Darden', 'Io', 'Bash', 'Jupiter', 'Kalypso', 'Easley', 'Luna',\n",
       "       'Marco', 'Placeholder for students in transition', 'Florence',\n",
       "       'Neptune', 'Oberon'], dtype=object)"
      ]
     },
     "execution_count": 8,
     "metadata": {},
     "output_type": "execute_result"
    }
   ],
   "source": [
    "cohorts.name.unique()"
   ]
  },
  {
   "cell_type": "markdown",
   "id": "d75f9f9d",
   "metadata": {},
   "source": [
    "***"
   ]
  },
  {
   "cell_type": "markdown",
   "id": "ae1cd73b",
   "metadata": {},
   "source": [
    "## *II. Checking out logs*"
   ]
  },
  {
   "cell_type": "code",
   "execution_count": 11,
   "id": "702b388f",
   "metadata": {},
   "outputs": [
    {
     "data": {
      "text/html": [
       "<div>\n",
       "<style scoped>\n",
       "    .dataframe tbody tr th:only-of-type {\n",
       "        vertical-align: middle;\n",
       "    }\n",
       "\n",
       "    .dataframe tbody tr th {\n",
       "        vertical-align: top;\n",
       "    }\n",
       "\n",
       "    .dataframe thead th {\n",
       "        text-align: right;\n",
       "    }\n",
       "</style>\n",
       "<table border=\"1\" class=\"dataframe\">\n",
       "  <thead>\n",
       "    <tr style=\"text-align: right;\">\n",
       "      <th></th>\n",
       "      <th>Unnamed: 0</th>\n",
       "      <th>date</th>\n",
       "      <th>time</th>\n",
       "      <th>path</th>\n",
       "      <th>user_id</th>\n",
       "      <th>cohort_id</th>\n",
       "      <th>ip</th>\n",
       "    </tr>\n",
       "  </thead>\n",
       "  <tbody>\n",
       "    <tr>\n",
       "      <th>0</th>\n",
       "      <td>0</td>\n",
       "      <td>2018-01-26</td>\n",
       "      <td>09:55:03</td>\n",
       "      <td>/</td>\n",
       "      <td>1</td>\n",
       "      <td>8.0</td>\n",
       "      <td>97.105.19.61</td>\n",
       "    </tr>\n",
       "    <tr>\n",
       "      <th>1</th>\n",
       "      <td>1</td>\n",
       "      <td>2018-01-26</td>\n",
       "      <td>09:56:02</td>\n",
       "      <td>java-ii</td>\n",
       "      <td>1</td>\n",
       "      <td>8.0</td>\n",
       "      <td>97.105.19.61</td>\n",
       "    </tr>\n",
       "    <tr>\n",
       "      <th>2</th>\n",
       "      <td>2</td>\n",
       "      <td>2018-01-26</td>\n",
       "      <td>09:56:05</td>\n",
       "      <td>java-ii/object-oriented-programming</td>\n",
       "      <td>1</td>\n",
       "      <td>8.0</td>\n",
       "      <td>97.105.19.61</td>\n",
       "    </tr>\n",
       "    <tr>\n",
       "      <th>3</th>\n",
       "      <td>3</td>\n",
       "      <td>2018-01-26</td>\n",
       "      <td>09:56:06</td>\n",
       "      <td>slides/object_oriented_programming</td>\n",
       "      <td>1</td>\n",
       "      <td>8.0</td>\n",
       "      <td>97.105.19.61</td>\n",
       "    </tr>\n",
       "    <tr>\n",
       "      <th>4</th>\n",
       "      <td>4</td>\n",
       "      <td>2018-01-26</td>\n",
       "      <td>09:56:24</td>\n",
       "      <td>javascript-i/conditionals</td>\n",
       "      <td>2</td>\n",
       "      <td>22.0</td>\n",
       "      <td>97.105.19.61</td>\n",
       "    </tr>\n",
       "  </tbody>\n",
       "</table>\n",
       "</div>"
      ],
      "text/plain": [
       "   Unnamed: 0        date      time                                 path  \\\n",
       "0           0  2018-01-26  09:55:03                                    /   \n",
       "1           1  2018-01-26  09:56:02                              java-ii   \n",
       "2           2  2018-01-26  09:56:05  java-ii/object-oriented-programming   \n",
       "3           3  2018-01-26  09:56:06   slides/object_oriented_programming   \n",
       "4           4  2018-01-26  09:56:24            javascript-i/conditionals   \n",
       "\n",
       "   user_id  cohort_id            ip  \n",
       "0        1        8.0  97.105.19.61  \n",
       "1        1        8.0  97.105.19.61  \n",
       "2        1        8.0  97.105.19.61  \n",
       "3        1        8.0  97.105.19.61  \n",
       "4        2       22.0  97.105.19.61  "
      ]
     },
     "execution_count": 11,
     "metadata": {},
     "output_type": "execute_result"
    }
   ],
   "source": [
    "# Getting the 2nd set of data\n",
    "\n",
    "logs = pd.read_csv('logs_data.csv')\n",
    "logs.head()"
   ]
  },
  {
   "cell_type": "code",
   "execution_count": 12,
   "id": "103ce3a9",
   "metadata": {},
   "outputs": [
    {
     "name": "stdout",
     "output_type": "stream",
     "text": [
      "<class 'pandas.core.frame.DataFrame'>\n",
      "RangeIndex: 900223 entries, 0 to 900222\n",
      "Data columns (total 7 columns):\n",
      " #   Column      Non-Null Count   Dtype  \n",
      "---  ------      --------------   -----  \n",
      " 0   Unnamed: 0  900223 non-null  int64  \n",
      " 1   date        900223 non-null  object \n",
      " 2   time        900223 non-null  object \n",
      " 3   path        900222 non-null  object \n",
      " 4   user_id     900223 non-null  int64  \n",
      " 5   cohort_id   847330 non-null  float64\n",
      " 6   ip          900223 non-null  object \n",
      "dtypes: float64(1), int64(2), object(4)\n",
      "memory usage: 48.1+ MB\n"
     ]
    }
   ],
   "source": [
    "# Getting to know the data\n",
    "\n",
    "logs.info()"
   ]
  },
  {
   "cell_type": "code",
   "execution_count": 13,
   "id": "84bbf69f",
   "metadata": {},
   "outputs": [
    {
     "data": {
      "text/plain": [
       "47"
      ]
     },
     "execution_count": 13,
     "metadata": {},
     "output_type": "execute_result"
    }
   ],
   "source": [
    "# What are the unique categories in some of the columns\n",
    "# For cohort_id\n",
    "\n",
    "logs.cohort_id.nunique()"
   ]
  },
  {
   "cell_type": "code",
   "execution_count": 14,
   "id": "956bd2d4",
   "metadata": {},
   "outputs": [
    {
     "data": {
      "text/plain": [
       "array([  8.,  22.,  21.,   1.,  16.,  18.,  19.,  nan,  13.,  14.,  15.,\n",
       "         7.,   4.,  12.,  17.,  23.,   2.,   9.,  11.,  24.,  25.,  26.,\n",
       "         6.,  27.,  28.,  29.,  31.,  32.,  33.,  34.,  51.,  52.,  53.,\n",
       "        55.,  56.,  57.,   5.,  58.,  59.,  61.,  62., 132., 134., 133.,\n",
       "       135., 138., 137., 139.])"
      ]
     },
     "execution_count": 14,
     "metadata": {},
     "output_type": "execute_result"
    }
   ],
   "source": [
    "logs.cohort_id.unique()"
   ]
  },
  {
   "cell_type": "code",
   "execution_count": 15,
   "id": "860322da",
   "metadata": {},
   "outputs": [
    {
     "data": {
      "text/plain": [
       "981"
      ]
     },
     "execution_count": 15,
     "metadata": {},
     "output_type": "execute_result"
    }
   ],
   "source": [
    "# For user_id\n",
    "\n",
    "logs.user_id.nunique()"
   ]
  },
  {
   "cell_type": "code",
   "execution_count": 16,
   "id": "7308d934",
   "metadata": {},
   "outputs": [
    {
     "data": {
      "text/plain": [
       "2313"
      ]
     },
     "execution_count": 16,
     "metadata": {},
     "output_type": "execute_result"
    }
   ],
   "source": [
    "# For path\n",
    "\n",
    "logs.path.nunique()"
   ]
  },
  {
   "cell_type": "code",
   "execution_count": 17,
   "id": "89e5892f",
   "metadata": {},
   "outputs": [
    {
     "data": {
      "text/plain": [
       "5531"
      ]
     },
     "execution_count": 17,
     "metadata": {},
     "output_type": "execute_result"
    }
   ],
   "source": [
    "# For ip\n",
    "\n",
    "logs.ip.nunique()"
   ]
  },
  {
   "cell_type": "markdown",
   "id": "d10a6682",
   "metadata": {},
   "source": [
    ">### Takeaways\n",
    "    \n",
    "        * Cohorts:\n",
    "            - There is the same number of cohort names and IDs (53), this means that all entries are unique because there are only 53 entries.\n",
    "            - Unnamed, slack, created_at, updated_at, deleted_at, program_id will not be useful in identifying the lesson that was referred to the most\n",
    "        * Logs\n",
    "            - Unnamed will not be useful in identifying the lesson that was referred to the most"
   ]
  },
  {
   "cell_type": "markdown",
   "id": "a25b6b5f",
   "metadata": {},
   "source": [
    "***"
   ]
  },
  {
   "cell_type": "markdown",
   "id": "a0a965e3",
   "metadata": {},
   "source": [
    "### *III. Creating a combined dataframe*"
   ]
  },
  {
   "cell_type": "code",
   "execution_count": 20,
   "id": "22c60fdd",
   "metadata": {},
   "outputs": [
    {
     "data": {
      "text/html": [
       "<div>\n",
       "<style scoped>\n",
       "    .dataframe tbody tr th:only-of-type {\n",
       "        vertical-align: middle;\n",
       "    }\n",
       "\n",
       "    .dataframe tbody tr th {\n",
       "        vertical-align: top;\n",
       "    }\n",
       "\n",
       "    .dataframe thead th {\n",
       "        text-align: right;\n",
       "    }\n",
       "</style>\n",
       "<table border=\"1\" class=\"dataframe\">\n",
       "  <thead>\n",
       "    <tr style=\"text-align: right;\">\n",
       "      <th></th>\n",
       "      <th>Unnamed: 0</th>\n",
       "      <th>id</th>\n",
       "      <th>name</th>\n",
       "      <th>slack</th>\n",
       "      <th>start_date</th>\n",
       "      <th>end_date</th>\n",
       "      <th>created_at</th>\n",
       "      <th>updated_at</th>\n",
       "      <th>deleted_at</th>\n",
       "      <th>program_id</th>\n",
       "    </tr>\n",
       "  </thead>\n",
       "  <tbody>\n",
       "    <tr>\n",
       "      <th>0</th>\n",
       "      <td>0</td>\n",
       "      <td>1</td>\n",
       "      <td>Arches</td>\n",
       "      <td>#arches</td>\n",
       "      <td>2014-02-04</td>\n",
       "      <td>2014-04-22</td>\n",
       "      <td>2016-06-14 19:52:26</td>\n",
       "      <td>2016-06-14 19:52:26</td>\n",
       "      <td>NaN</td>\n",
       "      <td>1</td>\n",
       "    </tr>\n",
       "    <tr>\n",
       "      <th>1</th>\n",
       "      <td>1</td>\n",
       "      <td>2</td>\n",
       "      <td>Badlands</td>\n",
       "      <td>#badlands</td>\n",
       "      <td>2014-06-04</td>\n",
       "      <td>2014-08-22</td>\n",
       "      <td>2016-06-14 19:52:26</td>\n",
       "      <td>2016-06-14 19:52:26</td>\n",
       "      <td>NaN</td>\n",
       "      <td>1</td>\n",
       "    </tr>\n",
       "    <tr>\n",
       "      <th>2</th>\n",
       "      <td>2</td>\n",
       "      <td>3</td>\n",
       "      <td>Carlsbad</td>\n",
       "      <td>#carlsbad</td>\n",
       "      <td>2014-09-04</td>\n",
       "      <td>2014-11-05</td>\n",
       "      <td>2016-06-14 19:52:26</td>\n",
       "      <td>2016-06-14 19:52:26</td>\n",
       "      <td>NaN</td>\n",
       "      <td>1</td>\n",
       "    </tr>\n",
       "    <tr>\n",
       "      <th>3</th>\n",
       "      <td>3</td>\n",
       "      <td>4</td>\n",
       "      <td>Denali</td>\n",
       "      <td>#denali</td>\n",
       "      <td>2014-10-20</td>\n",
       "      <td>2015-01-18</td>\n",
       "      <td>2016-06-14 19:52:26</td>\n",
       "      <td>2016-06-14 19:52:26</td>\n",
       "      <td>NaN</td>\n",
       "      <td>1</td>\n",
       "    </tr>\n",
       "    <tr>\n",
       "      <th>4</th>\n",
       "      <td>4</td>\n",
       "      <td>5</td>\n",
       "      <td>Everglades</td>\n",
       "      <td>#everglades</td>\n",
       "      <td>2014-11-18</td>\n",
       "      <td>2015-02-24</td>\n",
       "      <td>2016-06-14 19:52:26</td>\n",
       "      <td>2016-06-14 19:52:26</td>\n",
       "      <td>NaN</td>\n",
       "      <td>1</td>\n",
       "    </tr>\n",
       "  </tbody>\n",
       "</table>\n",
       "</div>"
      ],
      "text/plain": [
       "   Unnamed: 0  id        name        slack  start_date    end_date  \\\n",
       "0           0   1      Arches      #arches  2014-02-04  2014-04-22   \n",
       "1           1   2    Badlands    #badlands  2014-06-04  2014-08-22   \n",
       "2           2   3    Carlsbad    #carlsbad  2014-09-04  2014-11-05   \n",
       "3           3   4      Denali      #denali  2014-10-20  2015-01-18   \n",
       "4           4   5  Everglades  #everglades  2014-11-18  2015-02-24   \n",
       "\n",
       "            created_at           updated_at  deleted_at  program_id  \n",
       "0  2016-06-14 19:52:26  2016-06-14 19:52:26         NaN           1  \n",
       "1  2016-06-14 19:52:26  2016-06-14 19:52:26         NaN           1  \n",
       "2  2016-06-14 19:52:26  2016-06-14 19:52:26         NaN           1  \n",
       "3  2016-06-14 19:52:26  2016-06-14 19:52:26         NaN           1  \n",
       "4  2016-06-14 19:52:26  2016-06-14 19:52:26         NaN           1  "
      ]
     },
     "execution_count": 20,
     "metadata": {},
     "output_type": "execute_result"
    }
   ],
   "source": [
    "cohorts.head()"
   ]
  },
  {
   "cell_type": "code",
   "execution_count": 21,
   "id": "3f83dfd3",
   "metadata": {},
   "outputs": [
    {
     "data": {
      "text/html": [
       "<div>\n",
       "<style scoped>\n",
       "    .dataframe tbody tr th:only-of-type {\n",
       "        vertical-align: middle;\n",
       "    }\n",
       "\n",
       "    .dataframe tbody tr th {\n",
       "        vertical-align: top;\n",
       "    }\n",
       "\n",
       "    .dataframe thead th {\n",
       "        text-align: right;\n",
       "    }\n",
       "</style>\n",
       "<table border=\"1\" class=\"dataframe\">\n",
       "  <thead>\n",
       "    <tr style=\"text-align: right;\">\n",
       "      <th></th>\n",
       "      <th>id</th>\n",
       "      <th>name</th>\n",
       "      <th>start_date</th>\n",
       "      <th>end_date</th>\n",
       "    </tr>\n",
       "  </thead>\n",
       "  <tbody>\n",
       "    <tr>\n",
       "      <th>0</th>\n",
       "      <td>1</td>\n",
       "      <td>Arches</td>\n",
       "      <td>2014-02-04</td>\n",
       "      <td>2014-04-22</td>\n",
       "    </tr>\n",
       "    <tr>\n",
       "      <th>1</th>\n",
       "      <td>2</td>\n",
       "      <td>Badlands</td>\n",
       "      <td>2014-06-04</td>\n",
       "      <td>2014-08-22</td>\n",
       "    </tr>\n",
       "    <tr>\n",
       "      <th>2</th>\n",
       "      <td>3</td>\n",
       "      <td>Carlsbad</td>\n",
       "      <td>2014-09-04</td>\n",
       "      <td>2014-11-05</td>\n",
       "    </tr>\n",
       "    <tr>\n",
       "      <th>3</th>\n",
       "      <td>4</td>\n",
       "      <td>Denali</td>\n",
       "      <td>2014-10-20</td>\n",
       "      <td>2015-01-18</td>\n",
       "    </tr>\n",
       "    <tr>\n",
       "      <th>4</th>\n",
       "      <td>5</td>\n",
       "      <td>Everglades</td>\n",
       "      <td>2014-11-18</td>\n",
       "      <td>2015-02-24</td>\n",
       "    </tr>\n",
       "  </tbody>\n",
       "</table>\n",
       "</div>"
      ],
      "text/plain": [
       "   id        name  start_date    end_date\n",
       "0   1      Arches  2014-02-04  2014-04-22\n",
       "1   2    Badlands  2014-06-04  2014-08-22\n",
       "2   3    Carlsbad  2014-09-04  2014-11-05\n",
       "3   4      Denali  2014-10-20  2015-01-18\n",
       "4   5  Everglades  2014-11-18  2015-02-24"
      ]
     },
     "execution_count": 21,
     "metadata": {},
     "output_type": "execute_result"
    }
   ],
   "source": [
    "# Dropping unnecessary columns and displaying the names of df\n",
    "\n",
    "cohorts = cohorts.drop(columns = ['Unnamed: 0', 'slack', 'created_at', 'updated_at', 'deleted_at', 'program_id'])\n",
    "cohorts.head()"
   ]
  },
  {
   "cell_type": "code",
   "execution_count": 22,
   "id": "b406ba59",
   "metadata": {},
   "outputs": [
    {
     "data": {
      "text/html": [
       "<div>\n",
       "<style scoped>\n",
       "    .dataframe tbody tr th:only-of-type {\n",
       "        vertical-align: middle;\n",
       "    }\n",
       "\n",
       "    .dataframe tbody tr th {\n",
       "        vertical-align: top;\n",
       "    }\n",
       "\n",
       "    .dataframe thead th {\n",
       "        text-align: right;\n",
       "    }\n",
       "</style>\n",
       "<table border=\"1\" class=\"dataframe\">\n",
       "  <thead>\n",
       "    <tr style=\"text-align: right;\">\n",
       "      <th></th>\n",
       "      <th>Unnamed: 0</th>\n",
       "      <th>date</th>\n",
       "      <th>time</th>\n",
       "      <th>path</th>\n",
       "      <th>user_id</th>\n",
       "      <th>cohort_id</th>\n",
       "      <th>ip</th>\n",
       "    </tr>\n",
       "  </thead>\n",
       "  <tbody>\n",
       "    <tr>\n",
       "      <th>0</th>\n",
       "      <td>0</td>\n",
       "      <td>2018-01-26</td>\n",
       "      <td>09:55:03</td>\n",
       "      <td>/</td>\n",
       "      <td>1</td>\n",
       "      <td>8.0</td>\n",
       "      <td>97.105.19.61</td>\n",
       "    </tr>\n",
       "    <tr>\n",
       "      <th>1</th>\n",
       "      <td>1</td>\n",
       "      <td>2018-01-26</td>\n",
       "      <td>09:56:02</td>\n",
       "      <td>java-ii</td>\n",
       "      <td>1</td>\n",
       "      <td>8.0</td>\n",
       "      <td>97.105.19.61</td>\n",
       "    </tr>\n",
       "    <tr>\n",
       "      <th>2</th>\n",
       "      <td>2</td>\n",
       "      <td>2018-01-26</td>\n",
       "      <td>09:56:05</td>\n",
       "      <td>java-ii/object-oriented-programming</td>\n",
       "      <td>1</td>\n",
       "      <td>8.0</td>\n",
       "      <td>97.105.19.61</td>\n",
       "    </tr>\n",
       "    <tr>\n",
       "      <th>3</th>\n",
       "      <td>3</td>\n",
       "      <td>2018-01-26</td>\n",
       "      <td>09:56:06</td>\n",
       "      <td>slides/object_oriented_programming</td>\n",
       "      <td>1</td>\n",
       "      <td>8.0</td>\n",
       "      <td>97.105.19.61</td>\n",
       "    </tr>\n",
       "    <tr>\n",
       "      <th>4</th>\n",
       "      <td>4</td>\n",
       "      <td>2018-01-26</td>\n",
       "      <td>09:56:24</td>\n",
       "      <td>javascript-i/conditionals</td>\n",
       "      <td>2</td>\n",
       "      <td>22.0</td>\n",
       "      <td>97.105.19.61</td>\n",
       "    </tr>\n",
       "  </tbody>\n",
       "</table>\n",
       "</div>"
      ],
      "text/plain": [
       "   Unnamed: 0        date      time                                 path  \\\n",
       "0           0  2018-01-26  09:55:03                                    /   \n",
       "1           1  2018-01-26  09:56:02                              java-ii   \n",
       "2           2  2018-01-26  09:56:05  java-ii/object-oriented-programming   \n",
       "3           3  2018-01-26  09:56:06   slides/object_oriented_programming   \n",
       "4           4  2018-01-26  09:56:24            javascript-i/conditionals   \n",
       "\n",
       "   user_id  cohort_id            ip  \n",
       "0        1        8.0  97.105.19.61  \n",
       "1        1        8.0  97.105.19.61  \n",
       "2        1        8.0  97.105.19.61  \n",
       "3        1        8.0  97.105.19.61  \n",
       "4        2       22.0  97.105.19.61  "
      ]
     },
     "execution_count": 22,
     "metadata": {},
     "output_type": "execute_result"
    }
   ],
   "source": [
    "logs.head()"
   ]
  },
  {
   "cell_type": "code",
   "execution_count": 35,
   "id": "c29d6ff0",
   "metadata": {},
   "outputs": [
    {
     "data": {
      "text/html": [
       "<div>\n",
       "<style scoped>\n",
       "    .dataframe tbody tr th:only-of-type {\n",
       "        vertical-align: middle;\n",
       "    }\n",
       "\n",
       "    .dataframe tbody tr th {\n",
       "        vertical-align: top;\n",
       "    }\n",
       "\n",
       "    .dataframe thead th {\n",
       "        text-align: right;\n",
       "    }\n",
       "</style>\n",
       "<table border=\"1\" class=\"dataframe\">\n",
       "  <thead>\n",
       "    <tr style=\"text-align: right;\">\n",
       "      <th></th>\n",
       "      <th>Unnamed: 0</th>\n",
       "      <th>date</th>\n",
       "      <th>time</th>\n",
       "      <th>path</th>\n",
       "      <th>user_id</th>\n",
       "      <th>cohort_id</th>\n",
       "      <th>ip</th>\n",
       "      <th>id</th>\n",
       "      <th>name</th>\n",
       "      <th>start_date</th>\n",
       "      <th>end_date</th>\n",
       "    </tr>\n",
       "  </thead>\n",
       "  <tbody>\n",
       "    <tr>\n",
       "      <th>0</th>\n",
       "      <td>0.0</td>\n",
       "      <td>2018-01-26</td>\n",
       "      <td>09:55:03</td>\n",
       "      <td>/</td>\n",
       "      <td>1.0</td>\n",
       "      <td>8.0</td>\n",
       "      <td>97.105.19.61</td>\n",
       "      <td>8.0</td>\n",
       "      <td>Hampton</td>\n",
       "      <td>2015-09-22</td>\n",
       "      <td>2016-02-06</td>\n",
       "    </tr>\n",
       "    <tr>\n",
       "      <th>1</th>\n",
       "      <td>1.0</td>\n",
       "      <td>2018-01-26</td>\n",
       "      <td>09:56:02</td>\n",
       "      <td>java-ii</td>\n",
       "      <td>1.0</td>\n",
       "      <td>8.0</td>\n",
       "      <td>97.105.19.61</td>\n",
       "      <td>8.0</td>\n",
       "      <td>Hampton</td>\n",
       "      <td>2015-09-22</td>\n",
       "      <td>2016-02-06</td>\n",
       "    </tr>\n",
       "    <tr>\n",
       "      <th>2</th>\n",
       "      <td>2.0</td>\n",
       "      <td>2018-01-26</td>\n",
       "      <td>09:56:05</td>\n",
       "      <td>java-ii/object-oriented-programming</td>\n",
       "      <td>1.0</td>\n",
       "      <td>8.0</td>\n",
       "      <td>97.105.19.61</td>\n",
       "      <td>8.0</td>\n",
       "      <td>Hampton</td>\n",
       "      <td>2015-09-22</td>\n",
       "      <td>2016-02-06</td>\n",
       "    </tr>\n",
       "    <tr>\n",
       "      <th>3</th>\n",
       "      <td>3.0</td>\n",
       "      <td>2018-01-26</td>\n",
       "      <td>09:56:06</td>\n",
       "      <td>slides/object_oriented_programming</td>\n",
       "      <td>1.0</td>\n",
       "      <td>8.0</td>\n",
       "      <td>97.105.19.61</td>\n",
       "      <td>8.0</td>\n",
       "      <td>Hampton</td>\n",
       "      <td>2015-09-22</td>\n",
       "      <td>2016-02-06</td>\n",
       "    </tr>\n",
       "    <tr>\n",
       "      <th>4</th>\n",
       "      <td>58.0</td>\n",
       "      <td>2018-01-26</td>\n",
       "      <td>10:40:15</td>\n",
       "      <td>javascript-i/functions</td>\n",
       "      <td>1.0</td>\n",
       "      <td>8.0</td>\n",
       "      <td>97.105.19.61</td>\n",
       "      <td>8.0</td>\n",
       "      <td>Hampton</td>\n",
       "      <td>2015-09-22</td>\n",
       "      <td>2016-02-06</td>\n",
       "    </tr>\n",
       "  </tbody>\n",
       "</table>\n",
       "</div>"
      ],
      "text/plain": [
       "   Unnamed: 0        date      time                                 path  \\\n",
       "0         0.0  2018-01-26  09:55:03                                    /   \n",
       "1         1.0  2018-01-26  09:56:02                              java-ii   \n",
       "2         2.0  2018-01-26  09:56:05  java-ii/object-oriented-programming   \n",
       "3         3.0  2018-01-26  09:56:06   slides/object_oriented_programming   \n",
       "4        58.0  2018-01-26  10:40:15               javascript-i/functions   \n",
       "\n",
       "   user_id  cohort_id            ip   id     name  start_date    end_date  \n",
       "0      1.0        8.0  97.105.19.61  8.0  Hampton  2015-09-22  2016-02-06  \n",
       "1      1.0        8.0  97.105.19.61  8.0  Hampton  2015-09-22  2016-02-06  \n",
       "2      1.0        8.0  97.105.19.61  8.0  Hampton  2015-09-22  2016-02-06  \n",
       "3      1.0        8.0  97.105.19.61  8.0  Hampton  2015-09-22  2016-02-06  \n",
       "4      1.0        8.0  97.105.19.61  8.0  Hampton  2015-09-22  2016-02-06  "
      ]
     },
     "execution_count": 35,
     "metadata": {},
     "output_type": "execute_result"
    }
   ],
   "source": [
    "# Merging cohorts and logs\n",
    "\n",
    "combined_df = pd.merge(logs, cohorts, how = 'outer', left_on = 'cohort_id', right_on= 'id')\n",
    "combined_df.head()"
   ]
  },
  {
   "cell_type": "code",
   "execution_count": 36,
   "id": "e6554efc",
   "metadata": {},
   "outputs": [],
   "source": [
    "# Converting the datetime column to datetime type and dropping unnecessary columns (date and time)\n",
    "\n",
    "def convert_datetime(df):\n",
    "    df['datetime'] = pd.to_datetime(df.date + ' ' + df.time)\n",
    "    df = df.drop(columns= ['Unnamed: 0', 'date', 'time', 'id'])\n",
    "    return df"
   ]
  },
  {
   "cell_type": "code",
   "execution_count": 37,
   "id": "86aae9cd",
   "metadata": {},
   "outputs": [
    {
     "data": {
      "text/html": [
       "<div>\n",
       "<style scoped>\n",
       "    .dataframe tbody tr th:only-of-type {\n",
       "        vertical-align: middle;\n",
       "    }\n",
       "\n",
       "    .dataframe tbody tr th {\n",
       "        vertical-align: top;\n",
       "    }\n",
       "\n",
       "    .dataframe thead th {\n",
       "        text-align: right;\n",
       "    }\n",
       "</style>\n",
       "<table border=\"1\" class=\"dataframe\">\n",
       "  <thead>\n",
       "    <tr style=\"text-align: right;\">\n",
       "      <th></th>\n",
       "      <th>path</th>\n",
       "      <th>user_id</th>\n",
       "      <th>cohort_id</th>\n",
       "      <th>ip</th>\n",
       "      <th>name</th>\n",
       "      <th>start_date</th>\n",
       "      <th>end_date</th>\n",
       "      <th>datetime</th>\n",
       "    </tr>\n",
       "  </thead>\n",
       "  <tbody>\n",
       "    <tr>\n",
       "      <th>0</th>\n",
       "      <td>/</td>\n",
       "      <td>1.0</td>\n",
       "      <td>8.0</td>\n",
       "      <td>97.105.19.61</td>\n",
       "      <td>Hampton</td>\n",
       "      <td>2015-09-22</td>\n",
       "      <td>2016-02-06</td>\n",
       "      <td>2018-01-26 09:55:03</td>\n",
       "    </tr>\n",
       "    <tr>\n",
       "      <th>1</th>\n",
       "      <td>java-ii</td>\n",
       "      <td>1.0</td>\n",
       "      <td>8.0</td>\n",
       "      <td>97.105.19.61</td>\n",
       "      <td>Hampton</td>\n",
       "      <td>2015-09-22</td>\n",
       "      <td>2016-02-06</td>\n",
       "      <td>2018-01-26 09:56:02</td>\n",
       "    </tr>\n",
       "    <tr>\n",
       "      <th>2</th>\n",
       "      <td>java-ii/object-oriented-programming</td>\n",
       "      <td>1.0</td>\n",
       "      <td>8.0</td>\n",
       "      <td>97.105.19.61</td>\n",
       "      <td>Hampton</td>\n",
       "      <td>2015-09-22</td>\n",
       "      <td>2016-02-06</td>\n",
       "      <td>2018-01-26 09:56:05</td>\n",
       "    </tr>\n",
       "    <tr>\n",
       "      <th>3</th>\n",
       "      <td>slides/object_oriented_programming</td>\n",
       "      <td>1.0</td>\n",
       "      <td>8.0</td>\n",
       "      <td>97.105.19.61</td>\n",
       "      <td>Hampton</td>\n",
       "      <td>2015-09-22</td>\n",
       "      <td>2016-02-06</td>\n",
       "      <td>2018-01-26 09:56:06</td>\n",
       "    </tr>\n",
       "    <tr>\n",
       "      <th>4</th>\n",
       "      <td>javascript-i/functions</td>\n",
       "      <td>1.0</td>\n",
       "      <td>8.0</td>\n",
       "      <td>97.105.19.61</td>\n",
       "      <td>Hampton</td>\n",
       "      <td>2015-09-22</td>\n",
       "      <td>2016-02-06</td>\n",
       "      <td>2018-01-26 10:40:15</td>\n",
       "    </tr>\n",
       "  </tbody>\n",
       "</table>\n",
       "</div>"
      ],
      "text/plain": [
       "                                  path  user_id  cohort_id            ip  \\\n",
       "0                                    /      1.0        8.0  97.105.19.61   \n",
       "1                              java-ii      1.0        8.0  97.105.19.61   \n",
       "2  java-ii/object-oriented-programming      1.0        8.0  97.105.19.61   \n",
       "3   slides/object_oriented_programming      1.0        8.0  97.105.19.61   \n",
       "4               javascript-i/functions      1.0        8.0  97.105.19.61   \n",
       "\n",
       "      name  start_date    end_date            datetime  \n",
       "0  Hampton  2015-09-22  2016-02-06 2018-01-26 09:55:03  \n",
       "1  Hampton  2015-09-22  2016-02-06 2018-01-26 09:56:02  \n",
       "2  Hampton  2015-09-22  2016-02-06 2018-01-26 09:56:05  \n",
       "3  Hampton  2015-09-22  2016-02-06 2018-01-26 09:56:06  \n",
       "4  Hampton  2015-09-22  2016-02-06 2018-01-26 10:40:15  "
      ]
     },
     "execution_count": 37,
     "metadata": {},
     "output_type": "execute_result"
    }
   ],
   "source": [
    "# The combine dataframe assigned to a variable\n",
    "\n",
    "combined_df = convert_datetime(combined_df)\n",
    "combined_df.head()"
   ]
  },
  {
   "cell_type": "code",
   "execution_count": 38,
   "id": "dac778b4",
   "metadata": {
    "scrolled": false
   },
   "outputs": [
    {
     "data": {
      "text/html": [
       "<div>\n",
       "<style scoped>\n",
       "    .dataframe tbody tr th:only-of-type {\n",
       "        vertical-align: middle;\n",
       "    }\n",
       "\n",
       "    .dataframe tbody tr th {\n",
       "        vertical-align: top;\n",
       "    }\n",
       "\n",
       "    .dataframe thead th {\n",
       "        text-align: right;\n",
       "    }\n",
       "</style>\n",
       "<table border=\"1\" class=\"dataframe\">\n",
       "  <thead>\n",
       "    <tr style=\"text-align: right;\">\n",
       "      <th></th>\n",
       "      <th>datetime</th>\n",
       "      <th>cohort_id</th>\n",
       "      <th>name</th>\n",
       "      <th>user_id</th>\n",
       "      <th>path</th>\n",
       "      <th>start_date</th>\n",
       "      <th>end_date</th>\n",
       "    </tr>\n",
       "  </thead>\n",
       "  <tbody>\n",
       "    <tr>\n",
       "      <th>0</th>\n",
       "      <td>2018-01-26 09:55:03</td>\n",
       "      <td>8.0</td>\n",
       "      <td>Hampton</td>\n",
       "      <td>1.0</td>\n",
       "      <td>/</td>\n",
       "      <td>2015-09-22</td>\n",
       "      <td>2016-02-06</td>\n",
       "    </tr>\n",
       "    <tr>\n",
       "      <th>1</th>\n",
       "      <td>2018-01-26 09:56:02</td>\n",
       "      <td>8.0</td>\n",
       "      <td>Hampton</td>\n",
       "      <td>1.0</td>\n",
       "      <td>java-ii</td>\n",
       "      <td>2015-09-22</td>\n",
       "      <td>2016-02-06</td>\n",
       "    </tr>\n",
       "    <tr>\n",
       "      <th>2</th>\n",
       "      <td>2018-01-26 09:56:05</td>\n",
       "      <td>8.0</td>\n",
       "      <td>Hampton</td>\n",
       "      <td>1.0</td>\n",
       "      <td>java-ii/object-oriented-programming</td>\n",
       "      <td>2015-09-22</td>\n",
       "      <td>2016-02-06</td>\n",
       "    </tr>\n",
       "    <tr>\n",
       "      <th>3</th>\n",
       "      <td>2018-01-26 09:56:06</td>\n",
       "      <td>8.0</td>\n",
       "      <td>Hampton</td>\n",
       "      <td>1.0</td>\n",
       "      <td>slides/object_oriented_programming</td>\n",
       "      <td>2015-09-22</td>\n",
       "      <td>2016-02-06</td>\n",
       "    </tr>\n",
       "    <tr>\n",
       "      <th>4</th>\n",
       "      <td>2018-01-26 10:40:15</td>\n",
       "      <td>8.0</td>\n",
       "      <td>Hampton</td>\n",
       "      <td>1.0</td>\n",
       "      <td>javascript-i/functions</td>\n",
       "      <td>2015-09-22</td>\n",
       "      <td>2016-02-06</td>\n",
       "    </tr>\n",
       "    <tr>\n",
       "      <th>...</th>\n",
       "      <td>...</td>\n",
       "      <td>...</td>\n",
       "      <td>...</td>\n",
       "      <td>...</td>\n",
       "      <td>...</td>\n",
       "      <td>...</td>\n",
       "      <td>...</td>\n",
       "    </tr>\n",
       "    <tr>\n",
       "      <th>900224</th>\n",
       "      <td>NaT</td>\n",
       "      <td>NaN</td>\n",
       "      <td>Balboa</td>\n",
       "      <td>NaN</td>\n",
       "      <td>NaN</td>\n",
       "      <td>2015-11-03</td>\n",
       "      <td>2016-03-11</td>\n",
       "    </tr>\n",
       "    <tr>\n",
       "      <th>900225</th>\n",
       "      <td>NaT</td>\n",
       "      <td>NaN</td>\n",
       "      <td>Redwood</td>\n",
       "      <td>NaN</td>\n",
       "      <td>NaN</td>\n",
       "      <td>2017-07-31</td>\n",
       "      <td>2017-12-06</td>\n",
       "    </tr>\n",
       "    <tr>\n",
       "      <th>900226</th>\n",
       "      <td>NaT</td>\n",
       "      <td>NaN</td>\n",
       "      <td>Ada</td>\n",
       "      <td>NaN</td>\n",
       "      <td>NaN</td>\n",
       "      <td>2019-02-04</td>\n",
       "      <td>2019-06-16</td>\n",
       "    </tr>\n",
       "    <tr>\n",
       "      <th>900227</th>\n",
       "      <td>NaT</td>\n",
       "      <td>NaN</td>\n",
       "      <td>Io</td>\n",
       "      <td>NaN</td>\n",
       "      <td>NaN</td>\n",
       "      <td>2020-07-20</td>\n",
       "      <td>2021-01-21</td>\n",
       "    </tr>\n",
       "    <tr>\n",
       "      <th>900228</th>\n",
       "      <td>NaT</td>\n",
       "      <td>NaN</td>\n",
       "      <td>Placeholder for students in transition</td>\n",
       "      <td>NaN</td>\n",
       "      <td>NaN</td>\n",
       "      <td>2021-03-03</td>\n",
       "      <td>2029-03-01</td>\n",
       "    </tr>\n",
       "  </tbody>\n",
       "</table>\n",
       "<p>900229 rows × 7 columns</p>\n",
       "</div>"
      ],
      "text/plain": [
       "                  datetime  cohort_id                                    name  \\\n",
       "0      2018-01-26 09:55:03        8.0                                 Hampton   \n",
       "1      2018-01-26 09:56:02        8.0                                 Hampton   \n",
       "2      2018-01-26 09:56:05        8.0                                 Hampton   \n",
       "3      2018-01-26 09:56:06        8.0                                 Hampton   \n",
       "4      2018-01-26 10:40:15        8.0                                 Hampton   \n",
       "...                    ...        ...                                     ...   \n",
       "900224                 NaT        NaN                                  Balboa   \n",
       "900225                 NaT        NaN                                 Redwood   \n",
       "900226                 NaT        NaN                                     Ada   \n",
       "900227                 NaT        NaN                                      Io   \n",
       "900228                 NaT        NaN  Placeholder for students in transition   \n",
       "\n",
       "        user_id                                 path  start_date    end_date  \n",
       "0           1.0                                    /  2015-09-22  2016-02-06  \n",
       "1           1.0                              java-ii  2015-09-22  2016-02-06  \n",
       "2           1.0  java-ii/object-oriented-programming  2015-09-22  2016-02-06  \n",
       "3           1.0   slides/object_oriented_programming  2015-09-22  2016-02-06  \n",
       "4           1.0               javascript-i/functions  2015-09-22  2016-02-06  \n",
       "...         ...                                  ...         ...         ...  \n",
       "900224      NaN                                  NaN  2015-11-03  2016-03-11  \n",
       "900225      NaN                                  NaN  2017-07-31  2017-12-06  \n",
       "900226      NaN                                  NaN  2019-02-04  2019-06-16  \n",
       "900227      NaN                                  NaN  2020-07-20  2021-01-21  \n",
       "900228      NaN                                  NaN  2021-03-03  2029-03-01  \n",
       "\n",
       "[900229 rows x 7 columns]"
      ]
     },
     "execution_count": 38,
     "metadata": {},
     "output_type": "execute_result"
    }
   ],
   "source": [
    "# Reordering columns\n",
    "\n",
    "combined_df[['datetime', 'cohort_id', 'name', 'user_id', 'path', 'start_date', 'end_date']]"
   ]
  },
  {
   "cell_type": "code",
   "execution_count": 227,
   "id": "e53771e3",
   "metadata": {},
   "outputs": [
    {
     "data": {
      "text/plain": [
       "(900229, 8)"
      ]
     },
     "execution_count": 227,
     "metadata": {},
     "output_type": "execute_result"
    }
   ],
   "source": [
    "combined_df.shape"
   ]
  },
  {
   "cell_type": "code",
   "execution_count": 228,
   "id": "846b0e2a",
   "metadata": {},
   "outputs": [
    {
     "name": "stdout",
     "output_type": "stream",
     "text": [
      "<class 'pandas.core.frame.DataFrame'>\n",
      "Int64Index: 900229 entries, 0 to 900228\n",
      "Data columns (total 8 columns):\n",
      " #   Column      Non-Null Count   Dtype         \n",
      "---  ------      --------------   -----         \n",
      " 0   path        900222 non-null  object        \n",
      " 1   user_id     900223 non-null  float64       \n",
      " 2   cohort_id   847330 non-null  float64       \n",
      " 3   ip          900223 non-null  object        \n",
      " 4   name        847336 non-null  object        \n",
      " 5   start_date  847336 non-null  object        \n",
      " 6   end_date    847336 non-null  object        \n",
      " 7   datetime    900223 non-null  datetime64[ns]\n",
      "dtypes: datetime64[ns](1), float64(2), object(5)\n",
      "memory usage: 61.8+ MB\n"
     ]
    }
   ],
   "source": [
    "combined_df.info()"
   ]
  },
  {
   "cell_type": "markdown",
   "id": "a0f5e5de",
   "metadata": {},
   "source": [
    "***"
   ]
  },
  {
   "cell_type": "markdown",
   "id": "355f2cb2",
   "metadata": {},
   "source": [
    "### *IV. Looking for null values in the dataset*"
   ]
  },
  {
   "cell_type": "code",
   "execution_count": 43,
   "id": "09b6386c",
   "metadata": {},
   "outputs": [
    {
     "data": {
      "text/plain": [
       "path              7\n",
       "user_id           6\n",
       "cohort_id     52899\n",
       "ip                6\n",
       "name          52893\n",
       "start_date    52893\n",
       "end_date      52893\n",
       "datetime          6\n",
       "dtype: int64"
      ]
     },
     "execution_count": 43,
     "metadata": {},
     "output_type": "execute_result"
    }
   ],
   "source": [
    "# Displaying the number of nulls in the columns\n",
    "\n",
    "combined_df.isnull().sum()"
   ]
  },
  {
   "cell_type": "markdown",
   "id": "981d0b27",
   "metadata": {},
   "source": [
    ">**Displaying the nulls in each column to have a idea of what they correspond to in other columns**"
   ]
  },
  {
   "cell_type": "code",
   "execution_count": 131,
   "id": "5dc3365d",
   "metadata": {},
   "outputs": [
    {
     "data": {
      "text/plain": [
       "<AxesSubplot:title={'center':'Proportion of nulls per column charted'}>"
      ]
     },
     "execution_count": 131,
     "metadata": {},
     "output_type": "execute_result"
    },
    {
     "data": {
      "image/png": "[encoded data removed]",
      "text/plain": [
       "<Figure size 432x288 with 1 Axes>"
      ]
     },
     "metadata": {
      "needs_background": "light"
     },
     "output_type": "display_data"
    }
   ],
   "source": [
    "# Proportion of nulls charted\n",
    "\n",
    "combined_df.isnull().sum().plot(kind='bar', title='Proportion of nulls per column charted')"
   ]
  },
  {
   "cell_type": "code",
   "execution_count": 46,
   "id": "528e8028",
   "metadata": {},
   "outputs": [
    {
     "data": {
      "text/html": [
       "<div>\n",
       "<style scoped>\n",
       "    .dataframe tbody tr th:only-of-type {\n",
       "        vertical-align: middle;\n",
       "    }\n",
       "\n",
       "    .dataframe tbody tr th {\n",
       "        vertical-align: top;\n",
       "    }\n",
       "\n",
       "    .dataframe thead th {\n",
       "        text-align: right;\n",
       "    }\n",
       "</style>\n",
       "<table border=\"1\" class=\"dataframe\">\n",
       "  <thead>\n",
       "    <tr style=\"text-align: right;\">\n",
       "      <th></th>\n",
       "      <th>path</th>\n",
       "      <th>user_id</th>\n",
       "      <th>cohort_id</th>\n",
       "      <th>ip</th>\n",
       "      <th>name</th>\n",
       "      <th>start_date</th>\n",
       "      <th>end_date</th>\n",
       "      <th>datetime</th>\n",
       "    </tr>\n",
       "  </thead>\n",
       "  <tbody>\n",
       "    <tr>\n",
       "      <th>53122</th>\n",
       "      <td>/</td>\n",
       "      <td>48.0</td>\n",
       "      <td>NaN</td>\n",
       "      <td>97.105.19.61</td>\n",
       "      <td>NaN</td>\n",
       "      <td>NaN</td>\n",
       "      <td>NaN</td>\n",
       "      <td>2018-01-26 16:46:16</td>\n",
       "    </tr>\n",
       "    <tr>\n",
       "      <th>53123</th>\n",
       "      <td>spring/extra-features/form-validation</td>\n",
       "      <td>48.0</td>\n",
       "      <td>NaN</td>\n",
       "      <td>97.105.19.61</td>\n",
       "      <td>NaN</td>\n",
       "      <td>NaN</td>\n",
       "      <td>NaN</td>\n",
       "      <td>2018-01-26 16:46:24</td>\n",
       "    </tr>\n",
       "    <tr>\n",
       "      <th>53124</th>\n",
       "      <td>/</td>\n",
       "      <td>48.0</td>\n",
       "      <td>NaN</td>\n",
       "      <td>97.105.19.61</td>\n",
       "      <td>NaN</td>\n",
       "      <td>NaN</td>\n",
       "      <td>NaN</td>\n",
       "      <td>2018-01-26 17:54:24</td>\n",
       "    </tr>\n",
       "    <tr>\n",
       "      <th>53125</th>\n",
       "      <td>/</td>\n",
       "      <td>48.0</td>\n",
       "      <td>NaN</td>\n",
       "      <td>97.105.19.61</td>\n",
       "      <td>NaN</td>\n",
       "      <td>NaN</td>\n",
       "      <td>NaN</td>\n",
       "      <td>2018-01-26 18:32:03</td>\n",
       "    </tr>\n",
       "    <tr>\n",
       "      <th>53126</th>\n",
       "      <td>mysql/relationships/joins</td>\n",
       "      <td>48.0</td>\n",
       "      <td>NaN</td>\n",
       "      <td>97.105.19.61</td>\n",
       "      <td>NaN</td>\n",
       "      <td>NaN</td>\n",
       "      <td>NaN</td>\n",
       "      <td>2018-01-26 18:32:17</td>\n",
       "    </tr>\n",
       "    <tr>\n",
       "      <th>...</th>\n",
       "      <td>...</td>\n",
       "      <td>...</td>\n",
       "      <td>...</td>\n",
       "      <td>...</td>\n",
       "      <td>...</td>\n",
       "      <td>...</td>\n",
       "      <td>...</td>\n",
       "      <td>...</td>\n",
       "    </tr>\n",
       "    <tr>\n",
       "      <th>900224</th>\n",
       "      <td>NaN</td>\n",
       "      <td>NaN</td>\n",
       "      <td>NaN</td>\n",
       "      <td>NaN</td>\n",
       "      <td>Balboa</td>\n",
       "      <td>2015-11-03</td>\n",
       "      <td>2016-03-11</td>\n",
       "      <td>NaT</td>\n",
       "    </tr>\n",
       "    <tr>\n",
       "      <th>900225</th>\n",
       "      <td>NaN</td>\n",
       "      <td>NaN</td>\n",
       "      <td>NaN</td>\n",
       "      <td>NaN</td>\n",
       "      <td>Redwood</td>\n",
       "      <td>2017-07-31</td>\n",
       "      <td>2017-12-06</td>\n",
       "      <td>NaT</td>\n",
       "    </tr>\n",
       "    <tr>\n",
       "      <th>900226</th>\n",
       "      <td>NaN</td>\n",
       "      <td>NaN</td>\n",
       "      <td>NaN</td>\n",
       "      <td>NaN</td>\n",
       "      <td>Ada</td>\n",
       "      <td>2019-02-04</td>\n",
       "      <td>2019-06-16</td>\n",
       "      <td>NaT</td>\n",
       "    </tr>\n",
       "    <tr>\n",
       "      <th>900227</th>\n",
       "      <td>NaN</td>\n",
       "      <td>NaN</td>\n",
       "      <td>NaN</td>\n",
       "      <td>NaN</td>\n",
       "      <td>Io</td>\n",
       "      <td>2020-07-20</td>\n",
       "      <td>2021-01-21</td>\n",
       "      <td>NaT</td>\n",
       "    </tr>\n",
       "    <tr>\n",
       "      <th>900228</th>\n",
       "      <td>NaN</td>\n",
       "      <td>NaN</td>\n",
       "      <td>NaN</td>\n",
       "      <td>NaN</td>\n",
       "      <td>Placeholder for students in transition</td>\n",
       "      <td>2021-03-03</td>\n",
       "      <td>2029-03-01</td>\n",
       "      <td>NaT</td>\n",
       "    </tr>\n",
       "  </tbody>\n",
       "</table>\n",
       "<p>52899 rows × 8 columns</p>\n",
       "</div>"
      ],
      "text/plain": [
       "                                         path  user_id  cohort_id  \\\n",
       "53122                                       /     48.0        NaN   \n",
       "53123   spring/extra-features/form-validation     48.0        NaN   \n",
       "53124                                       /     48.0        NaN   \n",
       "53125                                       /     48.0        NaN   \n",
       "53126               mysql/relationships/joins     48.0        NaN   \n",
       "...                                       ...      ...        ...   \n",
       "900224                                    NaN      NaN        NaN   \n",
       "900225                                    NaN      NaN        NaN   \n",
       "900226                                    NaN      NaN        NaN   \n",
       "900227                                    NaN      NaN        NaN   \n",
       "900228                                    NaN      NaN        NaN   \n",
       "\n",
       "                  ip                                    name  start_date  \\\n",
       "53122   97.105.19.61                                     NaN         NaN   \n",
       "53123   97.105.19.61                                     NaN         NaN   \n",
       "53124   97.105.19.61                                     NaN         NaN   \n",
       "53125   97.105.19.61                                     NaN         NaN   \n",
       "53126   97.105.19.61                                     NaN         NaN   \n",
       "...              ...                                     ...         ...   \n",
       "900224           NaN                                  Balboa  2015-11-03   \n",
       "900225           NaN                                 Redwood  2017-07-31   \n",
       "900226           NaN                                     Ada  2019-02-04   \n",
       "900227           NaN                                      Io  2020-07-20   \n",
       "900228           NaN  Placeholder for students in transition  2021-03-03   \n",
       "\n",
       "          end_date            datetime  \n",
       "53122          NaN 2018-01-26 16:46:16  \n",
       "53123          NaN 2018-01-26 16:46:24  \n",
       "53124          NaN 2018-01-26 17:54:24  \n",
       "53125          NaN 2018-01-26 18:32:03  \n",
       "53126          NaN 2018-01-26 18:32:17  \n",
       "...            ...                 ...  \n",
       "900224  2016-03-11                 NaT  \n",
       "900225  2017-12-06                 NaT  \n",
       "900226  2019-06-16                 NaT  \n",
       "900227  2021-01-21                 NaT  \n",
       "900228  2029-03-01                 NaT  \n",
       "\n",
       "[52899 rows x 8 columns]"
      ]
     },
     "execution_count": 46,
     "metadata": {},
     "output_type": "execute_result"
    }
   ],
   "source": [
    "# I am interested in the cohort_id column\n",
    "\n",
    "combined_df[combined_df['cohort_id'].isnull()]"
   ]
  },
  {
   "cell_type": "markdown",
   "id": "29d3b386",
   "metadata": {},
   "source": [
    ">### Takeaways\n",
    "\n",
    "        - The cohort_id column has the most nulls and is the most important column in answer question 2\n",
    "        - I am going to investigate those nulls\n",
    "            * Find out if there is a cohort that referred to a lesson significantly more than other cohorts?\n",
    "            * What is the proportion of chohorts without IDs that do not have a name and made search for the top search lesson?\n",
    "            * What lessons did the cohort with no name check?\n",
    "            * What portion of the number of request for that lesson does it represent (with all cohorts combined)?\n",
    "            * Why don't they have a name? Is it possible to find out?\n",
    "            * Is there any suspicious in the activity of the cohort(s) without ID?"
   ]
  },
  {
   "cell_type": "code",
   "execution_count": 62,
   "id": "54603062",
   "metadata": {},
   "outputs": [],
   "source": [
    "# Function to dissect and display name column value count\n",
    "\n",
    "def value_counts_and_frequencies(s: pd.Series, dropna=True) -> pd.DataFrame:\n",
    "    '''\n",
    "    This function takes in a Pandas Series\n",
    "    and returns a dataframe of the count of the\n",
    "    Series and the corresponding percent\n",
    "    '''\n",
    "    return pd.merge(\n",
    "        s.value_counts(dropna=False).rename('count'),\n",
    "        s.value_counts(dropna=False, normalize=True).rename('percent'),\n",
    "        left_index=True, right_index=True)"
   ]
  },
  {
   "cell_type": "code",
   "execution_count": 216,
   "id": "10021e05",
   "metadata": {
    "scrolled": false
   },
   "outputs": [
    {
     "data": {
      "text/html": [
       "<div>\n",
       "<style scoped>\n",
       "    .dataframe tbody tr th:only-of-type {\n",
       "        vertical-align: middle;\n",
       "    }\n",
       "\n",
       "    .dataframe tbody tr th {\n",
       "        vertical-align: top;\n",
       "    }\n",
       "\n",
       "    .dataframe thead th {\n",
       "        text-align: right;\n",
       "    }\n",
       "</style>\n",
       "<table border=\"1\" class=\"dataframe\">\n",
       "  <thead>\n",
       "    <tr style=\"text-align: right;\">\n",
       "      <th></th>\n",
       "      <th>count</th>\n",
       "      <th>percent</th>\n",
       "    </tr>\n",
       "  </thead>\n",
       "  <tbody>\n",
       "    <tr>\n",
       "      <th>/</th>\n",
       "      <td>50313</td>\n",
       "      <td>0.055889</td>\n",
       "    </tr>\n",
       "    <tr>\n",
       "      <th>search/search_index.json</th>\n",
       "      <td>19519</td>\n",
       "      <td>0.021682</td>\n",
       "    </tr>\n",
       "    <tr>\n",
       "      <th>javascript-i</th>\n",
       "      <td>18983</td>\n",
       "      <td>0.021087</td>\n",
       "    </tr>\n",
       "    <tr>\n",
       "      <th>toc</th>\n",
       "      <td>18297</td>\n",
       "      <td>0.020325</td>\n",
       "    </tr>\n",
       "    <tr>\n",
       "      <th>java-iii</th>\n",
       "      <td>13733</td>\n",
       "      <td>0.015255</td>\n",
       "    </tr>\n",
       "    <tr>\n",
       "      <th>html-css</th>\n",
       "      <td>13635</td>\n",
       "      <td>0.015146</td>\n",
       "    </tr>\n",
       "    <tr>\n",
       "      <th>java-ii</th>\n",
       "      <td>12685</td>\n",
       "      <td>0.014091</td>\n",
       "    </tr>\n",
       "    <tr>\n",
       "      <th>spring</th>\n",
       "      <td>12524</td>\n",
       "      <td>0.013912</td>\n",
       "    </tr>\n",
       "    <tr>\n",
       "      <th>jquery</th>\n",
       "      <td>11525</td>\n",
       "      <td>0.012802</td>\n",
       "    </tr>\n",
       "    <tr>\n",
       "      <th>mysql</th>\n",
       "      <td>11033</td>\n",
       "      <td>0.012256</td>\n",
       "    </tr>\n",
       "    <tr>\n",
       "      <th>java-i</th>\n",
       "      <td>10865</td>\n",
       "      <td>0.012069</td>\n",
       "    </tr>\n",
       "    <tr>\n",
       "      <th>javascript-ii</th>\n",
       "      <td>10730</td>\n",
       "      <td>0.011919</td>\n",
       "    </tr>\n",
       "    <tr>\n",
       "      <th>appendix</th>\n",
       "      <td>8308</td>\n",
       "      <td>0.009229</td>\n",
       "    </tr>\n",
       "    <tr>\n",
       "      <th>javascript-i/introduction/working-with-data-types-operators-and-variables</th>\n",
       "      <td>7642</td>\n",
       "      <td>0.008489</td>\n",
       "    </tr>\n",
       "    <tr>\n",
       "      <th>mysql/tables</th>\n",
       "      <td>7356</td>\n",
       "      <td>0.008171</td>\n",
       "    </tr>\n",
       "    <tr>\n",
       "      <th>javascript-i/javascript-with-html</th>\n",
       "      <td>7350</td>\n",
       "      <td>0.008165</td>\n",
       "    </tr>\n",
       "    <tr>\n",
       "      <th>javascript-i/functions</th>\n",
       "      <td>7348</td>\n",
       "      <td>0.008162</td>\n",
       "    </tr>\n",
       "    <tr>\n",
       "      <th>html-css/elements</th>\n",
       "      <td>7074</td>\n",
       "      <td>0.007858</td>\n",
       "    </tr>\n",
       "    <tr>\n",
       "      <th>mysql/databases</th>\n",
       "      <td>6940</td>\n",
       "      <td>0.007709</td>\n",
       "    </tr>\n",
       "    <tr>\n",
       "      <th>java-iii/jsp-and-jstl</th>\n",
       "      <td>6876</td>\n",
       "      <td>0.007638</td>\n",
       "    </tr>\n",
       "  </tbody>\n",
       "</table>\n",
       "</div>"
      ],
      "text/plain": [
       "                                                    count   percent\n",
       "/                                                   50313  0.055889\n",
       "search/search_index.json                            19519  0.021682\n",
       "javascript-i                                        18983  0.021087\n",
       "toc                                                 18297  0.020325\n",
       "java-iii                                            13733  0.015255\n",
       "html-css                                            13635  0.015146\n",
       "java-ii                                             12685  0.014091\n",
       "spring                                              12524  0.013912\n",
       "jquery                                              11525  0.012802\n",
       "mysql                                               11033  0.012256\n",
       "java-i                                              10865  0.012069\n",
       "javascript-ii                                       10730  0.011919\n",
       "appendix                                             8308  0.009229\n",
       "javascript-i/introduction/working-with-data-typ...   7642  0.008489\n",
       "mysql/tables                                         7356  0.008171\n",
       "javascript-i/javascript-with-html                    7350  0.008165\n",
       "javascript-i/functions                               7348  0.008162\n",
       "html-css/elements                                    7074  0.007858\n",
       "mysql/databases                                      6940  0.007709\n",
       "java-iii/jsp-and-jstl                                6876  0.007638"
      ]
     },
     "execution_count": 216,
     "metadata": {},
     "output_type": "execute_result"
    }
   ],
   "source": [
    "# Finding the lesson cohorts referred to the most\n",
    "\n",
    "path_df = value_counts_and_frequencies(combined_df.path)\n",
    "path_df.head(20)"
   ]
  },
  {
   "cell_type": "code",
   "execution_count": 226,
   "id": "b7970029",
   "metadata": {},
   "outputs": [
    {
     "data": {
      "text/plain": [
       "900229"
      ]
     },
     "execution_count": 226,
     "metadata": {},
     "output_type": "execute_result"
    }
   ],
   "source": [
    "path_df['count'].sum()"
   ]
  },
  {
   "cell_type": "markdown",
   "id": "90d9ccd2",
   "metadata": {},
   "source": [
    ">### Takeaways\n",
    "\n",
    "        - The top request isn't a lesson but the root directory\n",
    "        - The second request is a search for json indices search\n",
    "        - In close third request is the path javascript-i"
   ]
  },
  {
   "cell_type": "markdown",
   "id": "c45959e9",
   "metadata": {},
   "source": [
    ">### Now let's find out the name of the cohort that is responsible for the most searches of 'search/search_index.json'"
   ]
  },
  {
   "cell_type": "markdown",
   "id": "0c1358b0",
   "metadata": {},
   "source": [
    "***"
   ]
  },
  {
   "cell_type": "markdown",
   "id": "d510985a",
   "metadata": {},
   "source": [
    "## *V. Investigating 'search/search_index.json'*"
   ]
  },
  {
   "cell_type": "code",
   "execution_count": 99,
   "id": "b88d38d5",
   "metadata": {},
   "outputs": [
    {
     "data": {
      "text/html": [
       "<div>\n",
       "<style scoped>\n",
       "    .dataframe tbody tr th:only-of-type {\n",
       "        vertical-align: middle;\n",
       "    }\n",
       "\n",
       "    .dataframe tbody tr th {\n",
       "        vertical-align: top;\n",
       "    }\n",
       "\n",
       "    .dataframe thead th {\n",
       "        text-align: right;\n",
       "    }\n",
       "</style>\n",
       "<table border=\"1\" class=\"dataframe\">\n",
       "  <thead>\n",
       "    <tr style=\"text-align: right;\">\n",
       "      <th></th>\n",
       "      <th>path</th>\n",
       "      <th>user_id</th>\n",
       "      <th>cohort_id</th>\n",
       "      <th>ip</th>\n",
       "      <th>name</th>\n",
       "      <th>start_date</th>\n",
       "      <th>end_date</th>\n",
       "      <th>datetime</th>\n",
       "    </tr>\n",
       "  </thead>\n",
       "  <tbody>\n",
       "    <tr>\n",
       "      <th>1317</th>\n",
       "      <td>search/search_index.json</td>\n",
       "      <td>1.0</td>\n",
       "      <td>8.0</td>\n",
       "      <td>97.105.19.58</td>\n",
       "      <td>Hampton</td>\n",
       "      <td>2015-09-22</td>\n",
       "      <td>2016-02-06</td>\n",
       "      <td>2018-07-25 14:30:31</td>\n",
       "    </tr>\n",
       "    <tr>\n",
       "      <th>1326</th>\n",
       "      <td>search/search_index.json</td>\n",
       "      <td>1.0</td>\n",
       "      <td>8.0</td>\n",
       "      <td>97.105.19.58</td>\n",
       "      <td>Hampton</td>\n",
       "      <td>2015-09-22</td>\n",
       "      <td>2016-02-06</td>\n",
       "      <td>2018-07-25 14:35:10</td>\n",
       "    </tr>\n",
       "    <tr>\n",
       "      <th>1330</th>\n",
       "      <td>search/search_index.json</td>\n",
       "      <td>1.0</td>\n",
       "      <td>8.0</td>\n",
       "      <td>97.105.19.58</td>\n",
       "      <td>Hampton</td>\n",
       "      <td>2015-09-22</td>\n",
       "      <td>2016-02-06</td>\n",
       "      <td>2018-07-25 14:37:15</td>\n",
       "    </tr>\n",
       "    <tr>\n",
       "      <th>1331</th>\n",
       "      <td>search/search_index.json</td>\n",
       "      <td>1.0</td>\n",
       "      <td>8.0</td>\n",
       "      <td>97.105.19.58</td>\n",
       "      <td>Hampton</td>\n",
       "      <td>2015-09-22</td>\n",
       "      <td>2016-02-06</td>\n",
       "      <td>2018-07-25 14:37:23</td>\n",
       "    </tr>\n",
       "    <tr>\n",
       "      <th>1333</th>\n",
       "      <td>search/search_index.json</td>\n",
       "      <td>1.0</td>\n",
       "      <td>8.0</td>\n",
       "      <td>97.105.19.58</td>\n",
       "      <td>Hampton</td>\n",
       "      <td>2015-09-22</td>\n",
       "      <td>2016-02-06</td>\n",
       "      <td>2018-07-25 14:37:37</td>\n",
       "    </tr>\n",
       "  </tbody>\n",
       "</table>\n",
       "</div>"
      ],
      "text/plain": [
       "                          path  user_id  cohort_id            ip     name  \\\n",
       "1317  search/search_index.json      1.0        8.0  97.105.19.58  Hampton   \n",
       "1326  search/search_index.json      1.0        8.0  97.105.19.58  Hampton   \n",
       "1330  search/search_index.json      1.0        8.0  97.105.19.58  Hampton   \n",
       "1331  search/search_index.json      1.0        8.0  97.105.19.58  Hampton   \n",
       "1333  search/search_index.json      1.0        8.0  97.105.19.58  Hampton   \n",
       "\n",
       "      start_date    end_date            datetime  \n",
       "1317  2015-09-22  2016-02-06 2018-07-25 14:30:31  \n",
       "1326  2015-09-22  2016-02-06 2018-07-25 14:35:10  \n",
       "1330  2015-09-22  2016-02-06 2018-07-25 14:37:15  \n",
       "1331  2015-09-22  2016-02-06 2018-07-25 14:37:23  \n",
       "1333  2015-09-22  2016-02-06 2018-07-25 14:37:37  "
      ]
     },
     "execution_count": 99,
     "metadata": {},
     "output_type": "execute_result"
    }
   ],
   "source": [
    "# Creating a new dataframe that contains only paths that are 'search/search_index.json'\n",
    "\n",
    "json_search = combined_df.loc[combined_df['path'].str.contains('search/search_index.json', case=True, na=True)]\n",
    "json_search.head()"
   ]
  },
  {
   "cell_type": "code",
   "execution_count": 144,
   "id": "22f7d1f0",
   "metadata": {},
   "outputs": [
    {
     "data": {
      "text/plain": [
       "1"
      ]
     },
     "execution_count": 144,
     "metadata": {},
     "output_type": "execute_result"
    }
   ],
   "source": [
    "# Checking if there are substrings of 'search/search_index.json'\n",
    "\n",
    "json_search.path.nunique()"
   ]
  },
  {
   "cell_type": "code",
   "execution_count": 217,
   "id": "bd0cbd66",
   "metadata": {},
   "outputs": [
    {
     "data": {
      "text/html": [
       "<div>\n",
       "<style scoped>\n",
       "    .dataframe tbody tr th:only-of-type {\n",
       "        vertical-align: middle;\n",
       "    }\n",
       "\n",
       "    .dataframe tbody tr th {\n",
       "        vertical-align: top;\n",
       "    }\n",
       "\n",
       "    .dataframe thead th {\n",
       "        text-align: right;\n",
       "    }\n",
       "</style>\n",
       "<table border=\"1\" class=\"dataframe\">\n",
       "  <thead>\n",
       "    <tr style=\"text-align: right;\">\n",
       "      <th></th>\n",
       "      <th>count</th>\n",
       "      <th>percent</th>\n",
       "    </tr>\n",
       "  </thead>\n",
       "  <tbody>\n",
       "    <tr>\n",
       "      <th>NaN</th>\n",
       "      <td>1985</td>\n",
       "      <td>0.101659</td>\n",
       "    </tr>\n",
       "    <tr>\n",
       "      <th>Apex</th>\n",
       "      <td>1497</td>\n",
       "      <td>0.076667</td>\n",
       "    </tr>\n",
       "    <tr>\n",
       "      <th>Ceres</th>\n",
       "      <td>1380</td>\n",
       "      <td>0.070675</td>\n",
       "    </tr>\n",
       "    <tr>\n",
       "      <th>Staff</th>\n",
       "      <td>1349</td>\n",
       "      <td>0.069087</td>\n",
       "    </tr>\n",
       "    <tr>\n",
       "      <th>Ganymede</th>\n",
       "      <td>1095</td>\n",
       "      <td>0.056079</td>\n",
       "    </tr>\n",
       "  </tbody>\n",
       "</table>\n",
       "</div>"
      ],
      "text/plain": [
       "          count   percent\n",
       "NaN        1985  0.101659\n",
       "Apex       1497  0.076667\n",
       "Ceres      1380  0.070675\n",
       "Staff      1349  0.069087\n",
       "Ganymede   1095  0.056079"
      ]
     },
     "execution_count": 217,
     "metadata": {},
     "output_type": "execute_result"
    }
   ],
   "source": [
    "# Displaying the top cohorts to check out the path 'search/search_index.json'\n",
    "\n",
    "value_counts_and_frequencies(json_search.name).head()"
   ]
  },
  {
   "cell_type": "code",
   "execution_count": 130,
   "id": "ea54abf7",
   "metadata": {},
   "outputs": [
    {
     "data": {
      "text/plain": [
       "<AxesSubplot:title={'center':'The percent of top searched lessons by cohort'}, ylabel='Cohorts'>"
      ]
     },
     "execution_count": 130,
     "metadata": {},
     "output_type": "execute_result"
    },
    {
     "data": {
      "image/png": "[encoded data removed]",
      "text/plain": [
       "<Figure size 360x504 with 1 Axes>"
      ]
     },
     "metadata": {
      "needs_background": "light"
     },
     "output_type": "display_data"
    }
   ],
   "source": [
    "# Plotting the top 5 searches\n",
    "\n",
    "json_search.name\\\n",
    ".value_counts(dropna=False, ascending=True)\\\n",
    ".tail(5).plot(kind='barh',\n",
    "              colormap='RdGy',\n",
    "              title= 'The percent of top searched lessons by cohort',\n",
    "              figsize=(5, 7), xlabel='Cohorts')"
   ]
  },
  {
   "cell_type": "markdown",
   "id": "f6959367",
   "metadata": {},
   "source": [
    ">### **The cohort that searched 'search/search_index.json' the most does not have an ID. I will investigate this column**"
   ]
  },
  {
   "cell_type": "code",
   "execution_count": 167,
   "id": "875adac6",
   "metadata": {},
   "outputs": [],
   "source": [
    "# Creating a df of where the cohort_id has only null values \n",
    "\n",
    "nan_id_cohort = combined_df[combined_df['cohort_id'].isnull()]"
   ]
  },
  {
   "cell_type": "code",
   "execution_count": 168,
   "id": "56f60994",
   "metadata": {},
   "outputs": [
    {
     "data": {
      "text/html": [
       "<div>\n",
       "<style scoped>\n",
       "    .dataframe tbody tr th:only-of-type {\n",
       "        vertical-align: middle;\n",
       "    }\n",
       "\n",
       "    .dataframe tbody tr th {\n",
       "        vertical-align: top;\n",
       "    }\n",
       "\n",
       "    .dataframe thead th {\n",
       "        text-align: right;\n",
       "    }\n",
       "</style>\n",
       "<table border=\"1\" class=\"dataframe\">\n",
       "  <thead>\n",
       "    <tr style=\"text-align: right;\">\n",
       "      <th></th>\n",
       "      <th>path</th>\n",
       "      <th>user_id</th>\n",
       "      <th>cohort_id</th>\n",
       "      <th>ip</th>\n",
       "      <th>name</th>\n",
       "      <th>start_date</th>\n",
       "      <th>end_date</th>\n",
       "      <th>datetime</th>\n",
       "    </tr>\n",
       "  </thead>\n",
       "  <tbody>\n",
       "    <tr>\n",
       "      <th>53122</th>\n",
       "      <td>/</td>\n",
       "      <td>48.0</td>\n",
       "      <td>NaN</td>\n",
       "      <td>97.105.19.61</td>\n",
       "      <td>NaN</td>\n",
       "      <td>NaN</td>\n",
       "      <td>NaN</td>\n",
       "      <td>2018-01-26 16:46:16</td>\n",
       "    </tr>\n",
       "    <tr>\n",
       "      <th>53123</th>\n",
       "      <td>spring/extra-features/form-validation</td>\n",
       "      <td>48.0</td>\n",
       "      <td>NaN</td>\n",
       "      <td>97.105.19.61</td>\n",
       "      <td>NaN</td>\n",
       "      <td>NaN</td>\n",
       "      <td>NaN</td>\n",
       "      <td>2018-01-26 16:46:24</td>\n",
       "    </tr>\n",
       "    <tr>\n",
       "      <th>53124</th>\n",
       "      <td>/</td>\n",
       "      <td>48.0</td>\n",
       "      <td>NaN</td>\n",
       "      <td>97.105.19.61</td>\n",
       "      <td>NaN</td>\n",
       "      <td>NaN</td>\n",
       "      <td>NaN</td>\n",
       "      <td>2018-01-26 17:54:24</td>\n",
       "    </tr>\n",
       "    <tr>\n",
       "      <th>53125</th>\n",
       "      <td>/</td>\n",
       "      <td>48.0</td>\n",
       "      <td>NaN</td>\n",
       "      <td>97.105.19.61</td>\n",
       "      <td>NaN</td>\n",
       "      <td>NaN</td>\n",
       "      <td>NaN</td>\n",
       "      <td>2018-01-26 18:32:03</td>\n",
       "    </tr>\n",
       "    <tr>\n",
       "      <th>53126</th>\n",
       "      <td>mysql/relationships/joins</td>\n",
       "      <td>48.0</td>\n",
       "      <td>NaN</td>\n",
       "      <td>97.105.19.61</td>\n",
       "      <td>NaN</td>\n",
       "      <td>NaN</td>\n",
       "      <td>NaN</td>\n",
       "      <td>2018-01-26 18:32:17</td>\n",
       "    </tr>\n",
       "  </tbody>\n",
       "</table>\n",
       "</div>"
      ],
      "text/plain": [
       "                                        path  user_id  cohort_id  \\\n",
       "53122                                      /     48.0        NaN   \n",
       "53123  spring/extra-features/form-validation     48.0        NaN   \n",
       "53124                                      /     48.0        NaN   \n",
       "53125                                      /     48.0        NaN   \n",
       "53126              mysql/relationships/joins     48.0        NaN   \n",
       "\n",
       "                 ip name start_date end_date            datetime  \n",
       "53122  97.105.19.61  NaN        NaN      NaN 2018-01-26 16:46:16  \n",
       "53123  97.105.19.61  NaN        NaN      NaN 2018-01-26 16:46:24  \n",
       "53124  97.105.19.61  NaN        NaN      NaN 2018-01-26 17:54:24  \n",
       "53125  97.105.19.61  NaN        NaN      NaN 2018-01-26 18:32:03  \n",
       "53126  97.105.19.61  NaN        NaN      NaN 2018-01-26 18:32:17  "
      ]
     },
     "execution_count": 168,
     "metadata": {},
     "output_type": "execute_result"
    }
   ],
   "source": [
    "nan_id_cohort.head()"
   ]
  },
  {
   "cell_type": "code",
   "execution_count": 169,
   "id": "94f161d1",
   "metadata": {},
   "outputs": [
    {
     "name": "stdout",
     "output_type": "stream",
     "text": [
      "<class 'pandas.core.frame.DataFrame'>\n",
      "Int64Index: 52899 entries, 53122 to 900228\n",
      "Data columns (total 8 columns):\n",
      " #   Column      Non-Null Count  Dtype         \n",
      "---  ------      --------------  -----         \n",
      " 0   path        52893 non-null  object        \n",
      " 1   user_id     52893 non-null  float64       \n",
      " 2   cohort_id   0 non-null      float64       \n",
      " 3   ip          52893 non-null  object        \n",
      " 4   name        6 non-null      object        \n",
      " 5   start_date  6 non-null      object        \n",
      " 6   end_date    6 non-null      object        \n",
      " 7   datetime    52893 non-null  datetime64[ns]\n",
      "dtypes: datetime64[ns](1), float64(2), object(5)\n",
      "memory usage: 3.6+ MB\n"
     ]
    }
   ],
   "source": [
    "nan_id_cohort.info()"
   ]
  },
  {
   "cell_type": "code",
   "execution_count": 170,
   "id": "25ce0a05",
   "metadata": {},
   "outputs": [
    {
     "data": {
      "text/plain": [
       "array([nan, 'Carlsbad', 'Balboa', 'Redwood', 'Ada', 'Io',\n",
       "       'Placeholder for students in transition'], dtype=object)"
      ]
     },
     "execution_count": 170,
     "metadata": {},
     "output_type": "execute_result"
    }
   ],
   "source": [
    "# Checking ton see if the NaN IDs correspond to a cohort name\n",
    "\n",
    "nan_id_cohort.name.unique()"
   ]
  },
  {
   "cell_type": "code",
   "execution_count": 171,
   "id": "ac9f93ba",
   "metadata": {},
   "outputs": [
    {
     "data": {
      "text/html": [
       "<div>\n",
       "<style scoped>\n",
       "    .dataframe tbody tr th:only-of-type {\n",
       "        vertical-align: middle;\n",
       "    }\n",
       "\n",
       "    .dataframe tbody tr th {\n",
       "        vertical-align: top;\n",
       "    }\n",
       "\n",
       "    .dataframe thead th {\n",
       "        text-align: right;\n",
       "    }\n",
       "</style>\n",
       "<table border=\"1\" class=\"dataframe\">\n",
       "  <thead>\n",
       "    <tr style=\"text-align: right;\">\n",
       "      <th></th>\n",
       "      <th>count</th>\n",
       "      <th>percent</th>\n",
       "    </tr>\n",
       "  </thead>\n",
       "  <tbody>\n",
       "    <tr>\n",
       "      <th>NaN</th>\n",
       "      <td>52893</td>\n",
       "      <td>0.999887</td>\n",
       "    </tr>\n",
       "    <tr>\n",
       "      <th>Carlsbad</th>\n",
       "      <td>1</td>\n",
       "      <td>0.000019</td>\n",
       "    </tr>\n",
       "    <tr>\n",
       "      <th>Balboa</th>\n",
       "      <td>1</td>\n",
       "      <td>0.000019</td>\n",
       "    </tr>\n",
       "    <tr>\n",
       "      <th>Redwood</th>\n",
       "      <td>1</td>\n",
       "      <td>0.000019</td>\n",
       "    </tr>\n",
       "    <tr>\n",
       "      <th>Ada</th>\n",
       "      <td>1</td>\n",
       "      <td>0.000019</td>\n",
       "    </tr>\n",
       "    <tr>\n",
       "      <th>Io</th>\n",
       "      <td>1</td>\n",
       "      <td>0.000019</td>\n",
       "    </tr>\n",
       "    <tr>\n",
       "      <th>Placeholder for students in transition</th>\n",
       "      <td>1</td>\n",
       "      <td>0.000019</td>\n",
       "    </tr>\n",
       "  </tbody>\n",
       "</table>\n",
       "</div>"
      ],
      "text/plain": [
       "                                        count   percent\n",
       "NaN                                     52893  0.999887\n",
       "Carlsbad                                    1  0.000019\n",
       "Balboa                                      1  0.000019\n",
       "Redwood                                     1  0.000019\n",
       "Ada                                         1  0.000019\n",
       "Io                                          1  0.000019\n",
       "Placeholder for students in transition      1  0.000019"
      ]
     },
     "execution_count": 171,
     "metadata": {},
     "output_type": "execute_result"
    }
   ],
   "source": [
    "# Running the column name in the function count and frequency function\n",
    "\n",
    "value_counts_and_frequencies(nan_id_cohort.name)"
   ]
  },
  {
   "cell_type": "code",
   "execution_count": 172,
   "id": "9733dc2d",
   "metadata": {
    "scrolled": true
   },
   "outputs": [
    {
     "data": {
      "text/html": [
       "<div>\n",
       "<style scoped>\n",
       "    .dataframe tbody tr th:only-of-type {\n",
       "        vertical-align: middle;\n",
       "    }\n",
       "\n",
       "    .dataframe tbody tr th {\n",
       "        vertical-align: top;\n",
       "    }\n",
       "\n",
       "    .dataframe thead th {\n",
       "        text-align: right;\n",
       "    }\n",
       "</style>\n",
       "<table border=\"1\" class=\"dataframe\">\n",
       "  <thead>\n",
       "    <tr style=\"text-align: right;\">\n",
       "      <th></th>\n",
       "      <th>path</th>\n",
       "      <th>user_id</th>\n",
       "      <th>cohort_id</th>\n",
       "      <th>ip</th>\n",
       "      <th>name</th>\n",
       "      <th>start_date</th>\n",
       "      <th>end_date</th>\n",
       "      <th>datetime</th>\n",
       "    </tr>\n",
       "  </thead>\n",
       "  <tbody>\n",
       "    <tr>\n",
       "      <th>53122</th>\n",
       "      <td>/</td>\n",
       "      <td>48.0</td>\n",
       "      <td>NaN</td>\n",
       "      <td>97.105.19.61</td>\n",
       "      <td>NaN</td>\n",
       "      <td>NaN</td>\n",
       "      <td>NaN</td>\n",
       "      <td>2018-01-26 16:46:16</td>\n",
       "    </tr>\n",
       "    <tr>\n",
       "      <th>53123</th>\n",
       "      <td>spring/extra-features/form-validation</td>\n",
       "      <td>48.0</td>\n",
       "      <td>NaN</td>\n",
       "      <td>97.105.19.61</td>\n",
       "      <td>NaN</td>\n",
       "      <td>NaN</td>\n",
       "      <td>NaN</td>\n",
       "      <td>2018-01-26 16:46:24</td>\n",
       "    </tr>\n",
       "    <tr>\n",
       "      <th>53124</th>\n",
       "      <td>/</td>\n",
       "      <td>48.0</td>\n",
       "      <td>NaN</td>\n",
       "      <td>97.105.19.61</td>\n",
       "      <td>NaN</td>\n",
       "      <td>NaN</td>\n",
       "      <td>NaN</td>\n",
       "      <td>2018-01-26 17:54:24</td>\n",
       "    </tr>\n",
       "    <tr>\n",
       "      <th>53125</th>\n",
       "      <td>/</td>\n",
       "      <td>48.0</td>\n",
       "      <td>NaN</td>\n",
       "      <td>97.105.19.61</td>\n",
       "      <td>NaN</td>\n",
       "      <td>NaN</td>\n",
       "      <td>NaN</td>\n",
       "      <td>2018-01-26 18:32:03</td>\n",
       "    </tr>\n",
       "    <tr>\n",
       "      <th>53126</th>\n",
       "      <td>mysql/relationships/joins</td>\n",
       "      <td>48.0</td>\n",
       "      <td>NaN</td>\n",
       "      <td>97.105.19.61</td>\n",
       "      <td>NaN</td>\n",
       "      <td>NaN</td>\n",
       "      <td>NaN</td>\n",
       "      <td>2018-01-26 18:32:17</td>\n",
       "    </tr>\n",
       "  </tbody>\n",
       "</table>\n",
       "</div>"
      ],
      "text/plain": [
       "                                        path  user_id  cohort_id  \\\n",
       "53122                                      /     48.0        NaN   \n",
       "53123  spring/extra-features/form-validation     48.0        NaN   \n",
       "53124                                      /     48.0        NaN   \n",
       "53125                                      /     48.0        NaN   \n",
       "53126              mysql/relationships/joins     48.0        NaN   \n",
       "\n",
       "                 ip name start_date end_date            datetime  \n",
       "53122  97.105.19.61  NaN        NaN      NaN 2018-01-26 16:46:16  \n",
       "53123  97.105.19.61  NaN        NaN      NaN 2018-01-26 16:46:24  \n",
       "53124  97.105.19.61  NaN        NaN      NaN 2018-01-26 17:54:24  \n",
       "53125  97.105.19.61  NaN        NaN      NaN 2018-01-26 18:32:03  \n",
       "53126  97.105.19.61  NaN        NaN      NaN 2018-01-26 18:32:17  "
      ]
     },
     "execution_count": 172,
     "metadata": {},
     "output_type": "execute_result"
    }
   ],
   "source": [
    "# nan_id_cohort = nan_id_cohort.set_index('datetime').sort_index()\n",
    "nan_id_cohort.head()"
   ]
  },
  {
   "cell_type": "code",
   "execution_count": 177,
   "id": "e0b832dc",
   "metadata": {
    "scrolled": false
   },
   "outputs": [
    {
     "data": {
      "text/plain": [
       "<AxesSubplot:>"
      ]
     },
     "execution_count": 177,
     "metadata": {},
     "output_type": "execute_result"
    },
    {
     "data": {
      "image/png": "[encoded data removed]",
      "text/plain": [
       "<Figure size 1008x504 with 1 Axes>"
      ]
     },
     "metadata": {
      "needs_background": "light"
     },
     "output_type": "display_data"
    }
   ],
   "source": [
    "nan_id_cohort.plot(figsize=(14, 7))\n",
    "\n",
    "# fig = px.bar(nan_id_cohort, x='datetime', y='cohort_id')\n",
    "# fig.show()\n",
    "\n",
    "# nan_id_cohort.plot(kind='bar')\n",
    "\n",
    "# fig = go.Figure([go.Scatter(x=df['Date'], y=df['AAPL.High'])])\n",
    "# fig.show()\n",
    "\n",
    "# df = px.data.stocks(indexed=True)-1\n",
    "# fig = px.bar(df, x=df.index, y=\"GOOG\")\n",
    "# fig.show()"
   ]
  },
  {
   "cell_type": "markdown",
   "id": "61f37a92",
   "metadata": {},
   "source": [
    ">### Takeaways\n",
    "\n",
    "        - Only 1 instance in the cohorts Carlsbad, Balboa, Redwood, Ada, Io, and Placeholder for students in transition\tis an NaN\n",
    "        - Cohort(s) with no name nor ID constitute 99.98% of the data\n",
    "        - The Cohort with no ID nor name is responsible for most of the 'search/search_index.json'\n",
    "        - I discovered that the 'search/search_index.json' do not refer to a specific lesson on json files as I thought but rather is general index"
   ]
  },
  {
   "cell_type": "markdown",
   "id": "80ed43ec",
   "metadata": {},
   "source": [
    "***"
   ]
  },
  {
   "cell_type": "markdown",
   "id": "c9b013ee",
   "metadata": {},
   "source": [
    "## *VI. Investigate the javascript-i*\n",
    "\n",
    ">**I am going to investigate the javascript-i search which comes in third position after '/' (root directory ) and 'search/search_index.json' (general index )**"
   ]
  },
  {
   "cell_type": "code",
   "execution_count": 132,
   "id": "247262a2",
   "metadata": {},
   "outputs": [
    {
     "data": {
      "text/html": [
       "<div>\n",
       "<style scoped>\n",
       "    .dataframe tbody tr th:only-of-type {\n",
       "        vertical-align: middle;\n",
       "    }\n",
       "\n",
       "    .dataframe tbody tr th {\n",
       "        vertical-align: top;\n",
       "    }\n",
       "\n",
       "    .dataframe thead th {\n",
       "        text-align: right;\n",
       "    }\n",
       "</style>\n",
       "<table border=\"1\" class=\"dataframe\">\n",
       "  <thead>\n",
       "    <tr style=\"text-align: right;\">\n",
       "      <th></th>\n",
       "      <th>path</th>\n",
       "      <th>user_id</th>\n",
       "      <th>cohort_id</th>\n",
       "      <th>ip</th>\n",
       "      <th>name</th>\n",
       "      <th>start_date</th>\n",
       "      <th>end_date</th>\n",
       "      <th>datetime</th>\n",
       "    </tr>\n",
       "  </thead>\n",
       "  <tbody>\n",
       "    <tr>\n",
       "      <th>4</th>\n",
       "      <td>javascript-i/functions</td>\n",
       "      <td>1.0</td>\n",
       "      <td>8.0</td>\n",
       "      <td>97.105.19.61</td>\n",
       "      <td>Hampton</td>\n",
       "      <td>2015-09-22</td>\n",
       "      <td>2016-02-06</td>\n",
       "      <td>2018-01-26 10:40:15</td>\n",
       "    </tr>\n",
       "    <tr>\n",
       "      <th>8</th>\n",
       "      <td>javascript-i/conditionals</td>\n",
       "      <td>1.0</td>\n",
       "      <td>8.0</td>\n",
       "      <td>97.105.19.61</td>\n",
       "      <td>Hampton</td>\n",
       "      <td>2015-09-22</td>\n",
       "      <td>2016-02-06</td>\n",
       "      <td>2018-01-29 11:41:51</td>\n",
       "    </tr>\n",
       "    <tr>\n",
       "      <th>9</th>\n",
       "      <td>javascript-i/loops</td>\n",
       "      <td>1.0</td>\n",
       "      <td>8.0</td>\n",
       "      <td>97.105.19.61</td>\n",
       "      <td>Hampton</td>\n",
       "      <td>2015-09-22</td>\n",
       "      <td>2016-02-06</td>\n",
       "      <td>2018-01-29 11:43:08</td>\n",
       "    </tr>\n",
       "    <tr>\n",
       "      <th>14</th>\n",
       "      <td>javascript-i</td>\n",
       "      <td>1.0</td>\n",
       "      <td>8.0</td>\n",
       "      <td>97.105.19.61</td>\n",
       "      <td>Hampton</td>\n",
       "      <td>2015-09-22</td>\n",
       "      <td>2016-02-06</td>\n",
       "      <td>2018-01-30 10:42:10</td>\n",
       "    </tr>\n",
       "    <tr>\n",
       "      <th>23</th>\n",
       "      <td>javascript-i/functions</td>\n",
       "      <td>1.0</td>\n",
       "      <td>8.0</td>\n",
       "      <td>97.105.19.61</td>\n",
       "      <td>Hampton</td>\n",
       "      <td>2015-09-22</td>\n",
       "      <td>2016-02-06</td>\n",
       "      <td>2018-01-31 15:16:08</td>\n",
       "    </tr>\n",
       "  </tbody>\n",
       "</table>\n",
       "</div>"
      ],
      "text/plain": [
       "                         path  user_id  cohort_id            ip     name  \\\n",
       "4      javascript-i/functions      1.0        8.0  97.105.19.61  Hampton   \n",
       "8   javascript-i/conditionals      1.0        8.0  97.105.19.61  Hampton   \n",
       "9          javascript-i/loops      1.0        8.0  97.105.19.61  Hampton   \n",
       "14               javascript-i      1.0        8.0  97.105.19.61  Hampton   \n",
       "23     javascript-i/functions      1.0        8.0  97.105.19.61  Hampton   \n",
       "\n",
       "    start_date    end_date            datetime  \n",
       "4   2015-09-22  2016-02-06 2018-01-26 10:40:15  \n",
       "8   2015-09-22  2016-02-06 2018-01-29 11:41:51  \n",
       "9   2015-09-22  2016-02-06 2018-01-29 11:43:08  \n",
       "14  2015-09-22  2016-02-06 2018-01-30 10:42:10  \n",
       "23  2015-09-22  2016-02-06 2018-01-31 15:16:08  "
      ]
     },
     "execution_count": 132,
     "metadata": {},
     "output_type": "execute_result"
    }
   ],
   "source": [
    "# Creating a column with path referring to only 'javascript-i'\n",
    "\n",
    "java_search = combined_df.loc[combined_df['path'].str.contains('javascript-i', case=True, na=True)]\n",
    "java_search.head()"
   ]
  },
  {
   "cell_type": "code",
   "execution_count": 138,
   "id": "6571700d",
   "metadata": {},
   "outputs": [
    {
     "data": {
      "text/plain": [
       "53"
      ]
     },
     "execution_count": 138,
     "metadata": {},
     "output_type": "execute_result"
    }
   ],
   "source": [
    "# Checking to see how many subqueries 'javascript-i' has\n",
    "\n",
    "java_search.path.nunique()"
   ]
  },
  {
   "cell_type": "code",
   "execution_count": 145,
   "id": "6f332482",
   "metadata": {},
   "outputs": [
    {
     "data": {
      "text/html": [
       "<div>\n",
       "<style scoped>\n",
       "    .dataframe tbody tr th:only-of-type {\n",
       "        vertical-align: middle;\n",
       "    }\n",
       "\n",
       "    .dataframe tbody tr th {\n",
       "        vertical-align: top;\n",
       "    }\n",
       "\n",
       "    .dataframe thead th {\n",
       "        text-align: right;\n",
       "    }\n",
       "</style>\n",
       "<table border=\"1\" class=\"dataframe\">\n",
       "  <thead>\n",
       "    <tr style=\"text-align: right;\">\n",
       "      <th></th>\n",
       "      <th>count</th>\n",
       "      <th>percent</th>\n",
       "    </tr>\n",
       "  </thead>\n",
       "  <tbody>\n",
       "    <tr>\n",
       "      <th>javascript-i</th>\n",
       "      <td>18983</td>\n",
       "      <td>0.120507</td>\n",
       "    </tr>\n",
       "    <tr>\n",
       "      <th>javascript-ii</th>\n",
       "      <td>10730</td>\n",
       "      <td>0.068116</td>\n",
       "    </tr>\n",
       "    <tr>\n",
       "      <th>javascript-i/introduction/working-with-data-types-operators-and-variables</th>\n",
       "      <td>7642</td>\n",
       "      <td>0.048513</td>\n",
       "    </tr>\n",
       "    <tr>\n",
       "      <th>javascript-i/javascript-with-html</th>\n",
       "      <td>7350</td>\n",
       "      <td>0.046659</td>\n",
       "    </tr>\n",
       "    <tr>\n",
       "      <th>javascript-i/functions</th>\n",
       "      <td>7348</td>\n",
       "      <td>0.046646</td>\n",
       "    </tr>\n",
       "    <tr>\n",
       "      <th>javascript-i/loops</th>\n",
       "      <td>6794</td>\n",
       "      <td>0.043129</td>\n",
       "    </tr>\n",
       "    <tr>\n",
       "      <th>javascript-i/conditionals</th>\n",
       "      <td>6596</td>\n",
       "      <td>0.041872</td>\n",
       "    </tr>\n",
       "    <tr>\n",
       "      <th>javascript-ii/promises</th>\n",
       "      <td>5433</td>\n",
       "      <td>0.034490</td>\n",
       "    </tr>\n",
       "    <tr>\n",
       "      <th>javascript-i/arrays/manipulating</th>\n",
       "      <td>5411</td>\n",
       "      <td>0.034350</td>\n",
       "    </tr>\n",
       "    <tr>\n",
       "      <th>javascript-i/objects</th>\n",
       "      <td>5361</td>\n",
       "      <td>0.034032</td>\n",
       "    </tr>\n",
       "    <tr>\n",
       "      <th>javascript-i/bom-and-dom/dom</th>\n",
       "      <td>5268</td>\n",
       "      <td>0.033442</td>\n",
       "    </tr>\n",
       "    <tr>\n",
       "      <th>javascript-i/introduction/operators</th>\n",
       "      <td>5132</td>\n",
       "      <td>0.032579</td>\n",
       "    </tr>\n",
       "    <tr>\n",
       "      <th>javascript-i/arrays</th>\n",
       "      <td>5128</td>\n",
       "      <td>0.032553</td>\n",
       "    </tr>\n",
       "    <tr>\n",
       "      <th>javascript-i/introduction/primitive-types</th>\n",
       "      <td>4689</td>\n",
       "      <td>0.029767</td>\n",
       "    </tr>\n",
       "    <tr>\n",
       "      <th>javascript-ii/es6</th>\n",
       "      <td>4669</td>\n",
       "      <td>0.029640</td>\n",
       "    </tr>\n",
       "    <tr>\n",
       "      <th>javascript-ii/ajax-api</th>\n",
       "      <td>4607</td>\n",
       "      <td>0.029246</td>\n",
       "    </tr>\n",
       "    <tr>\n",
       "      <th>javascript-ii/map-filter-reduce</th>\n",
       "      <td>4537</td>\n",
       "      <td>0.028802</td>\n",
       "    </tr>\n",
       "    <tr>\n",
       "      <th>javascript-i/bom-and-dom/bom</th>\n",
       "      <td>4317</td>\n",
       "      <td>0.027405</td>\n",
       "    </tr>\n",
       "    <tr>\n",
       "      <th>javascript-i/introduction/variables</th>\n",
       "      <td>4262</td>\n",
       "      <td>0.027056</td>\n",
       "    </tr>\n",
       "    <tr>\n",
       "      <th>javascript-ii/npm</th>\n",
       "      <td>3968</td>\n",
       "      <td>0.025189</td>\n",
       "    </tr>\n",
       "    <tr>\n",
       "      <th>javascript-i/bom-and-dom/dom-events</th>\n",
       "      <td>3797</td>\n",
       "      <td>0.024104</td>\n",
       "    </tr>\n",
       "    <tr>\n",
       "      <th>javascript-i/coffee-project</th>\n",
       "      <td>3563</td>\n",
       "      <td>0.022618</td>\n",
       "    </tr>\n",
       "    <tr>\n",
       "      <th>javascript-i/introduction</th>\n",
       "      <td>3434</td>\n",
       "      <td>0.021800</td>\n",
       "    </tr>\n",
       "    <tr>\n",
       "      <th>javascript-i/mapbox-api</th>\n",
       "      <td>3398</td>\n",
       "      <td>0.021571</td>\n",
       "    </tr>\n",
       "    <tr>\n",
       "      <th>javascript-ii/modules</th>\n",
       "      <td>3376</td>\n",
       "      <td>0.021431</td>\n",
       "    </tr>\n",
       "    <tr>\n",
       "      <th>javascript-i/objects/math</th>\n",
       "      <td>3118</td>\n",
       "      <td>0.019794</td>\n",
       "    </tr>\n",
       "    <tr>\n",
       "      <th>javascript-i/testing-user-functions</th>\n",
       "      <td>2532</td>\n",
       "      <td>0.016074</td>\n",
       "    </tr>\n",
       "    <tr>\n",
       "      <th>javascript-i/bom-and-dom</th>\n",
       "      <td>2181</td>\n",
       "      <td>0.013845</td>\n",
       "    </tr>\n",
       "    <tr>\n",
       "      <th>javascript-i/google-maps-api</th>\n",
       "      <td>1708</td>\n",
       "      <td>0.010843</td>\n",
       "    </tr>\n",
       "    <tr>\n",
       "      <th>javascript-ii/RESTful-api</th>\n",
       "      <td>1472</td>\n",
       "      <td>0.009344</td>\n",
       "    </tr>\n",
       "    <tr>\n",
       "      <th>javascript-i/bom-and-dom/calculator</th>\n",
       "      <td>642</td>\n",
       "      <td>0.004076</td>\n",
       "    </tr>\n",
       "    <tr>\n",
       "      <th>javascript-i/manipulating</th>\n",
       "      <td>22</td>\n",
       "      <td>0.000140</td>\n",
       "    </tr>\n",
       "    <tr>\n",
       "      <th>javascript-i/operators</th>\n",
       "      <td>10</td>\n",
       "      <td>0.000063</td>\n",
       "    </tr>\n",
       "    <tr>\n",
       "      <th>javascript-i/variables</th>\n",
       "      <td>8</td>\n",
       "      <td>0.000051</td>\n",
       "    </tr>\n",
       "    <tr>\n",
       "      <th>NaN</th>\n",
       "      <td>7</td>\n",
       "      <td>0.000044</td>\n",
       "    </tr>\n",
       "    <tr>\n",
       "      <th>javascript-i/bom-and-dom/bom/www.google.com</th>\n",
       "      <td>4</td>\n",
       "      <td>0.000025</td>\n",
       "    </tr>\n",
       "    <tr>\n",
       "      <th>javascript-i/dom-events</th>\n",
       "      <td>4</td>\n",
       "      <td>0.000025</td>\n",
       "    </tr>\n",
       "    <tr>\n",
       "      <th>javascript-ii/promises/undefined</th>\n",
       "      <td>3</td>\n",
       "      <td>0.000019</td>\n",
       "    </tr>\n",
       "    <tr>\n",
       "      <th>javascript-i/bom</th>\n",
       "      <td>3</td>\n",
       "      <td>0.000019</td>\n",
       "    </tr>\n",
       "    <tr>\n",
       "      <th>javascript-i/working-with-data-types-operators-and-variables</th>\n",
       "      <td>2</td>\n",
       "      <td>0.000013</td>\n",
       "    </tr>\n",
       "    <tr>\n",
       "      <th>javascript-i/introduction/working-with-data-types-operators-and-variables/www.google.com</th>\n",
       "      <td>2</td>\n",
       "      <td>0.000013</td>\n",
       "    </tr>\n",
       "    <tr>\n",
       "      <th>javascript-i/img/favicon.ico</th>\n",
       "      <td>2</td>\n",
       "      <td>0.000013</td>\n",
       "    </tr>\n",
       "    <tr>\n",
       "      <th>javascript-i/null</th>\n",
       "      <td>2</td>\n",
       "      <td>0.000013</td>\n",
       "    </tr>\n",
       "    <tr>\n",
       "      <th>javascript-i/primitive-types</th>\n",
       "      <td>1</td>\n",
       "      <td>0.000006</td>\n",
       "    </tr>\n",
       "    <tr>\n",
       "      <th>javascript-i/html-css</th>\n",
       "      <td>1</td>\n",
       "      <td>0.000006</td>\n",
       "    </tr>\n",
       "    <tr>\n",
       "      <th>javascript-i/bom-and-dom/bom/http%22://www.google.com</th>\n",
       "      <td>1</td>\n",
       "      <td>0.000006</td>\n",
       "    </tr>\n",
       "    <tr>\n",
       "      <th>javascript-i/math</th>\n",
       "      <td>1</td>\n",
       "      <td>0.000006</td>\n",
       "    </tr>\n",
       "    <tr>\n",
       "      <th>javascript-i/bom-and-dom/bom/google.com</th>\n",
       "      <td>1</td>\n",
       "      <td>0.000006</td>\n",
       "    </tr>\n",
       "    <tr>\n",
       "      <th>javascript-i/loops/google.com</th>\n",
       "      <td>1</td>\n",
       "      <td>0.000006</td>\n",
       "    </tr>\n",
       "    <tr>\n",
       "      <th>javascript-i/dom</th>\n",
       "      <td>1</td>\n",
       "      <td>0.000006</td>\n",
       "    </tr>\n",
       "    <tr>\n",
       "      <th>javascript-i/introduction/working-with-data-types-operators-and-variables/google.com</th>\n",
       "      <td>1</td>\n",
       "      <td>0.000006</td>\n",
       "    </tr>\n",
       "    <tr>\n",
       "      <th>javascript-i/introduction/working-with-data-types-operators-and-variables/600%20Navarro%20St.,%20San%20Antonio,%20TX%2078205,%20United%20States%20of%20America</th>\n",
       "      <td>1</td>\n",
       "      <td>0.000006</td>\n",
       "    </tr>\n",
       "    <tr>\n",
       "      <th>javascript-ii/promisesdfghjkjhgfs</th>\n",
       "      <td>1</td>\n",
       "      <td>0.000006</td>\n",
       "    </tr>\n",
       "    <tr>\n",
       "      <th>javascript-i/intruduction/operators</th>\n",
       "      <td>1</td>\n",
       "      <td>0.000006</td>\n",
       "    </tr>\n",
       "  </tbody>\n",
       "</table>\n",
       "</div>"
      ],
      "text/plain": [
       "                                                    count   percent\n",
       "javascript-i                                        18983  0.120507\n",
       "javascript-ii                                       10730  0.068116\n",
       "javascript-i/introduction/working-with-data-typ...   7642  0.048513\n",
       "javascript-i/javascript-with-html                    7350  0.046659\n",
       "javascript-i/functions                               7348  0.046646\n",
       "javascript-i/loops                                   6794  0.043129\n",
       "javascript-i/conditionals                            6596  0.041872\n",
       "javascript-ii/promises                               5433  0.034490\n",
       "javascript-i/arrays/manipulating                     5411  0.034350\n",
       "javascript-i/objects                                 5361  0.034032\n",
       "javascript-i/bom-and-dom/dom                         5268  0.033442\n",
       "javascript-i/introduction/operators                  5132  0.032579\n",
       "javascript-i/arrays                                  5128  0.032553\n",
       "javascript-i/introduction/primitive-types            4689  0.029767\n",
       "javascript-ii/es6                                    4669  0.029640\n",
       "javascript-ii/ajax-api                               4607  0.029246\n",
       "javascript-ii/map-filter-reduce                      4537  0.028802\n",
       "javascript-i/bom-and-dom/bom                         4317  0.027405\n",
       "javascript-i/introduction/variables                  4262  0.027056\n",
       "javascript-ii/npm                                    3968  0.025189\n",
       "javascript-i/bom-and-dom/dom-events                  3797  0.024104\n",
       "javascript-i/coffee-project                          3563  0.022618\n",
       "javascript-i/introduction                            3434  0.021800\n",
       "javascript-i/mapbox-api                              3398  0.021571\n",
       "javascript-ii/modules                                3376  0.021431\n",
       "javascript-i/objects/math                            3118  0.019794\n",
       "javascript-i/testing-user-functions                  2532  0.016074\n",
       "javascript-i/bom-and-dom                             2181  0.013845\n",
       "javascript-i/google-maps-api                         1708  0.010843\n",
       "javascript-ii/RESTful-api                            1472  0.009344\n",
       "javascript-i/bom-and-dom/calculator                   642  0.004076\n",
       "javascript-i/manipulating                              22  0.000140\n",
       "javascript-i/operators                                 10  0.000063\n",
       "javascript-i/variables                                  8  0.000051\n",
       "NaN                                                     7  0.000044\n",
       "javascript-i/bom-and-dom/bom/www.google.com             4  0.000025\n",
       "javascript-i/dom-events                                 4  0.000025\n",
       "javascript-ii/promises/undefined                        3  0.000019\n",
       "javascript-i/bom                                        3  0.000019\n",
       "javascript-i/working-with-data-types-operators-...      2  0.000013\n",
       "javascript-i/introduction/working-with-data-typ...      2  0.000013\n",
       "javascript-i/img/favicon.ico                            2  0.000013\n",
       "javascript-i/null                                       2  0.000013\n",
       "javascript-i/primitive-types                            1  0.000006\n",
       "javascript-i/html-css                                   1  0.000006\n",
       "javascript-i/bom-and-dom/bom/http%22://www.goog...      1  0.000006\n",
       "javascript-i/math                                       1  0.000006\n",
       "javascript-i/bom-and-dom/bom/google.com                 1  0.000006\n",
       "javascript-i/loops/google.com                           1  0.000006\n",
       "javascript-i/dom                                        1  0.000006\n",
       "javascript-i/introduction/working-with-data-typ...      1  0.000006\n",
       "javascript-i/introduction/working-with-data-typ...      1  0.000006\n",
       "javascript-ii/promisesdfghjkjhgfs                       1  0.000006\n",
       "javascript-i/intruduction/operators                     1  0.000006"
      ]
     },
     "execution_count": 145,
     "metadata": {},
     "output_type": "execute_result"
    }
   ],
   "source": [
    "# Displaying the count and frequenccy of each path searched inside 'javascript-i'\n",
    "\n",
    "value_counts_and_frequencies(java_search.path)"
   ]
  },
  {
   "cell_type": "code",
   "execution_count": 179,
   "id": "cae968b4",
   "metadata": {},
   "outputs": [
    {
     "data": {
      "text/html": [
       "<div>\n",
       "<style scoped>\n",
       "    .dataframe tbody tr th:only-of-type {\n",
       "        vertical-align: middle;\n",
       "    }\n",
       "\n",
       "    .dataframe tbody tr th {\n",
       "        vertical-align: top;\n",
       "    }\n",
       "\n",
       "    .dataframe thead th {\n",
       "        text-align: right;\n",
       "    }\n",
       "</style>\n",
       "<table border=\"1\" class=\"dataframe\">\n",
       "  <thead>\n",
       "    <tr style=\"text-align: right;\">\n",
       "      <th></th>\n",
       "      <th>count</th>\n",
       "      <th>percent</th>\n",
       "    </tr>\n",
       "  </thead>\n",
       "  <tbody>\n",
       "    <tr>\n",
       "      <th>javascript-i</th>\n",
       "      <td>18983</td>\n",
       "      <td>0.120507</td>\n",
       "    </tr>\n",
       "    <tr>\n",
       "      <th>javascript-ii</th>\n",
       "      <td>10730</td>\n",
       "      <td>0.068116</td>\n",
       "    </tr>\n",
       "    <tr>\n",
       "      <th>javascript-i/introduction/working-with-data-types-operators-and-variables</th>\n",
       "      <td>7642</td>\n",
       "      <td>0.048513</td>\n",
       "    </tr>\n",
       "    <tr>\n",
       "      <th>javascript-i/javascript-with-html</th>\n",
       "      <td>7350</td>\n",
       "      <td>0.046659</td>\n",
       "    </tr>\n",
       "    <tr>\n",
       "      <th>javascript-i/functions</th>\n",
       "      <td>7348</td>\n",
       "      <td>0.046646</td>\n",
       "    </tr>\n",
       "  </tbody>\n",
       "</table>\n",
       "</div>"
      ],
      "text/plain": [
       "                                                    count   percent\n",
       "javascript-i                                        18983  0.120507\n",
       "javascript-ii                                       10730  0.068116\n",
       "javascript-i/introduction/working-with-data-typ...   7642  0.048513\n",
       "javascript-i/javascript-with-html                    7350  0.046659\n",
       "javascript-i/functions                               7348  0.046646"
      ]
     },
     "execution_count": 179,
     "metadata": {},
     "output_type": "execute_result"
    }
   ],
   "source": [
    "# Assigning the count and frequency to a variable\n",
    "\n",
    "A = value_counts_and_frequencies(java_search.path)\n",
    "A.head()"
   ]
  },
  {
   "cell_type": "code",
   "execution_count": 180,
   "id": "f3cde813",
   "metadata": {},
   "outputs": [
    {
     "data": {
      "text/plain": [
       "1.0000000000000002"
      ]
     },
     "execution_count": 180,
     "metadata": {},
     "output_type": "execute_result"
    }
   ],
   "source": [
    "# Making sure the total of lessons visited is 1 or 100%\n",
    "\n",
    "A.percent.sum()"
   ]
  },
  {
   "cell_type": "markdown",
   "id": "f042b367",
   "metadata": {},
   "source": [
    ">### Takeaways\n",
    "\n",
    "        - javascript-i and javascript-ii are the top referred paths but seem to be referring to levels/modules\n",
    "        - If that is the case javascript-i/introduction/working-with-data-types-operators-and-variables with 7642 references is the most referred to lesson. It constitutes 4.85% of the lessons that were referred to.\n"
   ]
  },
  {
   "cell_type": "markdown",
   "id": "a2d3b0ad",
   "metadata": {},
   "source": [
    "## The cohort that referred to it the most"
   ]
  },
  {
   "cell_type": "code",
   "execution_count": 192,
   "id": "277a2712",
   "metadata": {},
   "outputs": [
    {
     "data": {
      "text/html": [
       "<div>\n",
       "<style scoped>\n",
       "    .dataframe tbody tr th:only-of-type {\n",
       "        vertical-align: middle;\n",
       "    }\n",
       "\n",
       "    .dataframe tbody tr th {\n",
       "        vertical-align: top;\n",
       "    }\n",
       "\n",
       "    .dataframe thead th {\n",
       "        text-align: right;\n",
       "    }\n",
       "</style>\n",
       "<table border=\"1\" class=\"dataframe\">\n",
       "  <thead>\n",
       "    <tr style=\"text-align: right;\">\n",
       "      <th></th>\n",
       "      <th>path</th>\n",
       "      <th>user_id</th>\n",
       "      <th>cohort_id</th>\n",
       "      <th>ip</th>\n",
       "      <th>name</th>\n",
       "      <th>start_date</th>\n",
       "      <th>end_date</th>\n",
       "      <th>datetime</th>\n",
       "    </tr>\n",
       "  </thead>\n",
       "  <tbody>\n",
       "    <tr>\n",
       "      <th>375</th>\n",
       "      <td>javascript-i/introduction/working-with-data-ty...</td>\n",
       "      <td>1.0</td>\n",
       "      <td>8.0</td>\n",
       "      <td>172.56.15.203</td>\n",
       "      <td>Hampton</td>\n",
       "      <td>2015-09-22</td>\n",
       "      <td>2016-02-06</td>\n",
       "      <td>2018-03-19 07:44:55</td>\n",
       "    </tr>\n",
       "    <tr>\n",
       "      <th>389</th>\n",
       "      <td>javascript-i/introduction/working-with-data-ty...</td>\n",
       "      <td>1.0</td>\n",
       "      <td>8.0</td>\n",
       "      <td>97.105.19.61</td>\n",
       "      <td>Hampton</td>\n",
       "      <td>2015-09-22</td>\n",
       "      <td>2016-02-06</td>\n",
       "      <td>2018-03-19 11:14:05</td>\n",
       "    </tr>\n",
       "    <tr>\n",
       "      <th>393</th>\n",
       "      <td>javascript-i/introduction/working-with-data-ty...</td>\n",
       "      <td>1.0</td>\n",
       "      <td>8.0</td>\n",
       "      <td>97.105.19.61</td>\n",
       "      <td>Hampton</td>\n",
       "      <td>2015-09-22</td>\n",
       "      <td>2016-02-06</td>\n",
       "      <td>2018-03-19 11:23:41</td>\n",
       "    </tr>\n",
       "    <tr>\n",
       "      <th>396</th>\n",
       "      <td>javascript-i/introduction/working-with-data-ty...</td>\n",
       "      <td>1.0</td>\n",
       "      <td>8.0</td>\n",
       "      <td>97.105.19.61</td>\n",
       "      <td>Hampton</td>\n",
       "      <td>2015-09-22</td>\n",
       "      <td>2016-02-06</td>\n",
       "      <td>2018-03-19 12:01:26</td>\n",
       "    </tr>\n",
       "    <tr>\n",
       "      <th>400</th>\n",
       "      <td>javascript-i/introduction/working-with-data-ty...</td>\n",
       "      <td>1.0</td>\n",
       "      <td>8.0</td>\n",
       "      <td>97.105.19.61</td>\n",
       "      <td>Hampton</td>\n",
       "      <td>2015-09-22</td>\n",
       "      <td>2016-02-06</td>\n",
       "      <td>2018-03-19 12:10:25</td>\n",
       "    </tr>\n",
       "    <tr>\n",
       "      <th>...</th>\n",
       "      <td>...</td>\n",
       "      <td>...</td>\n",
       "      <td>...</td>\n",
       "      <td>...</td>\n",
       "      <td>...</td>\n",
       "      <td>...</td>\n",
       "      <td>...</td>\n",
       "      <td>...</td>\n",
       "    </tr>\n",
       "    <tr>\n",
       "      <th>900159</th>\n",
       "      <td>javascript-i/introduction/working-with-data-ty...</td>\n",
       "      <td>958.0</td>\n",
       "      <td>139.0</td>\n",
       "      <td>69.239.143.192</td>\n",
       "      <td>Oberon</td>\n",
       "      <td>2021-04-12</td>\n",
       "      <td>2021-10-01</td>\n",
       "      <td>2021-04-21 09:58:14</td>\n",
       "    </tr>\n",
       "    <tr>\n",
       "      <th>900164</th>\n",
       "      <td>javascript-i/introduction/working-with-data-ty...</td>\n",
       "      <td>955.0</td>\n",
       "      <td>139.0</td>\n",
       "      <td>70.121.220.245</td>\n",
       "      <td>Oberon</td>\n",
       "      <td>2021-04-12</td>\n",
       "      <td>2021-10-01</td>\n",
       "      <td>2021-04-21 10:11:33</td>\n",
       "    </tr>\n",
       "    <tr>\n",
       "      <th>900174</th>\n",
       "      <td>javascript-i/introduction/working-with-data-ty...</td>\n",
       "      <td>958.0</td>\n",
       "      <td>139.0</td>\n",
       "      <td>69.239.143.192</td>\n",
       "      <td>Oberon</td>\n",
       "      <td>2021-04-12</td>\n",
       "      <td>2021-10-01</td>\n",
       "      <td>2021-04-21 10:15:29</td>\n",
       "    </tr>\n",
       "    <tr>\n",
       "      <th>900194</th>\n",
       "      <td>javascript-i/introduction/working-with-data-ty...</td>\n",
       "      <td>957.0</td>\n",
       "      <td>139.0</td>\n",
       "      <td>76.185.197.205</td>\n",
       "      <td>Oberon</td>\n",
       "      <td>2021-04-12</td>\n",
       "      <td>2021-10-01</td>\n",
       "      <td>2021-04-21 10:27:13</td>\n",
       "    </tr>\n",
       "    <tr>\n",
       "      <th>900199</th>\n",
       "      <td>javascript-i/introduction/working-with-data-ty...</td>\n",
       "      <td>957.0</td>\n",
       "      <td>139.0</td>\n",
       "      <td>76.185.197.205</td>\n",
       "      <td>Oberon</td>\n",
       "      <td>2021-04-12</td>\n",
       "      <td>2021-10-01</td>\n",
       "      <td>2021-04-21 10:28:26</td>\n",
       "    </tr>\n",
       "  </tbody>\n",
       "</table>\n",
       "<p>7642 rows × 8 columns</p>\n",
       "</div>"
      ],
      "text/plain": [
       "                                                     path  user_id  cohort_id  \\\n",
       "375     javascript-i/introduction/working-with-data-ty...      1.0        8.0   \n",
       "389     javascript-i/introduction/working-with-data-ty...      1.0        8.0   \n",
       "393     javascript-i/introduction/working-with-data-ty...      1.0        8.0   \n",
       "396     javascript-i/introduction/working-with-data-ty...      1.0        8.0   \n",
       "400     javascript-i/introduction/working-with-data-ty...      1.0        8.0   \n",
       "...                                                   ...      ...        ...   \n",
       "900159  javascript-i/introduction/working-with-data-ty...    958.0      139.0   \n",
       "900164  javascript-i/introduction/working-with-data-ty...    955.0      139.0   \n",
       "900174  javascript-i/introduction/working-with-data-ty...    958.0      139.0   \n",
       "900194  javascript-i/introduction/working-with-data-ty...    957.0      139.0   \n",
       "900199  javascript-i/introduction/working-with-data-ty...    957.0      139.0   \n",
       "\n",
       "                    ip     name  start_date    end_date            datetime  \n",
       "375      172.56.15.203  Hampton  2015-09-22  2016-02-06 2018-03-19 07:44:55  \n",
       "389       97.105.19.61  Hampton  2015-09-22  2016-02-06 2018-03-19 11:14:05  \n",
       "393       97.105.19.61  Hampton  2015-09-22  2016-02-06 2018-03-19 11:23:41  \n",
       "396       97.105.19.61  Hampton  2015-09-22  2016-02-06 2018-03-19 12:01:26  \n",
       "400       97.105.19.61  Hampton  2015-09-22  2016-02-06 2018-03-19 12:10:25  \n",
       "...                ...      ...         ...         ...                 ...  \n",
       "900159  69.239.143.192   Oberon  2021-04-12  2021-10-01 2021-04-21 09:58:14  \n",
       "900164  70.121.220.245   Oberon  2021-04-12  2021-10-01 2021-04-21 10:11:33  \n",
       "900174  69.239.143.192   Oberon  2021-04-12  2021-10-01 2021-04-21 10:15:29  \n",
       "900194  76.185.197.205   Oberon  2021-04-12  2021-10-01 2021-04-21 10:27:13  \n",
       "900199  76.185.197.205   Oberon  2021-04-12  2021-10-01 2021-04-21 10:28:26  \n",
       "\n",
       "[7642 rows x 8 columns]"
      ]
     },
     "execution_count": 192,
     "metadata": {},
     "output_type": "execute_result"
    }
   ],
   "source": [
    "# Isolating the most researched path\n",
    "\n",
    "intro_path = java_search[java_search['path'] == 'javascript-i/introduction/\\\n",
    "working-with-data-types-operators-and-variables']\n",
    "\n",
    "intro_path"
   ]
  },
  {
   "cell_type": "code",
   "execution_count": 193,
   "id": "5dcceae5",
   "metadata": {},
   "outputs": [
    {
     "data": {
      "text/plain": [
       "path            0\n",
       "user_id         0\n",
       "cohort_id     316\n",
       "ip              0\n",
       "name          316\n",
       "start_date    316\n",
       "end_date      316\n",
       "datetime        0\n",
       "dtype: int64"
      ]
     },
     "execution_count": 193,
     "metadata": {},
     "output_type": "execute_result"
    }
   ],
   "source": [
    "intro_path.isnull().sum()"
   ]
  },
  {
   "cell_type": "code",
   "execution_count": 183,
   "id": "719fb8a9",
   "metadata": {},
   "outputs": [
    {
     "data": {
      "text/plain": [
       "1"
      ]
     },
     "execution_count": 183,
     "metadata": {},
     "output_type": "execute_result"
    }
   ],
   "source": [
    "intro_path.path.nunique()"
   ]
  },
  {
   "cell_type": "code",
   "execution_count": 194,
   "id": "d25046ef",
   "metadata": {},
   "outputs": [
    {
     "data": {
      "text/plain": [
       "35"
      ]
     },
     "execution_count": 194,
     "metadata": {},
     "output_type": "execute_result"
    }
   ],
   "source": [
    "intro_path.name.nunique()"
   ]
  },
  {
   "cell_type": "code",
   "execution_count": 190,
   "id": "a3dc0daa",
   "metadata": {},
   "outputs": [
    {
     "data": {
      "text/html": [
       "<div>\n",
       "<style scoped>\n",
       "    .dataframe tbody tr th:only-of-type {\n",
       "        vertical-align: middle;\n",
       "    }\n",
       "\n",
       "    .dataframe tbody tr th {\n",
       "        vertical-align: top;\n",
       "    }\n",
       "\n",
       "    .dataframe thead th {\n",
       "        text-align: right;\n",
       "    }\n",
       "</style>\n",
       "<table border=\"1\" class=\"dataframe\">\n",
       "  <thead>\n",
       "    <tr style=\"text-align: right;\">\n",
       "      <th></th>\n",
       "      <th>count</th>\n",
       "      <th>percent</th>\n",
       "    </tr>\n",
       "  </thead>\n",
       "  <tbody>\n",
       "    <tr>\n",
       "      <th>Marco</th>\n",
       "      <td>505</td>\n",
       "      <td>0.066082</td>\n",
       "    </tr>\n",
       "    <tr>\n",
       "      <th>Ceres</th>\n",
       "      <td>423</td>\n",
       "      <td>0.055352</td>\n",
       "    </tr>\n",
       "    <tr>\n",
       "      <th>Hyperion</th>\n",
       "      <td>382</td>\n",
       "      <td>0.049987</td>\n",
       "    </tr>\n",
       "    <tr>\n",
       "      <th>Jupiter</th>\n",
       "      <td>362</td>\n",
       "      <td>0.047370</td>\n",
       "    </tr>\n",
       "    <tr>\n",
       "      <th>Zion</th>\n",
       "      <td>356</td>\n",
       "      <td>0.046585</td>\n",
       "    </tr>\n",
       "  </tbody>\n",
       "</table>\n",
       "</div>"
      ],
      "text/plain": [
       "          count   percent\n",
       "Marco       505  0.066082\n",
       "Ceres       423  0.055352\n",
       "Hyperion    382  0.049987\n",
       "Jupiter     362  0.047370\n",
       "Zion        356  0.046585"
      ]
     },
     "execution_count": 190,
     "metadata": {},
     "output_type": "execute_result"
    }
   ],
   "source": [
    "# Which cohorts inquired tho most for the most researched lesson?\n",
    "\n",
    "value_counts_and_frequencies(intro_path.name, dropna=False).head()"
   ]
  },
  {
   "cell_type": "code",
   "execution_count": 204,
   "id": "0ca5b3e6",
   "metadata": {},
   "outputs": [
    {
     "data": {
      "text/plain": [
       "<AxesSubplot:title={'center':'The cohort that searched the most about the top searched lesson'}, ylabel='Cohorts'>"
      ]
     },
     "execution_count": 204,
     "metadata": {},
     "output_type": "execute_result"
    },
    {
     "data": {
      "image/png": "[encoded data removed]",
      "text/plain": [
       "<Figure size 360x504 with 1 Axes>"
      ]
     },
     "metadata": {
      "needs_background": "light"
     },
     "output_type": "display_data"
    }
   ],
   "source": [
    "# Plotting the code above \n",
    "\n",
    "intro_path.name\\\n",
    ".value_counts(dropna=False, ascending=True)\\\n",
    ".tail(5).plot(kind='barh',\n",
    "              colormap='seismic',\n",
    "              title= 'The cohort that searched the most about the top searched lesson',\n",
    "              figsize=(5, 7), xlabel='Cohorts')"
   ]
  },
  {
   "cell_type": "markdown",
   "id": "86e1336d",
   "metadata": {},
   "source": [
    "# Conclusion\n",
    "\n",
    ">**The Marco cohort has the most searches of 'javascript-i/introduction/working-with-data-types-operators-and-variables' with 505 searches**"
   ]
  },
  {
   "cell_type": "markdown",
   "id": "b80ad5b2",
   "metadata": {},
   "source": [
    "***"
   ]
  },
  {
   "cell_type": "markdown",
   "id": "55f9bd3d",
   "metadata": {},
   "source": [
    "# Organizing the code to include in Final Notebook"
   ]
  },
  {
   "cell_type": "markdown",
   "id": "c2a89263",
   "metadata": {},
   "source": [
    "## Which cohorts inquired the most for most searched lesson?:\n",
    "\n",
    "'javascript-i/introduction/working-with-data-types-operators-and-variables'"
   ]
  },
  {
   "cell_type": "code",
   "execution_count": 223,
   "id": "ac33b4fe",
   "metadata": {},
   "outputs": [],
   "source": [
    "# Isolating the most searched lesson\n",
    "\n",
    "intro_path = combined_df[combined_df['path'] == 'javascript-i/introduction/\\\n",
    "working-with-data-types-operators-and-variables']"
   ]
  },
  {
   "cell_type": "code",
   "execution_count": 240,
   "id": "d515d987",
   "metadata": {},
   "outputs": [
    {
     "data": {
      "text/html": [
       "<div>\n",
       "<style scoped>\n",
       "    .dataframe tbody tr th:only-of-type {\n",
       "        vertical-align: middle;\n",
       "    }\n",
       "\n",
       "    .dataframe tbody tr th {\n",
       "        vertical-align: top;\n",
       "    }\n",
       "\n",
       "    .dataframe thead th {\n",
       "        text-align: right;\n",
       "    }\n",
       "</style>\n",
       "<table border=\"1\" class=\"dataframe\">\n",
       "  <thead>\n",
       "    <tr style=\"text-align: right;\">\n",
       "      <th></th>\n",
       "      <th>path</th>\n",
       "      <th>user_id</th>\n",
       "      <th>cohort_id</th>\n",
       "      <th>ip</th>\n",
       "      <th>name</th>\n",
       "      <th>start_date</th>\n",
       "      <th>end_date</th>\n",
       "      <th>datetime</th>\n",
       "    </tr>\n",
       "  </thead>\n",
       "  <tbody>\n",
       "    <tr>\n",
       "      <th>375</th>\n",
       "      <td>javascript-i/introduction/working-with-data-ty...</td>\n",
       "      <td>1.0</td>\n",
       "      <td>8.0</td>\n",
       "      <td>172.56.15.203</td>\n",
       "      <td>Hampton</td>\n",
       "      <td>2015-09-22</td>\n",
       "      <td>2016-02-06</td>\n",
       "      <td>2018-03-19 07:44:55</td>\n",
       "    </tr>\n",
       "    <tr>\n",
       "      <th>389</th>\n",
       "      <td>javascript-i/introduction/working-with-data-ty...</td>\n",
       "      <td>1.0</td>\n",
       "      <td>8.0</td>\n",
       "      <td>97.105.19.61</td>\n",
       "      <td>Hampton</td>\n",
       "      <td>2015-09-22</td>\n",
       "      <td>2016-02-06</td>\n",
       "      <td>2018-03-19 11:14:05</td>\n",
       "    </tr>\n",
       "    <tr>\n",
       "      <th>393</th>\n",
       "      <td>javascript-i/introduction/working-with-data-ty...</td>\n",
       "      <td>1.0</td>\n",
       "      <td>8.0</td>\n",
       "      <td>97.105.19.61</td>\n",
       "      <td>Hampton</td>\n",
       "      <td>2015-09-22</td>\n",
       "      <td>2016-02-06</td>\n",
       "      <td>2018-03-19 11:23:41</td>\n",
       "    </tr>\n",
       "    <tr>\n",
       "      <th>396</th>\n",
       "      <td>javascript-i/introduction/working-with-data-ty...</td>\n",
       "      <td>1.0</td>\n",
       "      <td>8.0</td>\n",
       "      <td>97.105.19.61</td>\n",
       "      <td>Hampton</td>\n",
       "      <td>2015-09-22</td>\n",
       "      <td>2016-02-06</td>\n",
       "      <td>2018-03-19 12:01:26</td>\n",
       "    </tr>\n",
       "    <tr>\n",
       "      <th>400</th>\n",
       "      <td>javascript-i/introduction/working-with-data-ty...</td>\n",
       "      <td>1.0</td>\n",
       "      <td>8.0</td>\n",
       "      <td>97.105.19.61</td>\n",
       "      <td>Hampton</td>\n",
       "      <td>2015-09-22</td>\n",
       "      <td>2016-02-06</td>\n",
       "      <td>2018-03-19 12:10:25</td>\n",
       "    </tr>\n",
       "  </tbody>\n",
       "</table>\n",
       "</div>"
      ],
      "text/plain": [
       "                                                  path  user_id  cohort_id  \\\n",
       "375  javascript-i/introduction/working-with-data-ty...      1.0        8.0   \n",
       "389  javascript-i/introduction/working-with-data-ty...      1.0        8.0   \n",
       "393  javascript-i/introduction/working-with-data-ty...      1.0        8.0   \n",
       "396  javascript-i/introduction/working-with-data-ty...      1.0        8.0   \n",
       "400  javascript-i/introduction/working-with-data-ty...      1.0        8.0   \n",
       "\n",
       "                ip     name  start_date    end_date            datetime  \n",
       "375  172.56.15.203  Hampton  2015-09-22  2016-02-06 2018-03-19 07:44:55  \n",
       "389   97.105.19.61  Hampton  2015-09-22  2016-02-06 2018-03-19 11:14:05  \n",
       "393   97.105.19.61  Hampton  2015-09-22  2016-02-06 2018-03-19 11:23:41  \n",
       "396   97.105.19.61  Hampton  2015-09-22  2016-02-06 2018-03-19 12:01:26  \n",
       "400   97.105.19.61  Hampton  2015-09-22  2016-02-06 2018-03-19 12:10:25  "
      ]
     },
     "execution_count": 240,
     "metadata": {},
     "output_type": "execute_result"
    }
   ],
   "source": [
    "intro_path.head()"
   ]
  },
  {
   "cell_type": "code",
   "execution_count": 229,
   "id": "e9dc1929",
   "metadata": {},
   "outputs": [
    {
     "data": {
      "text/plain": [
       "<AxesSubplot:title={'center':'The cohort that inquired the most about the top searched lessons'}, ylabel='Cohorts'>"
      ]
     },
     "execution_count": 229,
     "metadata": {},
     "output_type": "execute_result"
    },
    {
     "data": {
      "image/png": "[encoded data removed]",
      "text/plain": [
       "<Figure size 360x504 with 1 Axes>"
      ]
     },
     "metadata": {
      "needs_background": "light"
     },
     "output_type": "display_data"
    }
   ],
   "source": [
    "# Plotting the top cohorts that referenced the most researched lesson?\n",
    "\n",
    "intro_path.name\\\n",
    ".value_counts(normalize=True, dropna=False, ascending=True)\\\n",
    ".tail(5).plot(kind='barh',\n",
    "              colormap='seismic',\n",
    "              title= 'The cohort that inquired the most about the top searched lessons',\n",
    "              figsize=(5, 7), xlabel='Cohorts')"
   ]
  },
  {
   "cell_type": "code",
   "execution_count": 317,
   "id": "acea7c64",
   "metadata": {},
   "outputs": [],
   "source": [
    "def top_cohort_accessing_intro(df, string):\n",
    "    string = string\n",
    "    intro_path = df[df['path'] == 'string']\n",
    "    percent_df = pd.DataFrame(intro_path.name.value_counts(normalize=True,\n",
    "                                                           dropna=False,).rename('percent_search'))\n",
    "    percent = percent_df.head(5)\n",
    "    plt.title('The cohort that inquired the most about the top searched lessons')\n",
    "    sns.barplot(data=percent.head(5), x='percent_search', y=percent.index)"
   ]
  },
  {
   "cell_type": "code",
   "execution_count": 319,
   "id": "b8b1b046",
   "metadata": {},
   "outputs": [
    {
     "data": {
      "text/html": [
       "<div>\n",
       "<style scoped>\n",
       "    .dataframe tbody tr th:only-of-type {\n",
       "        vertical-align: middle;\n",
       "    }\n",
       "\n",
       "    .dataframe tbody tr th {\n",
       "        vertical-align: top;\n",
       "    }\n",
       "\n",
       "    .dataframe thead th {\n",
       "        text-align: right;\n",
       "    }\n",
       "</style>\n",
       "<table border=\"1\" class=\"dataframe\">\n",
       "  <thead>\n",
       "    <tr style=\"text-align: right;\">\n",
       "      <th></th>\n",
       "      <th>path</th>\n",
       "      <th>user_id</th>\n",
       "      <th>cohort_id</th>\n",
       "      <th>ip</th>\n",
       "      <th>name</th>\n",
       "      <th>start_date</th>\n",
       "      <th>end_date</th>\n",
       "      <th>datetime</th>\n",
       "    </tr>\n",
       "  </thead>\n",
       "  <tbody>\n",
       "    <tr>\n",
       "      <th>0</th>\n",
       "      <td>/</td>\n",
       "      <td>1.0</td>\n",
       "      <td>8.0</td>\n",
       "      <td>97.105.19.61</td>\n",
       "      <td>Hampton</td>\n",
       "      <td>2015-09-22</td>\n",
       "      <td>2016-02-06</td>\n",
       "      <td>2018-01-26 09:55:03</td>\n",
       "    </tr>\n",
       "    <tr>\n",
       "      <th>1</th>\n",
       "      <td>java-ii</td>\n",
       "      <td>1.0</td>\n",
       "      <td>8.0</td>\n",
       "      <td>97.105.19.61</td>\n",
       "      <td>Hampton</td>\n",
       "      <td>2015-09-22</td>\n",
       "      <td>2016-02-06</td>\n",
       "      <td>2018-01-26 09:56:02</td>\n",
       "    </tr>\n",
       "    <tr>\n",
       "      <th>2</th>\n",
       "      <td>java-ii/object-oriented-programming</td>\n",
       "      <td>1.0</td>\n",
       "      <td>8.0</td>\n",
       "      <td>97.105.19.61</td>\n",
       "      <td>Hampton</td>\n",
       "      <td>2015-09-22</td>\n",
       "      <td>2016-02-06</td>\n",
       "      <td>2018-01-26 09:56:05</td>\n",
       "    </tr>\n",
       "    <tr>\n",
       "      <th>3</th>\n",
       "      <td>slides/object_oriented_programming</td>\n",
       "      <td>1.0</td>\n",
       "      <td>8.0</td>\n",
       "      <td>97.105.19.61</td>\n",
       "      <td>Hampton</td>\n",
       "      <td>2015-09-22</td>\n",
       "      <td>2016-02-06</td>\n",
       "      <td>2018-01-26 09:56:06</td>\n",
       "    </tr>\n",
       "    <tr>\n",
       "      <th>4</th>\n",
       "      <td>javascript-i/functions</td>\n",
       "      <td>1.0</td>\n",
       "      <td>8.0</td>\n",
       "      <td>97.105.19.61</td>\n",
       "      <td>Hampton</td>\n",
       "      <td>2015-09-22</td>\n",
       "      <td>2016-02-06</td>\n",
       "      <td>2018-01-26 10:40:15</td>\n",
       "    </tr>\n",
       "  </tbody>\n",
       "</table>\n",
       "</div>"
      ],
      "text/plain": [
       "                                  path  user_id  cohort_id            ip  \\\n",
       "0                                    /      1.0        8.0  97.105.19.61   \n",
       "1                              java-ii      1.0        8.0  97.105.19.61   \n",
       "2  java-ii/object-oriented-programming      1.0        8.0  97.105.19.61   \n",
       "3   slides/object_oriented_programming      1.0        8.0  97.105.19.61   \n",
       "4               javascript-i/functions      1.0        8.0  97.105.19.61   \n",
       "\n",
       "      name  start_date    end_date            datetime  \n",
       "0  Hampton  2015-09-22  2016-02-06 2018-01-26 09:55:03  \n",
       "1  Hampton  2015-09-22  2016-02-06 2018-01-26 09:56:02  \n",
       "2  Hampton  2015-09-22  2016-02-06 2018-01-26 09:56:05  \n",
       "3  Hampton  2015-09-22  2016-02-06 2018-01-26 09:56:06  \n",
       "4  Hampton  2015-09-22  2016-02-06 2018-01-26 10:40:15  "
      ]
     },
     "execution_count": 319,
     "metadata": {},
     "output_type": "execute_result"
    }
   ],
   "source": [
    "combined_df.head()"
   ]
  },
  {
   "cell_type": "code",
   "execution_count": 318,
   "id": "371c7dcc",
   "metadata": {
    "scrolled": false
   },
   "outputs": [
    {
     "ename": "ValueError",
     "evalue": "The truth value of a Series is ambiguous. Use a.empty, a.bool(), a.item(), a.any() or a.all().",
     "output_type": "error",
     "traceback": [
      "\u001b[0;31m---------------------------------------------------------------------------\u001b[0m",
      "\u001b[0;31mValueError\u001b[0m                                Traceback (most recent call last)",
      "\u001b[0;32m/var/folders/5k/zptdym41293159jft7y2b6cm0000gp/T/ipykernel_13052/1786835598.py\u001b[0m in \u001b[0;36m<module>\u001b[0;34m\u001b[0m\n\u001b[1;32m      1\u001b[0m \u001b[0mstring\u001b[0m\u001b[0;34m=\u001b[0m\u001b[0;34m'javascript-i/introduction/working-with-data-types-operators-and-variables'\u001b[0m\u001b[0;34m\u001b[0m\u001b[0;34m\u001b[0m\u001b[0m\n\u001b[1;32m      2\u001b[0m \u001b[0;34m\u001b[0m\u001b[0m\n\u001b[0;32m----> 3\u001b[0;31m \u001b[0mtop_cohort_accessing_intro\u001b[0m\u001b[0;34m(\u001b[0m\u001b[0mcombined_df\u001b[0m\u001b[0;34m,\u001b[0m \u001b[0mstring\u001b[0m\u001b[0;34m)\u001b[0m\u001b[0;34m\u001b[0m\u001b[0;34m\u001b[0m\u001b[0m\n\u001b[0m",
      "\u001b[0;32m/var/folders/5k/zptdym41293159jft7y2b6cm0000gp/T/ipykernel_13052/2822769900.py\u001b[0m in \u001b[0;36mtop_cohort_accessing_intro\u001b[0;34m(df, string)\u001b[0m\n\u001b[1;32m      6\u001b[0m     \u001b[0mpercent\u001b[0m \u001b[0;34m=\u001b[0m \u001b[0mpercent_df\u001b[0m\u001b[0;34m.\u001b[0m\u001b[0mhead\u001b[0m\u001b[0;34m(\u001b[0m\u001b[0;36m5\u001b[0m\u001b[0;34m)\u001b[0m\u001b[0;34m\u001b[0m\u001b[0;34m\u001b[0m\u001b[0m\n\u001b[1;32m      7\u001b[0m     \u001b[0mplt\u001b[0m\u001b[0;34m.\u001b[0m\u001b[0mtitle\u001b[0m\u001b[0;34m(\u001b[0m\u001b[0;34m'The cohort that inquired the most about the top searched lessons'\u001b[0m\u001b[0;34m)\u001b[0m\u001b[0;34m\u001b[0m\u001b[0;34m\u001b[0m\u001b[0m\n\u001b[0;32m----> 8\u001b[0;31m     \u001b[0msns\u001b[0m\u001b[0;34m.\u001b[0m\u001b[0mbarplot\u001b[0m\u001b[0;34m(\u001b[0m\u001b[0mdata\u001b[0m\u001b[0;34m=\u001b[0m\u001b[0mpercent\u001b[0m\u001b[0;34m.\u001b[0m\u001b[0mhead\u001b[0m\u001b[0;34m(\u001b[0m\u001b[0;36m5\u001b[0m\u001b[0;34m)\u001b[0m\u001b[0;34m,\u001b[0m \u001b[0mx\u001b[0m\u001b[0;34m=\u001b[0m\u001b[0;34m'percent_search'\u001b[0m\u001b[0;34m,\u001b[0m \u001b[0my\u001b[0m\u001b[0;34m=\u001b[0m\u001b[0mpercent\u001b[0m\u001b[0;34m.\u001b[0m\u001b[0mindex\u001b[0m\u001b[0;34m)\u001b[0m\u001b[0;34m\u001b[0m\u001b[0;34m\u001b[0m\u001b[0m\n\u001b[0m",
      "\u001b[0;32m/opt/homebrew/anaconda3/lib/python3.9/site-packages/seaborn/_decorators.py\u001b[0m in \u001b[0;36minner_f\u001b[0;34m(*args, **kwargs)\u001b[0m\n\u001b[1;32m     44\u001b[0m             )\n\u001b[1;32m     45\u001b[0m         \u001b[0mkwargs\u001b[0m\u001b[0;34m.\u001b[0m\u001b[0mupdate\u001b[0m\u001b[0;34m(\u001b[0m\u001b[0;34m{\u001b[0m\u001b[0mk\u001b[0m\u001b[0;34m:\u001b[0m \u001b[0marg\u001b[0m \u001b[0;32mfor\u001b[0m \u001b[0mk\u001b[0m\u001b[0;34m,\u001b[0m \u001b[0marg\u001b[0m \u001b[0;32min\u001b[0m \u001b[0mzip\u001b[0m\u001b[0;34m(\u001b[0m\u001b[0msig\u001b[0m\u001b[0;34m.\u001b[0m\u001b[0mparameters\u001b[0m\u001b[0;34m,\u001b[0m \u001b[0margs\u001b[0m\u001b[0;34m)\u001b[0m\u001b[0;34m}\u001b[0m\u001b[0;34m)\u001b[0m\u001b[0;34m\u001b[0m\u001b[0;34m\u001b[0m\u001b[0m\n\u001b[0;32m---> 46\u001b[0;31m         \u001b[0;32mreturn\u001b[0m \u001b[0mf\u001b[0m\u001b[0;34m(\u001b[0m\u001b[0;34m**\u001b[0m\u001b[0mkwargs\u001b[0m\u001b[0;34m)\u001b[0m\u001b[0;34m\u001b[0m\u001b[0;34m\u001b[0m\u001b[0m\n\u001b[0m\u001b[1;32m     47\u001b[0m     \u001b[0;32mreturn\u001b[0m \u001b[0minner_f\u001b[0m\u001b[0;34m\u001b[0m\u001b[0;34m\u001b[0m\u001b[0m\n\u001b[1;32m     48\u001b[0m \u001b[0;34m\u001b[0m\u001b[0m\n",
      "\u001b[0;32m/opt/homebrew/anaconda3/lib/python3.9/site-packages/seaborn/categorical.py\u001b[0m in \u001b[0;36mbarplot\u001b[0;34m(x, y, hue, data, order, hue_order, estimator, ci, n_boot, units, seed, orient, color, palette, saturation, errcolor, errwidth, capsize, dodge, ax, **kwargs)\u001b[0m\n\u001b[1;32m   3180\u001b[0m ):\n\u001b[1;32m   3181\u001b[0m \u001b[0;34m\u001b[0m\u001b[0m\n\u001b[0;32m-> 3182\u001b[0;31m     plotter = _BarPlotter(x, y, hue, data, order, hue_order,\n\u001b[0m\u001b[1;32m   3183\u001b[0m                           \u001b[0mestimator\u001b[0m\u001b[0;34m,\u001b[0m \u001b[0mci\u001b[0m\u001b[0;34m,\u001b[0m \u001b[0mn_boot\u001b[0m\u001b[0;34m,\u001b[0m \u001b[0munits\u001b[0m\u001b[0;34m,\u001b[0m \u001b[0mseed\u001b[0m\u001b[0;34m,\u001b[0m\u001b[0;34m\u001b[0m\u001b[0;34m\u001b[0m\u001b[0m\n\u001b[1;32m   3184\u001b[0m                           \u001b[0morient\u001b[0m\u001b[0;34m,\u001b[0m \u001b[0mcolor\u001b[0m\u001b[0;34m,\u001b[0m \u001b[0mpalette\u001b[0m\u001b[0;34m,\u001b[0m \u001b[0msaturation\u001b[0m\u001b[0;34m,\u001b[0m\u001b[0;34m\u001b[0m\u001b[0;34m\u001b[0m\u001b[0m\n",
      "\u001b[0;32m/opt/homebrew/anaconda3/lib/python3.9/site-packages/seaborn/categorical.py\u001b[0m in \u001b[0;36m__init__\u001b[0;34m(self, x, y, hue, data, order, hue_order, estimator, ci, n_boot, units, seed, orient, color, palette, saturation, errcolor, errwidth, capsize, dodge)\u001b[0m\n\u001b[1;32m   1582\u001b[0m                  errwidth, capsize, dodge):\n\u001b[1;32m   1583\u001b[0m         \u001b[0;34m\"\"\"Initialize the plotter.\"\"\"\u001b[0m\u001b[0;34m\u001b[0m\u001b[0;34m\u001b[0m\u001b[0m\n\u001b[0;32m-> 1584\u001b[0;31m         self.establish_variables(x, y, hue, data, orient,\n\u001b[0m\u001b[1;32m   1585\u001b[0m                                  order, hue_order, units)\n\u001b[1;32m   1586\u001b[0m         \u001b[0mself\u001b[0m\u001b[0;34m.\u001b[0m\u001b[0mestablish_colors\u001b[0m\u001b[0;34m(\u001b[0m\u001b[0mcolor\u001b[0m\u001b[0;34m,\u001b[0m \u001b[0mpalette\u001b[0m\u001b[0;34m,\u001b[0m \u001b[0msaturation\u001b[0m\u001b[0;34m)\u001b[0m\u001b[0;34m\u001b[0m\u001b[0;34m\u001b[0m\u001b[0m\n",
      "\u001b[0;32m/opt/homebrew/anaconda3/lib/python3.9/site-packages/seaborn/categorical.py\u001b[0m in \u001b[0;36mestablish_variables\u001b[0;34m(self, x, y, hue, data, orient, order, hue_order, units)\u001b[0m\n\u001b[1;32m    154\u001b[0m \u001b[0;34m\u001b[0m\u001b[0m\n\u001b[1;32m    155\u001b[0m             \u001b[0;31m# Figure out the plotting orientation\u001b[0m\u001b[0;34m\u001b[0m\u001b[0;34m\u001b[0m\u001b[0m\n\u001b[0;32m--> 156\u001b[0;31m             orient = infer_orient(\n\u001b[0m\u001b[1;32m    157\u001b[0m                 \u001b[0mx\u001b[0m\u001b[0;34m,\u001b[0m \u001b[0my\u001b[0m\u001b[0;34m,\u001b[0m \u001b[0morient\u001b[0m\u001b[0;34m,\u001b[0m \u001b[0mrequire_numeric\u001b[0m\u001b[0;34m=\u001b[0m\u001b[0mself\u001b[0m\u001b[0;34m.\u001b[0m\u001b[0mrequire_numeric\u001b[0m\u001b[0;34m\u001b[0m\u001b[0;34m\u001b[0m\u001b[0m\n\u001b[1;32m    158\u001b[0m             )\n",
      "\u001b[0;32m/opt/homebrew/anaconda3/lib/python3.9/site-packages/seaborn/_core.py\u001b[0m in \u001b[0;36minfer_orient\u001b[0;34m(x, y, orient, require_numeric)\u001b[0m\n\u001b[1;32m   1310\u001b[0m \u001b[0;34m\u001b[0m\u001b[0m\n\u001b[1;32m   1311\u001b[0m     \u001b[0mx_type\u001b[0m \u001b[0;34m=\u001b[0m \u001b[0;32mNone\u001b[0m \u001b[0;32mif\u001b[0m \u001b[0mx\u001b[0m \u001b[0;32mis\u001b[0m \u001b[0;32mNone\u001b[0m \u001b[0;32melse\u001b[0m \u001b[0mvariable_type\u001b[0m\u001b[0;34m(\u001b[0m\u001b[0mx\u001b[0m\u001b[0;34m)\u001b[0m\u001b[0;34m\u001b[0m\u001b[0;34m\u001b[0m\u001b[0m\n\u001b[0;32m-> 1312\u001b[0;31m     \u001b[0my_type\u001b[0m \u001b[0;34m=\u001b[0m \u001b[0;32mNone\u001b[0m \u001b[0;32mif\u001b[0m \u001b[0my\u001b[0m \u001b[0;32mis\u001b[0m \u001b[0;32mNone\u001b[0m \u001b[0;32melse\u001b[0m \u001b[0mvariable_type\u001b[0m\u001b[0;34m(\u001b[0m\u001b[0my\u001b[0m\u001b[0;34m)\u001b[0m\u001b[0;34m\u001b[0m\u001b[0;34m\u001b[0m\u001b[0m\n\u001b[0m\u001b[1;32m   1313\u001b[0m \u001b[0;34m\u001b[0m\u001b[0m\n\u001b[1;32m   1314\u001b[0m     \u001b[0mnonnumeric_dv_error\u001b[0m \u001b[0;34m=\u001b[0m \u001b[0;34m\"{} orientation requires numeric `{}` variable.\"\u001b[0m\u001b[0;34m\u001b[0m\u001b[0;34m\u001b[0m\u001b[0m\n",
      "\u001b[0;32m/opt/homebrew/anaconda3/lib/python3.9/site-packages/seaborn/_core.py\u001b[0m in \u001b[0;36mvariable_type\u001b[0;34m(vector, boolean_type)\u001b[0m\n\u001b[1;32m   1227\u001b[0m \u001b[0;34m\u001b[0m\u001b[0m\n\u001b[1;32m   1228\u001b[0m     \u001b[0;31m# Special-case all-na data, which is always \"numeric\"\u001b[0m\u001b[0;34m\u001b[0m\u001b[0;34m\u001b[0m\u001b[0m\n\u001b[0;32m-> 1229\u001b[0;31m     \u001b[0;32mif\u001b[0m \u001b[0mpd\u001b[0m\u001b[0;34m.\u001b[0m\u001b[0misna\u001b[0m\u001b[0;34m(\u001b[0m\u001b[0mvector\u001b[0m\u001b[0;34m)\u001b[0m\u001b[0;34m.\u001b[0m\u001b[0mall\u001b[0m\u001b[0;34m(\u001b[0m\u001b[0;34m)\u001b[0m\u001b[0;34m:\u001b[0m\u001b[0;34m\u001b[0m\u001b[0;34m\u001b[0m\u001b[0m\n\u001b[0m\u001b[1;32m   1230\u001b[0m         \u001b[0;32mreturn\u001b[0m \u001b[0;34m\"numeric\"\u001b[0m\u001b[0;34m\u001b[0m\u001b[0;34m\u001b[0m\u001b[0m\n\u001b[1;32m   1231\u001b[0m \u001b[0;34m\u001b[0m\u001b[0m\n",
      "\u001b[0;32m/opt/homebrew/anaconda3/lib/python3.9/site-packages/pandas/core/generic.py\u001b[0m in \u001b[0;36m__nonzero__\u001b[0;34m(self)\u001b[0m\n\u001b[1;32m   1535\u001b[0m     \u001b[0;34m@\u001b[0m\u001b[0mfinal\u001b[0m\u001b[0;34m\u001b[0m\u001b[0;34m\u001b[0m\u001b[0m\n\u001b[1;32m   1536\u001b[0m     \u001b[0;32mdef\u001b[0m \u001b[0m__nonzero__\u001b[0m\u001b[0;34m(\u001b[0m\u001b[0mself\u001b[0m\u001b[0;34m)\u001b[0m\u001b[0;34m:\u001b[0m\u001b[0;34m\u001b[0m\u001b[0;34m\u001b[0m\u001b[0m\n\u001b[0;32m-> 1537\u001b[0;31m         raise ValueError(\n\u001b[0m\u001b[1;32m   1538\u001b[0m             \u001b[0;34mf\"The truth value of a {type(self).__name__} is ambiguous. \"\u001b[0m\u001b[0;34m\u001b[0m\u001b[0;34m\u001b[0m\u001b[0m\n\u001b[1;32m   1539\u001b[0m             \u001b[0;34m\"Use a.empty, a.bool(), a.item(), a.any() or a.all().\"\u001b[0m\u001b[0;34m\u001b[0m\u001b[0;34m\u001b[0m\u001b[0m\n",
      "\u001b[0;31mValueError\u001b[0m: The truth value of a Series is ambiguous. Use a.empty, a.bool(), a.item(), a.any() or a.all()."
     ]
    },
    {
     "data": {
      "image/png": "[encoded data removed]",
      "text/plain": [
       "<Figure size 432x288 with 1 Axes>"
      ]
     },
     "metadata": {
      "needs_background": "light"
     },
     "output_type": "display_data"
    }
   ],
   "source": [
    "string='javascript-i/introduction/working-with-data-types-operators-and-variables'\n",
    "\n",
    "top_cohort_accessing_intro(combined_df, string)"
   ]
  },
  {
   "cell_type": "code",
   "execution_count": 288,
   "id": "c725a4ce",
   "metadata": {
    "scrolled": true
   },
   "outputs": [
    {
     "data": {
      "text/html": [
       "<div>\n",
       "<style scoped>\n",
       "    .dataframe tbody tr th:only-of-type {\n",
       "        vertical-align: middle;\n",
       "    }\n",
       "\n",
       "    .dataframe tbody tr th {\n",
       "        vertical-align: top;\n",
       "    }\n",
       "\n",
       "    .dataframe thead th {\n",
       "        text-align: right;\n",
       "    }\n",
       "</style>\n",
       "<table border=\"1\" class=\"dataframe\">\n",
       "  <thead>\n",
       "    <tr style=\"text-align: right;\">\n",
       "      <th></th>\n",
       "      <th>percent_search</th>\n",
       "    </tr>\n",
       "  </thead>\n",
       "  <tbody>\n",
       "    <tr>\n",
       "      <th>Marco</th>\n",
       "      <td>0.066082</td>\n",
       "    </tr>\n",
       "    <tr>\n",
       "      <th>Ceres</th>\n",
       "      <td>0.055352</td>\n",
       "    </tr>\n",
       "    <tr>\n",
       "      <th>Hyperion</th>\n",
       "      <td>0.049987</td>\n",
       "    </tr>\n",
       "    <tr>\n",
       "      <th>Jupiter</th>\n",
       "      <td>0.047370</td>\n",
       "    </tr>\n",
       "    <tr>\n",
       "      <th>Zion</th>\n",
       "      <td>0.046585</td>\n",
       "    </tr>\n",
       "  </tbody>\n",
       "</table>\n",
       "</div>"
      ],
      "text/plain": [
       "          percent_search\n",
       "Marco           0.066082\n",
       "Ceres           0.055352\n",
       "Hyperion        0.049987\n",
       "Jupiter         0.047370\n",
       "Zion            0.046585"
      ]
     },
     "execution_count": 288,
     "metadata": {},
     "output_type": "execute_result"
    }
   ],
   "source": [
    "percent_df = pd.DataFrame(intro_path.name.value_counts(normalize=True,\n",
    "                                                       dropna=False).rename('percent_search'))\n",
    "percent_df.head()"
   ]
  },
  {
   "cell_type": "code",
   "execution_count": 289,
   "id": "4b78b3f4",
   "metadata": {
    "scrolled": true
   },
   "outputs": [
    {
     "data": {
      "text/plain": [
       "Index([     'Marco',      'Ceres',   'Hyperion',    'Jupiter',       'Zion',\n",
       "        'Voyageurs',    'Neptune', 'Betelgeuse',     'Europa',          nan,\n",
       "             'Luna',    'Fortuna',  'Andromeda',     'Deimos',      'Staff',\n",
       "         'Wrangell',    'Ulysses',       'Apex',   'Ganymede',     'Xanadu',\n",
       "          'Kalypso',      'Teddy',   'Yosemite',       'Bash',     'Oberon',\n",
       "           'Arches',    'Olympic',     'Lassen',    'Sequoia',    'Glacier',\n",
       "        'Pinnacles',    'Hampton',      'Kings',        'Ike',     'Quincy',\n",
       "          'Niagara'],\n",
       "      dtype='object')"
      ]
     },
     "execution_count": 289,
     "metadata": {},
     "output_type": "execute_result"
    }
   ],
   "source": [
    "percent_df.index"
   ]
  },
  {
   "cell_type": "code",
   "execution_count": 291,
   "id": "2edc0ee9",
   "metadata": {
    "scrolled": true
   },
   "outputs": [
    {
     "data": {
      "text/html": [
       "<div>\n",
       "<style scoped>\n",
       "    .dataframe tbody tr th:only-of-type {\n",
       "        vertical-align: middle;\n",
       "    }\n",
       "\n",
       "    .dataframe tbody tr th {\n",
       "        vertical-align: top;\n",
       "    }\n",
       "\n",
       "    .dataframe thead th {\n",
       "        text-align: right;\n",
       "    }\n",
       "</style>\n",
       "<table border=\"1\" class=\"dataframe\">\n",
       "  <thead>\n",
       "    <tr style=\"text-align: right;\">\n",
       "      <th></th>\n",
       "      <th>percent_search</th>\n",
       "    </tr>\n",
       "  </thead>\n",
       "  <tbody>\n",
       "    <tr>\n",
       "      <th>Marco</th>\n",
       "      <td>0.066082</td>\n",
       "    </tr>\n",
       "    <tr>\n",
       "      <th>Ceres</th>\n",
       "      <td>0.055352</td>\n",
       "    </tr>\n",
       "    <tr>\n",
       "      <th>Hyperion</th>\n",
       "      <td>0.049987</td>\n",
       "    </tr>\n",
       "    <tr>\n",
       "      <th>Jupiter</th>\n",
       "      <td>0.047370</td>\n",
       "    </tr>\n",
       "    <tr>\n",
       "      <th>Zion</th>\n",
       "      <td>0.046585</td>\n",
       "    </tr>\n",
       "  </tbody>\n",
       "</table>\n",
       "</div>"
      ],
      "text/plain": [
       "          percent_search\n",
       "Marco           0.066082\n",
       "Ceres           0.055352\n",
       "Hyperion        0.049987\n",
       "Jupiter         0.047370\n",
       "Zion            0.046585"
      ]
     },
     "execution_count": 291,
     "metadata": {},
     "output_type": "execute_result"
    }
   ],
   "source": [
    "percent = percent_df.head(5)\n",
    "percent"
   ]
  },
  {
   "cell_type": "code",
   "execution_count": 316,
   "id": "7316d963",
   "metadata": {},
   "outputs": [
    {
     "data": {
      "text/plain": [
       "<AxesSubplot:xlabel='percent_search'>"
      ]
     },
     "execution_count": 316,
     "metadata": {},
     "output_type": "execute_result"
    },
    {
     "data": {
      "image/png": "[encoded data removed]",
      "text/plain": [
       "<Figure size 432x288 with 1 Axes>"
      ]
     },
     "metadata": {
      "needs_background": "light"
     },
     "output_type": "display_data"
    }
   ],
   "source": [
    "sns.barplot(data=percent.head(5), x='percent_search', y=percent.index)"
   ]
  },
  {
   "cell_type": "markdown",
   "id": "6f99c159",
   "metadata": {},
   "source": [
    "# Conclusion\n",
    "\n",
    ">**Answer to the question: The Marco cohort has the most searches for the lesson \"Introduction to working with data types operators and variables for Javascript\" with 505 searches or about 6% of all searches related to this lesson but only 0.8% of all searches in the dataset**\n",
    "\n",
    ">**Other findings**\n",
    "\n",
    "        - The top 10 searches are root directories, general indices, modules, and the appendix and represent about 22% of all inquiries. The top searched lesson comes in 11th position\n",
    "        - The number of entries in the dataset corresponds to the number of total inquiries to lessons, 900229"
   ]
  }
 ],
 "metadata": {
  "kernelspec": {
   "display_name": "Python 3 (ipykernel)",
   "language": "python",
   "name": "python3"
  },
  "language_info": {
   "codemirror_mode": {
    "name": "ipython",
    "version": 3
   },
   "file_extension": ".py",
   "mimetype": "text/x-python",
   "name": "python",
   "nbconvert_exporter": "python",
   "pygments_lexer": "ipython3",
   "version": "3.9.7"
  }
 },
 "nbformat": 4,
 "nbformat_minor": 5
}
