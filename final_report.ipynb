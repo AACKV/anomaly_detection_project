{
 "cells": [
  {
   "cell_type": "code",
   "execution_count": 12,
   "id": "89605f1a",
   "metadata": {},
   "outputs": [
    {
     "name": "stdout",
     "output_type": "stream",
     "text": [
      "The autoreload extension is already loaded. To reload it, use:\n",
      "  %reload_ext autoreload\n"
     ]
    }
   ],
   "source": [
    "# imports\n",
    "import pandas as pd\n",
    "import numpy as np\n",
    "import seaborn as sns\n",
    "import matplotlib.pyplot as plt\n",
    "import wrangle\n",
    "\n",
    "%load_ext autoreload\n",
    "%autoreload 2"
   ]
  },
  {
   "cell_type": "code",
   "execution_count": 17,
   "id": "a3035479",
   "metadata": {},
   "outputs": [
    {
     "data": {
      "text/html": [
       "<div>\n",
       "<style scoped>\n",
       "    .dataframe tbody tr th:only-of-type {\n",
       "        vertical-align: middle;\n",
       "    }\n",
       "\n",
       "    .dataframe tbody tr th {\n",
       "        vertical-align: top;\n",
       "    }\n",
       "\n",
       "    .dataframe thead th {\n",
       "        text-align: right;\n",
       "    }\n",
       "</style>\n",
       "<table border=\"1\" class=\"dataframe\">\n",
       "  <thead>\n",
       "    <tr style=\"text-align: right;\">\n",
       "      <th></th>\n",
       "      <th>date</th>\n",
       "      <th>path</th>\n",
       "      <th>user_id</th>\n",
       "      <th>cohort_id</th>\n",
       "      <th>ip</th>\n",
       "      <th>name</th>\n",
       "      <th>slack</th>\n",
       "      <th>start_date</th>\n",
       "      <th>end_date</th>\n",
       "      <th>created_at</th>\n",
       "      <th>updated_at</th>\n",
       "      <th>program_id</th>\n",
       "    </tr>\n",
       "  </thead>\n",
       "  <tbody>\n",
       "    <tr>\n",
       "      <th>0</th>\n",
       "      <td>2018-01-26 09:55:03</td>\n",
       "      <td>/</td>\n",
       "      <td>1.0</td>\n",
       "      <td>8.0</td>\n",
       "      <td>97.105.19.61</td>\n",
       "      <td>Hampton</td>\n",
       "      <td>#hampton</td>\n",
       "      <td>2015-09-22</td>\n",
       "      <td>2016-02-06</td>\n",
       "      <td>2016-06-14 19:52:26</td>\n",
       "      <td>2016-06-14 19:52:26</td>\n",
       "      <td>1.0</td>\n",
       "    </tr>\n",
       "    <tr>\n",
       "      <th>1</th>\n",
       "      <td>2018-01-26 09:56:02</td>\n",
       "      <td>java-ii</td>\n",
       "      <td>1.0</td>\n",
       "      <td>8.0</td>\n",
       "      <td>97.105.19.61</td>\n",
       "      <td>Hampton</td>\n",
       "      <td>#hampton</td>\n",
       "      <td>2015-09-22</td>\n",
       "      <td>2016-02-06</td>\n",
       "      <td>2016-06-14 19:52:26</td>\n",
       "      <td>2016-06-14 19:52:26</td>\n",
       "      <td>1.0</td>\n",
       "    </tr>\n",
       "    <tr>\n",
       "      <th>2</th>\n",
       "      <td>2018-01-26 09:56:05</td>\n",
       "      <td>java-ii/object-oriented-programming</td>\n",
       "      <td>1.0</td>\n",
       "      <td>8.0</td>\n",
       "      <td>97.105.19.61</td>\n",
       "      <td>Hampton</td>\n",
       "      <td>#hampton</td>\n",
       "      <td>2015-09-22</td>\n",
       "      <td>2016-02-06</td>\n",
       "      <td>2016-06-14 19:52:26</td>\n",
       "      <td>2016-06-14 19:52:26</td>\n",
       "      <td>1.0</td>\n",
       "    </tr>\n",
       "    <tr>\n",
       "      <th>3</th>\n",
       "      <td>2018-01-26 09:56:06</td>\n",
       "      <td>slides/object_oriented_programming</td>\n",
       "      <td>1.0</td>\n",
       "      <td>8.0</td>\n",
       "      <td>97.105.19.61</td>\n",
       "      <td>Hampton</td>\n",
       "      <td>#hampton</td>\n",
       "      <td>2015-09-22</td>\n",
       "      <td>2016-02-06</td>\n",
       "      <td>2016-06-14 19:52:26</td>\n",
       "      <td>2016-06-14 19:52:26</td>\n",
       "      <td>1.0</td>\n",
       "    </tr>\n",
       "    <tr>\n",
       "      <th>4</th>\n",
       "      <td>2018-01-26 10:40:15</td>\n",
       "      <td>javascript-i/functions</td>\n",
       "      <td>1.0</td>\n",
       "      <td>8.0</td>\n",
       "      <td>97.105.19.61</td>\n",
       "      <td>Hampton</td>\n",
       "      <td>#hampton</td>\n",
       "      <td>2015-09-22</td>\n",
       "      <td>2016-02-06</td>\n",
       "      <td>2016-06-14 19:52:26</td>\n",
       "      <td>2016-06-14 19:52:26</td>\n",
       "      <td>1.0</td>\n",
       "    </tr>\n",
       "  </tbody>\n",
       "</table>\n",
       "</div>"
      ],
      "text/plain": [
       "                 date                                 path  user_id  \\\n",
       "0 2018-01-26 09:55:03                                    /      1.0   \n",
       "1 2018-01-26 09:56:02                              java-ii      1.0   \n",
       "2 2018-01-26 09:56:05  java-ii/object-oriented-programming      1.0   \n",
       "3 2018-01-26 09:56:06   slides/object_oriented_programming      1.0   \n",
       "4 2018-01-26 10:40:15               javascript-i/functions      1.0   \n",
       "\n",
       "   cohort_id            ip     name     slack  start_date    end_date  \\\n",
       "0        8.0  97.105.19.61  Hampton  #hampton  2015-09-22  2016-02-06   \n",
       "1        8.0  97.105.19.61  Hampton  #hampton  2015-09-22  2016-02-06   \n",
       "2        8.0  97.105.19.61  Hampton  #hampton  2015-09-22  2016-02-06   \n",
       "3        8.0  97.105.19.61  Hampton  #hampton  2015-09-22  2016-02-06   \n",
       "4        8.0  97.105.19.61  Hampton  #hampton  2015-09-22  2016-02-06   \n",
       "\n",
       "            created_at           updated_at  program_id  \n",
       "0  2016-06-14 19:52:26  2016-06-14 19:52:26         1.0  \n",
       "1  2016-06-14 19:52:26  2016-06-14 19:52:26         1.0  \n",
       "2  2016-06-14 19:52:26  2016-06-14 19:52:26         1.0  \n",
       "3  2016-06-14 19:52:26  2016-06-14 19:52:26         1.0  \n",
       "4  2016-06-14 19:52:26  2016-06-14 19:52:26         1.0  "
      ]
     },
     "execution_count": 17,
     "metadata": {},
     "output_type": "execute_result"
    }
   ],
   "source": [
    "wrangle.wrangle_logs().head()"
   ]
  },
  {
   "cell_type": "markdown",
   "id": "7100f453",
   "metadata": {},
   "source": [
    "# Question 1:"
   ]
  },
  {
   "cell_type": "markdown",
   "id": "21a37c0b",
   "metadata": {},
   "source": [
    "**Key Conclusion:** answer answer answer answer"
   ]
  },
  {
   "cell_type": "code",
   "execution_count": 18,
   "id": "20e4f34e",
   "metadata": {},
   "outputs": [],
   "source": [
    "# Visualization"
   ]
  },
  {
   "cell_type": "code",
   "execution_count": null,
   "id": "261a1318",
   "metadata": {},
   "outputs": [],
   "source": [
    "# any explanation of the visualization you feel is necessary."
   ]
  },
  {
   "cell_type": "markdown",
   "id": "3f0910ff",
   "metadata": {},
   "source": [
    "# Question 2:"
   ]
  },
  {
   "cell_type": "markdown",
   "id": "12afe323",
   "metadata": {},
   "source": [
    "**Key Conclusion:** Answer answer answer"
   ]
  },
  {
   "cell_type": "code",
   "execution_count": 20,
   "id": "7b109bf4",
   "metadata": {},
   "outputs": [],
   "source": [
    "# Visualization"
   ]
  },
  {
   "cell_type": "code",
   "execution_count": 21,
   "id": "e86f6dec",
   "metadata": {},
   "outputs": [],
   "source": [
    "# Any explanation of the visualization you feel is necessary"
   ]
  },
  {
   "cell_type": "code",
   "execution_count": null,
   "id": "46d84f93",
   "metadata": {},
   "outputs": [],
   "source": []
  }
 ],
 "metadata": {
  "kernelspec": {
   "display_name": "Python 3 (ipykernel)",
   "language": "python",
   "name": "python3"
  },
  "language_info": {
   "codemirror_mode": {
    "name": "ipython",
    "version": 3
   },
   "file_extension": ".py",
   "mimetype": "text/x-python",
   "name": "python",
   "nbconvert_exporter": "python",
   "pygments_lexer": "ipython3",
   "version": "3.9.7"
  }
 },
 "nbformat": 4,
 "nbformat_minor": 5
}
