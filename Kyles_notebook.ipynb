{
 "cells": [
  {
   "cell_type": "code",
   "execution_count": 2,
   "id": "75dba928",
   "metadata": {},
   "outputs": [],
   "source": [
    "import pandas as pd\n",
    "import numpy as np\n",
    "import seaborn as sns\n",
    "import matplotlib.pyplot as plt\n",
    "\n",
    "%load_ext autoreload\n",
    "%autoreload 2"
   ]
  },
  {
   "cell_type": "markdown",
   "id": "a54b9d14",
   "metadata": {},
   "source": [
    "# Questions:\n",
    "> * 1. Which lesson appears to attract the most traffic consistently across cohorts (per program)?\n",
    "> * 2. Is there a cohort that referred to a lesson significantly more than other cohorts seemed to gloss over?\n",
    "> * 3. Are there students who, when active, hardly access the curriculum? If so, what information do you have about these students?\n",
    "> * 4. Is there any suspicious activity, such as users/machines/etc accessing the curriculum who shouldn’t be? Does it appear that any web-scraping is happening? Are there any suspicious IP addresses?\n",
    "> * 5. At some point in 2019, the ability for students and alumni to access both curriculums (web dev to ds, ds to web dev) should have been shut off. Do you see any evidence of that happening? Did it happen before?\n",
    "> * 6. What topics are grads continuing to reference after graduation and into their jobs (for each program)?\n",
    "> * 7. Which lessons are least accessed?\n",
    "> * 8. Anything else I should be aware of?\n"
   ]
  },
  {
   "cell_type": "code",
   "execution_count": 3,
   "id": "7cacd8bf",
   "metadata": {
    "scrolled": false
   },
   "outputs": [
    {
     "data": {
      "text/html": [
       "<div>\n",
       "<style scoped>\n",
       "    .dataframe tbody tr th:only-of-type {\n",
       "        vertical-align: middle;\n",
       "    }\n",
       "\n",
       "    .dataframe tbody tr th {\n",
       "        vertical-align: top;\n",
       "    }\n",
       "\n",
       "    .dataframe thead th {\n",
       "        text-align: right;\n",
       "    }\n",
       "</style>\n",
       "<table border=\"1\" class=\"dataframe\">\n",
       "  <thead>\n",
       "    <tr style=\"text-align: right;\">\n",
       "      <th></th>\n",
       "      <th>id</th>\n",
       "      <th>name</th>\n",
       "      <th>slack</th>\n",
       "      <th>start_date</th>\n",
       "      <th>end_date</th>\n",
       "      <th>created_at</th>\n",
       "      <th>updated_at</th>\n",
       "      <th>deleted_at</th>\n",
       "      <th>program_id</th>\n",
       "    </tr>\n",
       "  </thead>\n",
       "  <tbody>\n",
       "    <tr>\n",
       "      <th>0</th>\n",
       "      <td>1</td>\n",
       "      <td>Arches</td>\n",
       "      <td>#arches</td>\n",
       "      <td>2014-02-04</td>\n",
       "      <td>2014-04-22</td>\n",
       "      <td>2016-06-14 19:52:26</td>\n",
       "      <td>2016-06-14 19:52:26</td>\n",
       "      <td>NaN</td>\n",
       "      <td>1</td>\n",
       "    </tr>\n",
       "    <tr>\n",
       "      <th>1</th>\n",
       "      <td>2</td>\n",
       "      <td>Badlands</td>\n",
       "      <td>#badlands</td>\n",
       "      <td>2014-06-04</td>\n",
       "      <td>2014-08-22</td>\n",
       "      <td>2016-06-14 19:52:26</td>\n",
       "      <td>2016-06-14 19:52:26</td>\n",
       "      <td>NaN</td>\n",
       "      <td>1</td>\n",
       "    </tr>\n",
       "    <tr>\n",
       "      <th>2</th>\n",
       "      <td>3</td>\n",
       "      <td>Carlsbad</td>\n",
       "      <td>#carlsbad</td>\n",
       "      <td>2014-09-04</td>\n",
       "      <td>2014-11-05</td>\n",
       "      <td>2016-06-14 19:52:26</td>\n",
       "      <td>2016-06-14 19:52:26</td>\n",
       "      <td>NaN</td>\n",
       "      <td>1</td>\n",
       "    </tr>\n",
       "    <tr>\n",
       "      <th>3</th>\n",
       "      <td>4</td>\n",
       "      <td>Denali</td>\n",
       "      <td>#denali</td>\n",
       "      <td>2014-10-20</td>\n",
       "      <td>2015-01-18</td>\n",
       "      <td>2016-06-14 19:52:26</td>\n",
       "      <td>2016-06-14 19:52:26</td>\n",
       "      <td>NaN</td>\n",
       "      <td>1</td>\n",
       "    </tr>\n",
       "    <tr>\n",
       "      <th>4</th>\n",
       "      <td>5</td>\n",
       "      <td>Everglades</td>\n",
       "      <td>#everglades</td>\n",
       "      <td>2014-11-18</td>\n",
       "      <td>2015-02-24</td>\n",
       "      <td>2016-06-14 19:52:26</td>\n",
       "      <td>2016-06-14 19:52:26</td>\n",
       "      <td>NaN</td>\n",
       "      <td>1</td>\n",
       "    </tr>\n",
       "  </tbody>\n",
       "</table>\n",
       "</div>"
      ],
      "text/plain": [
       "   id        name        slack  start_date    end_date           created_at  \\\n",
       "0   1      Arches      #arches  2014-02-04  2014-04-22  2016-06-14 19:52:26   \n",
       "1   2    Badlands    #badlands  2014-06-04  2014-08-22  2016-06-14 19:52:26   \n",
       "2   3    Carlsbad    #carlsbad  2014-09-04  2014-11-05  2016-06-14 19:52:26   \n",
       "3   4      Denali      #denali  2014-10-20  2015-01-18  2016-06-14 19:52:26   \n",
       "4   5  Everglades  #everglades  2014-11-18  2015-02-24  2016-06-14 19:52:26   \n",
       "\n",
       "            updated_at  deleted_at  program_id  \n",
       "0  2016-06-14 19:52:26         NaN           1  \n",
       "1  2016-06-14 19:52:26         NaN           1  \n",
       "2  2016-06-14 19:52:26         NaN           1  \n",
       "3  2016-06-14 19:52:26         NaN           1  \n",
       "4  2016-06-14 19:52:26         NaN           1  "
      ]
     },
     "execution_count": 3,
     "metadata": {},
     "output_type": "execute_result"
    }
   ],
   "source": [
    "cohorts = pd.read_csv('cohorts_data.csv')\n",
    "logs = pd.read_csv('logs_data.csv')\n",
    "\n",
    "for col in cohorts.columns:\n",
    "    if 'Unnamed' in col:\n",
    "        cohorts = cohorts.drop(columns=[col])\n",
    "\n",
    "for col in logs.columns:\n",
    "    if 'Unnamed' in col:\n",
    "        logs = logs.drop(columns=[col])\n",
    "\n",
    "cohorts.head()"
   ]
  },
  {
   "cell_type": "code",
   "execution_count": 4,
   "id": "432f0ac3",
   "metadata": {
    "scrolled": true
   },
   "outputs": [
    {
     "name": "stdout",
     "output_type": "stream",
     "text": [
      "<class 'pandas.core.frame.DataFrame'>\n",
      "RangeIndex: 53 entries, 0 to 52\n",
      "Data columns (total 9 columns):\n",
      " #   Column      Non-Null Count  Dtype  \n",
      "---  ------      --------------  -----  \n",
      " 0   id          53 non-null     int64  \n",
      " 1   name        53 non-null     object \n",
      " 2   slack       53 non-null     object \n",
      " 3   start_date  53 non-null     object \n",
      " 4   end_date    53 non-null     object \n",
      " 5   created_at  53 non-null     object \n",
      " 6   updated_at  53 non-null     object \n",
      " 7   deleted_at  0 non-null      float64\n",
      " 8   program_id  53 non-null     int64  \n",
      "dtypes: float64(1), int64(2), object(6)\n",
      "memory usage: 3.9+ KB\n"
     ]
    }
   ],
   "source": [
    "cohorts.info()"
   ]
  },
  {
   "cell_type": "code",
   "execution_count": 5,
   "id": "ee1df49e",
   "metadata": {
    "scrolled": true
   },
   "outputs": [
    {
     "data": {
      "text/html": [
       "<div>\n",
       "<style scoped>\n",
       "    .dataframe tbody tr th:only-of-type {\n",
       "        vertical-align: middle;\n",
       "    }\n",
       "\n",
       "    .dataframe tbody tr th {\n",
       "        vertical-align: top;\n",
       "    }\n",
       "\n",
       "    .dataframe thead th {\n",
       "        text-align: right;\n",
       "    }\n",
       "</style>\n",
       "<table border=\"1\" class=\"dataframe\">\n",
       "  <thead>\n",
       "    <tr style=\"text-align: right;\">\n",
       "      <th></th>\n",
       "      <th>id</th>\n",
       "      <th>name</th>\n",
       "      <th>slack</th>\n",
       "      <th>start_date</th>\n",
       "      <th>end_date</th>\n",
       "      <th>created_at</th>\n",
       "      <th>updated_at</th>\n",
       "      <th>program_id</th>\n",
       "    </tr>\n",
       "  </thead>\n",
       "  <tbody>\n",
       "    <tr>\n",
       "      <th>0</th>\n",
       "      <td>1</td>\n",
       "      <td>Arches</td>\n",
       "      <td>#arches</td>\n",
       "      <td>2014-02-04</td>\n",
       "      <td>2014-04-22</td>\n",
       "      <td>2016-06-14 19:52:26</td>\n",
       "      <td>2016-06-14 19:52:26</td>\n",
       "      <td>1</td>\n",
       "    </tr>\n",
       "    <tr>\n",
       "      <th>1</th>\n",
       "      <td>2</td>\n",
       "      <td>Badlands</td>\n",
       "      <td>#badlands</td>\n",
       "      <td>2014-06-04</td>\n",
       "      <td>2014-08-22</td>\n",
       "      <td>2016-06-14 19:52:26</td>\n",
       "      <td>2016-06-14 19:52:26</td>\n",
       "      <td>1</td>\n",
       "    </tr>\n",
       "    <tr>\n",
       "      <th>2</th>\n",
       "      <td>3</td>\n",
       "      <td>Carlsbad</td>\n",
       "      <td>#carlsbad</td>\n",
       "      <td>2014-09-04</td>\n",
       "      <td>2014-11-05</td>\n",
       "      <td>2016-06-14 19:52:26</td>\n",
       "      <td>2016-06-14 19:52:26</td>\n",
       "      <td>1</td>\n",
       "    </tr>\n",
       "  </tbody>\n",
       "</table>\n",
       "</div>"
      ],
      "text/plain": [
       "   id      name      slack  start_date    end_date           created_at  \\\n",
       "0   1    Arches    #arches  2014-02-04  2014-04-22  2016-06-14 19:52:26   \n",
       "1   2  Badlands  #badlands  2014-06-04  2014-08-22  2016-06-14 19:52:26   \n",
       "2   3  Carlsbad  #carlsbad  2014-09-04  2014-11-05  2016-06-14 19:52:26   \n",
       "\n",
       "            updated_at  program_id  \n",
       "0  2016-06-14 19:52:26           1  \n",
       "1  2016-06-14 19:52:26           1  \n",
       "2  2016-06-14 19:52:26           1  "
      ]
     },
     "execution_count": 5,
     "metadata": {},
     "output_type": "execute_result"
    }
   ],
   "source": [
    "cohorts= cohorts.drop(columns=['deleted_at'])\n",
    "cohorts.head(3)"
   ]
  },
  {
   "cell_type": "code",
   "execution_count": 6,
   "id": "842274d9",
   "metadata": {},
   "outputs": [
    {
     "data": {
      "text/html": [
       "<div>\n",
       "<style scoped>\n",
       "    .dataframe tbody tr th:only-of-type {\n",
       "        vertical-align: middle;\n",
       "    }\n",
       "\n",
       "    .dataframe tbody tr th {\n",
       "        vertical-align: top;\n",
       "    }\n",
       "\n",
       "    .dataframe thead th {\n",
       "        text-align: right;\n",
       "    }\n",
       "</style>\n",
       "<table border=\"1\" class=\"dataframe\">\n",
       "  <thead>\n",
       "    <tr style=\"text-align: right;\">\n",
       "      <th></th>\n",
       "      <th>id</th>\n",
       "      <th>name</th>\n",
       "      <th>slack</th>\n",
       "      <th>start_date</th>\n",
       "      <th>end_date</th>\n",
       "      <th>created_at</th>\n",
       "      <th>updated_at</th>\n",
       "      <th>program_id</th>\n",
       "    </tr>\n",
       "  </thead>\n",
       "  <tbody>\n",
       "    <tr>\n",
       "      <th>49</th>\n",
       "      <td>136</td>\n",
       "      <td>Placeholder for students in transition</td>\n",
       "      <td>#null</td>\n",
       "      <td>2021-03-03</td>\n",
       "      <td>2029-03-01</td>\n",
       "      <td>2021-03-03 21:50:49</td>\n",
       "      <td>2021-03-03 21:52:56</td>\n",
       "      <td>2</td>\n",
       "    </tr>\n",
       "    <tr>\n",
       "      <th>50</th>\n",
       "      <td>137</td>\n",
       "      <td>Florence</td>\n",
       "      <td>#florence</td>\n",
       "      <td>2021-03-15</td>\n",
       "      <td>2021-09-03</td>\n",
       "      <td>2021-03-15 18:18:20</td>\n",
       "      <td>2021-03-15 18:18:20</td>\n",
       "      <td>3</td>\n",
       "    </tr>\n",
       "    <tr>\n",
       "      <th>51</th>\n",
       "      <td>138</td>\n",
       "      <td>Neptune</td>\n",
       "      <td>#neptune</td>\n",
       "      <td>2021-03-15</td>\n",
       "      <td>2021-09-03</td>\n",
       "      <td>2021-03-15 19:57:09</td>\n",
       "      <td>2021-03-15 19:57:09</td>\n",
       "      <td>2</td>\n",
       "    </tr>\n",
       "    <tr>\n",
       "      <th>52</th>\n",
       "      <td>139</td>\n",
       "      <td>Oberon</td>\n",
       "      <td>#oberon</td>\n",
       "      <td>2021-04-12</td>\n",
       "      <td>2021-10-01</td>\n",
       "      <td>2021-04-12 18:07:21</td>\n",
       "      <td>2021-04-12 18:07:21</td>\n",
       "      <td>2</td>\n",
       "    </tr>\n",
       "  </tbody>\n",
       "</table>\n",
       "</div>"
      ],
      "text/plain": [
       "     id                                    name      slack  start_date  \\\n",
       "49  136  Placeholder for students in transition      #null  2021-03-03   \n",
       "50  137                                Florence  #florence  2021-03-15   \n",
       "51  138                                 Neptune   #neptune  2021-03-15   \n",
       "52  139                                  Oberon    #oberon  2021-04-12   \n",
       "\n",
       "      end_date           created_at           updated_at  program_id  \n",
       "49  2029-03-01  2021-03-03 21:50:49  2021-03-03 21:52:56           2  \n",
       "50  2021-09-03  2021-03-15 18:18:20  2021-03-15 18:18:20           3  \n",
       "51  2021-09-03  2021-03-15 19:57:09  2021-03-15 19:57:09           2  \n",
       "52  2021-10-01  2021-04-12 18:07:21  2021-04-12 18:07:21           2  "
      ]
     },
     "execution_count": 6,
     "metadata": {},
     "output_type": "execute_result"
    }
   ],
   "source": [
    "cohorts.tail(4)"
   ]
  },
  {
   "cell_type": "code",
   "execution_count": 7,
   "id": "daa56151",
   "metadata": {
    "scrolled": true
   },
   "outputs": [
    {
     "data": {
      "text/html": [
       "<div>\n",
       "<style scoped>\n",
       "    .dataframe tbody tr th:only-of-type {\n",
       "        vertical-align: middle;\n",
       "    }\n",
       "\n",
       "    .dataframe tbody tr th {\n",
       "        vertical-align: top;\n",
       "    }\n",
       "\n",
       "    .dataframe thead th {\n",
       "        text-align: right;\n",
       "    }\n",
       "</style>\n",
       "<table border=\"1\" class=\"dataframe\">\n",
       "  <thead>\n",
       "    <tr style=\"text-align: right;\">\n",
       "      <th></th>\n",
       "      <th>date</th>\n",
       "      <th>time</th>\n",
       "      <th>path</th>\n",
       "      <th>user_id</th>\n",
       "      <th>cohort_id</th>\n",
       "      <th>ip</th>\n",
       "    </tr>\n",
       "  </thead>\n",
       "  <tbody>\n",
       "    <tr>\n",
       "      <th>0</th>\n",
       "      <td>2018-01-26</td>\n",
       "      <td>09:55:03</td>\n",
       "      <td>/</td>\n",
       "      <td>1</td>\n",
       "      <td>8.0</td>\n",
       "      <td>97.105.19.61</td>\n",
       "    </tr>\n",
       "    <tr>\n",
       "      <th>1</th>\n",
       "      <td>2018-01-26</td>\n",
       "      <td>09:56:02</td>\n",
       "      <td>java-ii</td>\n",
       "      <td>1</td>\n",
       "      <td>8.0</td>\n",
       "      <td>97.105.19.61</td>\n",
       "    </tr>\n",
       "    <tr>\n",
       "      <th>2</th>\n",
       "      <td>2018-01-26</td>\n",
       "      <td>09:56:05</td>\n",
       "      <td>java-ii/object-oriented-programming</td>\n",
       "      <td>1</td>\n",
       "      <td>8.0</td>\n",
       "      <td>97.105.19.61</td>\n",
       "    </tr>\n",
       "    <tr>\n",
       "      <th>3</th>\n",
       "      <td>2018-01-26</td>\n",
       "      <td>09:56:06</td>\n",
       "      <td>slides/object_oriented_programming</td>\n",
       "      <td>1</td>\n",
       "      <td>8.0</td>\n",
       "      <td>97.105.19.61</td>\n",
       "    </tr>\n",
       "    <tr>\n",
       "      <th>4</th>\n",
       "      <td>2018-01-26</td>\n",
       "      <td>09:56:24</td>\n",
       "      <td>javascript-i/conditionals</td>\n",
       "      <td>2</td>\n",
       "      <td>22.0</td>\n",
       "      <td>97.105.19.61</td>\n",
       "    </tr>\n",
       "  </tbody>\n",
       "</table>\n",
       "</div>"
      ],
      "text/plain": [
       "         date      time                                 path  user_id  \\\n",
       "0  2018-01-26  09:55:03                                    /        1   \n",
       "1  2018-01-26  09:56:02                              java-ii        1   \n",
       "2  2018-01-26  09:56:05  java-ii/object-oriented-programming        1   \n",
       "3  2018-01-26  09:56:06   slides/object_oriented_programming        1   \n",
       "4  2018-01-26  09:56:24            javascript-i/conditionals        2   \n",
       "\n",
       "   cohort_id            ip  \n",
       "0        8.0  97.105.19.61  \n",
       "1        8.0  97.105.19.61  \n",
       "2        8.0  97.105.19.61  \n",
       "3        8.0  97.105.19.61  \n",
       "4       22.0  97.105.19.61  "
      ]
     },
     "execution_count": 7,
     "metadata": {},
     "output_type": "execute_result"
    }
   ],
   "source": [
    "logs.head()"
   ]
  },
  {
   "cell_type": "code",
   "execution_count": 8,
   "id": "168ccc9f",
   "metadata": {},
   "outputs": [
    {
     "name": "stdout",
     "output_type": "stream",
     "text": [
      "<class 'pandas.core.frame.DataFrame'>\n",
      "RangeIndex: 900223 entries, 0 to 900222\n",
      "Data columns (total 6 columns):\n",
      " #   Column     Non-Null Count   Dtype  \n",
      "---  ------     --------------   -----  \n",
      " 0   date       900223 non-null  object \n",
      " 1   time       900223 non-null  object \n",
      " 2   path       900222 non-null  object \n",
      " 3   user_id    900223 non-null  int64  \n",
      " 4   cohort_id  847330 non-null  float64\n",
      " 5   ip         900223 non-null  object \n",
      "dtypes: float64(1), int64(1), object(4)\n",
      "memory usage: 41.2+ MB\n"
     ]
    }
   ],
   "source": [
    "logs.info()"
   ]
  },
  {
   "cell_type": "code",
   "execution_count": 9,
   "id": "613de122",
   "metadata": {},
   "outputs": [
    {
     "data": {
      "text/plain": [
       "28.0     84031\n",
       "NaN      52893\n",
       "33.0     40730\n",
       "29.0     38096\n",
       "62.0     37109\n",
       "53.0     36902\n",
       "24.0     35636\n",
       "57.0     33844\n",
       "56.0     33568\n",
       "51.0     32888\n",
       "59.0     32015\n",
       "22.0     30926\n",
       "58.0     29855\n",
       "32.0     29356\n",
       "23.0     28534\n",
       "52.0     28033\n",
       "26.0     27749\n",
       "34.0     26538\n",
       "25.0     25586\n",
       "31.0     25359\n",
       "132.0    23691\n",
       "55.0     21582\n",
       "27.0     20743\n",
       "61.0     17713\n",
       "134.0    16623\n",
       "135.0    16397\n",
       "133.0    14715\n",
       "14.0      9587\n",
       "1.0       8890\n",
       "137.0     8562\n",
       "21.0      7444\n",
       "138.0     7276\n",
       "17.0      4954\n",
       "13.0      2845\n",
       "18.0      2158\n",
       "8.0       1712\n",
       "139.0     1672\n",
       "19.0      1237\n",
       "16.0       755\n",
       "15.0       691\n",
       "7.0        598\n",
       "12.0       302\n",
       "11.0       253\n",
       "2.0         93\n",
       "6.0         72\n",
       "9.0          5\n",
       "4.0          4\n",
       "5.0          1\n",
       "Name: cohort_id, dtype: int64"
      ]
     },
     "execution_count": 9,
     "metadata": {},
     "output_type": "execute_result"
    }
   ],
   "source": [
    "logs.cohort_id.value_counts(dropna=False)"
   ]
  },
  {
   "cell_type": "code",
   "execution_count": 10,
   "id": "cf5e8dca",
   "metadata": {},
   "outputs": [],
   "source": [
    "logs = logs.fillna(0)"
   ]
  },
  {
   "cell_type": "code",
   "execution_count": 11,
   "id": "4dea42b1",
   "metadata": {},
   "outputs": [],
   "source": [
    "df = pd.merge(left_on=logs.cohort_id, right_on=cohorts.id, left=logs, right=cohorts,how='outer').drop(columns='key_0')"
   ]
  },
  {
   "cell_type": "code",
   "execution_count": 12,
   "id": "f0a93a37",
   "metadata": {},
   "outputs": [
    {
     "name": "stdout",
     "output_type": "stream",
     "text": [
      "<class 'pandas.core.frame.DataFrame'>\n",
      "Int64Index: 900229 entries, 0 to 900228\n",
      "Data columns (total 14 columns):\n",
      " #   Column      Non-Null Count   Dtype  \n",
      "---  ------      --------------   -----  \n",
      " 0   date        900223 non-null  object \n",
      " 1   time        900223 non-null  object \n",
      " 2   path        900223 non-null  object \n",
      " 3   user_id     900223 non-null  float64\n",
      " 4   cohort_id   900223 non-null  float64\n",
      " 5   ip          900223 non-null  object \n",
      " 6   id          847336 non-null  float64\n",
      " 7   name        847336 non-null  object \n",
      " 8   slack       847336 non-null  object \n",
      " 9   start_date  847336 non-null  object \n",
      " 10  end_date    847336 non-null  object \n",
      " 11  created_at  847336 non-null  object \n",
      " 12  updated_at  847336 non-null  object \n",
      " 13  program_id  847336 non-null  float64\n",
      "dtypes: float64(4), object(10)\n",
      "memory usage: 103.0+ MB\n"
     ]
    }
   ],
   "source": [
    "df.info()"
   ]
  },
  {
   "cell_type": "code",
   "execution_count": 13,
   "id": "16e801ea",
   "metadata": {},
   "outputs": [
    {
     "data": {
      "text/html": [
       "<div>\n",
       "<style scoped>\n",
       "    .dataframe tbody tr th:only-of-type {\n",
       "        vertical-align: middle;\n",
       "    }\n",
       "\n",
       "    .dataframe tbody tr th {\n",
       "        vertical-align: top;\n",
       "    }\n",
       "\n",
       "    .dataframe thead th {\n",
       "        text-align: right;\n",
       "    }\n",
       "</style>\n",
       "<table border=\"1\" class=\"dataframe\">\n",
       "  <thead>\n",
       "    <tr style=\"text-align: right;\">\n",
       "      <th></th>\n",
       "      <th>date</th>\n",
       "      <th>time</th>\n",
       "      <th>path</th>\n",
       "      <th>user_id</th>\n",
       "      <th>cohort_id</th>\n",
       "      <th>ip</th>\n",
       "      <th>id</th>\n",
       "      <th>name</th>\n",
       "      <th>slack</th>\n",
       "      <th>start_date</th>\n",
       "      <th>end_date</th>\n",
       "      <th>created_at</th>\n",
       "      <th>updated_at</th>\n",
       "      <th>program_id</th>\n",
       "    </tr>\n",
       "  </thead>\n",
       "  <tbody>\n",
       "    <tr>\n",
       "      <th>0</th>\n",
       "      <td>2018-01-26</td>\n",
       "      <td>09:55:03</td>\n",
       "      <td>/</td>\n",
       "      <td>1.0</td>\n",
       "      <td>8.0</td>\n",
       "      <td>97.105.19.61</td>\n",
       "      <td>8.0</td>\n",
       "      <td>Hampton</td>\n",
       "      <td>#hampton</td>\n",
       "      <td>2015-09-22</td>\n",
       "      <td>2016-02-06</td>\n",
       "      <td>2016-06-14 19:52:26</td>\n",
       "      <td>2016-06-14 19:52:26</td>\n",
       "      <td>1.0</td>\n",
       "    </tr>\n",
       "    <tr>\n",
       "      <th>1</th>\n",
       "      <td>2018-01-26</td>\n",
       "      <td>09:56:02</td>\n",
       "      <td>java-ii</td>\n",
       "      <td>1.0</td>\n",
       "      <td>8.0</td>\n",
       "      <td>97.105.19.61</td>\n",
       "      <td>8.0</td>\n",
       "      <td>Hampton</td>\n",
       "      <td>#hampton</td>\n",
       "      <td>2015-09-22</td>\n",
       "      <td>2016-02-06</td>\n",
       "      <td>2016-06-14 19:52:26</td>\n",
       "      <td>2016-06-14 19:52:26</td>\n",
       "      <td>1.0</td>\n",
       "    </tr>\n",
       "    <tr>\n",
       "      <th>2</th>\n",
       "      <td>2018-01-26</td>\n",
       "      <td>09:56:05</td>\n",
       "      <td>java-ii/object-oriented-programming</td>\n",
       "      <td>1.0</td>\n",
       "      <td>8.0</td>\n",
       "      <td>97.105.19.61</td>\n",
       "      <td>8.0</td>\n",
       "      <td>Hampton</td>\n",
       "      <td>#hampton</td>\n",
       "      <td>2015-09-22</td>\n",
       "      <td>2016-02-06</td>\n",
       "      <td>2016-06-14 19:52:26</td>\n",
       "      <td>2016-06-14 19:52:26</td>\n",
       "      <td>1.0</td>\n",
       "    </tr>\n",
       "    <tr>\n",
       "      <th>3</th>\n",
       "      <td>2018-01-26</td>\n",
       "      <td>09:56:06</td>\n",
       "      <td>slides/object_oriented_programming</td>\n",
       "      <td>1.0</td>\n",
       "      <td>8.0</td>\n",
       "      <td>97.105.19.61</td>\n",
       "      <td>8.0</td>\n",
       "      <td>Hampton</td>\n",
       "      <td>#hampton</td>\n",
       "      <td>2015-09-22</td>\n",
       "      <td>2016-02-06</td>\n",
       "      <td>2016-06-14 19:52:26</td>\n",
       "      <td>2016-06-14 19:52:26</td>\n",
       "      <td>1.0</td>\n",
       "    </tr>\n",
       "    <tr>\n",
       "      <th>4</th>\n",
       "      <td>2018-01-26</td>\n",
       "      <td>10:40:15</td>\n",
       "      <td>javascript-i/functions</td>\n",
       "      <td>1.0</td>\n",
       "      <td>8.0</td>\n",
       "      <td>97.105.19.61</td>\n",
       "      <td>8.0</td>\n",
       "      <td>Hampton</td>\n",
       "      <td>#hampton</td>\n",
       "      <td>2015-09-22</td>\n",
       "      <td>2016-02-06</td>\n",
       "      <td>2016-06-14 19:52:26</td>\n",
       "      <td>2016-06-14 19:52:26</td>\n",
       "      <td>1.0</td>\n",
       "    </tr>\n",
       "  </tbody>\n",
       "</table>\n",
       "</div>"
      ],
      "text/plain": [
       "         date      time                                 path  user_id  \\\n",
       "0  2018-01-26  09:55:03                                    /      1.0   \n",
       "1  2018-01-26  09:56:02                              java-ii      1.0   \n",
       "2  2018-01-26  09:56:05  java-ii/object-oriented-programming      1.0   \n",
       "3  2018-01-26  09:56:06   slides/object_oriented_programming      1.0   \n",
       "4  2018-01-26  10:40:15               javascript-i/functions      1.0   \n",
       "\n",
       "   cohort_id            ip   id     name     slack  start_date    end_date  \\\n",
       "0        8.0  97.105.19.61  8.0  Hampton  #hampton  2015-09-22  2016-02-06   \n",
       "1        8.0  97.105.19.61  8.0  Hampton  #hampton  2015-09-22  2016-02-06   \n",
       "2        8.0  97.105.19.61  8.0  Hampton  #hampton  2015-09-22  2016-02-06   \n",
       "3        8.0  97.105.19.61  8.0  Hampton  #hampton  2015-09-22  2016-02-06   \n",
       "4        8.0  97.105.19.61  8.0  Hampton  #hampton  2015-09-22  2016-02-06   \n",
       "\n",
       "            created_at           updated_at  program_id  \n",
       "0  2016-06-14 19:52:26  2016-06-14 19:52:26         1.0  \n",
       "1  2016-06-14 19:52:26  2016-06-14 19:52:26         1.0  \n",
       "2  2016-06-14 19:52:26  2016-06-14 19:52:26         1.0  \n",
       "3  2016-06-14 19:52:26  2016-06-14 19:52:26         1.0  \n",
       "4  2016-06-14 19:52:26  2016-06-14 19:52:26         1.0  "
      ]
     },
     "execution_count": 13,
     "metadata": {},
     "output_type": "execute_result"
    }
   ],
   "source": [
    "df.head()"
   ]
  },
  {
   "cell_type": "markdown",
   "id": "f70b20a7",
   "metadata": {},
   "source": [
    "### 7. Which lessons are least accessed?"
   ]
  },
  {
   "cell_type": "markdown",
   "id": "9443e285",
   "metadata": {},
   "source": [
    "> * General start and end of entire site\n",
    "> * General start and end for each module/lesson\n",
    "> * See if things haven't been accessed in a long time\n",
    "\n",
    "MVP: \n",
    "Lessons\n",
    "\n",
    "\n",
    "**NOTE:** At some point in 2019, the ability for students and alumni to access both curriculums (web dev to ds, ds to web dev) should have been shut off. Do you see any evidence of that happening? Did it happen before?"
   ]
  },
  {
   "cell_type": "code",
   "execution_count": null,
   "id": "9b4fe0af",
   "metadata": {},
   "outputs": [],
   "source": []
  },
  {
   "cell_type": "code",
   "execution_count": 14,
   "id": "5e297636",
   "metadata": {},
   "outputs": [
    {
     "data": {
      "text/plain": [
       "6"
      ]
     },
     "execution_count": 14,
     "metadata": {},
     "output_type": "execute_result"
    }
   ],
   "source": [
    "#Range of Dates for entire site:\n",
    "df.date = pd.to_datetime(df.date+\" \" +df.time)\n",
    "df[df.date.isnull()].shape[0]"
   ]
  },
  {
   "cell_type": "markdown",
   "id": "33b691fb",
   "metadata": {},
   "source": [
    "> **note:** Only 6 datetime values that are non-functional"
   ]
  },
  {
   "cell_type": "code",
   "execution_count": 15,
   "id": "7107d279",
   "metadata": {},
   "outputs": [
    {
     "data": {
      "text/plain": [
       "900223                                  Carlsbad\n",
       "900224                                    Balboa\n",
       "900225                                   Redwood\n",
       "900226                                       Ada\n",
       "900227                                        Io\n",
       "900228    Placeholder for students in transition\n",
       "Name: name, dtype: object"
      ]
     },
     "execution_count": 15,
     "metadata": {},
     "output_type": "execute_result"
    }
   ],
   "source": [
    "# name of the cohorts/placeholders with inaccurate date values\n",
    "df.name[df.date.isnull()]"
   ]
  },
  {
   "cell_type": "code",
   "execution_count": 16,
   "id": "1489bf86",
   "metadata": {
    "scrolled": true
   },
   "outputs": [
    {
     "data": {
      "text/plain": [
       "Franklin                                  72\n",
       "Apollo                                     5\n",
       "Denali                                     4\n",
       "Redwood                                    1\n",
       "Io                                         1\n",
       "Ada                                        1\n",
       "Everglades                                 1\n",
       "Balboa                                     1\n",
       "Carlsbad                                   1\n",
       "Placeholder for students in transition     1\n",
       "Name: name, dtype: int64"
      ]
     },
     "execution_count": 16,
     "metadata": {},
     "output_type": "execute_result"
    }
   ],
   "source": [
    "# confirming the number of occurrences of the above cohorts/ph\n",
    "df.name.value_counts().tail(10)"
   ]
  },
  {
   "cell_type": "code",
   "execution_count": 17,
   "id": "7bb4e2f0",
   "metadata": {},
   "outputs": [
    {
     "data": {
      "text/plain": [
       "(Timestamp('2018-01-26 09:55:03'), Timestamp('2021-04-21 16:44:39'))"
      ]
     },
     "execution_count": 17,
     "metadata": {},
     "output_type": "execute_result"
    }
   ],
   "source": [
    "df.date.min(), df.date.max()"
   ]
  },
  {
   "cell_type": "markdown",
   "id": "27e37183",
   "metadata": {},
   "source": [
    "**Conclusion**: Our data started on Jan 26th, 2018 and is current up to April 21, 2021"
   ]
  },
  {
   "cell_type": "markdown",
   "id": "ee18a2c1",
   "metadata": {},
   "source": [
    "## Analyzing low traffic by program\n",
    "> * program 1: web dev\n",
    "> * program 2: web dev\n",
    "> * program 3: data science"
   ]
  },
  {
   "cell_type": "code",
   "execution_count": null,
   "id": "9450efeb",
   "metadata": {},
   "outputs": [],
   "source": [
    "new = df.path.value_counts().to_frame()\n",
    "sub = pd.merge(left=df, right = new, left_on=df.path, right_on=new.index)\n",
    "sub = sub[sub.path_y == 1]"
   ]
  },
  {
   "cell_type": "code",
   "execution_count": 141,
   "id": "8503bba1",
   "metadata": {},
   "outputs": [
    {
     "data": {
      "text/html": [
       "<div>\n",
       "<style scoped>\n",
       "    .dataframe tbody tr th:only-of-type {\n",
       "        vertical-align: middle;\n",
       "    }\n",
       "\n",
       "    .dataframe tbody tr th {\n",
       "        vertical-align: top;\n",
       "    }\n",
       "\n",
       "    .dataframe thead th {\n",
       "        text-align: right;\n",
       "    }\n",
       "</style>\n",
       "<table border=\"1\" class=\"dataframe\">\n",
       "  <thead>\n",
       "    <tr style=\"text-align: right;\">\n",
       "      <th></th>\n",
       "      <th>date</th>\n",
       "      <th>time</th>\n",
       "      <th>path_x</th>\n",
       "      <th>user_id</th>\n",
       "      <th>cohort_id</th>\n",
       "      <th>ip</th>\n",
       "      <th>name</th>\n",
       "      <th>slack</th>\n",
       "      <th>start_date</th>\n",
       "      <th>end_date</th>\n",
       "      <th>created_at</th>\n",
       "      <th>updated_at</th>\n",
       "      <th>program_id</th>\n",
       "      <th>path_y</th>\n",
       "    </tr>\n",
       "  </thead>\n",
       "  <tbody>\n",
       "    <tr>\n",
       "      <th>89882</th>\n",
       "      <td>2018-01-27 07:49:25</td>\n",
       "      <td>07:49:25</td>\n",
       "      <td>teams/13</td>\n",
       "      <td>1.0</td>\n",
       "      <td>8.0</td>\n",
       "      <td>72.177.226.58</td>\n",
       "      <td>Hampton</td>\n",
       "      <td>#hampton</td>\n",
       "      <td>2015-09-22</td>\n",
       "      <td>2016-02-06</td>\n",
       "      <td>2016-06-14 19:52:26</td>\n",
       "      <td>2016-06-14 19:52:26</td>\n",
       "      <td>1.0</td>\n",
       "      <td>1</td>\n",
       "    </tr>\n",
       "    <tr>\n",
       "      <th>126074</th>\n",
       "      <td>2018-01-30 11:41:30</td>\n",
       "      <td>11:41:30</td>\n",
       "      <td>asdf</td>\n",
       "      <td>1.0</td>\n",
       "      <td>8.0</td>\n",
       "      <td>97.105.19.61</td>\n",
       "      <td>Hampton</td>\n",
       "      <td>#hampton</td>\n",
       "      <td>2015-09-22</td>\n",
       "      <td>2016-02-06</td>\n",
       "      <td>2016-06-14 19:52:26</td>\n",
       "      <td>2016-06-14 19:52:26</td>\n",
       "      <td>1.0</td>\n",
       "      <td>1</td>\n",
       "    </tr>\n",
       "    <tr>\n",
       "      <th>352634</th>\n",
       "      <td>2018-03-01 21:07:05</td>\n",
       "      <td>21:07:05</td>\n",
       "      <td>prework/cli/07-editing-files-with-vim</td>\n",
       "      <td>114.0</td>\n",
       "      <td>8.0</td>\n",
       "      <td>173.173.119.75</td>\n",
       "      <td>Hampton</td>\n",
       "      <td>#hampton</td>\n",
       "      <td>2015-09-22</td>\n",
       "      <td>2016-02-06</td>\n",
       "      <td>2016-06-14 19:52:26</td>\n",
       "      <td>2016-06-14 19:52:26</td>\n",
       "      <td>1.0</td>\n",
       "      <td>1</td>\n",
       "    </tr>\n",
       "    <tr>\n",
       "      <th>400387</th>\n",
       "      <td>2018-03-11 14:39:16</td>\n",
       "      <td>14:39:16</td>\n",
       "      <td>java-ii/file-op</td>\n",
       "      <td>1.0</td>\n",
       "      <td>8.0</td>\n",
       "      <td>72.177.226.58</td>\n",
       "      <td>Hampton</td>\n",
       "      <td>#hampton</td>\n",
       "      <td>2015-09-22</td>\n",
       "      <td>2016-02-06</td>\n",
       "      <td>2016-06-14 19:52:26</td>\n",
       "      <td>2016-06-14 19:52:26</td>\n",
       "      <td>1.0</td>\n",
       "      <td>1</td>\n",
       "    </tr>\n",
       "    <tr>\n",
       "      <th>428068</th>\n",
       "      <td>2018-03-21 09:37:43</td>\n",
       "      <td>09:37:43</td>\n",
       "      <td>slides/exceptions</td>\n",
       "      <td>1.0</td>\n",
       "      <td>8.0</td>\n",
       "      <td>97.105.19.61</td>\n",
       "      <td>Hampton</td>\n",
       "      <td>#hampton</td>\n",
       "      <td>2015-09-22</td>\n",
       "      <td>2016-02-06</td>\n",
       "      <td>2016-06-14 19:52:26</td>\n",
       "      <td>2016-06-14 19:52:26</td>\n",
       "      <td>1.0</td>\n",
       "      <td>1</td>\n",
       "    </tr>\n",
       "  </tbody>\n",
       "</table>\n",
       "</div>"
      ],
      "text/plain": [
       "                      date      time                                 path_x  \\\n",
       "89882  2018-01-27 07:49:25  07:49:25                               teams/13   \n",
       "126074 2018-01-30 11:41:30  11:41:30                                   asdf   \n",
       "352634 2018-03-01 21:07:05  21:07:05  prework/cli/07-editing-files-with-vim   \n",
       "400387 2018-03-11 14:39:16  14:39:16                        java-ii/file-op   \n",
       "428068 2018-03-21 09:37:43  09:37:43                      slides/exceptions   \n",
       "\n",
       "        user_id  cohort_id              ip     name     slack  start_date  \\\n",
       "89882       1.0        8.0   72.177.226.58  Hampton  #hampton  2015-09-22   \n",
       "126074      1.0        8.0    97.105.19.61  Hampton  #hampton  2015-09-22   \n",
       "352634    114.0        8.0  173.173.119.75  Hampton  #hampton  2015-09-22   \n",
       "400387      1.0        8.0   72.177.226.58  Hampton  #hampton  2015-09-22   \n",
       "428068      1.0        8.0    97.105.19.61  Hampton  #hampton  2015-09-22   \n",
       "\n",
       "          end_date           created_at           updated_at  program_id  \\\n",
       "89882   2016-02-06  2016-06-14 19:52:26  2016-06-14 19:52:26         1.0   \n",
       "126074  2016-02-06  2016-06-14 19:52:26  2016-06-14 19:52:26         1.0   \n",
       "352634  2016-02-06  2016-06-14 19:52:26  2016-06-14 19:52:26         1.0   \n",
       "400387  2016-02-06  2016-06-14 19:52:26  2016-06-14 19:52:26         1.0   \n",
       "428068  2016-02-06  2016-06-14 19:52:26  2016-06-14 19:52:26         1.0   \n",
       "\n",
       "        path_y  \n",
       "89882        1  \n",
       "126074       1  \n",
       "352634       1  \n",
       "400387       1  \n",
       "428068       1  "
      ]
     },
     "execution_count": 141,
     "metadata": {},
     "output_type": "execute_result"
    }
   ],
   "source": [
    "sub.head()"
   ]
  },
  {
   "cell_type": "code",
   "execution_count": 133,
   "id": "83a76f8c",
   "metadata": {},
   "outputs": [
    {
     "data": {
      "text/plain": [
       "2.0    285\n",
       "3.0     68\n",
       "1.0     60\n",
       "NaN     45\n",
       "Name: program_id, dtype: int64"
      ]
     },
     "execution_count": 133,
     "metadata": {},
     "output_type": "execute_result"
    }
   ],
   "source": [
    "# all programs + NaN\n",
    "sub.program_id.value_counts(dropna=False)"
   ]
  },
  {
   "cell_type": "markdown",
   "id": "e91f7b79",
   "metadata": {},
   "source": [
    "### Program 1"
   ]
  },
  {
   "cell_type": "code",
   "execution_count": 136,
   "id": "c96285ec",
   "metadata": {},
   "outputs": [
    {
     "data": {
      "text/plain": [
       "(Timestamp('2018-01-27 07:49:25'), Timestamp('2021-03-05 11:16:56'))"
      ]
     },
     "execution_count": 136,
     "metadata": {},
     "output_type": "execute_result"
    }
   ],
   "source": [
    "sub.date[sub.program_id==1].min(), sub.date[sub.program_id==1].max()"
   ]
  },
  {
   "cell_type": "code",
   "execution_count": 126,
   "id": "23cf3163",
   "metadata": {
    "scrolled": false
   },
   "outputs": [
    {
     "data": {
      "text/plain": [
       "2018    31\n",
       "2020    15\n",
       "2019     8\n",
       "2021     6\n",
       "Name: date, dtype: int64"
      ]
     },
     "execution_count": 126,
     "metadata": {},
     "output_type": "execute_result"
    }
   ],
   "source": [
    "# program 1\n",
    "sub.date.dt.year[sub.program_id == 1].value_counts()"
   ]
  },
  {
   "cell_type": "markdown",
   "id": "b65a7aa2",
   "metadata": {},
   "source": [
    "### Program 2"
   ]
  },
  {
   "cell_type": "code",
   "execution_count": 137,
   "id": "0c40acf6",
   "metadata": {},
   "outputs": [
    {
     "data": {
      "text/plain": [
       "(Timestamp('2018-01-26 13:39:02'), Timestamp('2021-04-15 16:28:50'))"
      ]
     },
     "execution_count": 137,
     "metadata": {},
     "output_type": "execute_result"
    }
   ],
   "source": [
    "sub.date[sub.program_id==2].min(), sub.date[sub.program_id==2].max()"
   ]
  },
  {
   "cell_type": "code",
   "execution_count": 130,
   "id": "4f1b100b",
   "metadata": {},
   "outputs": [
    {
     "data": {
      "text/plain": [
       "2019    134\n",
       "2020     92\n",
       "2021     32\n",
       "2018     27\n",
       "Name: date, dtype: int64"
      ]
     },
     "execution_count": 130,
     "metadata": {},
     "output_type": "execute_result"
    }
   ],
   "source": [
    "# program 2\n",
    "sub.date.dt.year[sub.program_id == 2].value_counts()"
   ]
  },
  {
   "cell_type": "markdown",
   "id": "95ae1f78",
   "metadata": {},
   "source": [
    "### Program 3 "
   ]
  },
  {
   "cell_type": "code",
   "execution_count": 138,
   "id": "b77235ab",
   "metadata": {},
   "outputs": [
    {
     "data": {
      "text/plain": [
       "(Timestamp('2019-08-30 12:08:28'), Timestamp('2021-04-11 09:17:02'))"
      ]
     },
     "execution_count": 138,
     "metadata": {},
     "output_type": "execute_result"
    }
   ],
   "source": [
    "sub.date[sub.program_id==3].min(), sub.date[sub.program_id==3].max()"
   ]
  },
  {
   "cell_type": "code",
   "execution_count": 128,
   "id": "23f9ff8c",
   "metadata": {
    "scrolled": true
   },
   "outputs": [
    {
     "data": {
      "text/plain": [
       "2020    28\n",
       "2021    24\n",
       "2019    16\n",
       "Name: date, dtype: int64"
      ]
     },
     "execution_count": 128,
     "metadata": {},
     "output_type": "execute_result"
    }
   ],
   "source": [
    "# program 3\n",
    "sub.date.dt.year[sub.program_id == 3].value_counts()"
   ]
  },
  {
   "cell_type": "markdown",
   "id": "0efdf112",
   "metadata": {},
   "source": [
    "### NaN"
   ]
  },
  {
   "cell_type": "code",
   "execution_count": 139,
   "id": "20af629e",
   "metadata": {},
   "outputs": [
    {
     "data": {
      "text/plain": [
       "(Timestamp('2019-03-04 09:25:59'), Timestamp('2020-10-22 16:10:08'))"
      ]
     },
     "execution_count": 139,
     "metadata": {},
     "output_type": "execute_result"
    }
   ],
   "source": [
    "sub.date[sub.program_id.isna()].min(), sub.date[sub.program_id.isna()].max()"
   ]
  },
  {
   "cell_type": "code",
   "execution_count": 129,
   "id": "28f68ccc",
   "metadata": {},
   "outputs": [
    {
     "data": {
      "text/plain": [
       "413"
      ]
     },
     "execution_count": 129,
     "metadata": {},
     "output_type": "execute_result"
    }
   ],
   "source": [
    "sub.date.dt.year[sub.program_id == 1].value_counts().sum() + sub.date.dt.year[sub.program_id == 2].value_counts().sum() + sub.date.dt.year[sub.program_id == 3].value_counts().sum()"
   ]
  },
  {
   "cell_type": "markdown",
   "id": "be4b0b12",
   "metadata": {},
   "source": [
    "# Analyzing low traffic by cohort"
   ]
  },
  {
   "cell_type": "markdown",
   "id": "bc993df4",
   "metadata": {},
   "source": [
    "**Why less than 2021?** Because 2021 would include current/ongoing cohorts and it would make sense for some pages to have low traffic from those cohorts"
   ]
  },
  {
   "cell_type": "code",
   "execution_count": 151,
   "id": "32796826",
   "metadata": {},
   "outputs": [
    {
     "data": {
      "text/html": [
       "<div>\n",
       "<style scoped>\n",
       "    .dataframe tbody tr th:only-of-type {\n",
       "        vertical-align: middle;\n",
       "    }\n",
       "\n",
       "    .dataframe tbody tr th {\n",
       "        vertical-align: top;\n",
       "    }\n",
       "\n",
       "    .dataframe thead th {\n",
       "        text-align: right;\n",
       "    }\n",
       "</style>\n",
       "<table border=\"1\" class=\"dataframe\">\n",
       "  <thead>\n",
       "    <tr style=\"text-align: right;\">\n",
       "      <th></th>\n",
       "      <th>count</th>\n",
       "      <th>first_date_access</th>\n",
       "      <th>last_date_access</th>\n",
       "    </tr>\n",
       "  </thead>\n",
       "  <tbody>\n",
       "    <tr>\n",
       "      <th>Staff</th>\n",
       "      <td>111</td>\n",
       "      <td>2019-01-11 11:51:19</td>\n",
       "      <td>2021-04-15 16:28:50</td>\n",
       "    </tr>\n",
       "    <tr>\n",
       "      <th>Bayes</th>\n",
       "      <td>28</td>\n",
       "      <td>2019-08-30 12:08:28</td>\n",
       "      <td>2021-03-01 11:16:33</td>\n",
       "    </tr>\n",
       "    <tr>\n",
       "      <th>Lassen</th>\n",
       "      <td>15</td>\n",
       "      <td>2018-02-07 13:48:51</td>\n",
       "      <td>2021-03-05 11:16:56</td>\n",
       "    </tr>\n",
       "    <tr>\n",
       "      <th>Kings</th>\n",
       "      <td>11</td>\n",
       "      <td>2018-07-09 19:40:52</td>\n",
       "      <td>2021-02-13 05:12:44</td>\n",
       "    </tr>\n",
       "    <tr>\n",
       "      <th>Yosemite</th>\n",
       "      <td>11</td>\n",
       "      <td>2018-12-04 10:44:56</td>\n",
       "      <td>2021-03-04 09:33:32</td>\n",
       "    </tr>\n",
       "    <tr>\n",
       "      <th>Jupiter</th>\n",
       "      <td>10</td>\n",
       "      <td>2020-10-17 23:11:31</td>\n",
       "      <td>2021-04-06 18:56:06</td>\n",
       "    </tr>\n",
       "    <tr>\n",
       "      <th>Bash</th>\n",
       "      <td>9</td>\n",
       "      <td>2020-07-24 16:41:07</td>\n",
       "      <td>2021-01-07 13:54:04</td>\n",
       "    </tr>\n",
       "    <tr>\n",
       "      <th>Teddy</th>\n",
       "      <td>9</td>\n",
       "      <td>2018-03-28 15:38:59</td>\n",
       "      <td>2021-03-12 10:00:27</td>\n",
       "    </tr>\n",
       "    <tr>\n",
       "      <th>Kalypso</th>\n",
       "      <td>8</td>\n",
       "      <td>2020-11-03 10:12:58</td>\n",
       "      <td>2021-03-11 09:09:49</td>\n",
       "    </tr>\n",
       "    <tr>\n",
       "      <th>Luna</th>\n",
       "      <td>6</td>\n",
       "      <td>2020-12-10 10:08:01</td>\n",
       "      <td>2021-02-25 21:32:35</td>\n",
       "    </tr>\n",
       "    <tr>\n",
       "      <th>Glacier</th>\n",
       "      <td>4</td>\n",
       "      <td>2019-05-07 15:39:52</td>\n",
       "      <td>2021-01-11 15:03:49</td>\n",
       "    </tr>\n",
       "  </tbody>\n",
       "</table>\n",
       "</div>"
      ],
      "text/plain": [
       "          count   first_date_access    last_date_access\n",
       "Staff       111 2019-01-11 11:51:19 2021-04-15 16:28:50\n",
       "Bayes        28 2019-08-30 12:08:28 2021-03-01 11:16:33\n",
       "Lassen       15 2018-02-07 13:48:51 2021-03-05 11:16:56\n",
       "Kings        11 2018-07-09 19:40:52 2021-02-13 05:12:44\n",
       "Yosemite     11 2018-12-04 10:44:56 2021-03-04 09:33:32\n",
       "Jupiter      10 2020-10-17 23:11:31 2021-04-06 18:56:06\n",
       "Bash          9 2020-07-24 16:41:07 2021-01-07 13:54:04\n",
       "Teddy         9 2018-03-28 15:38:59 2021-03-12 10:00:27\n",
       "Kalypso       8 2020-11-03 10:12:58 2021-03-11 09:09:49\n",
       "Luna          6 2020-12-10 10:08:01 2021-02-25 21:32:35\n",
       "Glacier       4 2019-05-07 15:39:52 2021-01-11 15:03:49"
      ]
     },
     "execution_count": 151,
     "metadata": {},
     "output_type": "execute_result"
    }
   ],
   "source": [
    "cohort_sub = sub.name.value_counts(dropna=False).to_frame()\n",
    "cohort_sub['first_date_access'] = sub.groupby('name').date.min()\n",
    "cohort_sub['last_date_access'] = sub.groupby('name').date.max()\n",
    "cohort_sub[(cohort_sub.first_date_access.dt.year < 2021) & (cohort_sub.last_date_access.dt.year >= 2021)].rename(columns={'name':'count'})\n"
   ]
  },
  {
   "cell_type": "code",
   "execution_count": null,
   "id": "aaafff0f",
   "metadata": {},
   "outputs": [],
   "source": []
  },
  {
   "cell_type": "code",
   "execution_count": 155,
   "id": "cc0b5f6a",
   "metadata": {},
   "outputs": [
    {
     "data": {
      "text/plain": [
       "Timestamp('2018-01-26 09:55:03')"
      ]
     },
     "execution_count": 155,
     "metadata": {},
     "output_type": "execute_result"
    }
   ],
   "source": [
    "df[df.name=='Staff'].date.min()"
   ]
  },
  {
   "cell_type": "code",
   "execution_count": 95,
   "id": "24805006",
   "metadata": {},
   "outputs": [
    {
     "data": {
      "text/plain": [
       "2314"
      ]
     },
     "execution_count": 95,
     "metadata": {},
     "output_type": "execute_result"
    }
   ],
   "source": [
    "num_paths = df.path.nunique()\n",
    "num_paths"
   ]
  },
  {
   "cell_type": "code",
   "execution_count": 20,
   "id": "ec66b59b",
   "metadata": {
    "scrolled": true
   },
   "outputs": [
    {
     "data": {
      "text/plain": [
       "array([1])"
      ]
     },
     "execution_count": 20,
     "metadata": {},
     "output_type": "execute_result"
    }
   ],
   "source": [
    "bottom_400 = np.unique(df.path.value_counts().iloc[num_paths-400:,].values)\n",
    "bottom_400"
   ]
  },
  {
   "cell_type": "code",
   "execution_count": 96,
   "id": "2d75d783",
   "metadata": {},
   "outputs": [
    {
     "data": {
      "text/html": [
       "<div>\n",
       "<style scoped>\n",
       "    .dataframe tbody tr th:only-of-type {\n",
       "        vertical-align: middle;\n",
       "    }\n",
       "\n",
       "    .dataframe tbody tr th {\n",
       "        vertical-align: top;\n",
       "    }\n",
       "\n",
       "    .dataframe thead th {\n",
       "        text-align: right;\n",
       "    }\n",
       "</style>\n",
       "<table border=\"1\" class=\"dataframe\">\n",
       "  <thead>\n",
       "    <tr style=\"text-align: right;\">\n",
       "      <th></th>\n",
       "      <th>date</th>\n",
       "      <th>time</th>\n",
       "      <th>path</th>\n",
       "      <th>user_id</th>\n",
       "      <th>cohort_id</th>\n",
       "      <th>ip</th>\n",
       "      <th>id</th>\n",
       "      <th>name</th>\n",
       "      <th>slack</th>\n",
       "      <th>start_date</th>\n",
       "      <th>end_date</th>\n",
       "      <th>created_at</th>\n",
       "      <th>updated_at</th>\n",
       "      <th>program_id</th>\n",
       "      <th>accessed_once</th>\n",
       "    </tr>\n",
       "  </thead>\n",
       "  <tbody>\n",
       "    <tr>\n",
       "      <th>311830</th>\n",
       "      <td>2020-08-05 00:52:40</td>\n",
       "      <td>00:52:40</td>\n",
       "      <td>storytelling/creating-custom-fields</td>\n",
       "      <td>11.0</td>\n",
       "      <td>28.0</td>\n",
       "      <td>76.185.145.231</td>\n",
       "      <td>28.0</td>\n",
       "      <td>Staff</td>\n",
       "      <td>#</td>\n",
       "      <td>2014-02-04</td>\n",
       "      <td>2014-02-04</td>\n",
       "      <td>2018-12-06 17:04:19</td>\n",
       "      <td>2018-12-06 17:04:19</td>\n",
       "      <td>2.0</td>\n",
       "      <td>True</td>\n",
       "    </tr>\n",
       "    <tr>\n",
       "      <th>311831</th>\n",
       "      <td>2020-08-05 00:52:41</td>\n",
       "      <td>00:52:41</td>\n",
       "      <td>storytelling/creating-dashboards</td>\n",
       "      <td>11.0</td>\n",
       "      <td>28.0</td>\n",
       "      <td>76.185.145.231</td>\n",
       "      <td>28.0</td>\n",
       "      <td>Staff</td>\n",
       "      <td>#</td>\n",
       "      <td>2014-02-04</td>\n",
       "      <td>2014-02-04</td>\n",
       "      <td>2018-12-06 17:04:19</td>\n",
       "      <td>2018-12-06 17:04:19</td>\n",
       "      <td>2.0</td>\n",
       "      <td>True</td>\n",
       "    </tr>\n",
       "    <tr>\n",
       "      <th>311832</th>\n",
       "      <td>2020-08-05 00:52:42</td>\n",
       "      <td>00:52:42</td>\n",
       "      <td>storytelling/creating-stories</td>\n",
       "      <td>11.0</td>\n",
       "      <td>28.0</td>\n",
       "      <td>76.185.145.231</td>\n",
       "      <td>28.0</td>\n",
       "      <td>Staff</td>\n",
       "      <td>#</td>\n",
       "      <td>2014-02-04</td>\n",
       "      <td>2014-02-04</td>\n",
       "      <td>2018-12-06 17:04:19</td>\n",
       "      <td>2018-12-06 17:04:19</td>\n",
       "      <td>2.0</td>\n",
       "      <td>True</td>\n",
       "    </tr>\n",
       "    <tr>\n",
       "      <th>311929</th>\n",
       "      <td>2020-08-05 11:06:05</td>\n",
       "      <td>11:06:05</td>\n",
       "      <td>slides/form</td>\n",
       "      <td>428.0</td>\n",
       "      <td>28.0</td>\n",
       "      <td>70.121.183.95</td>\n",
       "      <td>28.0</td>\n",
       "      <td>Staff</td>\n",
       "      <td>#</td>\n",
       "      <td>2014-02-04</td>\n",
       "      <td>2014-02-04</td>\n",
       "      <td>2018-12-06 17:04:19</td>\n",
       "      <td>2018-12-06 17:04:19</td>\n",
       "      <td>2.0</td>\n",
       "      <td>True</td>\n",
       "    </tr>\n",
       "    <tr>\n",
       "      <th>311930</th>\n",
       "      <td>2020-08-05 11:06:09</td>\n",
       "      <td>11:06:09</td>\n",
       "      <td>slides/formmodelbinding</td>\n",
       "      <td>428.0</td>\n",
       "      <td>28.0</td>\n",
       "      <td>70.121.183.95</td>\n",
       "      <td>28.0</td>\n",
       "      <td>Staff</td>\n",
       "      <td>#</td>\n",
       "      <td>2014-02-04</td>\n",
       "      <td>2014-02-04</td>\n",
       "      <td>2018-12-06 17:04:19</td>\n",
       "      <td>2018-12-06 17:04:19</td>\n",
       "      <td>2.0</td>\n",
       "      <td>True</td>\n",
       "    </tr>\n",
       "    <tr>\n",
       "      <th>...</th>\n",
       "      <td>...</td>\n",
       "      <td>...</td>\n",
       "      <td>...</td>\n",
       "      <td>...</td>\n",
       "      <td>...</td>\n",
       "      <td>...</td>\n",
       "      <td>...</td>\n",
       "      <td>...</td>\n",
       "      <td>...</td>\n",
       "      <td>...</td>\n",
       "      <td>...</td>\n",
       "      <td>...</td>\n",
       "      <td>...</td>\n",
       "      <td>...</td>\n",
       "      <td>...</td>\n",
       "    </tr>\n",
       "    <tr>\n",
       "      <th>898312</th>\n",
       "      <td>2021-04-20 10:35:18</td>\n",
       "      <td>10:35:18</td>\n",
       "      <td>dataframes</td>\n",
       "      <td>895.0</td>\n",
       "      <td>137.0</td>\n",
       "      <td>96.8.253.119</td>\n",
       "      <td>137.0</td>\n",
       "      <td>Florence</td>\n",
       "      <td>#florence</td>\n",
       "      <td>2021-03-15</td>\n",
       "      <td>2021-09-03</td>\n",
       "      <td>2021-03-15 18:18:20</td>\n",
       "      <td>2021-03-15 18:18:20</td>\n",
       "      <td>3.0</td>\n",
       "      <td>True</td>\n",
       "    </tr>\n",
       "    <tr>\n",
       "      <th>898313</th>\n",
       "      <td>2021-04-20 10:35:22</td>\n",
       "      <td>10:35:22</td>\n",
       "      <td>dataframes</td>\n",
       "      <td>895.0</td>\n",
       "      <td>137.0</td>\n",
       "      <td>96.8.253.119</td>\n",
       "      <td>137.0</td>\n",
       "      <td>Florence</td>\n",
       "      <td>#florence</td>\n",
       "      <td>2021-03-15</td>\n",
       "      <td>2021-09-03</td>\n",
       "      <td>2021-03-15 18:18:20</td>\n",
       "      <td>2021-03-15 18:18:20</td>\n",
       "      <td>3.0</td>\n",
       "      <td>True</td>\n",
       "    </tr>\n",
       "    <tr>\n",
       "      <th>898314</th>\n",
       "      <td>2021-04-20 10:36:05</td>\n",
       "      <td>10:36:05</td>\n",
       "      <td>dataframes</td>\n",
       "      <td>895.0</td>\n",
       "      <td>137.0</td>\n",
       "      <td>96.8.253.119</td>\n",
       "      <td>137.0</td>\n",
       "      <td>Florence</td>\n",
       "      <td>#florence</td>\n",
       "      <td>2021-03-15</td>\n",
       "      <td>2021-09-03</td>\n",
       "      <td>2021-03-15 18:18:20</td>\n",
       "      <td>2021-03-15 18:18:20</td>\n",
       "      <td>3.0</td>\n",
       "      <td>True</td>\n",
       "    </tr>\n",
       "    <tr>\n",
       "      <th>898321</th>\n",
       "      <td>2021-04-20 10:37:37</td>\n",
       "      <td>10:37:37</td>\n",
       "      <td>dataframes</td>\n",
       "      <td>895.0</td>\n",
       "      <td>137.0</td>\n",
       "      <td>96.8.253.119</td>\n",
       "      <td>137.0</td>\n",
       "      <td>Florence</td>\n",
       "      <td>#florence</td>\n",
       "      <td>2021-03-15</td>\n",
       "      <td>2021-09-03</td>\n",
       "      <td>2021-03-15 18:18:20</td>\n",
       "      <td>2021-03-15 18:18:20</td>\n",
       "      <td>3.0</td>\n",
       "      <td>True</td>\n",
       "    </tr>\n",
       "    <tr>\n",
       "      <th>898517</th>\n",
       "      <td>2021-04-21 10:26:18</td>\n",
       "      <td>10:26:18</td>\n",
       "      <td>fundamentals/cli/creating-files-and-directories</td>\n",
       "      <td>900.0</td>\n",
       "      <td>137.0</td>\n",
       "      <td>67.11.226.248</td>\n",
       "      <td>137.0</td>\n",
       "      <td>Florence</td>\n",
       "      <td>#florence</td>\n",
       "      <td>2021-03-15</td>\n",
       "      <td>2021-09-03</td>\n",
       "      <td>2021-03-15 18:18:20</td>\n",
       "      <td>2021-03-15 18:18:20</td>\n",
       "      <td>3.0</td>\n",
       "      <td>True</td>\n",
       "    </tr>\n",
       "  </tbody>\n",
       "</table>\n",
       "<p>8204 rows × 15 columns</p>\n",
       "</div>"
      ],
      "text/plain": [
       "                      date      time  \\\n",
       "311830 2020-08-05 00:52:40  00:52:40   \n",
       "311831 2020-08-05 00:52:41  00:52:41   \n",
       "311832 2020-08-05 00:52:42  00:52:42   \n",
       "311929 2020-08-05 11:06:05  11:06:05   \n",
       "311930 2020-08-05 11:06:09  11:06:09   \n",
       "...                    ...       ...   \n",
       "898312 2021-04-20 10:35:18  10:35:18   \n",
       "898313 2021-04-20 10:35:22  10:35:22   \n",
       "898314 2021-04-20 10:36:05  10:36:05   \n",
       "898321 2021-04-20 10:37:37  10:37:37   \n",
       "898517 2021-04-21 10:26:18  10:26:18   \n",
       "\n",
       "                                                   path  user_id  cohort_id  \\\n",
       "311830              storytelling/creating-custom-fields     11.0       28.0   \n",
       "311831                 storytelling/creating-dashboards     11.0       28.0   \n",
       "311832                    storytelling/creating-stories     11.0       28.0   \n",
       "311929                                      slides/form    428.0       28.0   \n",
       "311930                          slides/formmodelbinding    428.0       28.0   \n",
       "...                                                 ...      ...        ...   \n",
       "898312                                       dataframes    895.0      137.0   \n",
       "898313                                       dataframes    895.0      137.0   \n",
       "898314                                       dataframes    895.0      137.0   \n",
       "898321                                       dataframes    895.0      137.0   \n",
       "898517  fundamentals/cli/creating-files-and-directories    900.0      137.0   \n",
       "\n",
       "                    ip     id      name      slack  start_date    end_date  \\\n",
       "311830  76.185.145.231   28.0     Staff          #  2014-02-04  2014-02-04   \n",
       "311831  76.185.145.231   28.0     Staff          #  2014-02-04  2014-02-04   \n",
       "311832  76.185.145.231   28.0     Staff          #  2014-02-04  2014-02-04   \n",
       "311929   70.121.183.95   28.0     Staff          #  2014-02-04  2014-02-04   \n",
       "311930   70.121.183.95   28.0     Staff          #  2014-02-04  2014-02-04   \n",
       "...                ...    ...       ...        ...         ...         ...   \n",
       "898312    96.8.253.119  137.0  Florence  #florence  2021-03-15  2021-09-03   \n",
       "898313    96.8.253.119  137.0  Florence  #florence  2021-03-15  2021-09-03   \n",
       "898314    96.8.253.119  137.0  Florence  #florence  2021-03-15  2021-09-03   \n",
       "898321    96.8.253.119  137.0  Florence  #florence  2021-03-15  2021-09-03   \n",
       "898517   67.11.226.248  137.0  Florence  #florence  2021-03-15  2021-09-03   \n",
       "\n",
       "                 created_at           updated_at  program_id  accessed_once  \n",
       "311830  2018-12-06 17:04:19  2018-12-06 17:04:19         2.0           True  \n",
       "311831  2018-12-06 17:04:19  2018-12-06 17:04:19         2.0           True  \n",
       "311832  2018-12-06 17:04:19  2018-12-06 17:04:19         2.0           True  \n",
       "311929  2018-12-06 17:04:19  2018-12-06 17:04:19         2.0           True  \n",
       "311930  2018-12-06 17:04:19  2018-12-06 17:04:19         2.0           True  \n",
       "...                     ...                  ...         ...            ...  \n",
       "898312  2021-03-15 18:18:20  2021-03-15 18:18:20         3.0           True  \n",
       "898313  2021-03-15 18:18:20  2021-03-15 18:18:20         3.0           True  \n",
       "898314  2021-03-15 18:18:20  2021-03-15 18:18:20         3.0           True  \n",
       "898321  2021-03-15 18:18:20  2021-03-15 18:18:20         3.0           True  \n",
       "898517  2021-03-15 18:18:20  2021-03-15 18:18:20         3.0           True  \n",
       "\n",
       "[8204 rows x 15 columns]"
      ]
     },
     "execution_count": 96,
     "metadata": {},
     "output_type": "execute_result"
    }
   ],
   "source": [
    "accessed_once = df.path.unique()[1:][df.path.value_counts() == 1]\n",
    "once = pd.Series(accessed_once[:-1])\n",
    "        \n",
    "mask = []\n",
    "added_True = False\n",
    "for path in df.path.values:\n",
    "    \n",
    "    added_True = False\n",
    "    for uno in once.values:\n",
    "        if uno == path:\n",
    "            mask.append(True)\n",
    "            added_True = True\n",
    "        if added_True:\n",
    "            break\n",
    "    if not added_True:\n",
    "        mask.append(False)\n",
    "            \n",
    "            \n",
    "df[mask]\n"
   ]
  },
  {
   "cell_type": "code",
   "execution_count": 98,
   "id": "2bbe599d",
   "metadata": {},
   "outputs": [
    {
     "data": {
      "text/plain": [
       "stats/hypothesis-testing-overview     420\n",
       "fundamentals/spreadsheets-overview    370\n",
       "classification/knn                    348\n",
       "classification/random-forests         345\n",
       "stats/overview                        312\n",
       "                                     ... \n",
       "mysql/java-iii                          1\n",
       "slides/css                              1\n",
       "sgithubtudents/1215                     1\n",
       "examples/html/welcome                   1\n",
       "where                                   1\n",
       "Name: path, Length: 457, dtype: int64"
      ]
     },
     "execution_count": 98,
     "metadata": {},
     "output_type": "execute_result"
    }
   ],
   "source": [
    "df[mask].path.value_counts()"
   ]
  },
  {
   "cell_type": "code",
   "execution_count": 83,
   "id": "64c923d0",
   "metadata": {},
   "outputs": [
    {
     "data": {
      "text/plain": [
       "array(['storytelling/creating-custom-fields',\n",
       "       'storytelling/creating-dashboards',\n",
       "       'storytelling/creating-stories', 'slides/form',\n",
       "       'slides/formmodelbinding', 'slides/jpa', 'sw-project-planning',\n",
       "       'repo-doc', 'storytelling/bad-charts',\n",
       "       'storytelling/misleading1_baseball.jpg',\n",
       "       'storytelling/misleading1_fox.jpg',\n",
       "       'storytelling/misleading3_deaths.jpg',\n",
       "       'javascript-i/introduction/working-with-data-types-operators-and-variables/600%20Navarro%20St.,%20San%20Antonio,%20TX%2078205,%20United%20States%20of%20America',\n",
       "       'javascript-i/introduction/working-with-data-types-operators-and-variables/google.com',\n",
       "       'series', 'dataframes', 'pandas-overview',\n",
       "       'nlp/regular-expressions',\n",
       "       'professional-development/t-block-resume',\n",
       "       'appendix/further-reading/html-css',\n",
       "       'fundamentals/spreadsheets-overview',\n",
       "       'fundamentals/visualization-with-excel', 'storytelling/tableau',\n",
       "       'storytelling/refine', 'storytelling/present',\n",
       "       'timeseries/project', 'nlp/project',\n",
       "       'nlp/github_repo_language.gif', 'create',\n",
       "       'stats/hypothesis-testing-overview', 'stats/overview', 'phpinfo',\n",
       "       'stats/viz.py', 'classification', 'distributed-ml/wrangle',\n",
       "       'classification/random-forests', 'classification/knn',\n",
       "       'distributed-ml/environment-setup', 'distributed-ml/ml-with-spark',\n",
       "       'appendix/open_data/www.basketball-reference.com',\n",
       "       'appendix/open_data/www.stat.ucla.edu/data', 'nlp/explore',\n",
       "       'appendix/capstone/workbook', 'spring/integration-tests',\n",
       "       'extra-features', 'regression/multivariate-regression-in-excel',\n",
       "       'regression/univariate_regression_in_excel',\n",
       "       'timeseries/working-with-time-series-data', 'acquire', 'explore',\n",
       "       'working-with-time-series-data', 'modeling-lesson1', 'overview',\n",
       "       'timeseries', 'distributed-ml/overview',\n",
       "       'distributed-ml/spark-execution-diagram.svg',\n",
       "       'distributed-ml/spark-local-mode.svg', 'timeseries/sarimax',\n",
       "       'ltc-ml/slides/1', 'ltc-ml/slides/2', 'python/pandas-time-series',\n",
       "       'nlp/prepare', 'advanced-topics/html-templates',\n",
       "       'advanced-topics/styling-webpages',\n",
       "       'advanced-topics/json-responses', 'fundamentals/cli/listing-files',\n",
       "       'fundamentals/cli/file-paths',\n",
       "       'fundamentals/cli/navigating-the-filesystem',\n",
       "       'fundamentals/cli/creating-files-and-directories',\n",
       "       'fundamentals/cli/moving-files', 'fundamentals/cli/more-topics',\n",
       "       'anomaly-detection/time-series-anomaly-detection-part-3',\n",
       "       'anomaly-detection/time-series-anomaly-detection-part-2',\n",
       "       'mysql/host-wildcards', 'python/objects', 'users.json',\n",
       "       'modern-data-scientist.jpg', 'AI-ML-DL-timeline.jpg',\n",
       "       'capstones/capstones', 'regression/viz.py', \"'\",\n",
       "       'html-css/introduction:view-page',\n",
       "       'html-css/introduction:page-source',\n",
       "       'html-css/introduction/:view-page',\n",
       "       'appendix/mysql/host-wildcards',\n",
       "       'anomaly-detection/isolation-forests',\n",
       "       'fundamentals/environment-setup.md', 'f',\n",
       "       'appendix/professional-development/interview-guidance',\n",
       "       'clustering/using-clusters', 'clustering/now_what.jpg',\n",
       "       'storytelling', 'bio',\n",
       "       'appendix/professional-development/interview-questions-tech',\n",
       "       'appendix/extra-challenges/mysql/mysql-extra-exercises',\n",
       "       'storytelling/refine-present', 'strudents',\n",
       "       'user-defined-functions.md',\n",
       "       'anomaly-detection/time-series-anomaly-detection-part-1',\n",
       "       'python/pandas-lesson', 'appendix/3d-plotting',\n",
       "       'clustering/dbscan', 'clustering/hierarchical',\n",
       "       'clustering/dendogram_sample.jpeg',\n",
       "       'classification/user-defined-functions',\n",
       "       'timeseries/working-with-time-series-data-with-pandas',\n",
       "       'individual-project/individual-project', 'jquery/mapbox-api',\n",
       "       'easley-python-assessment.html', 'florence-python-assessment.html',\n",
       "       'javascript-i/dom',\n",
       "       'appendix/professional-development/post-interview-review-form',\n",
       "       'jquery/traversing', '130', '132', '131', '133', '135', '115',\n",
       "       'inheritance-and-polymorphism', 'interfaces-and-abstract-classes',\n",
       "       'collections', 'mysql//clauses', 'arash-arghavan', 'student/120',\n",
       "       'student/202', 'student/850', 'spring/controllers', 'html/css',\n",
       "       'htmle-css/elements', 'html', 'html-css/elecments',\n",
       "       'examples/css/..%2f', 'examples/css/..%5c',\n",
       "       'examples/css/..%c0%af', 'examples/css/..%255c',\n",
       "       'examples/css/%252e%252e%255c', 'examples/twitter.html',\n",
       "       'javascript-i/loops/google.com', 'bonus-exercises',\n",
       "       'jquery/ajax/requests-and-responses/.json', 'tools',\n",
       "       'students/743/notes', 'students/743/notes/0',\n",
       "       'students/743/notes/1', 'quiz',\n",
       "       'appendix/further-reading/java/intellij',\n",
       "       'content/examples/php/form-example.php', 'testing-user-functions',\n",
       "       'objects/math', 'deployment-and-dependencies',\n",
       "       'events/mouse-events', 'spring/fundementals/form-model-binding',\n",
       "       'spring/services', 'appendix/professional',\n",
       "       'html-css/img/favicon.ico', 'javascript-i/operators',\n",
       "       'jquery/weather-map', 'jquery/requests-and-responses', 'effects',\n",
       "       'appendix/extra-exercises', 'appendix/extra-exercises/javascript',\n",
       "       'php_i', 'php_i/gitbook/images/favicon.ico',\n",
       "       'object-oriented-programming', 'register.',\n",
       "       'html-css/selectors-and-properties',\n",
       "       'html-css/flexbox/flexbox-fundamentals',\n",
       "       'html-css/css-i/css-grid-fundamentals',\n",
       "       'html-css/grid/css-grid-intro', 'web-design/ux/layout/.json',\n",
       "       'appendix/java/intellij-tomcat-configuration', 'capsones/151',\n",
       "       'alumni', 'bom-and-dom/dom-events', 'appendix/cls/2-listing-files',\n",
       "       'appendix/cli/2-Overview', 'appendix/cli/2-overview',\n",
       "       'cli/3-file-paths', 'cli/4-navigating-the-filesystem',\n",
       "       '10-anomaly-detection/time-series-anomaly-detection-part-2',\n",
       "       'appendix/cli/7-more-topics/null', '6-regression/ridge-regression',\n",
       "       '6-regression/least-angle-regression', '8-clustering/hierarchical',\n",
       "       '8-clustering/dendogram_sample.jpeg',\n",
       "       '12-distributed-ml/6.1-prepare-part-1',\n",
       "       '12-distributed-ml/6.4-prepare-part-4',\n",
       "       '12-distributed-ml/7-explore', '7.4.1-pandas-overview',\n",
       "       '7.4.2-series', '5-stats/1-overview/null',\n",
       "       '5-stats/4.2-compare-means/null', 'itc-ml', 'itc%20-%20ml',\n",
       "       'ltc.-ml', '8-clustering/Zillow_Example',\n",
       "       '6-regression/univariate_regression_in_excel',\n",
       "       'end_to_end_clustering', 'End_to_End_clustering',\n",
       "       '3-discrete-probabilistic-methods',\n",
       "       '4-detecting-timeseries-anomalies', '1-overview',\n",
       "       '5-detecting-with-clustering', '4-python/pandas-time-series',\n",
       "       'find_me_curie!(12.3.19)', 'Index.html',\n",
       "       '8-clustering/end-to-end-clustering',\n",
       "       'bayes-python-assessment-4586.html',\n",
       "       '12-distributed-ml/spark-topics',\n",
       "       '7-classification/confusion-matrix.md',\n",
       "       '1-fundamentals/2.3-visualization', '3-sql',\n",
       "       'classification/project-old-exec', 'timeseries/svr',\n",
       "       'python/intro-to-sklearn', 'python/matplotlib-styles',\n",
       "       'classification/confusion-matrix', 'nlp/entity-labeling',\n",
       "       'python/handling-duplicate-values',\n",
       "       'fundamentals/intro-to-data-science.md',\n",
       "       'fundamentals/data-science-pipeline.md',\n",
       "       'fundamentals/cli/navigating-the-filesystem.md',\n",
       "       'sql/mysql-introduction.md', 'DataToAction_v2.jpg',\n",
       "       'scale_features_or_not.svg', 'cli/moving-files',\n",
       "       'python/introduction-to-python.md', 'creating-charts',\n",
       "       'storytelling/creating-custom-fields.md',\n",
       "       'Selecting_a_hypothesis_test.svg',\n",
       "       'classical_programming_vs_machine_learning.jpeg', 'prep',\n",
       "       'tidy-data', 'regression/old_project', 'decision-trees',\n",
       "       'evaluation', 'classification/knn.md', 'viz.py',\n",
       "       'acquire-and-prep', 'prepare', 'regression/built-in-datasets',\n",
       "       'regression/appendix-feature-engineering',\n",
       "       'regression/ridge-regression', 'regression/least-angle-regression',\n",
       "       'html-css/null', 'java-i/control-stateedabitments-and-loops',\n",
       "       'mysql//extra-exercises', 'java-iii/mvc.jsp',\n",
       "       'mysql//sample-database', 'mysql//database-design',\n",
       "       'syntax-types-and-variables', 'appendix/mock-behavioral-questions',\n",
       "       'professional-development/cover-letter', 'mysql//ntellij',\n",
       "       'mysql/java-iii', 'sample-database', 'slides/css',\n",
       "       'sgithubtudents/1215', 'appendix/further-reading/javascript',\n",
       "       'examples/html/welcome', 'web-design/ux',\n",
       "       'javascript-i/bom-and-dom/bom/http%22://www.google.com',\n",
       "       'javascript-i/bom-and-dom/bom/google.com', 'teams', 'java-1',\n",
       "       'further-reading/java/intellij-tomcat-configuration',\n",
       "       'spring/fundamentals/relationships/null',\n",
       "       'html-css/css-i/positioning/specimen/MaterialIcons-Regular.woff2',\n",
       "       'html-css/css-i/positioning/specimen/MaterialIcons-Regular.woff',\n",
       "       'html-css/css-i/positioning/specimen/MaterialIcons-Regular.ttf',\n",
       "       'relationships', 'relationships/indexes', 'main-pages_xXxXx.html',\n",
       "       'appendix/spring/security-use-cases', '3-databases',\n",
       "       'curie-python-assessemt', '3-data-types-and-variables',\n",
       "       '2-storytelling/1-overview/www.qlik.com',\n",
       "       '3-probability-distributions', '4.2-compare-means',\n",
       "       'curie-stats-assessment', 'curie-statistics-assessment',\n",
       "       'stats-assessment', 'statistics-assessment',\n",
       "       '4.5-more-statistical-testing-examples', '6-regression/8-Project',\n",
       "       0, 'project', '%20https://github.com/RaulCPena',\n",
       "       ',%20https://github.com/RaulCPena', 'A-clustering/project',\n",
       "       'b-clustering/project', 'appendix/www.opensecrets.org', 'grades',\n",
       "       '3-acquire', 'appendix/open_data/www.opensecrets.org',\n",
       "       'appendix/open_data/www.followthemoney.org',\n",
       "       'appendix/open_data/www.census.gov', 'nlp/pos-tagging',\n",
       "       'nlp/topic-modeling', 'python/error-handling',\n",
       "       'python/type-annotations', 'stats/sampling', 'html-css/css-i/grid',\n",
       "       'css-i/grid/css-grid-fundamentals',\n",
       "       'html-css/bootstrap-introduction', 'prework/cli/03-filepaths',\n",
       "       'prework.com', 'html-css/grid/css-grid-fundamentals',\n",
       "       'appendix/further-reading/flexbox-additional-concepts',\n",
       "       'html-css/css-ii/boostrap-grid-system', 'ui/typography',\n",
       "       'javascript-i/math', 'jquery/keyboard-events',\n",
       "       'exceptions-and-error-handling',\n",
       "       'java-i/control-statements-and-loops/g',\n",
       "       'professional-development/linkedin-tips', 'javascript/functions',\n",
       "       'javascript', 'appendix/capstone',\n",
       "       'appendix/capstone-workbook/project-proposal',\n",
       "       'appendix/spring/authorization',\n",
       "       'html-css/css-i/flexbox-in-practice',\n",
       "       'appendix/further-reading/css-grid-additional-features',\n",
       "       'appendix/java', 'slidesexceptions_and_errorhandlings',\n",
       "       'slides/exceptions_and_errorhandlings',\n",
       "       'slides/exceptions_and_error_handlings', 'mysql//tables',\n",
       "       'mysql//functions', 'javascri', 'javascript/apendix',\n",
       "       '.well-known/assetlinks.json', '1-fundamentals',\n",
       "       '1.2-data-science-pipeline', '1.3-pipeline-demo', '3-vocabulary',\n",
       "       '2.1-spreadsheets-overview', 'imports',\n",
       "       'python/custom-sorting-functions', 'intro-to-matplotlib', 'refine',\n",
       "       'present', 'bad-charts', 'simulation', 'compare-means',\n",
       "       'stats/power-analysis', 'stats/distributions-and-testing',\n",
       "       'stats/probability-and-event-interactions',\n",
       "       'appendix/open_data/www.who.int/research/en',\n",
       "       'classification/handling-missing-values',\n",
       "       'appendix/open_data/www.databasefootball.com',\n",
       "       'regression/project/null', 'clustering/review', 'api',\n",
       "       'split-and-scale',\n",
       "       'appendix/open_data/www.census.gov/geo/www/tiger',\n",
       "       'appendix/open_data/www.openstreetmap.org',\n",
       "       'appendix/open_data/www.flickr.com/services/api',\n",
       "       'fundamentals/1-fundamentals/modern-data-scientist.jpg',\n",
       "       'appendix/interview-questions-students', 'regular-expressions',\n",
       "       'timeseries/E2E_example', 'model', 'short_evaluation',\n",
       "       'regression/model_old', 'clustering/I_have_clusters_now_what',\n",
       "       'regression/feature_engineering_into_modeling', 'json-responses',\n",
       "       'nlp', 'mysql-introduction', 'cli/overview',\n",
       "       'appendix/professional-development/interview-questions-behavioral',\n",
       "       'classification/explore-copy', 'web-dev-day-two',\n",
       "       'introduction/working-with-data-types-operators-and-variables',\n",
       "       'javascript-i/primitive-types', 'one',\n",
       "       'further-reading/javascript/array-splice', 'extra-challenges',\n",
       "       'appendix/email-setup', 'appendix/job-search-workshop',\n",
       "       'extra-challenges/java-file-io-extras',\n",
       "       'professional-development/professional-resume',\n",
       "       'coding-challenges',\n",
       "       'professional-development/job-search-workshop', 'RESTful-api',\n",
       "       'introduction/variables', 'extra-challenges/basic-challenges',\n",
       "       'extra-challenges/css-practice', 'extra-challenges/memory-game',\n",
       "       'asset-manifest.json', 'javascript-i/bom',\n",
       "       'javascript-i/dom-events', 'mvc/accessing-data',\n",
       "       'mvc/introduction', 'javascript-i/html-css', 'capstone/team',\n",
       "       'capstone/teams', 'capstone/jupiter', 'jupiter', 'team', 'index',\n",
       "       'job-portal', 'job-board', 'jacascript-i/introdection',\n",
       "       'appendix/javascript', 'javascript-1',\n",
       "       'introduction/primitive-types', 'appendix/html-css',\n",
       "       'coding-challenges/amateur', 'examples/bootstrap/pizza.pn',\n",
       "       'examples/bootstrap/pizza.png%22);',\n",
       "       'examples/bootstrap/pizza.png;', 'timeline/java-i',\n",
       "       'extra-challenges/mysql/mysql-extra-exercises', 'mysql/indexes',\n",
       "       'aliases', \"java-iii/mvc/java-beans/'\",\n",
       "       'java-iii/sessions-and-cookies/style/css',\n",
       "       'javascript-/introducion/working-with-dat-types-operators-and-variables',\n",
       "       'javascript-/introducion/working-with-data-types-operators-and-variables',\n",
       "       'extra-', 'mini_exercises', 'tools/codeup', 'extra-exercises/j',\n",
       "       'relationships/joins', 'environment-setup', 'vocabulary',\n",
       "       'introduction-to-python', 'understand', 'evaluate',\n",
       "       'regression/short_evaluation',\n",
       "       'clustering/hierarchical_circle.png!%5Bimage.png%5D(attachment:9d62ad1d-11fe-4abd-abbc-266425f5205a.png)!%5Bimage.png%5D(attachment:64c8827f-b1ff-4187-9d76-72b95ff78926.png)!%5Bimage.png%5D(attachment:2fee2135-1db8-4ea1-afc7-827911238f50.png)!%5Bimage.png%5D(attachment:671c2e2a-39f1-4137-9aab-17bde0eb89e3.png)',\n",
       "       'classification/explore-old', 'appendix/professional-resume',\n",
       "       'javascript-i/null', 'javascript-i/manipulating',\n",
       "       'javascript-i/working-with-data-types-operators-and-variables',\n",
       "       'coffee-project', 'selectors',\n",
       "       'javascript-i/intruduction/operators', 'extra',\n",
       "       'appendix/data_science_community/www.kdnuggets.com/2019/7/top-10-data-science-leaders.html',\n",
       "       'cli/navigating-the-filesystem', 'data-science-pipeline',\n",
       "       'sql.mysql-overview', 'sql/database', 'sql/relationships', 'joins',\n",
       "       'subqueries', 'diagram-of-ds-pipeline-fraud-example.jpeg',\n",
       "       'data-science-modules.jpg', 'ml-methodologies-drawing.jpg',\n",
       "       'case-statements', 'where'], dtype=object)"
      ]
     },
     "execution_count": 83,
     "metadata": {},
     "output_type": "execute_result"
    }
   ],
   "source": [
    "once.values"
   ]
  },
  {
   "cell_type": "code",
   "execution_count": 79,
   "id": "1c7bf257",
   "metadata": {},
   "outputs": [
    {
     "data": {
      "text/plain": [
       "8204"
      ]
     },
     "execution_count": 79,
     "metadata": {},
     "output_type": "execute_result"
    }
   ],
   "source": [
    "df.accessed_once.sum()"
   ]
  },
  {
   "cell_type": "code",
   "execution_count": 81,
   "id": "b0f03b4c",
   "metadata": {},
   "outputs": [
    {
     "data": {
      "text/plain": [
       "stats/hypothesis-testing-overview     420\n",
       "fundamentals/spreadsheets-overview    370\n",
       "classification/knn                    348\n",
       "classification/random-forests         345\n",
       "stats/overview                        312\n",
       "                                     ... \n",
       "mysql/java-iii                          1\n",
       "slides/css                              1\n",
       "sgithubtudents/1215                     1\n",
       "examples/html/welcome                   1\n",
       "where                                   1\n",
       "Name: path, Length: 457, dtype: int64"
      ]
     },
     "execution_count": 81,
     "metadata": {},
     "output_type": "execute_result"
    }
   ],
   "source": [
    "df[df.accessed_once == True].path.value_counts()"
   ]
  },
  {
   "cell_type": "markdown",
   "id": "ae2f6ec6",
   "metadata": {},
   "source": [
    "# CONCLUSION:"
   ]
  },
  {
   "cell_type": "markdown",
   "id": "729e005f",
   "metadata": {},
   "source": [
    "> * **450** of the **2300** **(~20%)** pages have been accessed only once"
   ]
  },
  {
   "cell_type": "code",
   "execution_count": 142,
   "id": "cb21f3d1",
   "metadata": {},
   "outputs": [
    {
     "data": {
      "text/plain": [
       "content                        337\n",
       "appendix                       222\n",
       "html-css                        77\n",
       "mysql                           77\n",
       "examples                        77\n",
       "                              ... \n",
       "13.3_Refine                      1\n",
       "bootstrap-introduction.html      1\n",
       "styling-webpages                 1\n",
       "9.20_Data                        1\n",
       "2-sql                            1\n",
       "Name: word_count, Length: 1614, dtype: int64"
      ]
     },
     "execution_count": 142,
     "metadata": {},
     "output_type": "execute_result"
    }
   ],
   "source": [
    "word_counts = {}\n",
    "\n",
    "\n",
    "for path in df.path.value_counts().index:\n",
    "    word = str(path)\n",
    "    for elem in word.split('/'):\n",
    "        if len(elem) > 0 and elem not in list(word_counts.keys()):\n",
    "            word_counts[elem] = 1\n",
    "        elif len(elem) > 0:\n",
    "            word_counts[elem] += 1\n",
    "            \n",
    "word_count = pd.Series(word_counts, name='word_count').sort_values(ascending=False)\n",
    "word_count"
   ]
  },
  {
   "cell_type": "code",
   "execution_count": 128,
   "id": "bb4b649a",
   "metadata": {},
   "outputs": [
    {
     "data": {
      "text/plain": [
       "0                                      /\n",
       "1                                java-ii\n",
       "2    java-ii/object-oriented-programming\n",
       "3     slides/object_oriented_programming\n",
       "4                 javascript-i/functions\n",
       "Name: path, dtype: object"
      ]
     },
     "execution_count": 128,
     "metadata": {},
     "output_type": "execute_result"
    }
   ],
   "source": [
    "df.path.head()"
   ]
  },
  {
   "cell_type": "code",
   "execution_count": 69,
   "id": "3c8e9e2c",
   "metadata": {},
   "outputs": [
    {
     "name": "stdout",
     "output_type": "stream",
     "text": [
      "exercise count: 45\n",
      "programming count: 123\n",
      "math count: 60\n",
      "mock-behavioral-question\n",
      "prepared-statements\n",
      "interview_questions_students\n",
      "interview-questions\n",
      "interview_questions\n",
      "mock-behavioral-questions\n",
      "prepared-statements.html\n",
      "interview-questions-behavioral\n",
      "6.3-prepare-part-3\n",
      "6.1-prepare-part-1\n",
      "4-prepare\n",
      "6.2-prepare-part-2\n",
      "interview-questions-students\n",
      "prepare\n",
      "interview_questions_instructors\n",
      "interview-questions-tech\n",
      "6.4-prepare-part-4\n"
     ]
    }
   ],
   "source": [
    "first_word = [str(path).split('/')[0] for path in df.path.value_counts().index]\n",
    "second_word = [str(path).split('/')[1] for path in df.path.value_counts().index if len(str(path).split('/'))>1]\n",
    "third_word = [str(path).split('/')[2] for path in df.path.value_counts().index if len(str(path).split('/'))>2]\n",
    "fourth_word = [str(path).split('/')[3] for path in df.path.value_counts().index if len(str(path).split('/'))>3]\n",
    "fifth_word = [str(path).split('/')[4] for path in df.path.value_counts().index if len(str(path).split('/'))>4]\n",
    "sixth_word = [str(path).split('/')[5] for path in df.path.value_counts().index if len(str(path).split('/'))>5]\n",
    "seventh_word = [str(path).split('/')[6] for path in df.path.value_counts().index if len(str(path).split('/'))>6]\n",
    "\n",
    "word_list = [first_word, second_word, third_word, fourth_word, fifth_word, sixth_word, seventh_word]\n",
    "\n",
    "def flatten(a_list):\n",
    "    return [word for words in word_list for word in words]\n",
    "\n",
    "separators = ['.', '-', '_']\n",
    "\n",
    "\n",
    "exercise = ['exercise', 'Exercise', 'challenge', 'practice', 'Challenge', 'Practice',\n",
    "            'problem', 'Problem', 'question', 'Question']\n",
    "\n",
    "programming = ['sql', 'python', 'java', 'Java', 'Python', 'SQL', 'Sql', 'ruby', 'Ruby', 'c++', 'C++',\n",
    "              'programming', 'Programming', 'functions', 'Functions', 'import', 'Import', 'git', 'Git', 'terminal',\n",
    "              'jupyter', 'Jupyter', 'pandas', 'Pandas', 'acquire', 'prepare']\n",
    "\n",
    "math = ['stat', 'Stat', 'proba', 'Proba']\n",
    "\n",
    "math_count = 0\n",
    "exercise_count = 0\n",
    "programming_count = 0\n",
    "\n",
    "flattened = set(flatten(word_list))\n",
    "\n",
    "for ex in exercise:\n",
    "    for word in flattened:\n",
    "        if ex in word:\n",
    "            exercise_count+=1\n",
    "            \n",
    "for mth in math:\n",
    "    for word in flattened:\n",
    "        if mth in word:\n",
    "            math_count +=1\n",
    "            \n",
    "for pro in programming:\n",
    "    for word in flattened:\n",
    "        if pro in word:\n",
    "            programming_count+=1\n",
    "            \n",
    "print(f'exercise count: {exercise_count}')\n",
    "print(f'programming count: {programming_count}')\n",
    "print(f'math count: {math_count}')\n",
    "for word in flattened:\n",
    "    if 'question' in word or 'Question' in word:\n",
    "        print(word)\n",
    "    if 'prepare' in word:\n",
    "        print(word)"
   ]
  },
  {
   "cell_type": "code",
   "execution_count": 39,
   "id": "ade8b577",
   "metadata": {},
   "outputs": [
    {
     "data": {
      "text/plain": [
       "0            storytelling/creating-custom-fields\n",
       "1               storytelling/creating-dashboards\n",
       "2                  storytelling/creating-stories\n",
       "3                                    slides/form\n",
       "4                        slides/formmodelbinding\n",
       "                         ...                    \n",
       "452    diagram-of-ds-pipeline-fraud-example.jpeg\n",
       "453                     data-science-modules.jpg\n",
       "454                 ml-methodologies-drawing.jpg\n",
       "455                              case-statements\n",
       "456                                        where\n",
       "Length: 457, dtype: object"
      ]
     },
     "execution_count": 39,
     "metadata": {},
     "output_type": "execute_result"
    }
   ],
   "source": [
    "once"
   ]
  },
  {
   "cell_type": "code",
   "execution_count": 156,
   "id": "bf8a9c5d",
   "metadata": {},
   "outputs": [
    {
     "name": "stdout",
     "output_type": "stream",
     "text": [
      "['jpg', 'jpeg', 'png', 'pdf', 'slides', 'doc', 'chart', 'gif']: 31\n",
      "['story', 'stories', 'present']: 18\n",
      "['java', 'python', 'git', 'cloud']: 61\n"
     ]
    },
    {
     "data": {
      "text/plain": [
       "['javascript-i/introduction/working-with-data-types-operators-and-variables/600%20navarro%20st.,%20san%20antonio,%20tx%2078205,%20united%20states%20of%20america',\n",
       " 'javascript-i/introduction/working-with-data-types-operators-and-variables/google.com',\n",
       " 'javascript-i/dom',\n",
       " 'javascript-i/loops/google.com',\n",
       " 'appendix/further-reading/java/intellij',\n",
       " 'javascript-i/operators',\n",
       " 'appendix/extra-exercises/javascript',\n",
       " 'appendix/java/intellij-tomcat-configuration',\n",
       " 'java-i/control-stateedabitments-and-loops',\n",
       " 'java-iii/mvc.jsp',\n",
       " 'mysql/java-iii',\n",
       " 'appendix/further-reading/javascript',\n",
       " 'javascript-i/bom-and-dom/bom/http%22://www.google.com',\n",
       " 'javascript-i/bom-and-dom/bom/google.com',\n",
       " 'java-1',\n",
       " 'further-reading/java/intellij-tomcat-configuration',\n",
       " 'javascript-i/math',\n",
       " 'java-i/control-statements-and-loops/g',\n",
       " 'javascript/functions',\n",
       " 'javascript',\n",
       " 'appendix/java',\n",
       " 'javascri',\n",
       " 'javascript/apendix',\n",
       " 'javascript-i/primitive-types',\n",
       " 'further-reading/javascript/array-splice',\n",
       " 'extra-challenges/java-file-io-extras',\n",
       " 'javascript-i/bom',\n",
       " 'javascript-i/dom-events',\n",
       " 'javascript-i/html-css',\n",
       " 'appendix/javascript',\n",
       " 'javascript-1',\n",
       " 'timeline/java-i',\n",
       " \"java-iii/mvc/java-beans/'\",\n",
       " 'java-iii/sessions-and-cookies/style/css',\n",
       " 'javascript-/introducion/working-with-dat-types-operators-and-variables',\n",
       " 'javascript-/introducion/working-with-data-types-operators-and-variables',\n",
       " 'javascript-i/null',\n",
       " 'javascript-i/manipulating',\n",
       " 'javascript-i/working-with-data-types-operators-and-variables',\n",
       " 'javascript-i/intruduction/operators',\n",
       " 'python/pandas-time-series',\n",
       " 'python/objects',\n",
       " 'python/pandas-lesson',\n",
       " 'easley-python-assessment.html',\n",
       " 'florence-python-assessment.html',\n",
       " '4-python/pandas-time-series',\n",
       " 'bayes-python-assessment-4586.html',\n",
       " 'python/intro-to-sklearn',\n",
       " 'python/matplotlib-styles',\n",
       " 'python/handling-duplicate-values',\n",
       " 'python/introduction-to-python.md',\n",
       " 'curie-python-assessemt',\n",
       " 'python/error-handling',\n",
       " 'python/type-annotations',\n",
       " 'python/custom-sorting-functions',\n",
       " 'introduction-to-python',\n",
       " 'nlp/github_repo_language.gif',\n",
       " 'php_i/gitbook/images/favicon.ico',\n",
       " 'sgithubtudents/1215',\n",
       " '%20https://github.com/raulcpena',\n",
       " ',%20https://github.com/raulcpena']"
      ]
     },
     "execution_count": 156,
     "metadata": {},
     "output_type": "execute_result"
    }
   ],
   "source": [
    "resources = ['jpg', 'jpeg', 'png', 'pdf', 'slides', 'doc', 'chart', 'gif']\n",
    "\n",
    "presentation = ['story', 'stories', 'present']\n",
    "programming = ['java', 'python', 'git', 'cloud']\n",
    "\n",
    "def search_once(once, category):\n",
    "    count = 0\n",
    "    paths_in_category = []\n",
    "    \n",
    "    for word in category:\n",
    "        \n",
    "        for path in once.values:\n",
    "            if word in str(path).lower():\n",
    "                count+= 1\n",
    "                paths_in_category.append(str(path).lower())\n",
    "                \n",
    "    print(f'{category}: {count}')\n",
    "    return paths_in_category\n",
    "\n",
    "def subset_once(lst_of_categories, once):\n",
    "    flattened = flatten(lst_of_categories)\n",
    "    all_\n",
    "\n",
    "search_once(once, resources)\n",
    "search_once(once, presentation)\n",
    "search_once(once, programming)\n"
   ]
  },
  {
   "cell_type": "code",
   "execution_count": 190,
   "id": "7e8ca2c6",
   "metadata": {
    "scrolled": true
   },
   "outputs": [
    {
     "data": {
      "text/plain": [
       "0      creating-custom-fields\n",
       "1         creating-dashboards\n",
       "2            creating-stories\n",
       "3                        form\n",
       "4            formmodelbinding\n",
       "                ...          \n",
       "452                          \n",
       "453                          \n",
       "454                          \n",
       "455                          \n",
       "456                          \n",
       "Name: endpoint, Length: 457, dtype: object"
      ]
     },
     "execution_count": 190,
     "metadata": {},
     "output_type": "execute_result"
    }
   ],
   "source": [
    "resources = []\n",
    "endpoints = []\n",
    "lessons = []\n",
    "for val in once.values:\n",
    "    resources.append(str(val).split('/')[0])\n",
    "    endpoints.append(str(val).split('/')[1:])\n",
    "    if len(str(val).split('/')) > 2:\n",
    "        lessons.append(str(val).split('/')[2])\n",
    "\n",
    "res_df = pd.Series(resources, name='resources').value_counts()\n",
    "endpoint_df = pd.Series(['/'.join(end) for end in endpoints], name='endpoint')\n",
    "lesson_df = pd.Series(lessons, name='lessons')\n",
    "endpoint_df"
   ]
  },
  {
   "cell_type": "code",
   "execution_count": 191,
   "id": "88d7dfee",
   "metadata": {},
   "outputs": [
    {
     "data": {
      "text/plain": [
       "0                                creating-custom-fields\n",
       "1                                   creating-dashboards\n",
       "2                                      creating-stories\n",
       "3                                                  form\n",
       "4                                      formmodelbinding\n",
       "5                                                   jpa\n",
       "8                                            bad-charts\n",
       "9                              misleading1_baseball.jpg\n",
       "10                                  misleading1_fox.jpg\n",
       "11                               misleading3_deaths.jpg\n",
       "12    introduction/working-with-data-types-operators...\n",
       "13    introduction/working-with-data-types-operators...\n",
       "17                                  regular-expressions\n",
       "18                                       t-block-resume\n",
       "19                             further-reading/html-css\n",
       "20                                spreadsheets-overview\n",
       "21                             visualization-with-excel\n",
       "22                                              tableau\n",
       "23                                               refine\n",
       "24                                              present\n",
       "Name: endpoint, dtype: object"
      ]
     },
     "execution_count": 191,
     "metadata": {},
     "output_type": "execute_result"
    }
   ],
   "source": [
    "endpoint_df[endpoint_df.values != ''].head(20)"
   ]
  },
  {
   "cell_type": "code",
   "execution_count": 192,
   "id": "a0c7a5b6",
   "metadata": {},
   "outputs": [
    {
     "data": {
      "text/plain": [
       "46"
      ]
     },
     "execution_count": 192,
     "metadata": {},
     "output_type": "execute_result"
    }
   ],
   "source": [
    "(res_df > 1).sum()"
   ]
  },
  {
   "cell_type": "code",
   "execution_count": 193,
   "id": "278794de",
   "metadata": {},
   "outputs": [
    {
     "data": {
      "text/plain": [
       "163"
      ]
     },
     "execution_count": 193,
     "metadata": {},
     "output_type": "execute_result"
    }
   ],
   "source": [
    "(res_df == 1).sum()"
   ]
  },
  {
   "cell_type": "code",
   "execution_count": 194,
   "id": "151843bb",
   "metadata": {},
   "outputs": [
    {
     "data": {
      "text/plain": [
       "appendix                    45\n",
       "html-css                    18\n",
       "javascript-i                16\n",
       "storytelling                13\n",
       "fundamentals                13\n",
       "regression                  12\n",
       "mysql                       10\n",
       "python                      10\n",
       "examples                    10\n",
       "classification              10\n",
       "nlp                          9\n",
       "clustering                   8\n",
       "timeseries                   7\n",
       "stats                        7\n",
       "jquery                       6\n",
       "slides                       6\n",
       "extra-challenges             6\n",
       "distributed-ml               6\n",
       "cli                          5\n",
       "professional-development     5\n",
       "Name: resources, dtype: int64"
      ]
     },
     "execution_count": 194,
     "metadata": {},
     "output_type": "execute_result"
    }
   ],
   "source": [
    "res_df.head(20)"
   ]
  },
  {
   "cell_type": "code",
   "execution_count": 195,
   "id": "74513fae",
   "metadata": {},
   "outputs": [],
   "source": [
    "data_science = ['slides', 'storytelling', 'fundamentals', 'regression', 'mysql', 'python', 'classification', 'examples', 'professional-development', 'nlp', 'clustering', 'timeseries', 'stats']\n",
    "web_dev = ['examples', 'professional_development', 'jquery', 'html-css', 'appendix', 'java', 'slides']"
   ]
  },
  {
   "cell_type": "code",
   "execution_count": 199,
   "id": "fb458a22",
   "metadata": {},
   "outputs": [
    {
     "data": {
      "text/plain": [
       "array(['creating-files-and-directories', 'moving-files', 'more-topics',\n",
       "       ':view-page', 'host-wildcards', 'interview-guidance',\n",
       "       'interview-questions-tech', 'mysql', 'post-interview-review-form',\n",
       "       'clauses', '..%2f', '..%5c', '..%c0%af', '..%255c',\n",
       "       '%252e%252e%255c', 'google.com', 'requests-and-responses', 'notes',\n",
       "       'java', 'php', 'form-model-binding', 'favicon.ico', 'javascript',\n",
       "       'images', 'flexbox-fundamentals', 'css-grid-fundamentals',\n",
       "       'css-grid-intro', 'layout', 'intellij-tomcat-configuration',\n",
       "       '2-listing-files', '2-Overview', '2-overview', '7-more-topics',\n",
       "       'null', 'navigating-the-filesystem.md', 'extra-exercises',\n",
       "       'sample-database', 'database-design', 'ntellij', 'welcome', 'bom',\n",
       "       'relationships', 'positioning', 'security-use-cases',\n",
       "       'www.qlik.com', 'github.com', 'www.opensecrets.org',\n",
       "       'www.followthemoney.org', 'www.census.gov', 'grid', '03-filepaths',\n",
       "       'flexbox-additional-concepts', 'boostrap-grid-system', 'g',\n",
       "       'project-proposal', 'authorization', 'flexbox-in-practice',\n",
       "       'css-grid-additional-features', 'tables', 'functions',\n",
       "       'www.who.int', 'www.databasefootball.com', 'www.openstreetmap.org',\n",
       "       'www.flickr.com', 'modern-data-scientist.jpg',\n",
       "       'interview-questions-behavioral', 'array-splice', 'pizza.pn',\n",
       "       'pizza.png%22);', 'pizza.png;', 'mysql-extra-exercises',\n",
       "       'java-beans', 'style',\n",
       "       'working-with-dat-types-operators-and-variables', 'operators',\n",
       "       'www.kdnuggets.com'], dtype=object)"
      ]
     },
     "execution_count": 199,
     "metadata": {},
     "output_type": "execute_result"
    }
   ],
   "source": [
    "lesson_df.unique()[lesson_df.value_counts() == 1]"
   ]
  },
  {
   "cell_type": "code",
   "execution_count": 205,
   "id": "010df3af",
   "metadata": {},
   "outputs": [
    {
     "data": {
      "text/plain": [
       "5532"
      ]
     },
     "execution_count": 205,
     "metadata": {},
     "output_type": "execute_result"
    }
   ],
   "source": [
    "len(df.ip.unique())"
   ]
  },
  {
   "cell_type": "code",
   "execution_count": 231,
   "id": "5834fd14",
   "metadata": {},
   "outputs": [],
   "source": [
    "import requests\n",
    "import os\n",
    "\n",
    "\n",
    "def scrape_ip_locations(df, index_num=0):\n",
    "    \"\"\" needs original log df (900000 rows), index_num = n where n is which ip address index you want to start at.\"\"\"\n",
    "    locations = []\n",
    "    i=0\n",
    "    \n",
    "    filename = 'ip_geographical_data.csv'\n",
    "    \n",
    "    if os.path.isfile(filename):\n",
    "        result_df = pd.read_csv(filename)\n",
    "    else:\n",
    "        result_df = pd.DataFrame()\n",
    "    \n",
    "    # add bracket after 'ip_list' with number to add to df\n",
    "    # 684\n",
    "    \n",
    "    ip_list = df.ip.unique()[index_num:]\n",
    "    for ip in ip_list:\n",
    "        url = f'http://ipinfo.io/{ip}/json'\n",
    "        data = requests.get(url).json()\n",
    "\n",
    "        i+=1\n",
    "        print(f'\\r{i}', end='')\n",
    "        try:\n",
    "            IP=data['ip']\n",
    "            org=data['org']\n",
    "            city = data['city']\n",
    "            country=data['country']\n",
    "            region=data['region']\n",
    "            locations.append({'ip':IP, 'org':org, 'city':city, 'country':country, 'region':region})\n",
    "        except:\n",
    "            print(data)\n",
    "            \n",
    "    result_df = pd.concat([result_df,pd.DataFrame(locations)])\n",
    "    result_df = result_df.drop_duplicates()\n",
    "    \n",
    "    result_df.to_csv(filename, index=False)\n",
    "\n",
    "    return result_df\n"
   ]
  },
  {
   "cell_type": "code",
   "execution_count": 223,
   "id": "423417f3",
   "metadata": {},
   "outputs": [
    {
     "data": {
      "text/html": [
       "<div>\n",
       "<style scoped>\n",
       "    .dataframe tbody tr th:only-of-type {\n",
       "        vertical-align: middle;\n",
       "    }\n",
       "\n",
       "    .dataframe tbody tr th {\n",
       "        vertical-align: top;\n",
       "    }\n",
       "\n",
       "    .dataframe thead th {\n",
       "        text-align: right;\n",
       "    }\n",
       "</style>\n",
       "<table border=\"1\" class=\"dataframe\">\n",
       "  <thead>\n",
       "    <tr style=\"text-align: right;\">\n",
       "      <th></th>\n",
       "      <th>ip</th>\n",
       "      <th>org</th>\n",
       "      <th>city</th>\n",
       "      <th>country</th>\n",
       "      <th>region</th>\n",
       "    </tr>\n",
       "  </thead>\n",
       "  <tbody>\n",
       "    <tr>\n",
       "      <th>0</th>\n",
       "      <td>97.105.19.61</td>\n",
       "      <td>AS11427 Charter Communications Inc</td>\n",
       "      <td>Houston</td>\n",
       "      <td>US</td>\n",
       "      <td>Texas</td>\n",
       "    </tr>\n",
       "    <tr>\n",
       "      <th>1</th>\n",
       "      <td>72.177.226.58</td>\n",
       "      <td>AS11427 Charter Communications Inc</td>\n",
       "      <td>San Antonio</td>\n",
       "      <td>US</td>\n",
       "      <td>Texas</td>\n",
       "    </tr>\n",
       "    <tr>\n",
       "      <th>2</th>\n",
       "      <td>173.173.119.75</td>\n",
       "      <td>AS11427 Charter Communications Inc</td>\n",
       "      <td>San Antonio</td>\n",
       "      <td>US</td>\n",
       "      <td>Texas</td>\n",
       "    </tr>\n",
       "    <tr>\n",
       "      <th>3</th>\n",
       "      <td>172.56.15.50</td>\n",
       "      <td>AS21928 T-Mobile USA, Inc.</td>\n",
       "      <td>Houston</td>\n",
       "      <td>US</td>\n",
       "      <td>Texas</td>\n",
       "    </tr>\n",
       "    <tr>\n",
       "      <th>4</th>\n",
       "      <td>172.56.15.203</td>\n",
       "      <td>AS21928 T-Mobile USA, Inc.</td>\n",
       "      <td>Houston</td>\n",
       "      <td>US</td>\n",
       "      <td>Texas</td>\n",
       "    </tr>\n",
       "    <tr>\n",
       "      <th>5</th>\n",
       "      <td>70.123.224.242</td>\n",
       "      <td>AS11427 Charter Communications Inc</td>\n",
       "      <td>Schertz</td>\n",
       "      <td>US</td>\n",
       "      <td>Texas</td>\n",
       "    </tr>\n",
       "    <tr>\n",
       "      <th>6</th>\n",
       "      <td>172.56.15.6</td>\n",
       "      <td>AS21928 T-Mobile USA, Inc.</td>\n",
       "      <td>Houston</td>\n",
       "      <td>US</td>\n",
       "      <td>Texas</td>\n",
       "    </tr>\n",
       "    <tr>\n",
       "      <th>7</th>\n",
       "      <td>47.189.243.89</td>\n",
       "      <td>AS5650 Frontier Communications of America, Inc.</td>\n",
       "      <td>Carrollton</td>\n",
       "      <td>US</td>\n",
       "      <td>Texas</td>\n",
       "    </tr>\n",
       "    <tr>\n",
       "      <th>8</th>\n",
       "      <td>172.56.15.15</td>\n",
       "      <td>AS21928 T-Mobile USA, Inc.</td>\n",
       "      <td>Houston</td>\n",
       "      <td>US</td>\n",
       "      <td>Texas</td>\n",
       "    </tr>\n",
       "    <tr>\n",
       "      <th>9</th>\n",
       "      <td>172.56.15.46</td>\n",
       "      <td>AS21928 T-Mobile USA, Inc.</td>\n",
       "      <td>Houston</td>\n",
       "      <td>US</td>\n",
       "      <td>Texas</td>\n",
       "    </tr>\n",
       "  </tbody>\n",
       "</table>\n",
       "</div>"
      ],
      "text/plain": [
       "               ip                                              org  \\\n",
       "0    97.105.19.61               AS11427 Charter Communications Inc   \n",
       "1   72.177.226.58               AS11427 Charter Communications Inc   \n",
       "2  173.173.119.75               AS11427 Charter Communications Inc   \n",
       "3    172.56.15.50                       AS21928 T-Mobile USA, Inc.   \n",
       "4   172.56.15.203                       AS21928 T-Mobile USA, Inc.   \n",
       "5  70.123.224.242               AS11427 Charter Communications Inc   \n",
       "6     172.56.15.6                       AS21928 T-Mobile USA, Inc.   \n",
       "7   47.189.243.89  AS5650 Frontier Communications of America, Inc.   \n",
       "8    172.56.15.15                       AS21928 T-Mobile USA, Inc.   \n",
       "9    172.56.15.46                       AS21928 T-Mobile USA, Inc.   \n",
       "\n",
       "          city country region  \n",
       "0      Houston      US  Texas  \n",
       "1  San Antonio      US  Texas  \n",
       "2  San Antonio      US  Texas  \n",
       "3      Houston      US  Texas  \n",
       "4      Houston      US  Texas  \n",
       "5      Schertz      US  Texas  \n",
       "6      Houston      US  Texas  \n",
       "7   Carrollton      US  Texas  \n",
       "8      Houston      US  Texas  \n",
       "9      Houston      US  Texas  "
      ]
     },
     "execution_count": 223,
     "metadata": {},
     "output_type": "execute_result"
    }
   ],
   "source": [
    "locations=pd.DataFrame(locations)\n",
    "locations.head(10)"
   ]
  },
  {
   "cell_type": "code",
   "execution_count": 225,
   "id": "086a8082",
   "metadata": {},
   "outputs": [
    {
     "data": {
      "text/plain": [
       "(684, 5)"
      ]
     },
     "execution_count": 225,
     "metadata": {},
     "output_type": "execute_result"
    }
   ],
   "source": [
    "locations.shape"
   ]
  },
  {
   "cell_type": "code",
   "execution_count": 230,
   "id": "a01ecff3",
   "metadata": {},
   "outputs": [],
   "source": [
    "locations.to_csv('ip_geographical_data.csv', index=False)"
   ]
  },
  {
   "cell_type": "code",
   "execution_count": null,
   "id": "21628363",
   "metadata": {},
   "outputs": [],
   "source": []
  }
 ],
 "metadata": {
  "kernelspec": {
   "display_name": "Python 3 (ipykernel)",
   "language": "python",
   "name": "python3"
  },
  "language_info": {
   "codemirror_mode": {
    "name": "ipython",
    "version": 3
   },
   "file_extension": ".py",
   "mimetype": "text/x-python",
   "name": "python",
   "nbconvert_exporter": "python",
   "pygments_lexer": "ipython3",
   "version": "3.9.7"
  }
 },
 "nbformat": 4,
 "nbformat_minor": 5
}
