{
 "cells": [
  {
   "cell_type": "code",
   "execution_count": 28,
   "id": "c550e4e4",
   "metadata": {},
   "outputs": [],
   "source": [
    "import pandas as pd\n",
    "import numpy as np\n",
    "import matplotlib.pyplot as plt\n",
    "import seaborn as sns\n",
    "\n",
    "# Setting parameters\n",
    "import warnings\n",
    "warnings.filterwarnings(\"ignore\")\n",
    "plt.rcParams[\"figure.figsize\"] = (16, 8)"
   ]
  },
  {
   "cell_type": "markdown",
   "id": "bb0fa690",
   "metadata": {},
   "source": [
    "# Question to answer: \n",
    "\n",
    "### What topics are grads continuing to reference after graduation and into their jobs (for each program)?"
   ]
  },
  {
   "cell_type": "markdown",
   "id": "afed3b24",
   "metadata": {},
   "source": [
    "Pulling in data and cleaning/preparing it slightly "
   ]
  },
  {
   "cell_type": "code",
   "execution_count": 2,
   "id": "47fc4099",
   "metadata": {},
   "outputs": [],
   "source": [
    "df = pd.read_csv('logs_data.csv', index_col=False)"
   ]
  },
  {
   "cell_type": "code",
   "execution_count": 3,
   "id": "8c35194a",
   "metadata": {},
   "outputs": [
    {
     "name": "stdout",
     "output_type": "stream",
     "text": [
      "<class 'pandas.core.frame.DataFrame'>\n",
      "RangeIndex: 900223 entries, 0 to 900222\n",
      "Data columns (total 7 columns):\n",
      " #   Column      Non-Null Count   Dtype  \n",
      "---  ------      --------------   -----  \n",
      " 0   Unnamed: 0  900223 non-null  int64  \n",
      " 1   date        900223 non-null  object \n",
      " 2   time        900223 non-null  object \n",
      " 3   path        900222 non-null  object \n",
      " 4   user_id     900223 non-null  int64  \n",
      " 5   cohort_id   847330 non-null  float64\n",
      " 6   ip          900223 non-null  object \n",
      "dtypes: float64(1), int64(2), object(4)\n",
      "memory usage: 48.1+ MB\n"
     ]
    }
   ],
   "source": [
    "df.info()"
   ]
  },
  {
   "cell_type": "code",
   "execution_count": 4,
   "id": "374ddca0",
   "metadata": {},
   "outputs": [],
   "source": [
    "cohorts = pd.read_csv('cohorts_data.csv')\n",
    "cohorts = cohorts.drop(columns = ['Unnamed: 0', 'slack', 'created_at', 'updated_at', 'deleted_at'])\n",
    "combined_df = pd.merge(df, cohorts, how = 'outer', left_on = 'cohort_id', right_on= 'id')"
   ]
  },
  {
   "cell_type": "code",
   "execution_count": 5,
   "id": "b76c7d93",
   "metadata": {},
   "outputs": [
    {
     "data": {
      "text/html": [
       "<div>\n",
       "<style scoped>\n",
       "    .dataframe tbody tr th:only-of-type {\n",
       "        vertical-align: middle;\n",
       "    }\n",
       "\n",
       "    .dataframe tbody tr th {\n",
       "        vertical-align: top;\n",
       "    }\n",
       "\n",
       "    .dataframe thead th {\n",
       "        text-align: right;\n",
       "    }\n",
       "</style>\n",
       "<table border=\"1\" class=\"dataframe\">\n",
       "  <thead>\n",
       "    <tr style=\"text-align: right;\">\n",
       "      <th></th>\n",
       "      <th>Unnamed: 0</th>\n",
       "      <th>date</th>\n",
       "      <th>time</th>\n",
       "      <th>path</th>\n",
       "      <th>user_id</th>\n",
       "      <th>cohort_id</th>\n",
       "      <th>ip</th>\n",
       "      <th>id</th>\n",
       "      <th>name</th>\n",
       "      <th>start_date</th>\n",
       "      <th>end_date</th>\n",
       "      <th>program_id</th>\n",
       "    </tr>\n",
       "  </thead>\n",
       "  <tbody>\n",
       "    <tr>\n",
       "      <th>0</th>\n",
       "      <td>0.0</td>\n",
       "      <td>2018-01-26</td>\n",
       "      <td>09:55:03</td>\n",
       "      <td>/</td>\n",
       "      <td>1.0</td>\n",
       "      <td>8.0</td>\n",
       "      <td>97.105.19.61</td>\n",
       "      <td>8.0</td>\n",
       "      <td>Hampton</td>\n",
       "      <td>2015-09-22</td>\n",
       "      <td>2016-02-06</td>\n",
       "      <td>1.0</td>\n",
       "    </tr>\n",
       "    <tr>\n",
       "      <th>1</th>\n",
       "      <td>1.0</td>\n",
       "      <td>2018-01-26</td>\n",
       "      <td>09:56:02</td>\n",
       "      <td>java-ii</td>\n",
       "      <td>1.0</td>\n",
       "      <td>8.0</td>\n",
       "      <td>97.105.19.61</td>\n",
       "      <td>8.0</td>\n",
       "      <td>Hampton</td>\n",
       "      <td>2015-09-22</td>\n",
       "      <td>2016-02-06</td>\n",
       "      <td>1.0</td>\n",
       "    </tr>\n",
       "    <tr>\n",
       "      <th>2</th>\n",
       "      <td>2.0</td>\n",
       "      <td>2018-01-26</td>\n",
       "      <td>09:56:05</td>\n",
       "      <td>java-ii/object-oriented-programming</td>\n",
       "      <td>1.0</td>\n",
       "      <td>8.0</td>\n",
       "      <td>97.105.19.61</td>\n",
       "      <td>8.0</td>\n",
       "      <td>Hampton</td>\n",
       "      <td>2015-09-22</td>\n",
       "      <td>2016-02-06</td>\n",
       "      <td>1.0</td>\n",
       "    </tr>\n",
       "    <tr>\n",
       "      <th>3</th>\n",
       "      <td>3.0</td>\n",
       "      <td>2018-01-26</td>\n",
       "      <td>09:56:06</td>\n",
       "      <td>slides/object_oriented_programming</td>\n",
       "      <td>1.0</td>\n",
       "      <td>8.0</td>\n",
       "      <td>97.105.19.61</td>\n",
       "      <td>8.0</td>\n",
       "      <td>Hampton</td>\n",
       "      <td>2015-09-22</td>\n",
       "      <td>2016-02-06</td>\n",
       "      <td>1.0</td>\n",
       "    </tr>\n",
       "    <tr>\n",
       "      <th>4</th>\n",
       "      <td>58.0</td>\n",
       "      <td>2018-01-26</td>\n",
       "      <td>10:40:15</td>\n",
       "      <td>javascript-i/functions</td>\n",
       "      <td>1.0</td>\n",
       "      <td>8.0</td>\n",
       "      <td>97.105.19.61</td>\n",
       "      <td>8.0</td>\n",
       "      <td>Hampton</td>\n",
       "      <td>2015-09-22</td>\n",
       "      <td>2016-02-06</td>\n",
       "      <td>1.0</td>\n",
       "    </tr>\n",
       "    <tr>\n",
       "      <th>...</th>\n",
       "      <td>...</td>\n",
       "      <td>...</td>\n",
       "      <td>...</td>\n",
       "      <td>...</td>\n",
       "      <td>...</td>\n",
       "      <td>...</td>\n",
       "      <td>...</td>\n",
       "      <td>...</td>\n",
       "      <td>...</td>\n",
       "      <td>...</td>\n",
       "      <td>...</td>\n",
       "      <td>...</td>\n",
       "    </tr>\n",
       "    <tr>\n",
       "      <th>900224</th>\n",
       "      <td>NaN</td>\n",
       "      <td>NaN</td>\n",
       "      <td>NaN</td>\n",
       "      <td>NaN</td>\n",
       "      <td>NaN</td>\n",
       "      <td>NaN</td>\n",
       "      <td>NaN</td>\n",
       "      <td>10.0</td>\n",
       "      <td>Balboa</td>\n",
       "      <td>2015-11-03</td>\n",
       "      <td>2016-03-11</td>\n",
       "      <td>4.0</td>\n",
       "    </tr>\n",
       "    <tr>\n",
       "      <th>900225</th>\n",
       "      <td>NaN</td>\n",
       "      <td>NaN</td>\n",
       "      <td>NaN</td>\n",
       "      <td>NaN</td>\n",
       "      <td>NaN</td>\n",
       "      <td>NaN</td>\n",
       "      <td>NaN</td>\n",
       "      <td>20.0</td>\n",
       "      <td>Redwood</td>\n",
       "      <td>2017-07-31</td>\n",
       "      <td>2017-12-06</td>\n",
       "      <td>2.0</td>\n",
       "    </tr>\n",
       "    <tr>\n",
       "      <th>900226</th>\n",
       "      <td>NaN</td>\n",
       "      <td>NaN</td>\n",
       "      <td>NaN</td>\n",
       "      <td>NaN</td>\n",
       "      <td>NaN</td>\n",
       "      <td>NaN</td>\n",
       "      <td>NaN</td>\n",
       "      <td>30.0</td>\n",
       "      <td>Ada</td>\n",
       "      <td>2019-02-04</td>\n",
       "      <td>2019-06-16</td>\n",
       "      <td>3.0</td>\n",
       "    </tr>\n",
       "    <tr>\n",
       "      <th>900227</th>\n",
       "      <td>NaN</td>\n",
       "      <td>NaN</td>\n",
       "      <td>NaN</td>\n",
       "      <td>NaN</td>\n",
       "      <td>NaN</td>\n",
       "      <td>NaN</td>\n",
       "      <td>NaN</td>\n",
       "      <td>60.0</td>\n",
       "      <td>Io</td>\n",
       "      <td>2020-07-20</td>\n",
       "      <td>2021-01-21</td>\n",
       "      <td>2.0</td>\n",
       "    </tr>\n",
       "    <tr>\n",
       "      <th>900228</th>\n",
       "      <td>NaN</td>\n",
       "      <td>NaN</td>\n",
       "      <td>NaN</td>\n",
       "      <td>NaN</td>\n",
       "      <td>NaN</td>\n",
       "      <td>NaN</td>\n",
       "      <td>NaN</td>\n",
       "      <td>136.0</td>\n",
       "      <td>Placeholder for students in transition</td>\n",
       "      <td>2021-03-03</td>\n",
       "      <td>2029-03-01</td>\n",
       "      <td>2.0</td>\n",
       "    </tr>\n",
       "  </tbody>\n",
       "</table>\n",
       "<p>900229 rows × 12 columns</p>\n",
       "</div>"
      ],
      "text/plain": [
       "        Unnamed: 0        date      time                                 path  \\\n",
       "0              0.0  2018-01-26  09:55:03                                    /   \n",
       "1              1.0  2018-01-26  09:56:02                              java-ii   \n",
       "2              2.0  2018-01-26  09:56:05  java-ii/object-oriented-programming   \n",
       "3              3.0  2018-01-26  09:56:06   slides/object_oriented_programming   \n",
       "4             58.0  2018-01-26  10:40:15               javascript-i/functions   \n",
       "...            ...         ...       ...                                  ...   \n",
       "900224         NaN         NaN       NaN                                  NaN   \n",
       "900225         NaN         NaN       NaN                                  NaN   \n",
       "900226         NaN         NaN       NaN                                  NaN   \n",
       "900227         NaN         NaN       NaN                                  NaN   \n",
       "900228         NaN         NaN       NaN                                  NaN   \n",
       "\n",
       "        user_id  cohort_id            ip     id  \\\n",
       "0           1.0        8.0  97.105.19.61    8.0   \n",
       "1           1.0        8.0  97.105.19.61    8.0   \n",
       "2           1.0        8.0  97.105.19.61    8.0   \n",
       "3           1.0        8.0  97.105.19.61    8.0   \n",
       "4           1.0        8.0  97.105.19.61    8.0   \n",
       "...         ...        ...           ...    ...   \n",
       "900224      NaN        NaN           NaN   10.0   \n",
       "900225      NaN        NaN           NaN   20.0   \n",
       "900226      NaN        NaN           NaN   30.0   \n",
       "900227      NaN        NaN           NaN   60.0   \n",
       "900228      NaN        NaN           NaN  136.0   \n",
       "\n",
       "                                          name  start_date    end_date  \\\n",
       "0                                      Hampton  2015-09-22  2016-02-06   \n",
       "1                                      Hampton  2015-09-22  2016-02-06   \n",
       "2                                      Hampton  2015-09-22  2016-02-06   \n",
       "3                                      Hampton  2015-09-22  2016-02-06   \n",
       "4                                      Hampton  2015-09-22  2016-02-06   \n",
       "...                                        ...         ...         ...   \n",
       "900224                                  Balboa  2015-11-03  2016-03-11   \n",
       "900225                                 Redwood  2017-07-31  2017-12-06   \n",
       "900226                                     Ada  2019-02-04  2019-06-16   \n",
       "900227                                      Io  2020-07-20  2021-01-21   \n",
       "900228  Placeholder for students in transition  2021-03-03  2029-03-01   \n",
       "\n",
       "        program_id  \n",
       "0              1.0  \n",
       "1              1.0  \n",
       "2              1.0  \n",
       "3              1.0  \n",
       "4              1.0  \n",
       "...            ...  \n",
       "900224         4.0  \n",
       "900225         2.0  \n",
       "900226         3.0  \n",
       "900227         2.0  \n",
       "900228         2.0  \n",
       "\n",
       "[900229 rows x 12 columns]"
      ]
     },
     "execution_count": 5,
     "metadata": {},
     "output_type": "execute_result"
    }
   ],
   "source": [
    "combined_df"
   ]
  },
  {
   "cell_type": "code",
   "execution_count": 6,
   "id": "d1f889dd",
   "metadata": {},
   "outputs": [],
   "source": [
    "def make_datetime_index(df):\n",
    "    df['datetime'] = pd.to_datetime(df.date + ' ' + df.time)\n",
    "    df = df.set_index('datetime').sort_index()\n",
    "    df = df.drop(columns= ['Unnamed: 0', 'date', 'time', 'id'])\n",
    "    return df"
   ]
  },
  {
   "cell_type": "code",
   "execution_count": 7,
   "id": "56045ef9",
   "metadata": {},
   "outputs": [],
   "source": [
    "df = make_datetime_index(combined_df)"
   ]
  },
  {
   "cell_type": "code",
   "execution_count": 8,
   "id": "c44ba438",
   "metadata": {},
   "outputs": [
    {
     "data": {
      "text/html": [
       "<div>\n",
       "<style scoped>\n",
       "    .dataframe tbody tr th:only-of-type {\n",
       "        vertical-align: middle;\n",
       "    }\n",
       "\n",
       "    .dataframe tbody tr th {\n",
       "        vertical-align: top;\n",
       "    }\n",
       "\n",
       "    .dataframe thead th {\n",
       "        text-align: right;\n",
       "    }\n",
       "</style>\n",
       "<table border=\"1\" class=\"dataframe\">\n",
       "  <thead>\n",
       "    <tr style=\"text-align: right;\">\n",
       "      <th></th>\n",
       "      <th>path</th>\n",
       "      <th>user_id</th>\n",
       "      <th>cohort_id</th>\n",
       "      <th>ip</th>\n",
       "      <th>name</th>\n",
       "      <th>start_date</th>\n",
       "      <th>end_date</th>\n",
       "      <th>program_id</th>\n",
       "    </tr>\n",
       "    <tr>\n",
       "      <th>datetime</th>\n",
       "      <th></th>\n",
       "      <th></th>\n",
       "      <th></th>\n",
       "      <th></th>\n",
       "      <th></th>\n",
       "      <th></th>\n",
       "      <th></th>\n",
       "      <th></th>\n",
       "    </tr>\n",
       "  </thead>\n",
       "  <tbody>\n",
       "    <tr>\n",
       "      <th>2018-01-26 09:55:03</th>\n",
       "      <td>/</td>\n",
       "      <td>1.0</td>\n",
       "      <td>8.0</td>\n",
       "      <td>97.105.19.61</td>\n",
       "      <td>Hampton</td>\n",
       "      <td>2015-09-22</td>\n",
       "      <td>2016-02-06</td>\n",
       "      <td>1.0</td>\n",
       "    </tr>\n",
       "    <tr>\n",
       "      <th>2018-01-26 09:56:02</th>\n",
       "      <td>java-ii</td>\n",
       "      <td>1.0</td>\n",
       "      <td>8.0</td>\n",
       "      <td>97.105.19.61</td>\n",
       "      <td>Hampton</td>\n",
       "      <td>2015-09-22</td>\n",
       "      <td>2016-02-06</td>\n",
       "      <td>1.0</td>\n",
       "    </tr>\n",
       "    <tr>\n",
       "      <th>2018-01-26 09:56:05</th>\n",
       "      <td>java-ii/object-oriented-programming</td>\n",
       "      <td>1.0</td>\n",
       "      <td>8.0</td>\n",
       "      <td>97.105.19.61</td>\n",
       "      <td>Hampton</td>\n",
       "      <td>2015-09-22</td>\n",
       "      <td>2016-02-06</td>\n",
       "      <td>1.0</td>\n",
       "    </tr>\n",
       "    <tr>\n",
       "      <th>2018-01-26 09:56:06</th>\n",
       "      <td>slides/object_oriented_programming</td>\n",
       "      <td>1.0</td>\n",
       "      <td>8.0</td>\n",
       "      <td>97.105.19.61</td>\n",
       "      <td>Hampton</td>\n",
       "      <td>2015-09-22</td>\n",
       "      <td>2016-02-06</td>\n",
       "      <td>1.0</td>\n",
       "    </tr>\n",
       "    <tr>\n",
       "      <th>2018-01-26 09:56:24</th>\n",
       "      <td>javascript-i/conditionals</td>\n",
       "      <td>2.0</td>\n",
       "      <td>22.0</td>\n",
       "      <td>97.105.19.61</td>\n",
       "      <td>Teddy</td>\n",
       "      <td>2018-01-08</td>\n",
       "      <td>2018-05-17</td>\n",
       "      <td>2.0</td>\n",
       "    </tr>\n",
       "  </tbody>\n",
       "</table>\n",
       "</div>"
      ],
      "text/plain": [
       "                                                    path  user_id  cohort_id  \\\n",
       "datetime                                                                       \n",
       "2018-01-26 09:55:03                                    /      1.0        8.0   \n",
       "2018-01-26 09:56:02                              java-ii      1.0        8.0   \n",
       "2018-01-26 09:56:05  java-ii/object-oriented-programming      1.0        8.0   \n",
       "2018-01-26 09:56:06   slides/object_oriented_programming      1.0        8.0   \n",
       "2018-01-26 09:56:24            javascript-i/conditionals      2.0       22.0   \n",
       "\n",
       "                               ip     name  start_date    end_date  program_id  \n",
       "datetime                                                                        \n",
       "2018-01-26 09:55:03  97.105.19.61  Hampton  2015-09-22  2016-02-06         1.0  \n",
       "2018-01-26 09:56:02  97.105.19.61  Hampton  2015-09-22  2016-02-06         1.0  \n",
       "2018-01-26 09:56:05  97.105.19.61  Hampton  2015-09-22  2016-02-06         1.0  \n",
       "2018-01-26 09:56:06  97.105.19.61  Hampton  2015-09-22  2016-02-06         1.0  \n",
       "2018-01-26 09:56:24  97.105.19.61    Teddy  2018-01-08  2018-05-17         2.0  "
      ]
     },
     "execution_count": 8,
     "metadata": {},
     "output_type": "execute_result"
    }
   ],
   "source": [
    "df.head()"
   ]
  },
  {
   "cell_type": "code",
   "execution_count": 9,
   "id": "02683601",
   "metadata": {},
   "outputs": [
    {
     "name": "stdout",
     "output_type": "stream",
     "text": [
      "<class 'pandas.core.frame.DataFrame'>\n",
      "DatetimeIndex: 900229 entries, 2018-01-26 09:55:03 to NaT\n",
      "Data columns (total 8 columns):\n",
      " #   Column      Non-Null Count   Dtype  \n",
      "---  ------      --------------   -----  \n",
      " 0   path        900222 non-null  object \n",
      " 1   user_id     900223 non-null  float64\n",
      " 2   cohort_id   847330 non-null  float64\n",
      " 3   ip          900223 non-null  object \n",
      " 4   name        847336 non-null  object \n",
      " 5   start_date  847336 non-null  object \n",
      " 6   end_date    847336 non-null  object \n",
      " 7   program_id  847336 non-null  float64\n",
      "dtypes: float64(3), object(5)\n",
      "memory usage: 61.8+ MB\n"
     ]
    }
   ],
   "source": [
    "df.info()"
   ]
  },
  {
   "cell_type": "markdown",
   "id": "84966ba5",
   "metadata": {},
   "source": [
    "#### Investigating the nulls in cohort_id to see if there is a noticable pattern."
   ]
  },
  {
   "cell_type": "code",
   "execution_count": 61,
   "id": "fc7f48ce",
   "metadata": {},
   "outputs": [],
   "source": [
    "no_cohort = df[df.cohort_id.isna()]\n",
    "no_cohort = no_cohort.dropna(axis=0, subset=['ip'])"
   ]
  },
  {
   "cell_type": "code",
   "execution_count": 62,
   "id": "3bb6153b",
   "metadata": {},
   "outputs": [
    {
     "data": {
      "text/plain": [
       "(Timestamp('2018-01-26 16:46:16'), Timestamp('2021-04-21 12:56:26'))"
      ]
     },
     "execution_count": 62,
     "metadata": {},
     "output_type": "execute_result"
    }
   ],
   "source": [
    "no_cohort.index.min(), no_cohort.index.max()"
   ]
  },
  {
   "cell_type": "markdown",
   "id": "94f53015",
   "metadata": {},
   "source": [
    "Comparing to the df datetime min and max"
   ]
  },
  {
   "cell_type": "code",
   "execution_count": 63,
   "id": "6e89741a",
   "metadata": {},
   "outputs": [
    {
     "data": {
      "text/plain": [
       "(Timestamp('2018-01-26 09:55:03'), Timestamp('2021-04-21 16:44:39'))"
      ]
     },
     "execution_count": 63,
     "metadata": {},
     "output_type": "execute_result"
    }
   ],
   "source": [
    "df.index.min(), df.index.max()"
   ]
  },
  {
   "cell_type": "markdown",
   "id": "d965eb53",
   "metadata": {},
   "source": [
    "No difference, looking at the distribution of times for no_cohort access"
   ]
  },
  {
   "cell_type": "code",
   "execution_count": 64,
   "id": "ec5d57d9",
   "metadata": {},
   "outputs": [
    {
     "data": {
      "text/plain": [
       "<AxesSubplot:xlabel='datetime', ylabel='Count'>"
      ]
     },
     "execution_count": 64,
     "metadata": {},
     "output_type": "execute_result"
    },
    {
     "data": {
      "image/png": "[encoded data removed]",
      "text/plain": [
       "<Figure size 1152x576 with 1 Axes>"
      ]
     },
     "metadata": {
      "needs_background": "light"
     },
     "output_type": "display_data"
    }
   ],
   "source": [
    "sns.histplot(data=no_cohort.index, bins = 100)"
   ]
  },
  {
   "cell_type": "markdown",
   "id": "587aab09",
   "metadata": {},
   "source": [
    "comparing to overall dataframe histplot"
   ]
  },
  {
   "cell_type": "code",
   "execution_count": 65,
   "id": "aff60973",
   "metadata": {},
   "outputs": [
    {
     "data": {
      "text/plain": [
       "<AxesSubplot:xlabel='datetime', ylabel='Count'>"
      ]
     },
     "execution_count": 65,
     "metadata": {},
     "output_type": "execute_result"
    },
    {
     "data": {
      "image/png": "[encoded data removed]",
      "text/plain": [
       "<Figure size 1152x576 with 1 Axes>"
      ]
     },
     "metadata": {
      "needs_background": "light"
     },
     "output_type": "display_data"
    }
   ],
   "source": [
    "sns.histplot(data=df.index, bins =100)"
   ]
  },
  {
   "cell_type": "markdown",
   "id": "da65dcb9",
   "metadata": {},
   "source": [
    "Shows variation in the access times between no_cohort and df"
   ]
  },
  {
   "cell_type": "code",
   "execution_count": 66,
   "id": "7d744d54",
   "metadata": {},
   "outputs": [
    {
     "data": {
      "text/plain": [
       "354.0    2965\n",
       "736.0    2358\n",
       "363.0    2248\n",
       "716.0    2136\n",
       "368.0    2085\n",
       "         ... \n",
       "644.0       6\n",
       "663.0       4\n",
       "62.0        4\n",
       "176.0       3\n",
       "89.0        3\n",
       "Name: user_id, Length: 78, dtype: int64"
      ]
     },
     "execution_count": 66,
     "metadata": {},
     "output_type": "execute_result"
    }
   ],
   "source": [
    "no_cohort.user_id.value_counts()"
   ]
  },
  {
   "cell_type": "markdown",
   "id": "12762d14",
   "metadata": {},
   "source": [
    "Therea are 78 users who have no cohort."
   ]
  },
  {
   "cell_type": "code",
   "execution_count": 67,
   "id": "c59ddc4e",
   "metadata": {},
   "outputs": [
    {
     "data": {
      "text/html": [
       "<div>\n",
       "<style scoped>\n",
       "    .dataframe tbody tr th:only-of-type {\n",
       "        vertical-align: middle;\n",
       "    }\n",
       "\n",
       "    .dataframe tbody tr th {\n",
       "        vertical-align: top;\n",
       "    }\n",
       "\n",
       "    .dataframe thead th {\n",
       "        text-align: right;\n",
       "    }\n",
       "</style>\n",
       "<table border=\"1\" class=\"dataframe\">\n",
       "  <thead>\n",
       "    <tr style=\"text-align: right;\">\n",
       "      <th></th>\n",
       "      <th>path</th>\n",
       "      <th>user_id</th>\n",
       "      <th>cohort_id</th>\n",
       "      <th>ip</th>\n",
       "      <th>name</th>\n",
       "      <th>start_date</th>\n",
       "      <th>end_date</th>\n",
       "      <th>program_id</th>\n",
       "    </tr>\n",
       "    <tr>\n",
       "      <th>datetime</th>\n",
       "      <th></th>\n",
       "      <th></th>\n",
       "      <th></th>\n",
       "      <th></th>\n",
       "      <th></th>\n",
       "      <th></th>\n",
       "      <th></th>\n",
       "      <th></th>\n",
       "    </tr>\n",
       "  </thead>\n",
       "  <tbody>\n",
       "    <tr>\n",
       "      <th>2018-01-26 16:46:16</th>\n",
       "      <td>/</td>\n",
       "      <td>48.0</td>\n",
       "      <td>NaN</td>\n",
       "      <td>97.105.19.61</td>\n",
       "      <td>NaN</td>\n",
       "      <td>NaN</td>\n",
       "      <td>NaN</td>\n",
       "      <td>NaN</td>\n",
       "    </tr>\n",
       "    <tr>\n",
       "      <th>2018-01-26 16:46:24</th>\n",
       "      <td>spring/extra-features/form-validation</td>\n",
       "      <td>48.0</td>\n",
       "      <td>NaN</td>\n",
       "      <td>97.105.19.61</td>\n",
       "      <td>NaN</td>\n",
       "      <td>NaN</td>\n",
       "      <td>NaN</td>\n",
       "      <td>NaN</td>\n",
       "    </tr>\n",
       "    <tr>\n",
       "      <th>2018-01-26 17:54:24</th>\n",
       "      <td>/</td>\n",
       "      <td>48.0</td>\n",
       "      <td>NaN</td>\n",
       "      <td>97.105.19.61</td>\n",
       "      <td>NaN</td>\n",
       "      <td>NaN</td>\n",
       "      <td>NaN</td>\n",
       "      <td>NaN</td>\n",
       "    </tr>\n",
       "    <tr>\n",
       "      <th>2018-01-26 18:32:03</th>\n",
       "      <td>/</td>\n",
       "      <td>48.0</td>\n",
       "      <td>NaN</td>\n",
       "      <td>97.105.19.61</td>\n",
       "      <td>NaN</td>\n",
       "      <td>NaN</td>\n",
       "      <td>NaN</td>\n",
       "      <td>NaN</td>\n",
       "    </tr>\n",
       "    <tr>\n",
       "      <th>2018-01-26 18:32:17</th>\n",
       "      <td>mysql/relationships/joins</td>\n",
       "      <td>48.0</td>\n",
       "      <td>NaN</td>\n",
       "      <td>97.105.19.61</td>\n",
       "      <td>NaN</td>\n",
       "      <td>NaN</td>\n",
       "      <td>NaN</td>\n",
       "      <td>NaN</td>\n",
       "    </tr>\n",
       "    <tr>\n",
       "      <th>...</th>\n",
       "      <td>...</td>\n",
       "      <td>...</td>\n",
       "      <td>...</td>\n",
       "      <td>...</td>\n",
       "      <td>...</td>\n",
       "      <td>...</td>\n",
       "      <td>...</td>\n",
       "      <td>...</td>\n",
       "    </tr>\n",
       "    <tr>\n",
       "      <th>2021-04-21 12:49:00</th>\n",
       "      <td>javascript-ii</td>\n",
       "      <td>717.0</td>\n",
       "      <td>NaN</td>\n",
       "      <td>136.50.102.126</td>\n",
       "      <td>NaN</td>\n",
       "      <td>NaN</td>\n",
       "      <td>NaN</td>\n",
       "      <td>NaN</td>\n",
       "    </tr>\n",
       "    <tr>\n",
       "      <th>2021-04-21 12:49:02</th>\n",
       "      <td>javascript-ii/es6</td>\n",
       "      <td>717.0</td>\n",
       "      <td>NaN</td>\n",
       "      <td>136.50.102.126</td>\n",
       "      <td>NaN</td>\n",
       "      <td>NaN</td>\n",
       "      <td>NaN</td>\n",
       "      <td>NaN</td>\n",
       "    </tr>\n",
       "    <tr>\n",
       "      <th>2021-04-21 12:51:27</th>\n",
       "      <td>javascript-ii/map-filter-reduce</td>\n",
       "      <td>717.0</td>\n",
       "      <td>NaN</td>\n",
       "      <td>136.50.102.126</td>\n",
       "      <td>NaN</td>\n",
       "      <td>NaN</td>\n",
       "      <td>NaN</td>\n",
       "      <td>NaN</td>\n",
       "    </tr>\n",
       "    <tr>\n",
       "      <th>2021-04-21 12:52:37</th>\n",
       "      <td>javascript-ii/promises</td>\n",
       "      <td>717.0</td>\n",
       "      <td>NaN</td>\n",
       "      <td>136.50.102.126</td>\n",
       "      <td>NaN</td>\n",
       "      <td>NaN</td>\n",
       "      <td>NaN</td>\n",
       "      <td>NaN</td>\n",
       "    </tr>\n",
       "    <tr>\n",
       "      <th>2021-04-21 12:56:26</th>\n",
       "      <td>javascript-ii/RESTful-api</td>\n",
       "      <td>717.0</td>\n",
       "      <td>NaN</td>\n",
       "      <td>136.50.102.126</td>\n",
       "      <td>NaN</td>\n",
       "      <td>NaN</td>\n",
       "      <td>NaN</td>\n",
       "      <td>NaN</td>\n",
       "    </tr>\n",
       "  </tbody>\n",
       "</table>\n",
       "<p>52893 rows × 8 columns</p>\n",
       "</div>"
      ],
      "text/plain": [
       "                                                      path  user_id  \\\n",
       "datetime                                                              \n",
       "2018-01-26 16:46:16                                      /     48.0   \n",
       "2018-01-26 16:46:24  spring/extra-features/form-validation     48.0   \n",
       "2018-01-26 17:54:24                                      /     48.0   \n",
       "2018-01-26 18:32:03                                      /     48.0   \n",
       "2018-01-26 18:32:17              mysql/relationships/joins     48.0   \n",
       "...                                                    ...      ...   \n",
       "2021-04-21 12:49:00                          javascript-ii    717.0   \n",
       "2021-04-21 12:49:02                      javascript-ii/es6    717.0   \n",
       "2021-04-21 12:51:27        javascript-ii/map-filter-reduce    717.0   \n",
       "2021-04-21 12:52:37                 javascript-ii/promises    717.0   \n",
       "2021-04-21 12:56:26              javascript-ii/RESTful-api    717.0   \n",
       "\n",
       "                     cohort_id              ip name start_date end_date  \\\n",
       "datetime                                                                  \n",
       "2018-01-26 16:46:16        NaN    97.105.19.61  NaN        NaN      NaN   \n",
       "2018-01-26 16:46:24        NaN    97.105.19.61  NaN        NaN      NaN   \n",
       "2018-01-26 17:54:24        NaN    97.105.19.61  NaN        NaN      NaN   \n",
       "2018-01-26 18:32:03        NaN    97.105.19.61  NaN        NaN      NaN   \n",
       "2018-01-26 18:32:17        NaN    97.105.19.61  NaN        NaN      NaN   \n",
       "...                        ...             ...  ...        ...      ...   \n",
       "2021-04-21 12:49:00        NaN  136.50.102.126  NaN        NaN      NaN   \n",
       "2021-04-21 12:49:02        NaN  136.50.102.126  NaN        NaN      NaN   \n",
       "2021-04-21 12:51:27        NaN  136.50.102.126  NaN        NaN      NaN   \n",
       "2021-04-21 12:52:37        NaN  136.50.102.126  NaN        NaN      NaN   \n",
       "2021-04-21 12:56:26        NaN  136.50.102.126  NaN        NaN      NaN   \n",
       "\n",
       "                     program_id  \n",
       "datetime                         \n",
       "2018-01-26 16:46:16         NaN  \n",
       "2018-01-26 16:46:24         NaN  \n",
       "2018-01-26 17:54:24         NaN  \n",
       "2018-01-26 18:32:03         NaN  \n",
       "2018-01-26 18:32:17         NaN  \n",
       "...                         ...  \n",
       "2021-04-21 12:49:00         NaN  \n",
       "2021-04-21 12:49:02         NaN  \n",
       "2021-04-21 12:51:27         NaN  \n",
       "2021-04-21 12:52:37         NaN  \n",
       "2021-04-21 12:56:26         NaN  \n",
       "\n",
       "[52893 rows x 8 columns]"
      ]
     },
     "execution_count": 67,
     "metadata": {},
     "output_type": "execute_result"
    }
   ],
   "source": [
    "no_cohort"
   ]
  }
 ],
 "metadata": {
  "kernelspec": {
   "display_name": "Python 3 (ipykernel)",
   "language": "python",
   "name": "python3"
  },
  "language_info": {
   "codemirror_mode": {
    "name": "ipython",
    "version": 3
   },
   "file_extension": ".py",
   "mimetype": "text/x-python",
   "name": "python",
   "nbconvert_exporter": "python",
   "pygments_lexer": "ipython3",
   "version": "3.9.7"
  }
 },
 "nbformat": 4,
 "nbformat_minor": 5
}
