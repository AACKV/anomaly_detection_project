{
 "cells": [
  {
   "cell_type": "code",
   "execution_count": 48,
   "id": "af3bfe2a",
   "metadata": {},
   "outputs": [
    {
     "name": "stdout",
     "output_type": "stream",
     "text": [
      "The autoreload extension is already loaded. To reload it, use:\n",
      "  %reload_ext autoreload\n"
     ]
    }
   ],
   "source": [
    "# imports\n",
    "import pandas as pd\n",
    "import numpy as np\n",
    "import seaborn as sns\n",
    "import matplotlib.pyplot as plt\n",
    "import wrangle\n",
    "import utilities\n",
    "\n",
    "%load_ext autoreload\n",
    "%autoreload 2"
   ]
  },
  {
   "cell_type": "markdown",
   "id": "f29abd0f",
   "metadata": {},
   "source": [
    "# Questions:\n",
    "> * 1. Which lesson appears to attract the most traffic consistently across cohorts (per program)?\n",
    "> * 2. Is there a cohort that referred to a lesson significantly more than other cohorts seemed to gloss over?\n",
    "> * 3. Are there students who, when active, hardly access the curriculum? If so, what information do you have about these students?\n",
    "> * 4. Is there any suspicious activity, such as users/machines/etc accessing the curriculum who shouldn’t be? Does it appear that any web-scraping is happening? Are there any suspicious IP addresses?\n",
    "> * 5. At some point in 2019, the ability for students and alumni to access both curriculums (web dev to ds, ds to web dev) should have been shut off. Do you see any evidence of that happening? Did it happen before?\n",
    "> * 6. What topics are grads continuing to reference after graduation and into their jobs (for each program)?\n",
    "> * 7. Which lessons are least accessed?\n",
    "> * 8. Anything else I should be aware of?\n",
    "\n"
   ]
  },
  {
   "cell_type": "code",
   "execution_count": 45,
   "id": "71b29c86",
   "metadata": {},
   "outputs": [],
   "source": [
    "df = wrangle.wrangle_logs()\n",
    "df.path = df.path.astype('string')\n",
    "df= df.fillna(' ')"
   ]
  },
  {
   "cell_type": "markdown",
   "id": "4a0cb0e1",
   "metadata": {},
   "source": [
    "# Question 1:"
   ]
  },
  {
   "cell_type": "markdown",
   "id": "7d3131d9",
   "metadata": {},
   "source": [
    "**Key Conclusion:** answer answer answer answer"
   ]
  },
  {
   "cell_type": "code",
   "execution_count": 40,
   "id": "19ed12d4",
   "metadata": {},
   "outputs": [],
   "source": [
    "# Visualization"
   ]
  },
  {
   "cell_type": "code",
   "execution_count": 41,
   "id": "78ee655d",
   "metadata": {},
   "outputs": [],
   "source": [
    "# any explanation of the visualization you feel is necessary."
   ]
  },
  {
   "cell_type": "markdown",
   "id": "f38abad7",
   "metadata": {},
   "source": [
    "# Question 2:"
   ]
  },
  {
   "cell_type": "markdown",
   "id": "cae4c4c1",
   "metadata": {},
   "source": [
    "**Key Conclusion:** Answer answer answer"
   ]
  },
  {
   "cell_type": "code",
   "execution_count": 42,
   "id": "fd4e5b31",
   "metadata": {},
   "outputs": [],
   "source": [
    "# Visualization"
   ]
  },
  {
   "cell_type": "code",
   "execution_count": 43,
   "id": "48758418",
   "metadata": {},
   "outputs": [],
   "source": [
    "# Any explanation of the visualization you feel is necessary"
   ]
  },
  {
   "cell_type": "code",
   "execution_count": null,
   "id": "098fbc19",
   "metadata": {},
   "outputs": [],
   "source": []
  },
  {
   "cell_type": "markdown",
   "id": "7b445659",
   "metadata": {},
   "source": [
    "# Question 7: Which Lessons Are Least Accessed?"
   ]
  },
  {
   "cell_type": "markdown",
   "id": "56d7b43a",
   "metadata": {},
   "source": [
    "**Key Takeaway:** \n",
    "> * **450** of the **2300** **(~20%)** pages have been accessed only once"
   ]
  },
  {
   "cell_type": "code",
   "execution_count": 49,
   "id": "b7a609d2",
   "metadata": {},
   "outputs": [
    {
     "data": {
      "image/png": "[encoded data removed]",
      "text/plain": [
       "<Figure size 432x288 with 1 Axes>"
      ]
     },
     "metadata": {
      "needs_background": "light"
     },
     "output_type": "display_data"
    }
   ],
   "source": [
    "utilities.create_least_viewed_viz(df)"
   ]
  },
  {
   "cell_type": "markdown",
   "id": "51195762",
   "metadata": {},
   "source": [
    "**Other Takeaways:**\n",
    "* 'Other topics' and 'appendix' are **40%** of all topics for paths that have only been viewed once.\n",
    "* All other categories (**26** categories out of **28** total) create the other **~60%**\n",
    "* **20%** of paths accessed once have file extensions for their endpoint (.jpg, .zip, .csv, etc.)\n",
    "* Because such a large portion of paths have only been accessed once, it's difficult to state a clear distinction by category or lesson."
   ]
  },
  {
   "cell_type": "code",
   "execution_count": null,
   "id": "36b75e7f",
   "metadata": {},
   "outputs": [],
   "source": []
  }
 ],
 "metadata": {
  "kernelspec": {
   "display_name": "Python 3 (ipykernel)",
   "language": "python",
   "name": "python3"
  },
  "language_info": {
   "codemirror_mode": {
    "name": "ipython",
    "version": 3
   },
   "file_extension": ".py",
   "mimetype": "text/x-python",
   "name": "python",
   "nbconvert_exporter": "python",
   "pygments_lexer": "ipython3",
   "version": "3.9.7"
  }
 },
 "nbformat": 4,
 "nbformat_minor": 5
}
